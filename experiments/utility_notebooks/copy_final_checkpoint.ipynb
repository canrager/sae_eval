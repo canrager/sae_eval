{
 "cells": [
  {
   "cell_type": "code",
   "execution_count": null,
   "metadata": {},
   "outputs": [],
   "source": [
    "import os\n",
    "import shutil\n",
    "from itertools import product\n",
    "\n",
    "layers = [15, 19]\n",
    "trainer_types = ['standard', 'topk']\n",
    "trainer_nums = [0, 1, 2, 3, 4, 5]\n",
    "\n",
    "for layer, trainer_type, trainer_num in product(layers, trainer_types, trainer_nums):\n",
    "\n",
    "    # Source directory\n",
    "    src_dir = f'/workspace/sae_eval/dictionary_learning/dictionaries/gemma-2-2b_sweep_{trainer_type}_ctx128_ef8_0824/resid_post_layer_{layer}/trainer_{trainer_num}'\n",
    "\n",
    "    # Destination directory\n",
    "    dest_dir = f'/workspace/sae_eval/dictionary_learning/dictionaries/gemma-2-2b_sweep_{trainer_type}_ctx128_ef8_0824/resid_post_layer_{layer}_checkpoints/trainer_{trainer_num}_step_48828'\n",
    "\n",
    "    # Check if source directory exists\n",
    "    if not os.path.exists(src_dir):\n",
    "        print(f\"Source directory does not exist: {src_dir}\")\n",
    "    else:\n",
    "        # Create destination directory if it doesn't exist\n",
    "        os.makedirs(os.path.dirname(dest_dir), exist_ok=True)\n",
    "        \n",
    "        # Copy the directory\n",
    "        try:\n",
    "            shutil.copytree(src_dir, dest_dir)\n",
    "            print(f\"Successfully copied and renamed the folder to: {dest_dir}\")\n",
    "        except shutil.Error as e:\n",
    "            print(f\"Error: {e}\")\n",
    "        except OSError as e:\n",
    "            print(f\"Error: {e}\")"
   ]
  }
 ],
 "metadata": {
  "language_info": {
   "name": "python"
  }
 },
 "nbformat": 4,
 "nbformat_minor": 2
}
