{
 "cells": [
  {
   "cell_type": "code",
   "execution_count": null,
   "metadata": {
    "vscode": {
     "languageId": "plaintext"
    }
   },
   "outputs": [],
   "source": [
    "from huggingface_hub import HfApi\n",
    "api = HfApi()\n",
    "\n",
    "repo_name =\"canrager/saebench_gemma-2-2b_width-2pow12_date-1109\"\n",
    "\n",
    "from huggingface_hub import create_repo\n",
    "create_repo(repo_name, private=False, repo_type=\"model\", exist_ok=True)\n",
    "\n",
    "api.upload_folder(\n",
    "    folder_path=\"../../sae_training_can/saes_copy/\",\n",
    "    path_in_repo=\"\",\n",
    "    repo_id=repo_name,\n",
    "    repo_type=\"model\",\n",
    ")"
   ]
  }
 ],
 "metadata": {
  "language_info": {
   "name": "python"
  }
 },
 "nbformat": 4,
 "nbformat_minor": 2
}
