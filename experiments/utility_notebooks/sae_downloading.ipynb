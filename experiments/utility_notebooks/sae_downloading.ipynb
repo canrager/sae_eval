{
 "cells": [
  {
   "cell_type": "code",
   "execution_count": null,
   "metadata": {},
   "outputs": [],
   "source": [
    "# Optional to download multiple layers conveniently\n",
    "\n",
    "from huggingface_hub import snapshot_download\n",
    "import os\n",
    "\n",
    "repo_id = \"canrager/lm_sae\"\n",
    "\n",
    "layers = [11, 15, 19]\n",
    "\n",
    "for layer in layers:\n",
    "    \n",
    "\n",
    "    # To download all trainers in resid_post_layer_11\n",
    "    folder_path = f\"gemma-2-2b_sweep_standard_ctx128_ef8_0824/resid_post_layer_{layer}\"\n",
    "    # To download a checkpoint\n",
    "    # folder_path = \"gemma-2-2b_sweep_topk_ctx128_ef2_0824/resid_post_layer_11_checkpoints/trainer_1_step_4882\"\n",
    "\n",
    "    # # To download a single trainer\n",
    "    # folder_path = \"gemma-2-2b_sweep_topk_ctx128_ef2_0824/resid_post_layer_11/trainer_2\"\n",
    "\n",
    "    local_dir = os.path.join(os.getcwd(), folder_path)\n",
    "\n",
    "    downloaded_dir = snapshot_download(repo_id, allow_patterns=[f\"{folder_path}/*\"], local_dir=\"\", force_download=True)\n",
    "\n",
    "    print(f\"Folder downloaded to {downloaded_dir}\")"
   ]
  },
  {
   "cell_type": "code",
   "execution_count": null,
   "metadata": {},
   "outputs": [],
   "source": [
    "# Optional to download multiple layers conveniently\n",
    "\n",
    "from huggingface_hub import snapshot_download\n",
    "import os\n",
    "\n",
    "repo_id = \"adamkarvonen/gemma-2-2b-jumprelu\"\n",
    "\n",
    "layers = [11, 15, 19]\n",
    "\n",
    "for layer in layers:\n",
    "    \n",
    "\n",
    "    # To download all trainers in resid_post_layer_11\n",
    "    folder_path = f\"gemma-2-2b/gemma-2-2b_sweep_jumprelu_0902/resid_post_layer_{layer}\"\n",
    "    # To download a checkpoint\n",
    "    # folder_path = \"gemma-2-2b_sweep_topk_ctx128_ef2_0824/resid_post_layer_11_checkpoints/trainer_1_step_4882\"\n",
    "\n",
    "    # # To download a single trainer\n",
    "    # folder_path = \"gemma-2-2b_sweep_topk_ctx128_ef2_0824/resid_post_layer_11/trainer_2\"\n",
    "\n",
    "    local_dir = os.path.join(os.getcwd(), folder_path)\n",
    "\n",
    "    downloaded_dir = snapshot_download(repo_id, allow_patterns=[f\"{folder_path}/*\"], local_dir=\"\", force_download=True)\n",
    "\n",
    "    print(f\"Folder downloaded to {downloaded_dir}\")"
   ]
  }
 ],
 "metadata": {
  "kernelspec": {
   "display_name": "base",
   "language": "python",
   "name": "python3"
  },
  "language_info": {
   "codemirror_mode": {
    "name": "ipython",
    "version": 3
   },
   "file_extension": ".py",
   "mimetype": "text/x-python",
   "name": "python",
   "nbconvert_exporter": "python",
   "pygments_lexer": "ipython3",
   "version": "3.10.13"
  }
 },
 "nbformat": 4,
 "nbformat_minor": 2
}
