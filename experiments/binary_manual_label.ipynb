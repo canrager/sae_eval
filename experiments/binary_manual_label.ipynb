{
 "cells": [
  {
   "cell_type": "markdown",
   "metadata": {},
   "source": [
    "## Manual feature labelling and prompt building\n",
    "\n",
    "### Setup"
   ]
  },
  {
   "cell_type": "code",
   "execution_count": 1,
   "metadata": {},
   "outputs": [],
   "source": [
    "# Imports\n",
    "\n",
    "import os\n",
    "import torch as t\n",
    "from nnsight import LanguageModel\n",
    "import datasets\n",
    "import anthropic\n",
    "from tqdm import tqdm\n",
    "import re\n",
    "import ast\n",
    "import pickle\n",
    "from collections import defaultdict\n",
    "from circuitsvis.activations import text_neuron_activations\n",
    "\n",
    "import experiments.utils as utils\n",
    "from experiments.autointerp import (\n",
    "    get_max_activating_prompts, \n",
    "    highlight_top_activations,\n",
    "    compute_dla, \n",
    "    format_examples,\n",
    "    evaluate_binary_llm_output,\n",
    "    get_autointerp_inputs_for_all_saes,\n",
    ")\n",
    "from experiments.explainers.simple.prompt_builder import build_prompt\n",
    "from experiments.explainers.simple.prompts import build_system_prompt\n",
    "\n",
    "DEBUGGING = True\n",
    "\n",
    "if DEBUGGING:\n",
    "    tracer_kwargs = dict(scan=True, validate=True)\n",
    "else:\n",
    "    tracer_kwargs = dict(scan=False, validate=False)\n",
    "\n",
    "%load_ext autoreload\n",
    "%autoreload 2"
   ]
  },
  {
   "cell_type": "code",
   "execution_count": 2,
   "metadata": {},
   "outputs": [],
   "source": [
    "# Load model\n",
    "\n",
    "DEVICE = \"cuda\"\n",
    "model_name = \"EleutherAI/pythia-70m-deduped\"\n",
    "model_dtype = t.bfloat16\n",
    "model = LanguageModel(\n",
    "    model_name,\n",
    "    device_map=DEVICE,\n",
    "    dispatch=True,\n",
    "    attn_implementation=\"eager\",\n",
    "    torch_dtype=model_dtype,\n",
    ")\n",
    "model_unembed = model.embed_out # For direct logit attribution"
   ]
  },
  {
   "cell_type": "code",
   "execution_count": 3,
   "metadata": {},
   "outputs": [
    {
     "name": "stderr",
     "output_type": "stream",
     "text": [
      "Repo card metadata block was not found. Setting CardData to empty.\n"
     ]
    }
   ],
   "source": [
    "# Load data\n",
    "\n",
    "num_contexts = 10000\n",
    "context_length = 128\n",
    "batch_size = 250\n",
    "\n",
    "dataset = datasets.load_dataset(\"georgeyw/dsir-pile-100k\", streaming=False)\n",
    "data = model.tokenizer(dataset[\"train\"][\"contents\"][:num_contexts], return_tensors=\"pt\", padding=\"max_length\", truncation=True, max_length=context_length).to(DEVICE).data\n",
    "batched_data = utils.batch_inputs(data, batch_size)\n",
    "\n",
    "\n",
    "# Class specific data\n",
    "\n",
    "profession_dict = {\n",
    "    \"accountant\": 0, \"architect\": 1, \"attorney\": 2, \"chiropractor\": 3,\n",
    "    \"comedian\": 4, \"composer\": 5, \"dentist\": 6, \"dietitian\": 7,\n",
    "    \"dj\": 8, \"filmmaker\": 9, \"interior_designer\": 10, \"journalist\": 11,\n",
    "    \"model\": 12, \"nurse\": 13, \"painter\": 14, \"paralegal\": 15,\n",
    "    \"pastor\": 16, \"personal_trainer\": 17, \"photographer\": 18, \"physician\": 19,\n",
    "    \"poet\": 20, \"professor\": 21, \"psychologist\": 22, \"rapper\": 23,\n",
    "    \"software_engineer\": 24, \"surgeon\": 25, \"teacher\": 26, \"yoga_teacher\": 27,\n",
    "    \"profession\": -4, \"gender\": -2\n",
    "}"
   ]
  },
  {
   "cell_type": "code",
   "execution_count": 4,
   "metadata": {},
   "outputs": [
    {
     "name": "stdout",
     "output_type": "stream",
     "text": [
      "Loading dictionary from ../dictionary_learning/dictionaries/pythia70m_sweep_standard_ctx128_0712/resid_post_layer_3/trainer_6\n"
     ]
    }
   ],
   "source": [
    "# Load dictionary\n",
    "\n",
    "dictionaries_path = \"../dictionary_learning/dictionaries\"\n",
    "\n",
    "# Current recommended way to generate graphs. You can copy paste ae_sweep_paths directly from bib_intervention.py\n",
    "ae_sweep_paths = {\n",
    "    \"pythia70m_sweep_standard_ctx128_0712\": {\"resid_post_layer_3\": {\"trainer_ids\": [6]}},\n",
    "    # \"pythia70m_sweep_gated_ctx128_0730\": {\"resid_post_layer_3\": {\"trainer_ids\": [9]}},\n",
    "    # \"pythia70m_sweep_topk_ctx128_0730\": {\"resid_post_layer_3\": {\"trainer_ids\": [10]}},\n",
    "    # \"gemma-2-2b_sweep_topk_ctx128_0817\": {\"resid_post_layer_12\": {\"trainer_ids\": [2]}}, \n",
    "}\n",
    "sweep_name = list(ae_sweep_paths.keys())[0]\n",
    "submodule_trainers = ae_sweep_paths[sweep_name]\n",
    "\n",
    "ae_group_paths = utils.get_ae_group_paths(dictionaries_path, sweep_name, submodule_trainers)\n",
    "ae_paths = utils.get_ae_paths(ae_group_paths)\n",
    "\n",
    "ae_path = ae_paths[0]\n",
    "submodule, dictionary, config = utils.load_dictionary(model, ae_path, DEVICE)"
   ]
  },
  {
   "cell_type": "code",
   "execution_count": 5,
   "metadata": {},
   "outputs": [
    {
     "name": "stderr",
     "output_type": "stream",
     "text": [
      "Repo card metadata block was not found. Setting CardData to empty.\n"
     ]
    },
    {
     "name": "stdout",
     "output_type": "stream",
     "text": [
      "Skipping ../dictionary_learning/dictionaries/pythia70m_sweep_standard_ctx128_0712/resid_post_layer_3/trainer_6\n"
     ]
    }
   ],
   "source": [
    "# Run max activating examples once from all SAEs\n",
    "\n",
    "k_inputs_per_feature = 10\n",
    "\n",
    "get_autointerp_inputs_for_all_saes(\n",
    "    model, \n",
    "    n_inputs=num_contexts,\n",
    "    batch_size=batch_size,\n",
    "    context_length=context_length,\n",
    "    top_k_inputs=k_inputs_per_feature,\n",
    "    ae_paths=ae_paths,\n",
    "    force_rerun=False,\n",
    ")\n",
    "\n",
    "with open(os.path.join(ae_path, \"max_activating_inputs.pkl\"), \"rb\") as f:\n",
    "    file = pickle.load(f)\n",
    "\n",
    "max_token_idxs_FKL = file[\"max_tokens_FKL\"]\n",
    "max_activations_FKL = file[\"max_activations_FKL\"]\n",
    "top_dla_token_idxs_FK = file[\"dla_results_FK\"]"
   ]
  },
  {
   "cell_type": "markdown",
   "metadata": {},
   "source": [
    "### Select class"
   ]
  },
  {
   "cell_type": "code",
   "execution_count": 6,
   "metadata": {},
   "outputs": [
    {
     "name": "stdout",
     "output_type": "stream",
     "text": [
      "torch.Size([16384])\n",
      "tensor([1.3203, 0.3594, 0.2402], dtype=torch.bfloat16)\n",
      "tensor([7265, 3597, 4648])\n"
     ]
    }
   ],
   "source": [
    "### Find features relevant to a profession from the class_probe node_effects.pkl\n",
    "\n",
    "class_name = \"gender\"\n",
    "k_features_per_concept = 3 \n",
    "\n",
    "filename_counter = \"\"\n",
    "class_id = profession_dict[class_name]\n",
    "node_effects_filename = f\"{ae_path}/node_effects{filename_counter}.pkl\"\n",
    "\n",
    "with open(node_effects_filename, \"rb\") as f:\n",
    "    node_effects = pickle.load(f)\n",
    "\n",
    "effects = node_effects[class_id]\n",
    "print(effects.shape)\n",
    "\n",
    "\n",
    "top_k_values, top_k_indices = t.topk(effects, k_features_per_concept)\n",
    "t.set_printoptions(sci_mode=False)\n",
    "print(top_k_values)\n",
    "print(top_k_indices)\n",
    "\n",
    "selected_token_idxs_FKL = max_token_idxs_FKL[top_k_indices]\n",
    "selected_activations_FKL = max_activations_FKL[top_k_indices]\n",
    "top_dla_token_idxs_FK = top_dla_token_idxs_FK[top_k_indices]"
   ]
  },
  {
   "cell_type": "code",
   "execution_count": 7,
   "metadata": {},
   "outputs": [],
   "source": [
    "# Format max_activating_inputs by << emphasizing>> max act examples\n",
    "\n",
    "num_top_emphasized_tokens = 5\n",
    "\n",
    "example_prompts = format_examples(model, selected_token_idxs_FKL, selected_activations_FKL, num_top_emphasized_tokens)\n",
    "top_dla_tokens_FK = model.tokenizer.batch_decode(top_dla_token_idxs_FK, skip_special_tokens=True)"
   ]
  },
  {
   "cell_type": "markdown",
   "metadata": {},
   "source": [
    "### Show prompt"
   ]
  },
  {
   "cell_type": "code",
   "execution_count": 12,
   "metadata": {},
   "outputs": [],
   "source": [
    "system_prompt = build_system_prompt(\n",
    "    cot=False,\n",
    "    concepts=list(profession_dict.keys()),\n",
    "    logits=True\n",
    ")\n",
    "\n",
    "prompts = []\n",
    "for example_prompt, top_dla_tokens_K in zip(example_prompts, top_dla_tokens_FK):\n",
    "    message = build_prompt(\n",
    "        examples=example_prompt,\n",
    "        cot=False,\n",
    "        top_logits=top_dla_tokens_K,\n",
    "    )\n",
    "    prompts.append(message)"
   ]
  },
  {
   "cell_type": "code",
   "execution_count": 13,
   "metadata": {},
   "outputs": [
    {
     "name": "stdout",
     "output_type": "stream",
     "text": [
      "You are a meticulous AI researcher conducting an important investigation into a certain neuron in a language model. Your task is to analyze the neuron and decide whether its behavior is related to a concept for each concept in (accountant, architect, attorney, chiropractor, comedian, composer, dentist, dietitian, dj, filmmaker, interior_designer, journalist, model, nurse, painter, paralegal, pastor, personal_trainer, photographer, physician, poet, professor, psychologist, rapper, software_engineer, surgeon, teacher, yoga_teacher, profession, gender).\n",
      "\n",
      "(Part 2) Tokens that the neuron boosts in the next token prediction\n",
      "\n",
      "You will also be shown a list called Top_logits. The logits promoted by the neuron shed light on how the neuron's activation influences the model's predictions or outputs. Look at this list of Top_logits and refine your hypotheses from part 1. It is possible that this list is more informative than the examples from part 1.\n",
      "\n",
      "Pay close attention to the words in this list and write down what they have in common. Then look at what they have in common, as well as patterns in the tokens you found in Part 1, to produce a single explanation for what features of text cause the neuron to activate. Propose your explanation in the following format:\n",
      "yes_or_no_decisions = {\"accountant\": \"your_decision\", \"architect\": \"your_decision\", \"attorney\": \"your_decision\", \"chiropractor\": \"your_decision\", \"comedian\": \"your_decision\", \"composer\": \"your_decision\", \"dentist\": \"your_decision\", \"dietitian\": \"your_decision\", \"dj\": \"your_decision\", \"filmmaker\": \"your_decision\", \"interior_designer\": \"your_decision\", \"journalist\": \"your_decision\", \"model\": \"your_decision\", \"nurse\": \"your_decision\", \"painter\": \"your_decision\", \"paralegal\": \"your_decision\", \"pastor\": \"your_decision\", \"personal_trainer\": \"your_decision\", \"photographer\": \"your_decision\", \"physician\": \"your_decision\", \"poet\": \"your_decision\", \"professor\": \"your_decision\", \"psychologist\": \"your_decision\", \"rapper\": \"your_decision\", \"software_engineer\": \"your_decision\", \"surgeon\": \"your_decision\", \"teacher\": \"your_decision\", \"yoga_teacher\": \"your_decision\", \"profession\": \"your_decision\", \"gender\": \"your_decision\"}\n",
      "Guidelines:\n",
      "\n",
      "You will be given a list of text examples on which the neuron activates. The specific tokens which cause the neuron to activate will appear between delimiters like <<this>>. The activation value of the token is given after each token in parentheses like <<this>>(3).\n",
      "\n",
      "- For each concept in (accountant, architect, attorney, chiropractor, comedian, composer, dentist, dietitian, dj, filmmaker, interior_designer, journalist, model, nurse, painter, paralegal, pastor, personal_trainer, photographer, physician, poet, professor, psychologist, rapper, software_engineer, surgeon, teacher, yoga_teacher, profession, gender), try to judge whether the neurons behavior is related to the concept. Simply make a choice based on the text features that activate the neuron, and what its role might be based on the tokens it predicts.\n",
      "- If part of the text examples or predicited tokens are incorrectly formatted, please ignore them.\n",
      "- If you are not able to find any coherent description of the neurons behavior, decide that the neuron is not related to any concept.\n",
      "- The last line of your response must be your binary decisions, yes or no in the following format: yes_or_no_decisions = {\"accountant\": \"your_decision\", \"architect\": \"your_decision\", \"attorney\": \"your_decision\", \"chiropractor\": \"your_decision\", \"comedian\": \"your_decision\", \"composer\": \"your_decision\", \"dentist\": \"your_decision\", \"dietitian\": \"your_decision\", \"dj\": \"your_decision\", \"filmmaker\": \"your_decision\", \"interior_designer\": \"your_decision\", \"journalist\": \"your_decision\", \"model\": \"your_decision\", \"nurse\": \"your_decision\", \"painter\": \"your_decision\", \"paralegal\": \"your_decision\", \"pastor\": \"your_decision\", \"personal_trainer\": \"your_decision\", \"photographer\": \"your_decision\", \"physician\": \"your_decision\", \"poet\": \"your_decision\", \"professor\": \"your_decision\", \"psychologist\": \"your_decision\", \"rapper\": \"your_decision\", \"software_engineer\": \"your_decision\", \"surgeon\": \"your_decision\", \"teacher\": \"your_decision\", \"yoga_teacher\": \"your_decision\", \"profession\": \"your_decision\", \"gender\": \"your_decision\"}\n"
     ]
    }
   ],
   "source": [
    "print(system_prompt[0]['text'])"
   ]
  },
  {
   "cell_type": "code",
   "execution_count": 16,
   "metadata": {},
   "outputs": [
    {
     "name": "stdout",
     "output_type": "stream",
     "text": [
      "############### Max act examples for Feature 7265:\n",
      "Example 1: the broker and said yes.\n",
      "\n",
      "She << told>> her younger sister she was going to America for work, << but>> << to>> << keep>> it a secret from her parents, who would never grant her permission to work abroad. You Mi told her parents she was going to Seoul to be a golf caddy -- one of the few legal women's jobs that bring hefty tips from rich men.\n",
      "\n",
      "She planned to << tell>> them the truth after she paid off her debts.\n",
      "\n",
      "You Mi was instructed to take passport photos and give them to a man named Kevin in Seoul. The broker drove her to the city, and two days later, You Mi had\n",
      "\n",
      "Example 2: adopted from Korea when she was 7½ months old, grew up in Milwaukee, Wis., and now lives in Queens. April 2017.Credit: Mengwen Cao\n",
      "\n",
      "Emily Roe, now 26, in her apartment in Brooklyn. She was adopted << from>> China << when>> she was 4 months old, grew up in Connecticut and moved to New York to study fashion and textile design at Pratt Institute <<.>> April 2017.\n",
      "\n",
      "Credit: Mengwen Cao\n",
      "\n",
      "Emily Roe, now 26, in her apartment in Brooklyn <<.>> She was adopted from China << when>> she was 4 months old, grew up in Connecticut\n",
      "\n",
      "Example 3: (everyone was wearing hop-bought clothes. What is the world coming to?). I thought she'd << lost>> << when>> an even littler girl appeared dressed as a bumble bee - but she hung << onto>> mummy the whole time, and wouldn't talk or look at the audience, << whereas>> LMD went up on her own, yelled her age down the microphone, and roundly << told>> off anyone who tried to steal her moment of fame:-) LMB also got to win one of the paltry prizes of \"a foil mask\" by winning hide and seek on the last day. Admittedly I found the hiding place -\n",
      "\n",
      "Example 4: that her marital experiences prevented her from being part << of>> a congregation or a religion. She did not << wish>> to have any specific faith imposed << upon>> her. God was very important for Helen in spite of this. Her relationship << with>> God, which she had not tried to manage without, had given her an inner strength. Her feedback << on>> meeting with the family therapist was that therapy had strengthened her faith in God. She felt that the therapist really met her.\n",
      "\n",
      "Helen, who had many different experiences of therapists, loved the fact that the therapist could understand her spiritual path. Previously, when she had not felt the spirituality of the therapist, Helen had\n",
      "\n",
      "Example 5: My wife had grown stouter and handsomer. It was the beauty of the end of summer. She felt it, and paid much attention to her person. She had << acquired>> that provoking beauty that stirs men. She was in all the brilliancy of the wife << of>> thirty years, who conce <<ives>> no children, eats heartily, and is excited <<.>> The very sight of her was enough to fright <<en>> one.\"\n",
      "\n",
      "Criticism: \"Few other novelists could have made compelling reading out of sentiments and arguments which are irritating and manifestly unjust. Few other novelists could have given pathos and poignancy\n",
      "\n",
      "Example 6: city where they led an attack on the Onryu Empire with only 300,000 soldiers against 4,000,000 men, Baku on the battle field fought like a demon, slayed and killed thousands, regardless of her pregnancy and lack of strength. The Order witnessed this with their own eyes from their throne. Baku knew that her pregnancy now was a curse, as the child within her womb was gradually absorbing every ounce of strength she had left stealing away her youth, soon the birth would << kill>> her but she << made>> it << certain>> << that>> the counsel would fall << before>> the end. With that strength, Baku charged the Tower Of Testament where\n",
      "\n",
      "Example 7: she wanted to show it off to everybody – ‘I’m the captain’ – and she’d be dragging children, parents on [to it] and that was just the way she was << about>> her job, how passionate she was << about>> it. She << wanted>> everybody to know about it, she was so proud << of>> her team and her helicopter and she << wanted>> everybody to know about it,” he said.\n",
      "\n",
      "Capt Fitzpatrick worked for CHC, a private company providing helicopter search and rescue capability to the Irish Coast Guard. On Monday night, her Sikorsky helicopter, Rescue 116, was deployed from Dublin to give “top cover\n",
      "\n",
      "Example 8: On to part 2 of theReal Housewives of New York City. The drama raged on for the housewives as we get a continuation of the ladies rehashing what went down this season.\n",
      "\n",
      "We start of with Jill, who stormed off the set in Part 1, returning and apologizing. The verbal smackdown on Jill continues, and Alex states the obvious that she believes the sole reason Jill wanted to make up with Bethenny is because of the public backlash. Jill makes a point, an excellent one at that, when she says she << wanted>> to << make>> << up>> << with>> Bethenny << while>> the show was still filming\n",
      "\n",
      "Example 9: way. She takes the onslaught like a pro. They pump their load in her pussy and other times she dra <<ins>> their cum down her throat. They cum in her ass, too. She especially << loves>> it when they DP her << while>> her lover fucks her mouth.\n",
      "\n",
      "Her lover takes a break << while>> she remains << on>> the bed still servicing his friends. He takes his camera over to his laptop and uploads the video into it. He does the same with the photos he had taken. He emails two of the photos to her husband and includes a humorous note saying how much he enjoys fucking his wife. He edits\n",
      "\n",
      "Example 10: story online. Though she considered herself very conservative with money (“All of my retirement accounts are in index funds”), she << was>> inexplicably drawn << to>> PredictIt. She << liked>> deb <<ating>> in the comments section, where the anonymity << allowed>> her to come out of her shell and blow off steam. “I could call people stupid, which I would never do in real life.”\n",
      "\n",
      "She also loved that she could blend science and current events to make money. She was drawn to the polling markets, where traders tried to predict what polls would say before they were released. The markets were very mathematical, which appealed to Kay. She realized that understanding the\n",
      "\n",
      "\n",
      "############### Top dla tokens for Feature 7265:\n",
      " her herself she hers SheSheshe HerHer woman\n",
      "\n",
      "\n",
      "\n",
      "\n",
      "############### Max act examples for Feature 3597:\n",
      "Example 1: sensitive issues and to select which portions of their narratives are appropriate for their children to hear. Sometimes more than one session is required to model and practice the requisite skills.\n",
      "\n",
      "The *first family session* is devoted to sharing family narratives and addressing differences in experiences and interpretations across the family. This session usually has the children sharing their timelines or timemaps with the parents invited to share their experiences or clarify misunderstandings or misattributions. In the current example, the father was relieved and actually touched to hear that his son avoided him when he said goodbye << because>> he was so upset and << afraid>> << that>> he would << disappoint>> his dad << if>> he\n",
      "\n",
      "Example 2: to fetch his sleeping bag but that he would << meet>> her at 5am << that>> morning to walk her back to Euston station, from where she could get on the first train. She said she did not believe he would return.\n",
      "\n",
      "But shortly after 5am, Mark came running to the cafe, having taken a bus to make sure he would be there to accompany her to the station.\n",
      "\n",
      "Nicole Sedgebeer was rescued by a homeless man at Euston Station after she missed her last train home (Getty Images)\n",
      "\n",
      "Nicole wrote: \"When I asked him << why>> he did << it>> he << said>> 'He\n",
      "\n",
      "Example 3: Roland Emmerich, but Christopher Nolan! The guy who made Memento and Following!\n",
      "\n",
      "Nolan's next movie isn't even announced yet and I'm already excited about it, because I can look at his IMDb credits and << see>> << that>> he hasn't made a bad film. The last non-Batman film he made was about dreams, << and>> the creative process, << and>> spinning tops, I think, and it was one of the most exciting action movies of the last 20 years. He's in a position where literally every studio will open up their wallets to fund any idea he has, << and>> every single A\n",
      "\n",
      "Example 4: wearing, though, because it's none of his business to tell girls what they should or should not wear. His creepy thoughts are his own problem <<,>> << and>> he shouldn't << use>> his position of authority << as>> an excuse to humili <<ate>> a girl and blame her for his sick attitude.\n",
      "\n",
      "Our friend, Maureen Herman, dropped by our house today and we told her what happened. Maureen is the bass player for Babes in Toyland, the executive Director of Project Noise, and a co-founder of A is For, a women's rights advocacy group. She wrote the following response on Facebook, and it neatly\n",
      "\n",
      "Example 5: the steps with his children.\n",
      "\n",
      "\"Neil passed through during the '90s with his own actual family, just to << show>> his kids << where>> he lived << and>> << where>> he grew up,\" the realtor told the Toronto Star. \" <<They>> knocked on the door and asked 'Hey, can I come in?'... So they've got pictures of Neil in the house and sitting on the steps and stuff like that.\" The house is located near a river and train tracks, undoubtedly instilling Young's lifelong fascination with both.\n",
      "\n",
      "Lawrence Park Collegiate Institute,\n",
      "\n",
      "125 Chatsworth Dr., Toronto\n",
      "\n",
      "1959-1960\n",
      "\n",
      "On\n",
      "\n",
      "Example 6: glad to see Parnell go after some hitters.\n",
      "\n",
      "\"To see him out there for the first time and really << see>> him << let>> loose -- he's been a little tentative << in>> the 'pen and I understand it,\" Collins said. \"He << threw>> the ball great. The last five or six he << let>> the ball go good.\"\n",
      "\n",
      "LOOKING AHEAD\n",
      "\n",
      "The Mets will host the Marlins on Monday, but they won't face NL Rookie of the Year Jose Fernandez, who pitched against New York in Port St. Lucie last Wednesday. Miami manager Mike Redmond has opted to go with le\n",
      "\n",
      "Example 7: and economic activities. Ever pragmatic, in the Papal States he << criticized>> past popes and cardinals for their inattention to public utilities, even reproaching them for lavishing money on works of art and on monuments (be they to Catholicism) at the expense of agriculture, commerce, and public health. He was often scandal <<ized>> by nudity in European painting and sculpture, the more so in works on religious themes used in church decoration. << Yet>> he was sensitive to the power of religious architecture and art for edification: the grandeur and beauty of Lower Canadian churches were sources of pride to him, << and>> he struggled to << improve>> the quality\n",
      "\n",
      "Example 8: radio.\n",
      "\n",
      "From the Text: “He thought his happiness was complete << when>>, << as>> he meandered aimlessly along, suddenly he stood by the edge of a full-fed river. << Never>> in his life had he << seen>> a river << before>>—this sleek, sinuous, full-bodied animal, chasing and chuckling, gripping things with a gurgle and leaving them with a laugh, to fling itself on fresh playmates that shook themselves free, and were caught and held again. All was a-shake and a-shiver—glints and gleams and sparkles, rustle and swirl, chatter\n",
      "\n",
      "Example 9: by, some noticing him and others either ignoring him intentionally or unaware that he was there or not caring whatsoever. A sense of bewilderment came over him. He had << expected>> too much << of>> the << people>> of Teirlin’pur. He << expected>> savages as evil and maniacal as Luthien, yet here he could clearly << see>> that the people of Teirlin’pur were actually not unlike the people of ArlinCity, despite the difference in races. People here seemed so alike to the people of ArlinCity in how they moved and acted. They walked and talked amongst themselves as if no war had ever been started,\n",
      "\n",
      "Example 10: we visit this superb venue John always makes sure all the chairs are out and no request is too small for him << to>> << help>> << us>> << with>>.\n",
      "\n",
      "One of the most incredible occurrences that happened at The Old Nick was when a group of ghost hunters were calling in a circle around a table out in the theatre, when all of a sudden in the corner of the room a really loud noise was heard, immediately Simply Ghost Nights experienced paranormal investigator Mark shone his torch in the area of the noise and to his << and>> Rosey's, Martin, Hannah, Sue's and Mandy's astonishment they all clearly saw a chair moving as if it\n",
      "\n",
      "\n",
      "############### Top dla tokens for Feature 3597:\n",
      " his he himself him Hishis HehimselfHisHe\n",
      "\n",
      "\n",
      "\n",
      "\n",
      "############### Max act examples for Feature 4648:\n",
      "Example 1: Kate Middleton says she prefers bacon to pepperoni on pizza because it's less spicy, and people are in shock\n",
      "\n",
      "The << Duchess>> << of>> Cambridge makes pizza with children in north London.\n",
      "AP Images\n",
      "\n",
      "The Duchess << of>> Cambridge prefers bacon on pizza than pepperoni because it's less \"spicy.\"\n",
      "\n",
      "Kate made the controversial remark while making pizza with some children in north London.\n",
      "\n",
      "Many people have expressed shock at her comments.\n",
      "\n",
      "The Duchess << of>> Cambridge has revealed her pizza preference — and her thoughts have raised some eyebrows.\n",
      "\n",
      "Kate Midd <<leton>> said she prefers having bacon than pepperoni on her pizza because it's\n",
      "\n",
      "Example 2: Partner and Producer at Mtown Films. She << is>> << an>> independent film producer, actress, writer, educator, dancer, and former talent manager for Los Angeles and New York. With her B.A., M.A., and her advanced Doctoral studies (ABD) toward her Ph.D. in English specializing Shakespeare at New York University, she has << taught>> at New York University, The Cooper Union, and Clark University.\n",
      "\n",
      "Jennifer << was>> << a>> Producer on a number of shorts including, BEYOND THE GRID, RADIAL BLUR, THE TEST, and recently MAYBE... NOW\n",
      "\n",
      "Example 3: help but not overwhelm Jessica and her family.\n",
      "\n",
      "\"This was a unique opportunity for us all to learn what colleagues can offer,\" said Emmanuel John, associate professor of physical therapy, who worked with one of the groups. \"The talk at the table was very intense as they worked to understand the conditions, the culture of the situation and their colleagues.\"\n",
      "\n",
      "Christina << C>>ah <<ill>> <<,>> << a>> << graduate>> student in early childhood education, appreciated the chance to participate in an event that mirrors the way things are done on behalf of children with special needs.\n",
      "\n",
      "\"Every child with whom I work will be different. Today's experience gave\n",
      "\n",
      "Example 4: and also Ian Jones, Deputy Head of Keyboard at the Royal College of Music, to lift the veil on this once highly regarded performer and composer.\n",
      "\n",
      "In 1923 Rebecca << Clarke>> << received>> a prestigious commission to compose a new work for cello from the famous American patroness of the arts, Elizabeth << Spr>>ague Coolidge <<,>> sometimes called the patroness of American chamber music. The result was Clarke's Rhapsody for cello and piano, considered by some as the composer's masterpiece. By the 1930s however Clarke's output had started to tail away. This was a period of great unhappiness for Clarke, when she << was>> having an\n",
      "\n",
      "Example 5: Oxfordshire woman jailed for drowning eight cats Published duration 29 October 2010\n",
      "\n",
      "image caption Julie Carter claimed she could not afford the phone call to have the animals rescued\n",
      "\n",
      "An Oxfordshire << woman>> << who>> admitted drowning eight cats in a bath has been jailed for 12 weeks.\n",
      "\n",
      "Julie << Carter>> <<,>> 43, << of>> Bicester, told RSPCA staff she could not afford a phone call to have the cats rescued so killed them one by one over a week.\n",
      "\n",
      "The cats were all aged between one and three years old. Another three were later rehomed.\n",
      "\n",
      "Carter told Banbury magistrates she had\n",
      "\n",
      "Example 6: way, were conducted by 117 investigators from September 2005 to May 2006.\n",
      "\n",
      "Question of the Day\n",
      "\n",
      "Will Donald Trump win the GOP nomination?\n",
      "\n",
      "About the Author\n",
      "\n",
      "Julia Du <<in>> << is>> << the>> Times’ religion editor. She << has>> a master’s degree in religion from Trinity School for Ministry (an Episcopal seminary) and has covered the beat for three decades. Before coming to The Washington Times, she << worked>> for five newspapers, including a stint as a religion writer for the Houston Chronicle and a year as city editor at the...due to the transmission of HPV, a virus that has been implicated in the majority of\n",
      "\n",
      "Example 7: II, to “not let poor Nell starve.” James II carried out those wishes, proving for Nell Gwynne until her death two years later in 1687.\n",
      "\n",
      "5. CORA PEARL (1835-86)\n",
      "\n",
      "Emma << Cr>> <<ouch>> << was>> << born>> in Plymouth, England, to a British musician and womanizer who deserted his family and moved to America. At around the age of 20, Emma << worked>> as a milliner, dabbling in prostitution to augment her low wages. During this time, she met Robert Bignell, owner of a dance hall, and became his mistress. He took her to\n",
      "\n",
      "Example 8: Ex-Miss Russia Fights Charge\n",
      "\n",
      "April 12, 2011\n",
      "\n",
      "NEW YORK — U.S. prosecutors said a former Miss Russia kept forging prescriptions to get herself painkillers in New York even after she was arrested on charges of doing the same.\n",
      "\n",
      "Anna << Mal>> <<ova>> << pleaded>> not << guilty>> Tuesday << to>> petit larceny, forgery and other charges in a new indictment. It adds dozens of new charges. Malova, 39, is being considered for a program designed to channel addicted offenders to treatment instead of jail. Her lawyer said she has started rehabilitation.Donald Trump. AP\n",
      "\n",
      "President Trump and his top advisers\n",
      "\n",
      "Example 9: Undocumented immigrants fight for education\n",
      "\n",
      "CNJ staff photo: Liliana << Cast>> <<illo>> << Edith>> <<,>> left, and Adriana <<,>> Clovis High School seniors, have been in the U.S. for at least six years.\n",
      "\n",
      "By Gabriel Monte: CNJ staff writer\n",
      "\n",
      "Iveth has attended Clovis schools since she came to the United States with her parents about six years ago.\n",
      "\n",
      "Now a Clovis High School senior taking college-level classes, Iveth said she considers America her home and wants to attend the University of New Mexico to study education.\n",
      "\n",
      "“I have a better opportunity\n",
      "\n",
      "Example 10: scholarship to study the biosynthesis of unusual cyanobacterial secondary metabolites, in the Cyanobacterial Natural Products group at CIIMAR (University of Porto).\n",
      "\n",
      "Caroline RougerCaroline << R>>oug <<er>> << graduated>> in pharmacy from the University of Angers where she << received>> her PhD in 2015, studying prenylated polyphenols and their anti-inflammatory and immunomodulatory activities under the guidance of Prof. Pascal Richomme and Dr Séverine Derbré. After one year as research and teaching assistant at the University of Limoges, she << joined>> the group of Prof. Deniz Tasdemir\n",
      "\n",
      "\n",
      "############### Top dla tokens for Feature 4648:\n",
      " herself her.\"\"\" postpartum trimester pregnancy fetus pregnant actress��\n",
      "\n",
      "\n",
      "\n",
      "\n"
     ]
    }
   ],
   "source": [
    "for i, feat_examples in enumerate(example_prompts):\n",
    "    print(f'############### Max act examples for Feature {top_k_indices[i]}:')\n",
    "    print(feat_examples)\n",
    "    print(f'############### Top dla tokens for Feature {top_k_indices[i]}:')\n",
    "    print(top_dla_tokens_FK[i])\n",
    "    print('\\n\\n\\n')"
   ]
  },
  {
   "cell_type": "markdown",
   "metadata": {},
   "source": [
    "### Render prompt for human labelling"
   ]
  },
  {
   "cell_type": "code",
   "execution_count": 15,
   "metadata": {},
   "outputs": [
    {
     "name": "stdout",
     "output_type": "stream",
     "text": [
      "Feature 7265:\n"
     ]
    },
    {
     "data": {
      "text/html": [
       "<div id=\"circuits-vis-c0f562d2-02a0\" style=\"margin: 15px 0;\"/>\n",
       "    <script crossorigin type=\"module\">\n",
       "    import { render, TextNeuronActivations } from \"https://unpkg.com/circuitsvis@1.41.0/dist/cdn/esm.js\";\n",
       "    render(\n",
       "      \"circuits-vis-c0f562d2-02a0\",\n",
       "      TextNeuronActivations,\n",
       "      {\"tokens\": [[\"the\", \" broker\", \" and\", \" said\", \" yes\", \".\", \"\\n\", \"\\n\", \"She\", \" told\", \" her\", \" younger\", \" sister\", \" she\", \" was\", \" going\", \" to\", \" America\", \" for\", \" work\", \",\", \" but\", \" to\", \" keep\", \" it\", \" a\", \" secret\", \" from\", \" her\", \" parents\", \",\", \" who\", \" would\", \" never\", \" grant\", \" her\", \" permission\", \" to\", \" work\", \" abroad\", \".\", \" You\", \" Mi\", \" told\", \" her\", \" parents\", \" she\", \" was\", \" going\", \" to\", \" Seoul\", \" to\", \" be\", \" a\", \" golf\", \" c\", \"addy\", \" --\", \" one\", \" of\", \" the\", \" few\", \" legal\", \" women\", \"'s\", \" jobs\", \" that\", \" bring\", \" he\", \"fty\", \" tips\", \" from\", \" rich\", \" men\", \".\", \"\\n\", \"\\n\", \"She\", \" planned\", \" to\", \" tell\", \" them\", \" the\", \" truth\", \" after\", \" she\", \" paid\", \" off\", \" her\", \" debts\", \".\", \"\\n\", \"\\n\", \"You\", \" Mi\", \" was\", \" instructed\", \" to\", \" take\", \" passport\", \" photos\", \" and\", \" give\", \" them\", \" to\", \" a\", \" man\", \" named\", \" Kevin\", \" in\", \" Seoul\", \".\", \" The\", \" broker\", \" drove\", \" her\", \" to\", \" the\", \" city\", \",\", \" and\", \" two\", \" days\", \" later\", \",\", \" You\", \" Mi\", \" had\"], [\"ad\", \"opt\", \"ed\", \" from\", \" Korea\", \" when\", \" she\", \" was\", \" 7\", \"\\u00bd\", \" months\", \" old\", \",\", \" grew\", \" up\", \" in\", \" Milwaukee\", \",\", \" Wis\", \".,\", \" and\", \" now\", \" lives\", \" in\", \" Queens\", \".\", \" April\", \" 2017\", \".\", \"Credit\", \":\", \" M\", \"eng\", \"wen\", \" Ca\", \"o\", \"\\n\", \"\\n\", \"Em\", \"ily\", \" R\", \"oe\", \",\", \" now\", \" 26\", \",\", \" in\", \" her\", \" apartment\", \" in\", \" Brooklyn\", \".\", \" She\", \" was\", \" adopted\", \" from\", \" China\", \" when\", \" she\", \" was\", \" 4\", \" months\", \" old\", \",\", \" grew\", \" up\", \" in\", \" Connecticut\", \" and\", \" moved\", \" to\", \" New\", \" York\", \" to\", \" study\", \" fashion\", \" and\", \" textile\", \" design\", \" at\", \" Pr\", \"att\", \" Institute\", \".\", \" April\", \" 2017\", \".\", \"\\n\", \"\\n\", \"Credit\", \":\", \" M\", \"eng\", \"wen\", \" Ca\", \"o\", \"\\n\", \"\\n\", \"Em\", \"ily\", \" R\", \"oe\", \",\", \" now\", \" 26\", \",\", \" in\", \" her\", \" apartment\", \" in\", \" Brooklyn\", \".\", \" She\", \" was\", \" adopted\", \" from\", \" China\", \" when\", \" she\", \" was\", \" 4\", \" months\", \" old\", \",\", \" grew\", \" up\", \" in\", \" Connecticut\"], [\"(\", \"every\", \"one\", \" was\", \" wearing\", \" hop\", \"-\", \"b\", \"ought\", \" clothes\", \".\", \" What\", \" is\", \" the\", \" world\", \" coming\", \" to\", \"?).\", \" I\", \" thought\", \" she\", \"'d\", \" lost\", \" when\", \" an\", \" even\", \" l\", \"itt\", \"ler\", \" girl\", \" appeared\", \" dressed\", \" as\", \" a\", \" b\", \"umble\", \" bee\", \" -\", \" but\", \" she\", \" hung\", \" onto\", \" m\", \"ummy\", \" the\", \" whole\", \" time\", \",\", \" and\", \" wouldn\", \"'t\", \" talk\", \" or\", \" look\", \" at\", \" the\", \" audience\", \",\", \" whereas\", \" L\", \"MD\", \" went\", \" up\", \" on\", \" her\", \" own\", \",\", \" yelled\", \" her\", \" age\", \" down\", \" the\", \" microphone\", \",\", \" and\", \" round\", \"ly\", \" told\", \" off\", \" anyone\", \" who\", \" tried\", \" to\", \" steal\", \" her\", \" moment\", \" of\", \" fame\", \":\", \"-)\", \" L\", \"MB\", \" also\", \" got\", \" to\", \" win\", \" one\", \" of\", \" the\", \" p\", \"alt\", \"ry\", \" prizes\", \" of\", \" \\\"\", \"a\", \" foil\", \" mask\", \"\\\"\", \" by\", \" winning\", \" hide\", \" and\", \" seek\", \" on\", \" the\", \" last\", \" day\", \".\", \" Ad\", \"mitted\", \"ly\", \" I\", \" found\", \" the\", \" hiding\", \" place\", \" -\"], [\"that\", \" her\", \" marital\", \" experiences\", \" prevented\", \" her\", \" from\", \" being\", \" part\", \" of\", \" a\", \" congregation\", \" or\", \" a\", \" religion\", \".\", \" She\", \" did\", \" not\", \" wish\", \" to\", \" have\", \" any\", \" specific\", \" faith\", \" imposed\", \" upon\", \" her\", \".\", \" God\", \" was\", \" very\", \" important\", \" for\", \" Helen\", \" in\", \" spite\", \" of\", \" this\", \".\", \" Her\", \" relationship\", \" with\", \" God\", \",\", \" which\", \" she\", \" had\", \" not\", \" tried\", \" to\", \" manage\", \" without\", \",\", \" had\", \" given\", \" her\", \" an\", \" inner\", \" strength\", \".\", \" Her\", \" feedback\", \" on\", \" meeting\", \" with\", \" the\", \" family\", \" therapist\", \" was\", \" that\", \" therapy\", \" had\", \" strengthened\", \" her\", \" faith\", \" in\", \" God\", \".\", \" She\", \" felt\", \" that\", \" the\", \" therapist\", \" really\", \" met\", \" her\", \".\", \"\\n\", \"\\n\", \"Hel\", \"en\", \",\", \" who\", \" had\", \" many\", \" different\", \" experiences\", \" of\", \" therapists\", \",\", \" loved\", \" the\", \" fact\", \" that\", \" the\", \" therapist\", \" could\", \" understand\", \" her\", \" spiritual\", \" path\", \".\", \" Previously\", \",\", \" when\", \" she\", \" had\", \" not\", \" felt\", \" the\", \" spirituality\", \" of\", \" the\", \" therapist\", \",\", \" Helen\", \" had\"], [\"My\", \" wife\", \" had\", \" grown\", \" st\", \"outer\", \" and\", \" hands\", \"omer\", \".\", \" It\", \" was\", \" the\", \" beauty\", \" of\", \" the\", \" end\", \" of\", \" summer\", \".\", \" She\", \" felt\", \" it\", \",\", \" and\", \" paid\", \" much\", \" attention\", \" to\", \" her\", \" person\", \".\", \" She\", \" had\", \" acquired\", \" that\", \" prov\", \"oking\", \" beauty\", \" that\", \" stir\", \"s\", \" men\", \".\", \" She\", \" was\", \" in\", \" all\", \" the\", \" br\", \"illian\", \"cy\", \" of\", \" the\", \" wife\", \" of\", \" thirty\", \" years\", \",\", \" who\", \" conce\", \"ives\", \" no\", \" children\", \",\", \" eats\", \" heart\", \"ily\", \",\", \" and\", \" is\", \" excited\", \".\", \" The\", \" very\", \" sight\", \" of\", \" her\", \" was\", \" enough\", \" to\", \" fright\", \"en\", \" one\", \".\\\"\", \"\\n\", \"\\n\", \"C\", \"ritic\", \"ism\", \":\", \" \\\"\", \"Few\", \" other\", \" novel\", \"ists\", \" could\", \" have\", \" made\", \" compelling\", \" reading\", \" out\", \" of\", \" sentiments\", \" and\", \" arguments\", \" which\", \" are\", \" irrit\", \"ating\", \" and\", \" manifest\", \"ly\", \" unjust\", \".\", \" Few\", \" other\", \" novel\", \"ists\", \" could\", \" have\", \" given\", \" path\", \"os\", \" and\", \" po\", \"ign\", \"ancy\"], [\"city\", \" where\", \" they\", \" led\", \" an\", \" attack\", \" on\", \" the\", \" On\", \"ry\", \"u\", \" Empire\", \" with\", \" only\", \" 300\", \",\", \"000\", \" soldiers\", \" against\", \" 4\", \",\", \"000\", \",\", \"000\", \" men\", \",\", \" B\", \"aku\", \" on\", \" the\", \" battle\", \" field\", \" fought\", \" like\", \" a\", \" demon\", \",\", \" sl\", \"ayed\", \" and\", \" killed\", \" thousands\", \",\", \" regardless\", \" of\", \" her\", \" pregnancy\", \" and\", \" lack\", \" of\", \" strength\", \".\", \" The\", \" Order\", \" witnessed\", \" this\", \" with\", \" their\", \" own\", \" eyes\", \" from\", \" their\", \" throne\", \".\", \" B\", \"aku\", \" knew\", \" that\", \" her\", \" pregnancy\", \" now\", \" was\", \" a\", \" curse\", \",\", \" as\", \" the\", \" child\", \" within\", \" her\", \" womb\", \" was\", \" gradually\", \" absorbing\", \" every\", \" ounce\", \" of\", \" strength\", \" she\", \" had\", \" left\", \" stealing\", \" away\", \" her\", \" youth\", \",\", \" soon\", \" the\", \" birth\", \" would\", \" kill\", \" her\", \" but\", \" she\", \" made\", \" it\", \" certain\", \" that\", \" the\", \" counsel\", \" would\", \" fall\", \" before\", \" the\", \" end\", \".\", \" With\", \" that\", \" strength\", \",\", \" B\", \"aku\", \" charged\", \" the\", \" Tower\", \" Of\", \" Testament\", \" where\"], [\"she\", \" wanted\", \" to\", \" show\", \" it\", \" off\", \" to\", \" everybody\", \" \\u2013\", \" \\u2018\", \"I\", \"\\u2019\", \"m\", \" the\", \" captain\", \"\\u2019\", \" \\u2013\", \" and\", \" she\", \"\\u2019\", \"d\", \" be\", \" dragging\", \" children\", \",\", \" parents\", \" on\", \" [\", \"to\", \" it\", \"]\", \" and\", \" that\", \" was\", \" just\", \" the\", \" way\", \" she\", \" was\", \" about\", \" her\", \" job\", \",\", \" how\", \" passionate\", \" she\", \" was\", \" about\", \" it\", \".\", \" She\", \" wanted\", \" everybody\", \" to\", \" know\", \" about\", \" it\", \",\", \" she\", \" was\", \" so\", \" proud\", \" of\", \" her\", \" team\", \" and\", \" her\", \" helicopter\", \" and\", \" she\", \" wanted\", \" everybody\", \" to\", \" know\", \" about\", \" it\", \",\\u201d\", \" he\", \" said\", \".\", \"\\n\", \"\\n\", \"Capt\", \" Fitz\", \"patrick\", \" worked\", \" for\", \" CH\", \"C\", \",\", \" a\", \" private\", \" company\", \" providing\", \" helicopter\", \" search\", \" and\", \" rescue\", \" capability\", \" to\", \" the\", \" Irish\", \" Coast\", \" Guard\", \".\", \" On\", \" Monday\", \" night\", \",\", \" her\", \" S\", \"ik\", \"ors\", \"ky\", \" helicopter\", \",\", \" Rescue\", \" 116\", \",\", \" was\", \" deployed\", \" from\", \" Dublin\", \" to\", \" give\", \" \\u201c\", \"top\", \" cover\"], [\"On\", \" to\", \" part\", \" 2\", \" of\", \" the\", \"Real\", \" House\", \"wives\", \" of\", \" New\", \" York\", \" City\", \".\", \" The\", \" drama\", \" r\", \"aged\", \" on\", \" for\", \" the\", \" house\", \"wives\", \" as\", \" we\", \" get\", \" a\", \" continuation\", \" of\", \" the\", \" ladies\", \" re\", \"h\", \"ashing\", \" what\", \" went\", \" down\", \" this\", \" season\", \".\", \"\\n\", \"\\n\", \"We\", \" start\", \" of\", \" with\", \" Jill\", \",\", \" who\", \" storm\", \"ed\", \" off\", \" the\", \" set\", \" in\", \" Part\", \" 1\", \",\", \" returning\", \" and\", \" apolog\", \"izing\", \".\", \" The\", \" verbal\", \" sm\", \"ack\", \"down\", \" on\", \" Jill\", \" continues\", \",\", \" and\", \" Alex\", \" states\", \" the\", \" obvious\", \" that\", \" she\", \" believes\", \" the\", \" sole\", \" reason\", \" Jill\", \" wanted\", \" to\", \" make\", \" up\", \" with\", \" Bet\", \"hen\", \"ny\", \" is\", \" because\", \" of\", \" the\", \" public\", \" backlash\", \".\", \" Jill\", \" makes\", \" a\", \" point\", \",\", \" an\", \" excellent\", \" one\", \" at\", \" that\", \",\", \" when\", \" she\", \" says\", \" she\", \" wanted\", \" to\", \" make\", \" up\", \" with\", \" Bet\", \"hen\", \"ny\", \" while\", \" the\", \" show\", \" was\", \" still\", \" filming\"], [\"way\", \".\", \" She\", \" takes\", \" the\", \" on\", \"sl\", \"aught\", \" like\", \" a\", \" pro\", \".\", \" They\", \" pump\", \" their\", \" load\", \" in\", \" her\", \" pussy\", \" and\", \" other\", \" times\", \" she\", \" dra\", \"ins\", \" their\", \" cum\", \" down\", \" her\", \" throat\", \".\", \" They\", \" cum\", \" in\", \" her\", \" ass\", \",\", \" too\", \".\", \" She\", \" especially\", \" loves\", \" it\", \" when\", \" they\", \" DP\", \" her\", \" while\", \" her\", \" lover\", \" f\", \"ucks\", \" her\", \" mouth\", \".\", \"\\n\", \"\\n\", \"Her\", \" lover\", \" takes\", \" a\", \" break\", \" while\", \" she\", \" remains\", \" on\", \" the\", \" bed\", \" still\", \" serv\", \"icing\", \" his\", \" friends\", \".\", \" He\", \" takes\", \" his\", \" camera\", \" over\", \" to\", \" his\", \" laptop\", \" and\", \" upload\", \"s\", \" the\", \" video\", \" into\", \" it\", \".\", \" He\", \" does\", \" the\", \" same\", \" with\", \" the\", \" photos\", \" he\", \" had\", \" taken\", \".\", \" He\", \" emails\", \" two\", \" of\", \" the\", \" photos\", \" to\", \" her\", \" husband\", \" and\", \" includes\", \" a\", \" hum\", \"orous\", \" note\", \" saying\", \" how\", \" much\", \" he\", \" enjoys\", \" fucking\", \" his\", \" wife\", \".\", \" He\", \" ed\", \"its\"], [\"story\", \" online\", \".\", \" Though\", \" she\", \" considered\", \" herself\", \" very\", \" conservative\", \" with\", \" money\", \" (\\u201c\", \"All\", \" of\", \" my\", \" retirement\", \" accounts\", \" are\", \" in\", \" index\", \" funds\", \"\\u201d),\", \" she\", \" was\", \" inex\", \"plic\", \"ably\", \" drawn\", \" to\", \" Predict\", \"It\", \".\", \" She\", \" liked\", \" deb\", \"ating\", \" in\", \" the\", \" comments\", \" section\", \",\", \" where\", \" the\", \" anonymity\", \" allowed\", \" her\", \" to\", \" come\", \" out\", \" of\", \" her\", \" shell\", \" and\", \" blow\", \" off\", \" steam\", \".\", \" \\u201c\", \"I\", \" could\", \" call\", \" people\", \" stupid\", \",\", \" which\", \" I\", \" would\", \" never\", \" do\", \" in\", \" real\", \" life\", \".\\u201d\", \"\\n\", \"\\n\", \"She\", \" also\", \" loved\", \" that\", \" she\", \" could\", \" blend\", \" science\", \" and\", \" current\", \" events\", \" to\", \" make\", \" money\", \".\", \" She\", \" was\", \" drawn\", \" to\", \" the\", \" polling\", \" markets\", \",\", \" where\", \" traders\", \" tried\", \" to\", \" predict\", \" what\", \" polls\", \" would\", \" say\", \" before\", \" they\", \" were\", \" released\", \".\", \" The\", \" markets\", \" were\", \" very\", \" mathematical\", \",\", \" which\", \" appealed\", \" to\", \" Kay\", \".\", \" She\", \" realized\", \" that\", \" understanding\", \" the\"]], \"activations\": [[[[0.0]], [[0.0]], [[0.1357421875]], [[0.0]], [[0.0]], [[0.0]], [[0.0]], [[0.0]], [[0.40625]], [[2.109375]], [[1.2109375]], [[1.0625]], [[1.34375]], [[1.265625]], [[1.609375]], [[1.765625]], [[2.015625]], [[1.7109375]], [[1.9375]], [[1.5625]], [[1.7578125]], [[2.65625]], [[2.15625]], [[2.484375]], [[1.2421875]], [[1.0546875]], [[1.6640625]], [[2.046875]], [[1.4140625]], [[1.2265625]], [[1.6875]], [[1.421875]], [[1.875]], [[1.0078125]], [[1.71875]], [[0.9921875]], [[0.8515625]], [[1.2578125]], [[1.421875]], [[1.34375]], [[1.953125]], [[1.0625]], [[0.73828125]], [[1.9921875]], [[1.34375]], [[1.0]], [[1.03125]], [[1.3046875]], [[1.3125]], [[1.5546875]], [[1.1796875]], [[1.390625]], [[1.1484375]], [[1.125]], [[0.99609375]], [[0.65234375]], [[1.0234375]], [[1.3984375]], [[0.83984375]], [[1.421875]], [[0.76171875]], [[0.56640625]], [[0.70703125]], [[0.796875]], [[0.91796875]], [[0.8046875]], [[0.9921875]], [[1.03125]], [[0.51953125]], [[0.4765625]], [[0.484375]], [[0.8515625]], [[0.498046875]], [[0.419921875]], [[1.6796875]], [[0.89453125]], [[1.359375]], [[1.0703125]], [[1.6953125]], [[1.5078125]], [[2.90625]], [[1.5078125]], [[0.99609375]], [[1.1015625]], [[1.75]], [[1.2421875]], [[1.71875]], [[1.453125]], [[0.93359375]], [[0.8984375]], [[2.09375]], [[0.8046875]], [[1.84375]], [[0.62890625]], [[0.921875]], [[0.9453125]], [[1.0625]], [[0.76953125]], [[0.66796875]], [[0.43359375]], [[0.8203125]], [[0.67578125]], [[1.015625]], [[0.76953125]], [[0.7890625]], [[0.4921875]], [[0.375]], [[0.048828125]], [[0.0]], [[0.314453125]], [[0.53515625]], [[0.63671875]], [[0.1396484375]], [[0.2099609375]], [[0.490234375]], [[0.6171875]], [[0.8515625]], [[0.6875]], [[0.498046875]], [[0.37890625]], [[0.93359375]], [[0.546875]], [[0.470703125]], [[0.86328125]], [[0.6015625]], [[0.51171875]], [[0.369140625]], [[0.55859375]]], [[[0.0]], [[0.0]], [[0.0]], [[0.0]], [[0.0]], [[0.0]], [[0.80078125]], [[0.94140625]], [[0.84765625]], [[0.2421875]], [[0.9765625]], [[1.0625]], [[0.7734375]], [[0.859375]], [[0.60546875]], [[0.6875]], [[0.44140625]], [[0.318359375]], [[0.08935546875]], [[0.1318359375]], [[0.75390625]], [[0.88671875]], [[0.69921875]], [[0.6796875]], [[0.240234375]], [[0.0]], [[0.361328125]], [[0.283203125]], [[0.275390625]], [[0.05517578125]], [[0.0]], [[0.0]], [[0.0]], [[0.0]], [[0.0]], [[0.0]], [[0.033935546875]], [[0.30078125]], [[0.0966796875]], [[0.78515625]], [[0.78515625]], [[0.71484375]], [[0.8984375]], [[1.1328125]], [[1.328125]], [[0.8828125]], [[1.046875]], [[0.9453125]], [[1.3671875]], [[1.34375]], [[0.9375]], [[1.703125]], [[1.3203125]], [[1.6015625]], [[1.8125]], [[2.0]], [[1.6875]], [[2.8125]], [[1.609375]], [[1.5859375]], [[1.4765625]], [[1.34375]], [[1.5625]], [[1.71875]], [[1.4765625]], [[1.453125]], [[1.2734375]], [[1.1015625]], [[1.828125]], [[1.796875]], [[1.515625]], [[0.80078125]], [[0.9140625]], [[1.2265625]], [[1.640625]], [[1.25]], [[1.2578125]], [[0.83984375]], [[1.09375]], [[1.34375]], [[0.408203125]], [[0.392578125]], [[0.482421875]], [[2.1875]], [[1.296875]], [[0.984375]], [[1.25]], [[1.2421875]], [[1.234375]], [[0.68359375]], [[0.57421875]], [[0.7265625]], [[0.6953125]], [[0.5390625]], [[0.45703125]], [[0.357421875]], [[0.79296875]], [[1.359375]], [[1.1328125]], [[1.125]], [[0.90234375]], [[1.140625]], [[1.3203125]], [[1.09375]], [[1.46875]], [[1.1015625]], [[1.828125]], [[1.1484375]], [[1.140625]], [[1.3125]], [[1.03125]], [[2.359375]], [[1.40625]], [[1.3515625]], [[1.578125]], [[1.609375]], [[1.7578125]], [[2.859375]], [[1.296875]], [[1.2265625]], [[1.421875]], [[1.2734375]], [[1.4140625]], [[1.3359375]], [[1.4765625]], [[1.4765625]], [[1.1796875]], [[1.1328125]]], [[[0.0]], [[0.0]], [[0.0]], [[0.0]], [[0.0]], [[0.0]], [[0.0]], [[0.0]], [[0.0]], [[0.0]], [[0.0]], [[0.0]], [[0.0]], [[0.0]], [[0.0]], [[0.0791015625]], [[0.0]], [[0.0]], [[0.0]], [[0.0]], [[0.609375]], [[1.4375]], [[1.8515625]], [[2.8125]], [[0.90625]], [[0.5625]], [[0.265625]], [[0.10009765625]], [[0.5625]], [[1.1015625]], [[1.296875]], [[1.0390625]], [[1.1953125]], [[0.9609375]], [[0.5390625]], [[0.15625]], [[0.68359375]], [[1.3046875]], [[1.59375]], [[1.2890625]], [[1.296875]], [[2.0625]], [[0.412109375]], [[0.51953125]], [[0.55078125]], [[0.74609375]], [[1.203125]], [[0.9375]], [[1.359375]], [[0.6484375]], [[1.3046875]], [[1.140625]], [[0.5390625]], [[0.96484375]], [[1.6484375]], [[0.859375]], [[0.59765625]], [[0.8984375]], [[1.71875]], [[0.59765625]], [[0.6171875]], [[0.46875]], [[0.51171875]], [[0.7109375]], [[0.58203125]], [[0.4296875]], [[0.734375]], [[0.78515625]], [[0.5625]], [[0.73828125]], [[0.53125]], [[0.298828125]], [[0.546875]], [[0.62109375]], [[1.09375]], [[0.98046875]], [[0.337890625]], [[1.6953125]], [[0.90625]], [[0.45703125]], [[0.41015625]], [[0.34765625]], [[0.6171875]], [[0.6328125]], [[0.59765625]], [[0.640625]], [[0.640625]], [[0.85546875]], [[0.73828125]], [[0.4296875]], [[0.349609375]], [[0.2021484375]], [[0.6484375]], [[0.640625]], [[0.51953125]], [[0.53515625]], [[0.369140625]], [[0.98828125]], [[0.35546875]], [[0.0]], [[0.0478515625]], [[0.083984375]], [[0.109375]], [[0.85546875]], [[0.263671875]], [[0.005096435546875]], [[0.0]], [[0.0]], [[0.275390625]], [[0.361328125]], [[0.357421875]], [[0.10986328125]], [[0.0]], [[0.0]], [[0.57421875]], [[0.1474609375]], [[0.0]], [[0.0]], [[0.69140625]], [[0.059814453125]], [[0.8046875]], [[0.447265625]], [[0.69921875]], [[0.6640625]], [[0.365234375]], [[0.37890625]], [[0.283203125]], [[0.34375]]], [[[0.0]], [[1.421875]], [[0.99609375]], [[1.4375]], [[1.2421875]], [[1.234375]], [[1.140625]], [[1.515625]], [[1.4765625]], [[2.390625]], [[1.4453125]], [[1.078125]], [[1.2890625]], [[1.171875]], [[0.625]], [[0.0]], [[1.125]], [[1.0703125]], [[1.171875]], [[2.421875]], [[1.484375]], [[1.5625]], [[1.125]], [[1.15625]], [[0.9375]], [[1.3828125]], [[2.8125]], [[1.015625]], [[1.5859375]], [[0.8359375]], [[0.85546875]], [[0.392578125]], [[0.74609375]], [[1.59375]], [[0.9921875]], [[1.84375]], [[1.3359375]], [[1.8671875]], [[1.2109375]], [[1.5]], [[1.359375]], [[1.34375]], [[2.140625]], [[1.0625]], [[1.546875]], [[1.421875]], [[1.0078125]], [[1.1484375]], [[1.0234375]], [[1.4140625]], [[1.3125]], [[1.6484375]], [[1.6171875]], [[1.171875]], [[1.5234375]], [[1.8046875]], [[1.1875]], [[0.86328125]], [[0.81640625]], [[0.72265625]], [[1.90625]], [[1.4765625]], [[1.359375]], [[2.0]], [[1.78125]], [[1.9765625]], [[1.1484375]], [[1.0390625]], [[1.46875]], [[1.3046875]], [[1.8125]], [[1.1875]], [[1.1484375]], [[1.3203125]], [[1.046875]], [[0.90234375]], [[1.8203125]], [[0.953125]], [[1.796875]], [[1.15625]], [[1.8046875]], [[1.96875]], [[0.984375]], [[1.390625]], [[1.21875]], [[1.625]], [[1.234375]], [[1.7421875]], [[0.796875]], [[0.96875]], [[0.65625]], [[1.203125]], [[1.578125]], [[1.546875]], [[1.578125]], [[1.4296875]], [[1.0234375]], [[1.109375]], [[1.46875]], [[1.0625]], [[1.15625]], [[1.6328125]], [[1.0390625]], [[1.3203125]], [[1.578125]], [[0.70703125]], [[1.1328125]], [[1.1953125]], [[1.3203125]], [[1.15625]], [[0.65625]], [[1.2421875]], [[1.6015625]], [[1.375]], [[1.3359375]], [[1.46875]], [[1.3203125]], [[1.5234375]], [[1.4453125]], [[1.53125]], [[0.921875]], [[1.1484375]], [[1.84375]], [[0.9453125]], [[1.1796875]], [[1.6875]], [[1.515625]], [[1.5625]]], [[[0.0]], [[0.44140625]], [[0.66796875]], [[0.84375]], [[0.482421875]], [[0.95703125]], [[1.1171875]], [[0.8828125]], [[0.74609375]], [[0.0]], [[0.26953125]], [[0.60546875]], [[0.42578125]], [[0.4375]], [[0.828125]], [[0.4765625]], [[0.1220703125]], [[0.5703125]], [[0.05712890625]], [[0.96875]], [[0.75390625]], [[1.796875]], [[0.66796875]], [[1.1328125]], [[1.6328125]], [[1.4140625]], [[0.98046875]], [[1.0]], [[1.6328125]], [[1.1328125]], [[1.125]], [[1.8203125]], [[1.21875]], [[1.4296875]], [[2.078125]], [[1.65625]], [[0.75]], [[1.8984375]], [[1.1640625]], [[1.890625]], [[1.1796875]], [[1.5625]], [[0.9296875]], [[2.03125]], [[1.09375]], [[1.2734375]], [[1.46875]], [[1.3671875]], [[1.234375]], [[0.47265625]], [[0.65625]], [[1.0]], [[1.828125]], [[1.09375]], [[1.421875]], [[2.078125]], [[1.2265625]], [[1.4765625]], [[1.2265625]], [[1.390625]], [[0.57421875]], [[2.4375]], [[0.87109375]], [[0.92578125]], [[1.125]], [[1.1328125]], [[0.83203125]], [[0.82421875]], [[0.73828125]], [[1.1015625]], [[1.7109375]], [[1.21875]], [[2.171875]], [[1.3125]], [[0.80859375]], [[0.98828125]], [[1.609375]], [[1.296875]], [[1.4609375]], [[1.078125]], [[1.7421875]], [[1.5390625]], [[2.796875]], [[1.390625]], [[0.69140625]], [[0.671875]], [[0.65234375]], [[0.44921875]], [[0.1787109375]], [[0.32421875]], [[0.24609375]], [[0.5]], [[0.0]], [[0.1376953125]], [[0.0]], [[0.1376953125]], [[0.0]], [[0.0]], [[0.12890625]], [[0.0]], [[0.23046875]], [[0.193359375]], [[0.35546875]], [[0.0]], [[0.0]], [[0.0]], [[0.0]], [[0.0]], [[0.0]], [[0.0]], [[0.0]], [[0.0]], [[0.0]], [[0.0]], [[0.11279296875]], [[0.0]], [[0.0]], [[0.0]], [[0.0]], [[0.0]], [[0.0]], [[0.07080078125]], [[0.095703125]], [[0.154296875]], [[0.0]], [[0.0]], [[0.0]], [[0.0145263671875]]], [[[0.0]], [[0.0]], [[0.0]], [[0.0]], [[0.0]], [[0.0]], [[0.0]], [[0.0]], [[0.0]], [[0.0]], [[0.0]], [[0.0]], [[0.0]], [[0.0]], [[0.0]], [[0.0]], [[0.0]], [[0.0]], [[0.0]], [[0.0]], [[0.0]], [[0.0]], [[0.0]], [[0.0]], [[0.0]], [[0.0]], [[0.0]], [[0.0137939453125]], [[0.0]], [[0.0]], [[0.0]], [[0.0]], [[0.0]], [[0.0]], [[0.0]], [[0.0]], [[0.0]], [[0.0]], [[0.0]], [[0.0]], [[0.0]], [[0.0]], [[0.0]], [[0.0]], [[0.0]], [[0.25390625]], [[0.62890625]], [[0.71875]], [[0.0498046875]], [[0.75390625]], [[0.5078125]], [[0.0]], [[0.072265625]], [[0.08154296875]], [[0.3515625]], [[0.408203125]], [[0.37109375]], [[0.0634765625]], [[0.0]], [[0.0]], [[0.345703125]], [[0.0]], [[0.126953125]], [[0.48046875]], [[0.0091552734375]], [[0.294921875]], [[0.58984375]], [[0.890625]], [[0.62109375]], [[0.94140625]], [[0.91796875]], [[1.109375]], [[1.0]], [[0.53125]], [[0.8515625]], [[1.25]], [[1.0625]], [[1.03125]], [[1.6015625]], [[1.0859375]], [[0.89453125]], [[1.1171875]], [[0.71484375]], [[1.3046875]], [[1.1796875]], [[0.76953125]], [[1.3046875]], [[1.1953125]], [[0.8984375]], [[0.984375]], [[1.375]], [[1.5859375]], [[1.2578125]], [[1.171875]], [[1.1796875]], [[1.15625]], [[1.0546875]], [[0.9921875]], [[0.9921875]], [[1.1796875]], [[1.9921875]], [[1.328125]], [[1.703125]], [[1.4375]], [[2.4375]], [[1.15625]], [[1.921875]], [[2.765625]], [[0.8125]], [[0.828125]], [[1.09375]], [[0.7265625]], [[2.1875]], [[0.94921875]], [[0.734375]], [[1.1640625]], [[1.6953125]], [[1.25]], [[1.4609375]], [[1.6875]], [[0.359375]], [[1.0234375]], [[0.91015625]], [[0.6640625]], [[0.373046875]], [[0.23046875]], [[0.3046875]], [[1.5078125]]], [[[0.171875]], [[1.125]], [[1.2109375]], [[1.2890625]], [[1.015625]], [[1.0546875]], [[0.84765625]], [[0.80859375]], [[0.30859375]], [[0.2890625]], [[0.0]], [[0.0]], [[0.0]], [[0.0]], [[0.0]], [[0.062255859375]], [[0.3125]], [[0.181640625]], [[1.3046875]], [[0.72265625]], [[1.1875]], [[0.97265625]], [[1.6328125]], [[0.765625]], [[1.0546875]], [[0.37890625]], [[0.369140625]], [[0.80859375]], [[0.123046875]], [[0.37890625]], [[0.07177734375]], [[0.43359375]], [[1.0390625]], [[0.81640625]], [[1.109375]], [[0.53515625]], [[1.421875]], [[1.40625]], [[1.5859375]], [[2.1875]], [[1.0859375]], [[1.3515625]], [[1.5703125]], [[1.8984375]], [[1.84375]], [[1.5625]], [[2.046875]], [[2.59375]], [[1.4921875]], [[0.0]], [[1.2421875]], [[2.734375]], [[1.4765625]], [[1.09375]], [[2.0625]], [[1.8984375]], [[0.90234375]], [[1.5625]], [[0.75390625]], [[1.421875]], [[1.5859375]], [[1.7734375]], [[2.65625]], [[1.25]], [[1.265625]], [[1.984375]], [[1.0703125]], [[0.86328125]], [[1.7109375]], [[1.2109375]], [[2.265625]], [[1.328125]], [[1.203125]], [[1.71875]], [[1.5859375]], [[0.86328125]], [[0.875]], [[0.5546875]], [[0.76171875]], [[0.87890625]], [[0.85546875]], [[0.80078125]], [[0.361328125]], [[0.1640625]], [[0.66015625]], [[0.5234375]], [[0.73046875]], [[0.58984375]], [[0.515625]], [[0.41015625]], [[0.41015625]], [[0.275390625]], [[0.2265625]], [[0.244140625]], [[0.171875]], [[0.1396484375]], [[0.33203125]], [[0.2578125]], [[0.2421875]], [[0.283203125]], [[0.333984375]], [[0.2392578125]], [[0.35546875]], [[0.042724609375]], [[0.26953125]], [[0.416015625]], [[0.177734375]], [[0.1962890625]], [[0.08056640625]], [[0.357421875]], [[0.1064453125]], [[0.0]], [[0.0]], [[0.291015625]], [[0.43359375]], [[0.3984375]], [[0.349609375]], [[0.08984375]], [[0.26171875]], [[0.458984375]], [[0.2890625]], [[0.5234375]], [[0.11865234375]], [[0.10009765625]], [[0.4375]], [[0.08544921875]], [[0.146484375]], [[0.0]]], [[[0.0]], [[0.0]], [[0.0]], [[0.0]], [[0.0]], [[0.0]], [[0.0]], [[0.0]], [[0.0]], [[0.5859375]], [[0.53125]], [[0.09130859375]], [[0.27734375]], [[0.0]], [[0.2314453125]], [[0.00142669677734375]], [[0.0]], [[0.036865234375]], [[0.3203125]], [[0.2197265625]], [[0.37890625]], [[0.07666015625]], [[0.26953125]], [[0.455078125]], [[0.255859375]], [[0.12890625]], [[0.451171875]], [[0.13671875]], [[0.193359375]], [[0.30859375]], [[0.33984375]], [[0.3984375]], [[0.03125]], [[0.3046875]], [[0.291015625]], [[0.11767578125]], [[0.14453125]], [[0.2431640625]], [[0.40234375]], [[0.2431640625]], [[0.2197265625]], [[0.1328125]], [[0.11767578125]], [[0.0]], [[0.0]], [[0.0]], [[0.25390625]], [[1.0625]], [[0.9375]], [[0.9609375]], [[1.1875]], [[1.109375]], [[0.5859375]], [[0.54296875]], [[0.94921875]], [[0.267578125]], [[0.55859375]], [[0.671875]], [[0.71875]], [[0.703125]], [[0.240234375]], [[0.66015625]], [[0.93359375]], [[0.4765625]], [[0.0]], [[0.11181640625]], [[0.2353515625]], [[0.18359375]], [[0.306640625]], [[0.298828125]], [[0.1982421875]], [[0.421875]], [[0.671875]], [[0.0]], [[0.546875]], [[0.333984375]], [[0.189453125]], [[0.58984375]], [[0.90625]], [[1.671875]], [[0.828125]], [[0.75]], [[0.984375]], [[0.921875]], [[1.921875]], [[1.625]], [[1.9609375]], [[1.65625]], [[2.03125]], [[0.48828125]], [[0.5390625]], [[0.58203125]], [[1.34375]], [[2.0]], [[1.53125]], [[0.95703125]], [[0.66015625]], [[0.67578125]], [[1.09375]], [[0.81640625]], [[1.5546875]], [[1.109375]], [[0.8984375]], [[0.94921875]], [[0.8984375]], [[0.72265625]], [[0.71875]], [[0.97265625]], [[0.84375]], [[1.0625]], [[1.40625]], [[1.234375]], [[2.046875]], [[1.4609375]], [[2.421875]], [[1.921875]], [[2.234375]], [[2.3125]], [[2.59375]], [[1.1171875]], [[1.3359375]], [[1.6171875]], [[2.71875]], [[1.4375]], [[1.3515625]], [[1.34375]], [[1.0859375]], [[1.8125]]], [[[0.0]], [[0.0]], [[0.5078125]], [[1.34375]], [[0.71875]], [[0.068359375]], [[0.09619140625]], [[0.74609375]], [[1.1328125]], [[0.79296875]], [[0.6953125]], [[1.453125]], [[1.390625]], [[1.0078125]], [[0.205078125]], [[0.890625]], [[0.7421875]], [[1.4140625]], [[1.3515625]], [[1.75]], [[1.328125]], [[2.03125]], [[1.9375]], [[0.8046875]], [[2.34375]], [[1.1953125]], [[1.21875]], [[1.3359375]], [[0.7421875]], [[1.2265625]], [[2.203125]], [[1.765625]], [[1.46875]], [[1.9296875]], [[1.5234375]], [[1.5390625]], [[1.9296875]], [[1.234375]], [[2.265625]], [[2.03125]], [[1.8046875]], [[2.6875]], [[1.875]], [[2.109375]], [[1.7578125]], [[1.4609375]], [[1.21875]], [[2.53125]], [[1.453125]], [[1.96875]], [[1.171875]], [[2.109375]], [[1.4375]], [[1.578125]], [[2.234375]], [[1.2890625]], [[1.625]], [[1.4765625]], [[1.859375]], [[1.8671875]], [[1.1796875]], [[1.328125]], [[2.328125]], [[1.4765625]], [[2.078125]], [[2.359375]], [[1.1484375]], [[1.6171875]], [[1.9296875]], [[1.328125]], [[2.046875]], [[1.2890625]], [[1.4453125]], [[1.9140625]], [[1.6015625]], [[1.2578125]], [[1.015625]], [[0.94921875]], [[1.0625]], [[1.265625]], [[0.59375]], [[0.83203125]], [[0.86328125]], [[0.9453125]], [[0.89453125]], [[0.57421875]], [[0.69140625]], [[1.0]], [[0.875]], [[1.390625]], [[0.8984375]], [[0.8125]], [[0.52734375]], [[0.609375]], [[1.3671875]], [[0.91796875]], [[1.046875]], [[0.84765625]], [[0.58203125]], [[0.52734375]], [[1.390625]], [[1.09375]], [[1.2578125]], [[0.8828125]], [[1.0546875]], [[0.453125]], [[0.65625]], [[1.234375]], [[0.80078125]], [[0.796875]], [[1.515625]], [[1.4765625]], [[1.0078125]], [[0.515625]], [[0.482421875]], [[0.87109375]], [[0.76953125]], [[1.328125]], [[1.359375]], [[0.79296875]], [[1.1171875]], [[1.15625]], [[0.333984375]], [[0.984375]], [[1.6953125]], [[0.94140625]], [[0.474609375]], [[1.609375]]], [[[0.0]], [[0.0]], [[0.0]], [[0.0]], [[0.515625]], [[1.515625]], [[0.65234375]], [[0.64453125]], [[0.81640625]], [[1.3515625]], [[1.09375]], [[0.341796875]], [[0.33984375]], [[0.5703125]], [[0.0]], [[0.21875]], [[0.2060546875]], [[0.21484375]], [[0.1552734375]], [[0.0]], [[0.0]], [[1.5]], [[1.6953125]], [[2.34375]], [[1.015625]], [[0.91796875]], [[1.171875]], [[1.28125]], [[2.640625]], [[1.1875]], [[1.15625]], [[1.9296875]], [[1.6484375]], [[2.328125]], [[0.75]], [[2.359375]], [[2.203125]], [[0.90625]], [[1.46875]], [[1.015625]], [[1.4140625]], [[2.078125]], [[0.55078125]], [[0.88671875]], [[2.3125]], [[0.94140625]], [[1.234375]], [[1.171875]], [[1.2734375]], [[1.5703125]], [[0.59765625]], [[0.6484375]], [[1.4453125]], [[1.4609375]], [[1.1328125]], [[0.8828125]], [[2.0625]], [[0.80078125]], [[0.341796875]], [[0.34375]], [[0.61328125]], [[0.400390625]], [[0.0]], [[0.0]], [[0.0]], [[0.0]], [[0.0]], [[0.040283203125]], [[0.0]], [[0.296875]], [[0.0]], [[0.029296875]], [[1.4921875]], [[0.419921875]], [[1.390625]], [[1.1640625]], [[1.1796875]], [[2.0625]], [[1.53125]], [[1.2421875]], [[1.3125]], [[1.140625]], [[0.984375]], [[0.94921875]], [[1.1484375]], [[1.234375]], [[1.640625]], [[1.578125]], [[1.390625]], [[2.21875]], [[1.390625]], [[1.6875]], [[0.9609375]], [[1.8828125]], [[0.828125]], [[0.8984375]], [[1.2109375]], [[1.484375]], [[1.4453125]], [[0.396484375]], [[0.1953125]], [[0.45703125]], [[0.455078125]], [[0.72265625]], [[0.4609375]], [[0.53125]], [[0.279296875]], [[0.76171875]], [[0.48828125]], [[0.50390625]], [[0.83984375]], [[2.109375]], [[0.69140625]], [[0.578125]], [[0.84375]], [[0.2470703125]], [[0.2353515625]], [[0.275390625]], [[1.421875]], [[0.734375]], [[1.8671875]], [[0.1103515625]], [[1.390625]], [[1.0]], [[1.71875]], [[2.046875]], [[1.1015625]], [[0.52734375]]]], \"firstDimensionName\": \"Layer\", \"secondDimensionName\": \"Neuron\"}\n",
       "    )\n",
       "    </script>"
      ],
      "text/plain": [
       "<circuitsvis.utils.render.RenderedHTML at 0x7f45cc3c25d0>"
      ]
     },
     "metadata": {},
     "output_type": "display_data"
    },
    {
     "name": "stdout",
     "output_type": "stream",
     "text": [
      "Feature 3597:\n"
     ]
    },
    {
     "data": {
      "text/html": [
       "<div id=\"circuits-vis-3165ec41-679a\" style=\"margin: 15px 0;\"/>\n",
       "    <script crossorigin type=\"module\">\n",
       "    import { render, TextNeuronActivations } from \"https://unpkg.com/circuitsvis@1.41.0/dist/cdn/esm.js\";\n",
       "    render(\n",
       "      \"circuits-vis-3165ec41-679a\",\n",
       "      TextNeuronActivations,\n",
       "      {\"tokens\": [[\"sensitive\", \" issues\", \" and\", \" to\", \" select\", \" which\", \" portions\", \" of\", \" their\", \" narratives\", \" are\", \" appropriate\", \" for\", \" their\", \" children\", \" to\", \" hear\", \".\", \" Sometimes\", \" more\", \" than\", \" one\", \" session\", \" is\", \" required\", \" to\", \" model\", \" and\", \" practice\", \" the\", \" requisite\", \" skills\", \".\", \"\\n\", \"\\n\", \"The\", \" *\", \"first\", \" family\", \" session\", \"*\", \" is\", \" devoted\", \" to\", \" sharing\", \" family\", \" narratives\", \" and\", \" addressing\", \" differences\", \" in\", \" experiences\", \" and\", \" interpretations\", \" across\", \" the\", \" family\", \".\", \" This\", \" session\", \" usually\", \" has\", \" the\", \" children\", \" sharing\", \" their\", \" tim\", \"elines\", \" or\", \" tim\", \"em\", \"aps\", \" with\", \" the\", \" parents\", \" invited\", \" to\", \" share\", \" their\", \" experiences\", \" or\", \" clarify\", \" misunder\", \"stand\", \"ings\", \" or\", \" mis\", \"att\", \"ributions\", \".\", \" In\", \" the\", \" current\", \" example\", \",\", \" the\", \" father\", \" was\", \" relieved\", \" and\", \" actually\", \" touched\", \" to\", \" hear\", \" that\", \" his\", \" son\", \" avoided\", \" him\", \" when\", \" he\", \" said\", \" goodbye\", \" because\", \" he\", \" was\", \" so\", \" upset\", \" and\", \" afraid\", \" that\", \" he\", \" would\", \" disappoint\", \" his\", \" dad\", \" if\", \" he\"], [\"to\", \" fetch\", \" his\", \" sleeping\", \" bag\", \" but\", \" that\", \" he\", \" would\", \" meet\", \" her\", \" at\", \" 5\", \"am\", \" that\", \" morning\", \" to\", \" walk\", \" her\", \" back\", \" to\", \" E\", \"ust\", \"on\", \" station\", \",\", \" from\", \" where\", \" she\", \" could\", \" get\", \" on\", \" the\", \" first\", \" train\", \".\", \" She\", \" said\", \" she\", \" did\", \" not\", \" believe\", \" he\", \" would\", \" return\", \".\", \"\\n\", \"\\n\", \"But\", \" shortly\", \" after\", \" 5\", \"am\", \",\", \" Mark\", \" came\", \" running\", \" to\", \" the\", \" cafe\", \",\", \" having\", \" taken\", \" a\", \" bus\", \" to\", \" make\", \" sure\", \" he\", \" would\", \" be\", \" there\", \" to\", \" accompany\", \" her\", \" to\", \" the\", \" station\", \".\", \"\\n\", \"\\n\", \"Nic\", \"ole\", \" S\", \"edge\", \"be\", \"er\", \" was\", \" rescued\", \" by\", \" a\", \" homeless\", \" man\", \" at\", \" E\", \"ust\", \"on\", \" Station\", \" after\", \" she\", \" missed\", \" her\", \" last\", \" train\", \" home\", \" (\", \"Getty\", \" Images\", \")\", \"\\n\", \"\\n\", \"Nic\", \"ole\", \" wrote\", \":\", \" \\\"\", \"When\", \" I\", \" asked\", \" him\", \" why\", \" he\", \" did\", \" it\", \" he\", \" said\", \" '\", \"He\"], [\"Rol\", \"and\", \" Em\", \"mer\", \"ich\", \",\", \" but\", \" Christopher\", \" Nolan\", \"!\", \" The\", \" guy\", \" who\", \" made\", \" M\", \"ement\", \"o\", \" and\", \" Following\", \"!\", \"\\n\", \"\\n\", \"N\", \"olan\", \"'s\", \" next\", \" movie\", \" isn\", \"'t\", \" even\", \" announced\", \" yet\", \" and\", \" I\", \"'m\", \" already\", \" excited\", \" about\", \" it\", \",\", \" because\", \" I\", \" can\", \" look\", \" at\", \" his\", \" I\", \"MD\", \"b\", \" credits\", \" and\", \" see\", \" that\", \" he\", \" hasn\", \"'t\", \" made\", \" a\", \" bad\", \" film\", \".\", \" The\", \" last\", \" non\", \"-\", \"Bat\", \"man\", \" film\", \" he\", \" made\", \" was\", \" about\", \" dreams\", \",\", \" and\", \" the\", \" creative\", \" process\", \",\", \" and\", \" spinning\", \" tops\", \",\", \" I\", \" think\", \",\", \" and\", \" it\", \" was\", \" one\", \" of\", \" the\", \" most\", \" exciting\", \" action\", \" movies\", \" of\", \" the\", \" last\", \" 20\", \" years\", \".\", \" He\", \"'s\", \" in\", \" a\", \" position\", \" where\", \" literally\", \" every\", \" studio\", \" will\", \" open\", \" up\", \" their\", \" wal\", \"lets\", \" to\", \" fund\", \" any\", \" idea\", \" he\", \" has\", \",\", \" and\", \" every\", \" single\", \" A\"], [\"w\", \"earing\", \",\", \" though\", \",\", \" because\", \" it\", \"'s\", \" none\", \" of\", \" his\", \" business\", \" to\", \" tell\", \" girls\", \" what\", \" they\", \" should\", \" or\", \" should\", \" not\", \" wear\", \".\", \" His\", \" creepy\", \" thoughts\", \" are\", \" his\", \" own\", \" problem\", \",\", \" and\", \" he\", \" shouldn\", \"'t\", \" use\", \" his\", \" position\", \" of\", \" authority\", \" as\", \" an\", \" excuse\", \" to\", \" humili\", \"ate\", \" a\", \" girl\", \" and\", \" blame\", \" her\", \" for\", \" his\", \" sick\", \" attitude\", \".\", \"\\n\", \"\\n\", \"Our\", \" friend\", \",\", \" Ma\", \"ure\", \"en\", \" Herman\", \",\", \" dropped\", \" by\", \" our\", \" house\", \" today\", \" and\", \" we\", \" told\", \" her\", \" what\", \" happened\", \".\", \" Ma\", \"ure\", \"en\", \" is\", \" the\", \" bass\", \" player\", \" for\", \" Bab\", \"es\", \" in\", \" Toy\", \"land\", \",\", \" the\", \" executive\", \" Director\", \" of\", \" Project\", \" No\", \"ise\", \",\", \" and\", \" a\", \" co\", \"-\", \"founder\", \" of\", \" A\", \" is\", \" For\", \",\", \" a\", \" women\", \"'s\", \" rights\", \" advocacy\", \" group\", \".\", \" She\", \" wrote\", \" the\", \" following\", \" response\", \" on\", \" Facebook\", \",\", \" and\", \" it\", \" neatly\"], [\"the\", \" steps\", \" with\", \" his\", \" children\", \".\", \"\\n\", \"\\n\", \"\\\"\", \"Neil\", \" passed\", \" through\", \" during\", \" the\", \" '\", \"90\", \"s\", \" with\", \" his\", \" own\", \" actual\", \" family\", \",\", \" just\", \" to\", \" show\", \" his\", \" kids\", \" where\", \" he\", \" lived\", \" and\", \" where\", \" he\", \" grew\", \" up\", \",\\\"\", \" the\", \" real\", \"tor\", \" told\", \" the\", \" Toronto\", \" Star\", \".\", \" \\\"\", \"They\", \" knocked\", \" on\", \" the\", \" door\", \" and\", \" asked\", \" '\", \"Hey\", \",\", \" can\", \" I\", \" come\", \" in\", \"?'\", \"...\", \" So\", \" they\", \"'ve\", \" got\", \" pictures\", \" of\", \" Neil\", \" in\", \" the\", \" house\", \" and\", \" sitting\", \" on\", \" the\", \" steps\", \" and\", \" stuff\", \" like\", \" that\", \".\\\"\", \" The\", \" house\", \" is\", \" located\", \" near\", \" a\", \" river\", \" and\", \" train\", \" tracks\", \",\", \" undoubtedly\", \" inst\", \"illing\", \" Young\", \"'s\", \" lifelong\", \" fascination\", \" with\", \" both\", \".\", \"\\n\", \"\\n\", \"Law\", \"rence\", \" Park\", \" Colleg\", \"iate\", \" Institute\", \",\", \"\\n\", \"\\n\", \"125\", \" Chat\", \"sworth\", \" Dr\", \".,\", \" Toronto\", \"\\n\", \"\\n\", \"1959\", \"-\", \"1960\", \"\\n\", \"\\n\", \"On\"], [\"gl\", \"ad\", \" to\", \" see\", \" P\", \"arn\", \"ell\", \" go\", \" after\", \" some\", \" hit\", \"ters\", \".\", \"\\n\", \"\\n\", \"\\\"\", \"To\", \" see\", \" him\", \" out\", \" there\", \" for\", \" the\", \" first\", \" time\", \" and\", \" really\", \" see\", \" him\", \" let\", \" loose\", \" --\", \" he\", \"'s\", \" been\", \" a\", \" little\", \" tentative\", \" in\", \" the\", \" '\", \"pen\", \" and\", \" I\", \" understand\", \" it\", \",\\\"\", \" Collins\", \" said\", \".\", \" \\\"\", \"He\", \" threw\", \" the\", \" ball\", \" great\", \".\", \" The\", \" last\", \" five\", \" or\", \" six\", \" he\", \" let\", \" the\", \" ball\", \" go\", \" good\", \".\\\"\", \"\\n\", \"\\n\", \"L\", \"OOK\", \"ING\", \" A\", \"HEAD\", \"\\n\", \"\\n\", \"The\", \" Mets\", \" will\", \" host\", \" the\", \" Marl\", \"ins\", \" on\", \" Monday\", \",\", \" but\", \" they\", \" won\", \"'t\", \" face\", \" NL\", \" R\", \"ookie\", \" of\", \" the\", \" Year\", \" Jose\", \" Fern\", \"andez\", \",\", \" who\", \" pitched\", \" against\", \" New\", \" York\", \" in\", \" Port\", \" St\", \".\", \" Luc\", \"ie\", \" last\", \" Wednesday\", \".\", \" Miami\", \" manager\", \" Mike\", \" Red\", \"mond\", \" has\", \" opted\", \" to\", \" go\", \" with\", \" le\"], [\"and\", \" economic\", \" activities\", \".\", \" Ever\", \" pragmatic\", \",\", \" in\", \" the\", \" Pap\", \"al\", \" States\", \" he\", \" criticized\", \" past\", \" pop\", \"es\", \" and\", \" card\", \"inals\", \" for\", \" their\", \" in\", \"attention\", \" to\", \" public\", \" utilities\", \",\", \" even\", \" repro\", \"aching\", \" them\", \" for\", \" lav\", \"ishing\", \" money\", \" on\", \" works\", \" of\", \" art\", \" and\", \" on\", \" monuments\", \" (\", \"be\", \" they\", \" to\", \" Catholic\", \"ism\", \")\", \" at\", \" the\", \" expense\", \" of\", \" agriculture\", \",\", \" commerce\", \",\", \" and\", \" public\", \" health\", \".\", \" He\", \" was\", \" often\", \" scandal\", \"ized\", \" by\", \" nud\", \"ity\", \" in\", \" European\", \" painting\", \" and\", \" sculpture\", \",\", \" the\", \" more\", \" so\", \" in\", \" works\", \" on\", \" religious\", \" themes\", \" used\", \" in\", \" church\", \" decoration\", \".\", \" Yet\", \" he\", \" was\", \" sensitive\", \" to\", \" the\", \" power\", \" of\", \" religious\", \" architecture\", \" and\", \" art\", \" for\", \" ed\", \"ification\", \":\", \" the\", \" grand\", \"eur\", \" and\", \" beauty\", \" of\", \" Lower\", \" Canadian\", \" churches\", \" were\", \" sources\", \" of\", \" pride\", \" to\", \" him\", \",\", \" and\", \" he\", \" struggled\", \" to\", \" improve\", \" the\", \" quality\"], [\"radio\", \".\", \"\\n\", \"\\n\", \"From\", \" the\", \" Text\", \":\", \" \\u201c\", \"He\", \" thought\", \" his\", \" happiness\", \" was\", \" complete\", \" when\", \",\", \" as\", \" he\", \" me\", \"and\", \"ered\", \" aim\", \"lessly\", \" along\", \",\", \" suddenly\", \" he\", \" stood\", \" by\", \" the\", \" edge\", \" of\", \" a\", \" full\", \"-\", \"fed\", \" river\", \".\", \" Never\", \" in\", \" his\", \" life\", \" had\", \" he\", \" seen\", \" a\", \" river\", \" before\", \"\\u2014\", \"this\", \" sleek\", \",\", \" sin\", \"uous\", \",\", \" full\", \"-\", \"bod\", \"ied\", \" animal\", \",\", \" chasing\", \" and\", \" chuck\", \"ling\", \",\", \" gripping\", \" things\", \" with\", \" a\", \" g\", \"urg\", \"le\", \" and\", \" leaving\", \" them\", \" with\", \" a\", \" laugh\", \",\", \" to\", \" fl\", \"ing\", \" itself\", \" on\", \" fresh\", \" play\", \"mates\", \" that\", \" shook\", \" themselves\", \" free\", \",\", \" and\", \" were\", \" caught\", \" and\", \" held\", \" again\", \".\", \" All\", \" was\", \" a\", \"-\", \"shake\", \" and\", \" a\", \"-\", \"sh\", \"iver\", \"\\u2014\", \"gl\", \"ints\", \" and\", \" gle\", \"ams\", \" and\", \" spark\", \"les\", \",\", \" rust\", \"le\", \" and\", \" sw\", \"irl\", \",\", \" chatter\"], [\"by\", \",\", \" some\", \" noticing\", \" him\", \" and\", \" others\", \" either\", \" ignoring\", \" him\", \" intentionally\", \" or\", \" unaware\", \" that\", \" he\", \" was\", \" there\", \" or\", \" not\", \" caring\", \" whatsoever\", \".\", \" A\", \" sense\", \" of\", \" bew\", \"ilder\", \"ment\", \" came\", \" over\", \" him\", \".\", \" He\", \" had\", \" expected\", \" too\", \" much\", \" of\", \" the\", \" people\", \" of\", \" Te\", \"irl\", \"in\", \"\\u2019\", \"pur\", \".\", \" He\", \" expected\", \" sav\", \"ages\", \" as\", \" evil\", \" and\", \" man\", \"iac\", \"al\", \" as\", \" L\", \"uth\", \"ien\", \",\", \" yet\", \" here\", \" he\", \" could\", \" clearly\", \" see\", \" that\", \" the\", \" people\", \" of\", \" Te\", \"irl\", \"in\", \"\\u2019\", \"pur\", \" were\", \" actually\", \" not\", \" unlike\", \" the\", \" people\", \" of\", \" Ar\", \"lin\", \"City\", \",\", \" despite\", \" the\", \" difference\", \" in\", \" races\", \".\", \" People\", \" here\", \" seemed\", \" so\", \" alike\", \" to\", \" the\", \" people\", \" of\", \" Ar\", \"lin\", \"City\", \" in\", \" how\", \" they\", \" moved\", \" and\", \" acted\", \".\", \" They\", \" walked\", \" and\", \" talked\", \" amongst\", \" themselves\", \" as\", \" if\", \" no\", \" war\", \" had\", \" ever\", \" been\", \" started\", \",\"], [\"we\", \" visit\", \" this\", \" superb\", \" venue\", \" John\", \" always\", \" makes\", \" sure\", \" all\", \" the\", \" chairs\", \" are\", \" out\", \" and\", \" no\", \" request\", \" is\", \" too\", \" small\", \" for\", \" him\", \" to\", \" help\", \" us\", \" with\", \".\", \"\\n\", \"\\n\", \"One\", \" of\", \" the\", \" most\", \" incredible\", \" occurrences\", \" that\", \" happened\", \" at\", \" The\", \" Old\", \" Nick\", \" was\", \" when\", \" a\", \" group\", \" of\", \" ghost\", \" hunters\", \" were\", \" calling\", \" in\", \" a\", \" circle\", \" around\", \" a\", \" table\", \" out\", \" in\", \" the\", \" theatre\", \",\", \" when\", \" all\", \" of\", \" a\", \" sudden\", \" in\", \" the\", \" corner\", \" of\", \" the\", \" room\", \" a\", \" really\", \" loud\", \" noise\", \" was\", \" heard\", \",\", \" immediately\", \" Simply\", \" Ghost\", \" N\", \"ights\", \" experienced\", \" paran\", \"ormal\", \" investigator\", \" Mark\", \" shone\", \" his\", \" torch\", \" in\", \" the\", \" area\", \" of\", \" the\", \" noise\", \" and\", \" to\", \" his\", \" and\", \" Rose\", \"y\", \"'s\", \",\", \" Martin\", \",\", \" Hannah\", \",\", \" Sue\", \"'s\", \" and\", \" M\", \"andy\", \"'s\", \" aston\", \"ishment\", \" they\", \" all\", \" clearly\", \" saw\", \" a\", \" chair\", \" moving\", \" as\", \" if\", \" it\"]], \"activations\": [[[[0.0]], [[0.0]], [[0.0]], [[0.0]], [[0.0]], [[0.0]], [[0.0]], [[0.0]], [[0.0]], [[0.0]], [[0.0]], [[0.04345703125]], [[0.0]], [[0.0]], [[0.0]], [[0.0]], [[0.0]], [[0.0]], [[0.0]], [[0.0]], [[0.0]], [[0.0]], [[0.0]], [[0.0]], [[0.0]], [[0.0]], [[0.0]], [[0.0]], [[0.0]], [[0.0]], [[0.0]], [[0.0]], [[0.0]], [[0.0]], [[0.0]], [[0.0]], [[0.0]], [[0.0]], [[0.0]], [[0.0]], [[0.0]], [[0.0]], [[0.0]], [[0.0]], [[0.0]], [[0.0]], [[0.0]], [[0.0]], [[0.0]], [[0.0]], [[0.0]], [[0.0]], [[0.0]], [[0.0]], [[0.0]], [[0.0]], [[0.0]], [[0.0]], [[0.0]], [[0.0]], [[0.0]], [[0.0]], [[0.0]], [[0.0]], [[0.0]], [[0.0]], [[0.0]], [[0.0]], [[0.0]], [[0.0]], [[0.0]], [[0.0]], [[0.0]], [[0.0]], [[0.0]], [[0.0]], [[0.0]], [[0.0]], [[0.0]], [[0.0]], [[0.0]], [[0.0]], [[0.0]], [[0.0]], [[0.0]], [[0.0]], [[0.0]], [[0.0]], [[0.0]], [[0.0]], [[0.0]], [[0.0]], [[0.0]], [[0.0]], [[0.0]], [[0.0]], [[0.0]], [[0.13671875]], [[0.46875]], [[0.2041015625]], [[0.50390625]], [[0.6484375]], [[0.8125]], [[0.82421875]], [[0.75390625]], [[0.271484375]], [[0.56640625]], [[1.0]], [[0.4296875]], [[1.8515625]], [[0.5546875]], [[0.96875]], [[0.71484375]], [[1.9296875]], [[0.71484375]], [[1.0]], [[0.86328125]], [[1.4140625]], [[1.2578125]], [[1.859375]], [[2.46875]], [[0.90625]], [[1.296875]], [[1.984375]], [[0.59765625]], [[0.91796875]], [[2.140625]], [[0.796875]]], [[[0.0]], [[0.0]], [[0.0]], [[0.1845703125]], [[0.1884765625]], [[0.1875]], [[0.60546875]], [[0.416015625]], [[0.8125]], [[1.53125]], [[0.60546875]], [[0.8984375]], [[0.84765625]], [[0.287109375]], [[1.0078125]], [[0.890625]], [[0.66015625]], [[0.78515625]], [[0.369140625]], [[0.287109375]], [[0.59375]], [[0.062255859375]], [[0.0]], [[0.2041015625]], [[0.1396484375]], [[0.515625]], [[0.46875]], [[0.82421875]], [[0.1337890625]], [[0.21875]], [[0.333984375]], [[0.55859375]], [[0.07275390625]], [[0.2314453125]], [[0.298828125]], [[0.0]], [[0.087890625]], [[0.1826171875]], [[0.09521484375]], [[0.0]], [[0.0]], [[0.5078125]], [[0.154296875]], [[0.5625]], [[0.8203125]], [[0.64453125]], [[0.07080078125]], [[0.15625]], [[0.455078125]], [[0.060546875]], [[0.515625]], [[0.1591796875]], [[0.05712890625]], [[0.013916015625]], [[0.0]], [[0.1591796875]], [[0.41015625]], [[0.5546875]], [[0.0]], [[0.039794921875]], [[0.265625]], [[0.515625]], [[0.365234375]], [[0.11181640625]], [[0.099609375]], [[0.1484375]], [[0.33984375]], [[0.80859375]], [[0.33984375]], [[0.59375]], [[0.435546875]], [[0.5]], [[0.5]], [[0.69140625]], [[0.0537109375]], [[0.275390625]], [[0.0]], [[0.162109375]], [[0.373046875]], [[0.296875]], [[0.1328125]], [[0.09228515625]], [[0.0]], [[0.0]], [[0.0]], [[0.0]], [[0.0]], [[0.0]], [[0.0]], [[0.0]], [[0.0]], [[0.0]], [[0.0]], [[0.0]], [[0.0]], [[0.0]], [[0.0]], [[0.0]], [[0.03857421875]], [[0.0]], [[0.0]], [[0.0]], [[0.0]], [[0.0]], [[0.0]], [[0.01007080078125]], [[0.0]], [[0.0]], [[0.0]], [[0.0]], [[0.0]], [[0.0]], [[0.0]], [[0.0]], [[0.0]], [[0.0]], [[0.0]], [[0.0]], [[0.0]], [[0.1494140625]], [[2.390625]], [[0.4765625]], [[0.69140625]], [[0.8984375]], [[0.65625]], [[1.2265625]], [[0.50390625]], [[0.057861328125]]], [[[0.0]], [[0.0]], [[0.0]], [[0.0]], [[0.0]], [[0.0]], [[0.0]], [[0.0]], [[0.224609375]], [[0.13671875]], [[0.138671875]], [[0.1826171875]], [[0.23828125]], [[0.7421875]], [[0.043701171875]], [[0.0]], [[0.25]], [[0.384765625]], [[0.51171875]], [[0.236328125]], [[0.0]], [[0.0]], [[0.0]], [[0.0]], [[0.17578125]], [[0.220703125]], [[0.494140625]], [[0.423828125]], [[0.423828125]], [[0.431640625]], [[0.240234375]], [[0.28125]], [[0.73828125]], [[0.5703125]], [[0.1953125]], [[0.053466796875]], [[0.07958984375]], [[0.2470703125]], [[0.05029296875]], [[0.0]], [[0.36328125]], [[0.328125]], [[0.208984375]], [[0.034423828125]], [[0.20703125]], [[0.036376953125]], [[0.40625]], [[0.0]], [[0.11376953125]], [[0.8046875]], [[0.9375]], [[2.28125]], [[1.34375]], [[0.177734375]], [[0.0478515625]], [[0.41015625]], [[0.875]], [[0.5]], [[0.4375]], [[0.734375]], [[0.71484375]], [[0.85546875]], [[0.5078125]], [[0.1923828125]], [[0.0]], [[0.0]], [[0.12158203125]], [[0.48046875]], [[0.07666015625]], [[0.80859375]], [[0.8203125]], [[0.84375]], [[0.50390625]], [[0.63671875]], [[1.3125]], [[0.76953125]], [[0.09423828125]], [[0.77734375]], [[0.390625]], [[1.0703125]], [[0.28125]], [[0.3125]], [[0.314453125]], [[0.3828125]], [[0.6640625]], [[0.486328125]], [[0.81640625]], [[0.5625]], [[0.56640625]], [[0.5390625]], [[0.357421875]], [[0.134765625]], [[0.29296875]], [[0.234375]], [[0.0673828125]], [[0.1298828125]], [[0.279296875]], [[0.11083984375]], [[0.0]], [[0.0]], [[0.30078125]], [[0.458984375]], [[0.02490234375]], [[0.6171875]], [[0.490234375]], [[0.6328125]], [[0.421875]], [[1.0625]], [[0.74609375]], [[0.58984375]], [[0.5234375]], [[0.67578125]], [[0.4453125]], [[0.51953125]], [[0.10693359375]], [[0.09814453125]], [[0.6015625]], [[0.4609375]], [[0.61328125]], [[0.16796875]], [[0.359375]], [[0.0]], [[0.34375]], [[0.59765625]], [[1.0859375]], [[0.61328125]], [[0.74609375]], [[0.0]]], [[[0.0]], [[0.0]], [[0.0]], [[0.0]], [[0.059814453125]], [[0.00982666015625]], [[0.0]], [[0.10009765625]], [[0.0]], [[0.0]], [[0.0]], [[0.0654296875]], [[0.65625]], [[1.34375]], [[0.5625]], [[0.83984375]], [[0.255859375]], [[0.57421875]], [[0.232421875]], [[0.404296875]], [[0.20703125]], [[0.349609375]], [[0.0]], [[0.26953125]], [[0.83203125]], [[1.0859375]], [[1.296875]], [[0.482421875]], [[0.55859375]], [[0.86328125]], [[1.4765625]], [[2.265625]], [[0.318359375]], [[0.74609375]], [[0.98828125]], [[1.4453125]], [[0.48828125]], [[1.0078125]], [[0.7890625]], [[0.7578125]], [[1.5234375]], [[0.70703125]], [[1.0859375]], [[1.015625]], [[0.7265625]], [[1.640625]], [[0.6484375]], [[1.015625]], [[1.265625]], [[0.94140625]], [[0.59375]], [[0.5703125]], [[0.11767578125]], [[0.474609375]], [[0.74609375]], [[1.2109375]], [[0.466796875]], [[0.859375]], [[0.55859375]], [[0.259765625]], [[0.06298828125]], [[0.11767578125]], [[0.08251953125]], [[0.0]], [[0.0830078125]], [[0.27734375]], [[0.400390625]], [[0.2890625]], [[0.376953125]], [[0.140625]], [[0.1708984375]], [[0.1513671875]], [[0.310546875]], [[0.10546875]], [[0.0]], [[0.25390625]], [[0.296875]], [[0.208984375]], [[0.0]], [[0.0]], [[0.0]], [[0.0]], [[0.0]], [[0.0]], [[0.0]], [[0.302734375]], [[0.1826171875]], [[0.052001953125]], [[0.333984375]], [[0.1962890625]], [[0.232421875]], [[0.3359375]], [[0.1513671875]], [[0.0]], [[0.0]], [[0.0]], [[0.2392578125]], [[0.244140625]], [[0.203125]], [[0.0888671875]], [[0.416015625]], [[0.1259765625]], [[0.007598876953125]], [[0.0]], [[0.0]], [[0.0654296875]], [[0.0]], [[0.15625]], [[0.0]], [[0.248046875]], [[0.0286865234375]], [[0.0]], [[0.0]], [[0.0]], [[0.0]], [[0.0]], [[0.041259765625]], [[0.0]], [[0.0]], [[0.11181640625]], [[0.5625]], [[0.27734375]], [[0.36328125]], [[0.3046875]], [[0.251953125]], [[0.197265625]], [[0.22265625]], [[0.0]]], [[[0.0]], [[0.0]], [[0.0]], [[0.0]], [[0.1650390625]], [[0.0]], [[0.0]], [[0.037353515625]], [[0.0]], [[0.0]], [[0.408203125]], [[0.55078125]], [[0.443359375]], [[0.04150390625]], [[0.1748046875]], [[0.0654296875]], [[0.0361328125]], [[0.4609375]], [[0.0]], [[0.44921875]], [[0.25390625]], [[0.4765625]], [[0.41796875]], [[0.294921875]], [[0.44140625]], [[1.328125]], [[0.1904296875]], [[0.48046875]], [[1.2578125]], [[0.384765625]], [[0.419921875]], [[1.4296875]], [[2.234375]], [[0.361328125]], [[0.828125]], [[0.55078125]], [[0.373046875]], [[0.0]], [[0.14453125]], [[0.06689453125]], [[0.5390625]], [[0.06640625]], [[0.1533203125]], [[0.0]], [[0.1875]], [[0.66796875]], [[0.89453125]], [[0.5859375]], [[0.64453125]], [[0.09716796875]], [[0.271484375]], [[0.6796875]], [[0.83984375]], [[0.09521484375]], [[0.0]], [[0.0]], [[0.0]], [[0.0]], [[0.0]], [[0.0]], [[0.0]], [[0.1787109375]], [[0.1201171875]], [[0.0]], [[0.037353515625]], [[0.0]], [[0.171875]], [[0.388671875]], [[0.012939453125]], [[0.431640625]], [[0.27734375]], [[0.171875]], [[0.33984375]], [[0.0]], [[0.51171875]], [[0.0]], [[0.1796875]], [[0.03564453125]], [[0.140625]], [[0.3671875]], [[0.07080078125]], [[0.51171875]], [[0.1962890625]], [[0.34375]], [[0.31640625]], [[0.0]], [[0.2177734375]], [[0.0]], [[0.0]], [[0.1181640625]], [[0.0]], [[0.0]], [[0.037353515625]], [[0.0050048828125]], [[0.0]], [[0.150390625]], [[0.0]], [[0.142578125]], [[0.380859375]], [[0.50390625]], [[0.61328125]], [[0.515625]], [[0.431640625]], [[0.388671875]], [[0.189453125]], [[0.0]], [[0.0]], [[0.0]], [[0.01220703125]], [[0.08984375]], [[0.201171875]], [[0.1103515625]], [[0.02587890625]], [[0.2109375]], [[0.0]], [[0.0]], [[0.0]], [[0.0]], [[0.0]], [[0.0]], [[0.0]], [[0.037841796875]], [[0.0]], [[0.1552734375]], [[0.0]], [[0.0]], [[0.005859375]], [[0.0]]], [[[0.0]], [[0.0]], [[0.0]], [[0.0]], [[0.0]], [[0.0]], [[0.0]], [[0.1103515625]], [[0.65234375]], [[0.1318359375]], [[0.0732421875]], [[0.07470703125]], [[0.0]], [[0.0]], [[0.0]], [[0.0]], [[0.0]], [[0.1015625]], [[0.322265625]], [[0.59375]], [[0.41015625]], [[1.09375]], [[0.52734375]], [[0.36328125]], [[0.66015625]], [[1.109375]], [[0.48046875]], [[2.234375]], [[0.6640625]], [[1.765625]], [[0.9296875]], [[0.546875]], [[0.435546875]], [[1.015625]], [[0.9609375]], [[0.86328125]], [[0.7734375]], [[0.87890625]], [[1.4921875]], [[0.9375]], [[0.6328125]], [[0.2294921875]], [[0.78515625]], [[0.66796875]], [[1.1640625]], [[0.296875]], [[0.41796875]], [[0.0]], [[0.45703125]], [[0.423828125]], [[0.80859375]], [[0.53125]], [[1.2734375]], [[0.7421875]], [[0.640625]], [[0.828125]], [[0.89453125]], [[0.90234375]], [[0.74609375]], [[0.56640625]], [[0.466796875]], [[0.52734375]], [[0.31640625]], [[1.5703125]], [[0.6171875]], [[0.7109375]], [[0.67578125]], [[0.83203125]], [[0.59765625]], [[0.263671875]], [[0.06884765625]], [[0.0]], [[0.0]], [[0.0]], [[0.0]], [[0.0]], [[0.0]], [[0.0]], [[0.0]], [[0.0]], [[0.0]], [[0.0]], [[0.0]], [[0.00174713134765625]], [[0.0]], [[0.0]], [[0.0]], [[0.0]], [[0.0]], [[0.0]], [[0.0]], [[0.0]], [[0.0]], [[0.0]], [[0.0]], [[0.0]], [[0.0]], [[0.0]], [[0.0]], [[0.0023651123046875]], [[0.0]], [[0.0]], [[0.0252685546875]], [[0.1298828125]], [[0.482421875]], [[0.38671875]], [[0.1220703125]], [[0.0157470703125]], [[0.1484375]], [[0.0]], [[0.0]], [[0.0]], [[0.09033203125]], [[0.0]], [[0.02294921875]], [[0.1796875]], [[0.0]], [[0.0]], [[0.0]], [[0.0]], [[0.0]], [[0.0]], [[0.19921875]], [[0.0]], [[0.216796875]], [[0.255859375]], [[0.58203125]], [[0.15234375]]], [[[0.0]], [[0.0]], [[0.0]], [[0.0]], [[0.0]], [[0.0]], [[0.06591796875]], [[0.12890625]], [[0.0234375]], [[0.0]], [[0.0]], [[0.09619140625]], [[0.038330078125]], [[1.09375]], [[0.54296875]], [[0.0]], [[0.396484375]], [[0.365234375]], [[0.138671875]], [[0.703125]], [[0.287109375]], [[0.259765625]], [[0.173828125]], [[0.478515625]], [[0.66015625]], [[0.26953125]], [[0.3671875]], [[0.5625]], [[0.51953125]], [[0.0]], [[0.921875]], [[0.404296875]], [[0.33203125]], [[0.0]], [[0.43359375]], [[0.734375]], [[0.703125]], [[0.40625]], [[0.2412109375]], [[0.498046875]], [[0.349609375]], [[0.70703125]], [[0.6015625]], [[0.734375]], [[0.12451171875]], [[0.09326171875]], [[0.33984375]], [[0.203125]], [[0.31640625]], [[0.703125]], [[0.49609375]], [[0.1806640625]], [[0.271484375]], [[0.478515625]], [[0.298828125]], [[0.2080078125]], [[0.17578125]], [[0.0]], [[0.0]], [[0.0]], [[0.1865234375]], [[0.451171875]], [[0.294921875]], [[0.5703125]], [[0.5078125]], [[0.439453125]], [[1.0859375]], [[0.88671875]], [[0.1748046875]], [[0.86328125]], [[0.9609375]], [[0.291015625]], [[0.7734375]], [[0.57421875]], [[0.73828125]], [[0.79296875]], [[0.283203125]], [[0.30859375]], [[0.5703125]], [[0.7734375]], [[0.6015625]], [[0.66796875]], [[0.283203125]], [[0.48828125]], [[0.51953125]], [[0.8125]], [[0.359375]], [[0.3671875]], [[0.80078125]], [[1.046875]], [[0.09423828125]], [[0.55859375]], [[0.81640625]], [[0.98828125]], [[0.53515625]], [[0.65234375]], [[0.71875]], [[0.380859375]], [[1.0234375]], [[0.6953125]], [[0.455078125]], [[0.67578125]], [[0.2138671875]], [[0.625]], [[0.71484375]], [[0.232421875]], [[0.06689453125]], [[0.38671875]], [[0.0]], [[0.353515625]], [[0.1337890625]], [[0.0]], [[0.0]], [[0.38671875]], [[0.455078125]], [[0.18359375]], [[0.380859375]], [[0.185546875]], [[0.396484375]], [[0.451171875]], [[1.015625]], [[2.1875]], [[0.4296875]], [[0.87109375]], [[0.92578125]], [[1.3046875]], [[0.59375]], [[0.78515625]]], [[[0.0]], [[0.0]], [[0.0]], [[0.0]], [[0.0]], [[0.0]], [[0.0]], [[0.0]], [[0.0]], [[0.0]], [[1.2421875]], [[0.62890625]], [[0.8828125]], [[1.09375]], [[0.99609375]], [[2.140625]], [[1.28125]], [[1.5546875]], [[0.37890625]], [[0.57421875]], [[0.71875]], [[0.75390625]], [[0.35546875]], [[0.62890625]], [[0.91015625]], [[0.82421875]], [[0.95703125]], [[0.65234375]], [[0.51953125]], [[1.3046875]], [[0.54296875]], [[0.69921875]], [[1.0703125]], [[0.408203125]], [[0.37890625]], [[0.0]], [[0.67578125]], [[0.466796875]], [[1.09375]], [[1.3671875]], [[1.2578125]], [[0.345703125]], [[1.2734375]], [[1.0546875]], [[0.5859375]], [[1.484375]], [[0.75]], [[0.94921875]], [[1.5078125]], [[0.875]], [[0.859375]], [[0.373046875]], [[0.296875]], [[0.4140625]], [[0.5859375]], [[0.34765625]], [[0.17578125]], [[0.00958251953125]], [[0.16796875]], [[0.69140625]], [[0.63671875]], [[0.890625]], [[0.94921875]], [[0.60546875]], [[0.380859375]], [[0.62109375]], [[0.6953125]], [[0.9296875]], [[0.98046875]], [[0.796875]], [[0.47265625]], [[0.140625]], [[0.040771484375]], [[0.55859375]], [[0.4921875]], [[0.72265625]], [[0.7109375]], [[0.6640625]], [[0.3203125]], [[0.50390625]], [[0.6796875]], [[0.60546875]], [[0.11767578125]], [[0.75390625]], [[0.671875]], [[0.82421875]], [[0.451171875]], [[0.46875]], [[0.6953125]], [[0.8203125]], [[0.66796875]], [[0.5546875]], [[0.291015625]], [[0.328125]], [[0.94921875]], [[0.58203125]], [[0.162109375]], [[0.0]], [[0.7265625]], [[0.349609375]], [[0.5390625]], [[0.6796875]], [[0.42578125]], [[0.126953125]], [[0.0]], [[0.267578125]], [[0.267578125]], [[0.16796875]], [[0.0]], [[0.0]], [[0.373046875]], [[0.37109375]], [[0.0]], [[0.072265625]], [[0.158203125]], [[0.0]], [[0.1298828125]], [[0.053955078125]], [[0.1533203125]], [[0.2216796875]], [[0.007049560546875]], [[0.04052734375]], [[0.12890625]], [[0.0]], [[0.0]], [[0.0]], [[0.04833984375]], [[0.1689453125]]], [[[0.0]], [[0.0]], [[0.0]], [[0.0]], [[0.443359375]], [[0.984375]], [[0.33984375]], [[0.0]], [[1.0546875]], [[0.4609375]], [[0.6875]], [[1.0625]], [[1.0625]], [[1.0859375]], [[0.51171875]], [[0.8203125]], [[0.74609375]], [[1.359375]], [[0.796875]], [[1.0546875]], [[1.109375]], [[0.0]], [[0.64453125]], [[0.400390625]], [[0.64453125]], [[0.0]], [[0.50390625]], [[0.55078125]], [[0.57421875]], [[0.76953125]], [[0.6875]], [[0.92578125]], [[0.86328125]], [[1.1484375]], [[2.140625]], [[0.9765625]], [[1.4296875]], [[1.84375]], [[1.1875]], [[1.71875]], [[1.234375]], [[0.24609375]], [[0.007110595703125]], [[0.34765625]], [[1.0390625]], [[0.2177734375]], [[1.203125]], [[0.7265625]], [[1.75]], [[0.47265625]], [[1.421875]], [[1.4921875]], [[0.87890625]], [[1.0625]], [[0.640625]], [[0.84375]], [[0.53515625]], [[1.40625]], [[0.1435546875]], [[0.2265625]], [[0.5859375]], [[1.1171875]], [[1.671875]], [[1.46875]], [[0.427734375]], [[0.9921875]], [[0.93359375]], [[1.7265625]], [[1.359375]], [[0.80859375]], [[1.0]], [[0.53125]], [[0.400390625]], [[0.30859375]], [[0.41796875]], [[0.75]], [[0.361328125]], [[0.51171875]], [[0.388671875]], [[0.2080078125]], [[0.8984375]], [[0.515625]], [[0.2890625]], [[0.470703125]], [[0.0]], [[0.34375]], [[0.439453125]], [[0.50390625]], [[0.64453125]], [[0.3125]], [[0.79296875]], [[0.62109375]], [[0.28515625]], [[0.9296875]], [[0.4921875]], [[0.427734375]], [[0.0]], [[0.0]], [[0.3515625]], [[0.376953125]], [[0.185546875]], [[0.0986328125]], [[0.26171875]], [[0.0]], [[0.11474609375]], [[0.318359375]], [[0.318359375]], [[0.41015625]], [[0.0]], [[0.1611328125]], [[0.482421875]], [[0.041015625]], [[0.84765625]], [[0.341796875]], [[0.251953125]], [[0.47265625]], [[0.1748046875]], [[0.359375]], [[0.2578125]], [[0.25390625]], [[0.154296875]], [[0.031494140625]], [[0.0]], [[0.0]], [[0.031494140625]], [[0.032470703125]], [[0.09033203125]], [[0.2216796875]]], [[[0.0]], [[0.0]], [[0.0]], [[0.0]], [[0.0]], [[0.091796875]], [[0.52734375]], [[0.72265625]], [[0.474609375]], [[0.515625]], [[0.2421875]], [[0.44921875]], [[0.39453125]], [[0.0]], [[0.0]], [[0.0]], [[0.0]], [[0.054443359375]], [[0.01129150390625]], [[0.0]], [[0.1025390625]], [[0.455078125]], [[1.0625]], [[2.125]], [[1.3359375]], [[1.6484375]], [[0.0]], [[0.765625]], [[0.359375]], [[0.40234375]], [[0.193359375]], [[0.0]], [[0.29296875]], [[0.427734375]], [[0.359375]], [[0.60546875]], [[0.1884765625]], [[0.1982421875]], [[0.0]], [[0.0]], [[0.0]], [[0.16015625]], [[0.57421875]], [[0.28125]], [[0.212890625]], [[0.275390625]], [[0.259765625]], [[0.34765625]], [[0.0]], [[0.333984375]], [[0.2109375]], [[0.0693359375]], [[0.2431640625]], [[0.70703125]], [[0.080078125]], [[0.1787109375]], [[0.0]], [[0.10302734375]], [[0.0]], [[0.0]], [[0.028564453125]], [[0.1005859375]], [[0.1982421875]], [[0.1357421875]], [[0.0]], [[0.0206298828125]], [[0.07568359375]], [[0.0]], [[0.26171875]], [[0.2333984375]], [[0.0]], [[0.1611328125]], [[0.0]], [[0.0]], [[0.0]], [[0.068359375]], [[0.271484375]], [[0.1513671875]], [[0.259765625]], [[0.0]], [[0.09912109375]], [[0.0252685546875]], [[0.0]], [[0.2177734375]], [[0.0]], [[0.1337890625]], [[0.0]], [[0.0140380859375]], [[0.1474609375]], [[0.314453125]], [[0.0]], [[0.482421875]], [[0.51171875]], [[0.130859375]], [[0.4296875]], [[0.404296875]], [[0.09765625]], [[0.134765625]], [[0.498046875]], [[0.37109375]], [[0.0]], [[0.80078125]], [[0.057373046875]], [[0.1640625]], [[0.0]], [[0.439453125]], [[0.279296875]], [[0.453125]], [[0.271484375]], [[0.310546875]], [[0.166015625]], [[0.0]], [[0.443359375]], [[0.130859375]], [[0.0]], [[0.0]], [[0.69921875]], [[0.240234375]], [[0.287109375]], [[0.09326171875]], [[0.05712890625]], [[0.2138671875]], [[0.032470703125]], [[0.07763671875]], [[0.2041015625]], [[0.125]], [[0.2255859375]], [[0.10400390625]]]], \"firstDimensionName\": \"Layer\", \"secondDimensionName\": \"Neuron\"}\n",
       "    )\n",
       "    </script>"
      ],
      "text/plain": [
       "<circuitsvis.utils.render.RenderedHTML at 0x7f45d4316bd0>"
      ]
     },
     "metadata": {},
     "output_type": "display_data"
    },
    {
     "name": "stdout",
     "output_type": "stream",
     "text": [
      "Feature 4648:\n"
     ]
    },
    {
     "data": {
      "text/html": [
       "<div id=\"circuits-vis-2f97b8a1-0423\" style=\"margin: 15px 0;\"/>\n",
       "    <script crossorigin type=\"module\">\n",
       "    import { render, TextNeuronActivations } from \"https://unpkg.com/circuitsvis@1.41.0/dist/cdn/esm.js\";\n",
       "    render(\n",
       "      \"circuits-vis-2f97b8a1-0423\",\n",
       "      TextNeuronActivations,\n",
       "      {\"tokens\": [[\"Kate\", \" Midd\", \"leton\", \" says\", \" she\", \" prefers\", \" bacon\", \" to\", \" pepper\", \"oni\", \" on\", \" pizza\", \" because\", \" it\", \"'s\", \" less\", \" spicy\", \",\", \" and\", \" people\", \" are\", \" in\", \" shock\", \"\\n\", \"\\n\", \"The\", \" Duchess\", \" of\", \" Cambridge\", \" makes\", \" pizza\", \" with\", \" children\", \" in\", \" north\", \" London\", \".\", \"\\n\", \"AP\", \" Images\", \"\\n\", \"\\n\", \"The\", \" Duchess\", \" of\", \" Cambridge\", \" prefers\", \" bacon\", \" on\", \" pizza\", \" than\", \" pepper\", \"oni\", \" because\", \" it\", \"'s\", \" less\", \" \\\"\", \"sp\", \"icy\", \".\\\"\", \"\\n\", \"\\n\", \"Kate\", \" made\", \" the\", \" controversial\", \" remark\", \" while\", \" making\", \" pizza\", \" with\", \" some\", \" children\", \" in\", \" north\", \" London\", \".\", \"\\n\", \"\\n\", \"Many\", \" people\", \" have\", \" expressed\", \" shock\", \" at\", \" her\", \" comments\", \".\", \"\\n\", \"\\n\", \"The\", \" Duchess\", \" of\", \" Cambridge\", \" has\", \" revealed\", \" her\", \" pizza\", \" preference\", \" \\u2014\", \" and\", \" her\", \" thoughts\", \" have\", \" raised\", \" some\", \" eyebrows\", \".\", \"\\n\", \"\\n\", \"Kate\", \" Midd\", \"leton\", \" said\", \" she\", \" prefers\", \" having\", \" bacon\", \" than\", \" pepper\", \"oni\", \" on\", \" her\", \" pizza\", \" because\", \" it\", \"'s\"], [\"Part\", \"ner\", \" and\", \" Pro\", \"ducer\", \" at\", \" M\", \"town\", \" Films\", \".\", \" She\", \" is\", \" an\", \" independent\", \" film\", \" producer\", \",\", \" actress\", \",\", \" writer\", \",\", \" educ\", \"ator\", \",\", \" dancer\", \",\", \" and\", \" former\", \" talent\", \" manager\", \" for\", \" Los\", \" Angeles\", \" and\", \" New\", \" York\", \".\", \" With\", \" her\", \" B\", \".\", \"A\", \".,\", \" M\", \".\", \"A\", \".,\", \" and\", \" her\", \" advanced\", \" Doctor\", \"al\", \" studies\", \" (\", \"AB\", \"D\", \")\", \" toward\", \" her\", \" Ph\", \".\", \"D\", \".\", \" in\", \" English\", \" special\", \"izing\", \" Shakespeare\", \" at\", \" New\", \" York\", \" University\", \",\", \" she\", \" has\", \" taught\", \" at\", \" New\", \" York\", \" University\", \",\", \" The\", \" Cooper\", \" Union\", \",\", \" and\", \" Clark\", \" University\", \".\", \"\\n\", \"\\n\", \"J\", \"enn\", \"ifer\", \" was\", \" a\", \" Pro\", \"ducer\", \" on\", \" a\", \" number\", \" of\", \" shorts\", \" including\", \",\", \" BE\", \"Y\", \"OND\", \" THE\", \" GR\", \"ID\", \",\", \" RAD\", \"IAL\", \" BL\", \"UR\", \",\", \" THE\", \" TEST\", \",\", \" and\", \" recently\", \" MAY\", \"BE\", \".\", \".\", \".\", \" NOW\"], [\"help\", \" but\", \" not\", \" overwhel\", \"m\", \" Jessica\", \" and\", \" her\", \" family\", \".\", \"\\n\", \"\\n\", \"\\\"\", \"This\", \" was\", \" a\", \" unique\", \" opportunity\", \" for\", \" us\", \" all\", \" to\", \" learn\", \" what\", \" colleagues\", \" can\", \" offer\", \",\\\"\", \" said\", \" Emmanuel\", \" John\", \",\", \" associate\", \" professor\", \" of\", \" physical\", \" therapy\", \",\", \" who\", \" worked\", \" with\", \" one\", \" of\", \" the\", \" groups\", \".\", \" \\\"\", \"The\", \" talk\", \" at\", \" the\", \" table\", \" was\", \" very\", \" intense\", \" as\", \" they\", \" worked\", \" to\", \" understand\", \" the\", \" conditions\", \",\", \" the\", \" culture\", \" of\", \" the\", \" situation\", \" and\", \" their\", \" colleagues\", \".\\\"\", \"\\n\", \"\\n\", \"Christ\", \"ina\", \" C\", \"ah\", \"ill\", \",\", \" a\", \" graduate\", \" student\", \" in\", \" early\", \" childhood\", \" education\", \",\", \" appreciated\", \" the\", \" chance\", \" to\", \" participate\", \" in\", \" an\", \" event\", \" that\", \" mirrors\", \" the\", \" way\", \" things\", \" are\", \" done\", \" on\", \" behalf\", \" of\", \" children\", \" with\", \" special\", \" needs\", \".\", \"\\n\", \"\\n\", \"\\\"\", \"Every\", \" child\", \" with\", \" whom\", \" I\", \" work\", \" will\", \" be\", \" different\", \".\", \" Today\", \"'s\", \" experience\", \" gave\"], [\"and\", \" also\", \" Ian\", \" Jones\", \",\", \" Deputy\", \" Head\", \" of\", \" Key\", \"board\", \" at\", \" the\", \" Royal\", \" College\", \" of\", \" Music\", \",\", \" to\", \" lift\", \" the\", \" veil\", \" on\", \" this\", \" once\", \" highly\", \" regarded\", \" performer\", \" and\", \" composer\", \".\", \"\\n\", \"\\n\", \"In\", \" 1923\", \" Rebecca\", \" Clarke\", \" received\", \" a\", \" prestigious\", \" commission\", \" to\", \" compose\", \" a\", \" new\", \" work\", \" for\", \" cell\", \"o\", \" from\", \" the\", \" famous\", \" American\", \" patron\", \"ess\", \" of\", \" the\", \" arts\", \",\", \" Elizabeth\", \" Spr\", \"ague\", \" Cool\", \"idge\", \",\", \" sometimes\", \" called\", \" the\", \" patron\", \"ess\", \" of\", \" American\", \" chamber\", \" music\", \".\", \" The\", \" result\", \" was\", \" Clarke\", \"'s\", \" R\", \"haps\", \"ody\", \" for\", \" cell\", \"o\", \" and\", \" piano\", \",\", \" considered\", \" by\", \" some\", \" as\", \" the\", \" composer\", \"'s\", \" masterpiece\", \".\", \" By\", \" the\", \" 1930\", \"s\", \" however\", \" Clarke\", \"'s\", \" output\", \" had\", \" started\", \" to\", \" tail\", \" away\", \".\", \" This\", \" was\", \" a\", \" period\", \" of\", \" great\", \" unh\", \"app\", \"iness\", \" for\", \" Clarke\", \",\", \" when\", \" she\", \" was\", \" having\", \" an\"], [\"Oxford\", \"shire\", \" woman\", \" j\", \"ailed\", \" for\", \" drowning\", \" eight\", \" cats\", \" Published\", \" duration\", \" 29\", \" October\", \" 2010\", \"\\n\", \"\\n\", \"image\", \" caption\", \" Julie\", \" Carter\", \" claimed\", \" she\", \" could\", \" not\", \" afford\", \" the\", \" phone\", \" call\", \" to\", \" have\", \" the\", \" animals\", \" rescued\", \"\\n\", \"\\n\", \"An\", \" Oxford\", \"shire\", \" woman\", \" who\", \" admitted\", \" drowning\", \" eight\", \" cats\", \" in\", \" a\", \" bath\", \" has\", \" been\", \" j\", \"ailed\", \" for\", \" 12\", \" weeks\", \".\", \"\\n\", \"\\n\", \"Jul\", \"ie\", \" Carter\", \",\", \" 43\", \",\", \" of\", \" B\", \"icester\", \",\", \" told\", \" R\", \"SP\", \"CA\", \" staff\", \" she\", \" could\", \" not\", \" afford\", \" a\", \" phone\", \" call\", \" to\", \" have\", \" the\", \" cats\", \" rescued\", \" so\", \" killed\", \" them\", \" one\", \" by\", \" one\", \" over\", \" a\", \" week\", \".\", \"\\n\", \"\\n\", \"The\", \" cats\", \" were\", \" all\", \" aged\", \" between\", \" one\", \" and\", \" three\", \" years\", \" old\", \".\", \" Another\", \" three\", \" were\", \" later\", \" re\", \"hom\", \"ed\", \".\", \"\\n\", \"\\n\", \"C\", \"arter\", \" told\", \" Ban\", \"bury\", \" mag\", \"ist\", \"rates\", \" she\", \" had\"], [\"way\", \",\", \" were\", \" conducted\", \" by\", \" 117\", \" investigators\", \" from\", \" September\", \" 2005\", \" to\", \" May\", \" 2006\", \".\", \"\\n\", \"\\n\", \"Question\", \" of\", \" the\", \" Day\", \"\\n\", \"\\n\", \"Will\", \" Donald\", \" Trump\", \" win\", \" the\", \" GOP\", \" nomination\", \"?\", \"\\n\", \"\\n\", \"About\", \" the\", \" Author\", \"\\n\", \"\\n\", \"Jul\", \"ia\", \" Du\", \"in\", \" is\", \" the\", \" Times\", \"\\u2019\", \" religion\", \" editor\", \".\", \" She\", \" has\", \" a\", \" master\", \"\\u2019\", \"s\", \" degree\", \" in\", \" religion\", \" from\", \" Trinity\", \" School\", \" for\", \" Ministry\", \" (\", \"an\", \" Ep\", \"iscopal\", \" sem\", \"inary\", \")\", \" and\", \" has\", \" covered\", \" the\", \" beat\", \" for\", \" three\", \" decades\", \".\", \" Before\", \" coming\", \" to\", \" The\", \" Washington\", \" Times\", \",\", \" she\", \" worked\", \" for\", \" five\", \" newspapers\", \",\", \" including\", \" a\", \" stint\", \" as\", \" a\", \" religion\", \" writer\", \" for\", \" the\", \" Houston\", \" Chronicle\", \" and\", \" a\", \" year\", \" as\", \" city\", \" editor\", \" at\", \" the\", \"...\", \"due\", \" to\", \" the\", \" transmission\", \" of\", \" HPV\", \",\", \" a\", \" virus\", \" that\", \" has\", \" been\", \" implicated\", \" in\", \" the\", \" majority\", \" of\"], [\"II\", \",\", \" to\", \" \\u201c\", \"not\", \" let\", \" poor\", \" Nell\", \" star\", \"ve\", \".\\u201d\", \" James\", \" II\", \" carried\", \" out\", \" those\", \" wishes\", \",\", \" proving\", \" for\", \" Nell\", \" G\", \"wyn\", \"ne\", \" until\", \" her\", \" death\", \" two\", \" years\", \" later\", \" in\", \" 16\", \"87\", \".\", \"\\n\", \"\\n\", \"5\", \".\", \" COR\", \"A\", \" PE\", \"AR\", \"L\", \" (\", \"18\", \"35\", \"-\", \"86\", \")\", \"\\n\", \"\\n\", \"Em\", \"ma\", \" Cr\", \"ouch\", \" was\", \" born\", \" in\", \" Plymouth\", \",\", \" England\", \",\", \" to\", \" a\", \" British\", \" musician\", \" and\", \" woman\", \"izer\", \" who\", \" deserted\", \" his\", \" family\", \" and\", \" moved\", \" to\", \" America\", \".\", \" At\", \" around\", \" the\", \" age\", \" of\", \" 20\", \",\", \" Emma\", \" worked\", \" as\", \" a\", \" mill\", \"iner\", \",\", \" dab\", \"bling\", \" in\", \" prostitution\", \" to\", \" augment\", \" her\", \" low\", \" wages\", \".\", \" During\", \" this\", \" time\", \",\", \" she\", \" met\", \" Robert\", \" B\", \"ign\", \"ell\", \",\", \" owner\", \" of\", \" a\", \" dance\", \" hall\", \",\", \" and\", \" became\", \" his\", \" mistress\", \".\", \" He\", \" took\", \" her\", \" to\"], [\"Ex\", \"-\", \"Miss\", \" Russia\", \" F\", \"ights\", \" Charge\", \"\\n\", \"\\n\", \"April\", \" 12\", \",\", \" 2011\", \"\\n\", \"\\n\", \"NEW\", \" YORK\", \" \\u2014\", \" U\", \".\", \"S\", \".\", \" prosecutors\", \" said\", \" a\", \" former\", \" Miss\", \" Russia\", \" kept\", \" for\", \"ging\", \" prescriptions\", \" to\", \" get\", \" herself\", \" pain\", \"kill\", \"ers\", \" in\", \" New\", \" York\", \" even\", \" after\", \" she\", \" was\", \" arrested\", \" on\", \" charges\", \" of\", \" doing\", \" the\", \" same\", \".\", \"\\n\", \"\\n\", \"Anna\", \" Mal\", \"ova\", \" pleaded\", \" not\", \" guilty\", \" Tuesday\", \" to\", \" pet\", \"it\", \" lar\", \"cen\", \"y\", \",\", \" for\", \"gery\", \" and\", \" other\", \" charges\", \" in\", \" a\", \" new\", \" indictment\", \".\", \" It\", \" adds\", \" dozens\", \" of\", \" new\", \" charges\", \".\", \" Mal\", \"ova\", \",\", \" 39\", \",\", \" is\", \" being\", \" considered\", \" for\", \" a\", \" program\", \" designed\", \" to\", \" channel\", \" addicted\", \" offenders\", \" to\", \" treatment\", \" instead\", \" of\", \" jail\", \".\", \" Her\", \" lawyer\", \" said\", \" she\", \" has\", \" started\", \" rehabilitation\", \".\", \"Donald\", \" Trump\", \".\", \" AP\", \"\\n\", \"\\n\", \"President\", \" Trump\", \" and\", \" his\", \" top\", \" advisers\"], [\"Und\", \"ocument\", \"ed\", \" immigrants\", \" fight\", \" for\", \" education\", \"\\n\", \"\\n\", \"CN\", \"J\", \" staff\", \" photo\", \":\", \" Lil\", \"iana\", \" Cast\", \"illo\", \" Edith\", \",\", \" left\", \",\", \" and\", \" Adri\", \"ana\", \",\", \" Cl\", \"ov\", \"is\", \" High\", \" School\", \" seniors\", \",\", \" have\", \" been\", \" in\", \" the\", \" U\", \".\", \"S\", \".\", \" for\", \" at\", \" least\", \" six\", \" years\", \".\", \"\\n\", \"\\n\", \"By\", \" Gabriel\", \" Monte\", \":\", \" CN\", \"J\", \" staff\", \" writer\", \"\\n\", \"\\n\", \"I\", \"v\", \"eth\", \" has\", \" attended\", \" Cl\", \"ov\", \"is\", \" schools\", \" since\", \" she\", \" came\", \" to\", \" the\", \" United\", \" States\", \" with\", \" her\", \" parents\", \" about\", \" six\", \" years\", \" ago\", \".\", \"\\n\", \"\\n\", \"Now\", \" a\", \" Cl\", \"ov\", \"is\", \" High\", \" School\", \" senior\", \" taking\", \" college\", \"-\", \"level\", \" classes\", \",\", \" Iv\", \"eth\", \" said\", \" she\", \" considers\", \" America\", \" her\", \" home\", \" and\", \" wants\", \" to\", \" attend\", \" the\", \" University\", \" of\", \" New\", \" Mexico\", \" to\", \" study\", \" education\", \".\", \"\\n\", \"\\n\", \"\\u201c\", \"I\", \" have\", \" a\", \" better\", \" opportunity\"], [\"sch\", \"olars\", \"hip\", \" to\", \" study\", \" the\", \" biosynthesis\", \" of\", \" unusual\", \" cyan\", \"obacter\", \"ial\", \" secondary\", \" metabolites\", \",\", \" in\", \" the\", \" C\", \"yan\", \"obacter\", \"ial\", \" Natural\", \" Products\", \" group\", \" at\", \" C\", \"II\", \"MAR\", \" (\", \"University\", \" of\", \" Port\", \"o\", \").\", \"\\n\", \"\\n\", \"Car\", \"oline\", \" R\", \"oug\", \"er\", \"Car\", \"oline\", \" R\", \"oug\", \"er\", \" graduated\", \" in\", \" pharmacy\", \" from\", \" the\", \" University\", \" of\", \" Ang\", \"ers\", \" where\", \" she\", \" received\", \" her\", \" PhD\", \" in\", \" 2015\", \",\", \" studying\", \" pren\", \"ylated\", \" polyp\", \"hen\", \"ols\", \" and\", \" their\", \" anti\", \"-\", \"inflammatory\", \" and\", \" immun\", \"omod\", \"ulatory\", \" activities\", \" under\", \" the\", \" guidance\", \" of\", \" Prof\", \".\", \" Pas\", \"cal\", \" Rich\", \"om\", \"me\", \" and\", \" Dr\", \" S\", \"\\u00e9\", \"ver\", \"ine\", \" Der\", \"br\", \"\\u00e9\", \".\", \" After\", \" one\", \" year\", \" as\", \" research\", \" and\", \" teaching\", \" assistant\", \" at\", \" the\", \" University\", \" of\", \" Lim\", \"og\", \"es\", \",\", \" she\", \" joined\", \" the\", \" group\", \" of\", \" Prof\", \".\", \" Den\", \"iz\", \" Tas\", \"dem\", \"ir\"]], \"activations\": [[[[0.0]], [[0.043701171875]], [[0.291015625]], [[0.0712890625]], [[0.043212890625]], [[0.3046875]], [[0.0]], [[0.0]], [[0.0]], [[0.0]], [[0.0]], [[0.0]], [[0.0]], [[0.0]], [[0.0]], [[0.0]], [[0.0]], [[0.0]], [[0.0]], [[0.0]], [[0.0]], [[0.00750732421875]], [[0.0]], [[0.0]], [[0.0849609375]], [[0.06591796875]], [[0.9375]], [[1.3671875]], [[0.8515625]], [[0.69921875]], [[0.0]], [[0.00933837890625]], [[0.0]], [[0.2578125]], [[0.0]], [[0.251953125]], [[0.349609375]], [[0.0703125]], [[0.1875]], [[0.0]], [[0.0]], [[0.0478515625]], [[0.158203125]], [[0.86328125]], [[1.1484375]], [[0.8203125]], [[0.39453125]], [[0.0]], [[0.0]], [[0.0]], [[0.12109375]], [[0.0]], [[0.0]], [[0.0]], [[0.0]], [[0.0]], [[0.0]], [[0.020263671875]], [[0.0]], [[0.0]], [[0.15234375]], [[0.0]], [[0.0]], [[0.49609375]], [[0.875]], [[0.34375]], [[0.042724609375]], [[0.107421875]], [[0.3828125]], [[0.32421875]], [[0.0]], [[0.046630859375]], [[0.0]], [[0.0]], [[0.045166015625]], [[0.0]], [[0.095703125]], [[0.38671875]], [[0.00689697265625]], [[0.1416015625]], [[0.0]], [[0.0]], [[0.203125]], [[0.240234375]], [[0.0]], [[0.0]], [[0.3359375]], [[0.29296875]], [[0.484375]], [[0.034423828125]], [[0.193359375]], [[0.2734375]], [[0.8203125]], [[1.109375]], [[0.89453125]], [[0.7421875]], [[0.4296875]], [[0.5078125]], [[0.2255859375]], [[0.296875]], [[0.271484375]], [[0.24609375]], [[0.470703125]], [[0.20703125]], [[0.0859375]], [[0.09765625]], [[0.1357421875]], [[0.123046875]], [[0.62109375]], [[0.1181640625]], [[0.41796875]], [[0.8203125]], [[0.75390625]], [[0.91796875]], [[0.515625]], [[0.38671875]], [[0.40625]], [[0.1630859375]], [[0.0]], [[0.263671875]], [[0.0]], [[0.0]], [[0.08740234375]], [[0.0]], [[0.11865234375]], [[0.11962890625]], [[0.0]], [[0.0]]], [[[0.0]], [[0.0]], [[0.0]], [[0.0]], [[0.03564453125]], [[0.0]], [[0.0]], [[0.0]], [[0.0]], [[0.0]], [[0.318359375]], [[0.8125]], [[0.8671875]], [[0.4765625]], [[0.2392578125]], [[0.2392578125]], [[0.0]], [[0.466796875]], [[0.392578125]], [[0.15234375]], [[0.0771484375]], [[0.0]], [[0.0]], [[0.11181640625]], [[0.21484375]], [[0.30078125]], [[0.34375]], [[0.220703125]], [[0.0]], [[0.1845703125]], [[0.14453125]], [[0.0]], [[0.0]], [[0.0]], [[0.0]], [[0.0230712890625]], [[0.439453125]], [[0.314453125]], [[0.58984375]], [[0.1513671875]], [[0.0]], [[0.228515625]], [[0.17578125]], [[0.103515625]], [[0.0]], [[0.208984375]], [[0.25]], [[0.3125]], [[0.55859375]], [[0.4296875]], [[0.0]], [[0.0]], [[0.0517578125]], [[0.0]], [[0.0]], [[0.0]], [[0.0228271484375]], [[0.09716796875]], [[0.2021484375]], [[0.28515625]], [[0.0]], [[0.134765625]], [[0.1640625]], [[0.2080078125]], [[0.0308837890625]], [[0.054931640625]], [[0.1650390625]], [[0.0]], [[0.0]], [[0.0]], [[0.0]], [[0.0]], [[0.0]], [[0.42578125]], [[0.56640625]], [[0.58984375]], [[0.080078125]], [[0.0]], [[0.0]], [[0.0]], [[0.0595703125]], [[0.0]], [[0.0]], [[0.0]], [[0.035888671875]], [[0.18359375]], [[0.0]], [[0.0]], [[0.4296875]], [[0.109375]], [[0.45703125]], [[0.11181640625]], [[0.0]], [[0.40625]], [[1.25]], [[1.2421875]], [[0.4375]], [[0.48828125]], [[0.228515625]], [[0.0]], [[0.0]], [[0.0]], [[0.0]], [[0.2451171875]], [[0.0]], [[0.0]], [[0.0]], [[0.06640625]], [[0.0]], [[0.0]], [[0.0]], [[0.025634765625]], [[0.0]], [[0.0]], [[0.0]], [[0.0]], [[0.0302734375]], [[0.0]], [[0.0]], [[0.0]], [[0.00341796875]], [[0.09765625]], [[0.0]], [[0.0]], [[0.439453125]], [[0.251953125]], [[0.197265625]], [[0.0]]], [[[0.0]], [[0.0]], [[0.0]], [[0.0]], [[0.0]], [[0.044189453125]], [[0.349609375]], [[0.328125]], [[0.0]], [[0.0]], [[0.0]], [[0.1279296875]], [[0.0]], [[0.0]], [[0.0]], [[0.0]], [[0.0]], [[0.0]], [[0.0]], [[0.0]], [[0.0]], [[0.0]], [[0.0]], [[0.0]], [[0.0]], [[0.0]], [[0.0]], [[0.0]], [[0.2294921875]], [[0.0]], [[0.0]], [[0.185546875]], [[0.0]], [[0.0]], [[0.06884765625]], [[0.0]], [[0.0]], [[0.0]], [[0.0]], [[0.0]], [[0.0]], [[0.0]], [[0.0]], [[0.0]], [[0.0]], [[0.0]], [[0.0]], [[0.0]], [[0.0]], [[0.0]], [[0.0]], [[0.0]], [[0.0]], [[0.0]], [[0.0]], [[0.0]], [[0.0]], [[0.0]], [[0.0]], [[0.0]], [[0.0]], [[0.0]], [[0.0]], [[0.0]], [[0.0]], [[0.0]], [[0.0]], [[0.0]], [[0.0]], [[0.0]], [[0.0]], [[0.0]], [[0.0]], [[0.0]], [[0.0]], [[0.3984375]], [[0.828125]], [[0.353515625]], [[0.75390625]], [[1.0546875]], [[1.1796875]], [[0.58203125]], [[0.455078125]], [[0.400390625]], [[0.0260009765625]], [[0.0]], [[0.0]], [[0.16015625]], [[0.04345703125]], [[0.0]], [[0.0]], [[0.0]], [[0.169921875]], [[0.0]], [[0.0]], [[0.0]], [[0.0]], [[0.0]], [[0.0]], [[0.0]], [[0.0]], [[0.0]], [[0.0]], [[0.0]], [[0.0]], [[0.0]], [[0.0]], [[0.0]], [[0.0]], [[0.0]], [[0.431640625]], [[0.0]], [[0.05224609375]], [[0.0]], [[0.0]], [[0.0]], [[0.0]], [[0.0]], [[0.0]], [[0.0]], [[0.0]], [[0.0]], [[0.0]], [[0.0]], [[0.0]], [[0.0]], [[0.0]], [[0.0]]], [[[0.0]], [[0.0]], [[0.0]], [[0.0]], [[0.0169677734375]], [[0.0]], [[0.0]], [[0.0]], [[0.0]], [[0.0]], [[0.0]], [[0.0]], [[0.0]], [[0.0]], [[0.0]], [[0.0]], [[0.0]], [[0.0]], [[0.0]], [[0.0]], [[0.0]], [[0.0]], [[0.0]], [[0.0]], [[0.031005859375]], [[0.0]], [[0.0]], [[0.0]], [[0.0]], [[0.0]], [[0.0]], [[0.0]], [[0.0]], [[0.0]], [[0.345703125]], [[0.73046875]], [[1.1640625]], [[0.314453125]], [[0.283203125]], [[0.072265625]], [[0.1279296875]], [[0.486328125]], [[0.0]], [[0.0]], [[0.14453125]], [[0.306640625]], [[0.0]], [[0.0]], [[0.0]], [[0.0]], [[0.0]], [[0.0]], [[0.0]], [[0.26171875]], [[0.1611328125]], [[0.07958984375]], [[0.0]], [[0.12451171875]], [[0.1787109375]], [[0.53515625]], [[0.0]], [[0.125]], [[0.21484375]], [[0.5625]], [[0.240234375]], [[0.26953125]], [[0.1591796875]], [[0.0]], [[0.384765625]], [[0.296875]], [[0.0]], [[0.0]], [[0.0]], [[0.427734375]], [[0.1787109375]], [[0.0]], [[0.1767578125]], [[0.234375]], [[0.208984375]], [[0.06982421875]], [[0.09912109375]], [[0.216796875]], [[0.2490234375]], [[0.0]], [[0.0]], [[0.0]], [[0.0]], [[0.0]], [[0.0]], [[0.0]], [[0.0]], [[0.0]], [[0.01263427734375]], [[0.0]], [[0.0]], [[0.0]], [[0.1728515625]], [[0.0]], [[0.0]], [[0.0]], [[0.0]], [[0.0]], [[0.08447265625]], [[0.004669189453125]], [[0.0]], [[0.0]], [[0.0]], [[0.0]], [[0.03125]], [[0.0]], [[0.0]], [[0.0]], [[0.0]], [[0.0]], [[0.0]], [[0.0]], [[0.0]], [[0.0]], [[0.0]], [[0.0]], [[0.0]], [[0.0]], [[0.0]], [[0.0]], [[0.0]], [[0.5625]], [[0.26953125]], [[0.045654296875]]], [[[0.0]], [[0.0]], [[0.28125]], [[0.26171875]], [[0.12353515625]], [[0.064453125]], [[0.208984375]], [[0.0]], [[0.0]], [[0.08154296875]], [[0.3671875]], [[0.259765625]], [[0.146484375]], [[0.1728515625]], [[0.0]], [[0.142578125]], [[0.0126953125]], [[0.2041015625]], [[0.330078125]], [[0.828125]], [[0.6796875]], [[0.306640625]], [[0.6171875]], [[0.470703125]], [[0.1513671875]], [[0.12255859375]], [[0.03369140625]], [[0.12353515625]], [[0.0361328125]], [[0.0]], [[0.10302734375]], [[0.0]], [[0.0021209716796875]], [[0.1455078125]], [[0.2578125]], [[0.3046875]], [[0.2353515625]], [[0.2333984375]], [[0.84765625]], [[0.890625]], [[0.84765625]], [[0.3671875]], [[0.283203125]], [[0.1181640625]], [[0.16796875]], [[0.25]], [[0.2412109375]], [[0.1982421875]], [[0.29296875]], [[0.109375]], [[0.24609375]], [[0.2294921875]], [[0.0]], [[0.0]], [[0.2158203125]], [[0.12451171875]], [[0.220703125]], [[0.0]], [[0.369140625]], [[1.15625]], [[1.015625]], [[0.68359375]], [[0.5859375]], [[0.9453125]], [[0.322265625]], [[0.0137939453125]], [[0.349609375]], [[0.453125]], [[0.0]], [[0.0]], [[0.0]], [[0.0]], [[0.21484375]], [[0.462890625]], [[0.4765625]], [[0.259765625]], [[0.0771484375]], [[0.03955078125]], [[0.1162109375]], [[0.0927734375]], [[0.017822265625]], [[0.189453125]], [[0.0]], [[0.05615234375]], [[0.0]], [[0.0]], [[0.0]], [[0.0]], [[0.0]], [[0.07861328125]], [[0.0]], [[0.0419921875]], [[0.0]], [[0.0830078125]], [[0.0]], [[0.09521484375]], [[0.0]], [[0.0]], [[0.1923828125]], [[0.006805419921875]], [[0.0]], [[0.05810546875]], [[0.0]], [[0.0]], [[0.0]], [[0.0]], [[0.06982421875]], [[0.0791015625]], [[0.0]], [[0.0]], [[0.059814453125]], [[0.0]], [[0.0]], [[0.0]], [[0.0]], [[0.00341796875]], [[0.0]], [[0.048095703125]], [[0.12890625]], [[0.0]], [[0.0]], [[0.0]], [[0.0]], [[0.0]], [[0.0]], [[0.0]], [[0.0]], [[0.0]]], [[[0.0]], [[0.0]], [[0.0]], [[0.0]], [[0.0]], [[0.0]], [[0.0]], [[0.0]], [[0.0]], [[0.0]], [[0.0]], [[0.0]], [[0.0]], [[0.0]], [[0.0]], [[0.0]], [[0.0]], [[0.0174560546875]], [[0.0]], [[0.0]], [[0.0]], [[0.0]], [[0.0]], [[0.0]], [[0.0]], [[0.0]], [[0.0]], [[0.0]], [[0.0]], [[0.0]], [[0.0]], [[0.0]], [[0.0]], [[0.0]], [[0.0]], [[0.0]], [[0.0]], [[0.0]], [[0.236328125]], [[0.296875]], [[0.765625]], [[1.1484375]], [[1.046875]], [[0.20703125]], [[0.1787109375]], [[0.0]], [[0.50390625]], [[0.3671875]], [[0.5234375]], [[0.97265625]], [[0.64453125]], [[0.125]], [[0.09375]], [[0.306640625]], [[0.146484375]], [[0.265625]], [[0.0]], [[0.0]], [[0.0]], [[0.0]], [[0.2421875]], [[0.0]], [[0.0]], [[0.0]], [[0.0]], [[0.0]], [[0.0]], [[0.0]], [[0.0]], [[0.0]], [[0.6640625]], [[0.34375]], [[0.0]], [[0.0]], [[0.10107421875]], [[0.0]], [[0.0]], [[0.61328125]], [[0.3046875]], [[0.625]], [[0.337890625]], [[0.0]], [[0.0]], [[0.0]], [[0.0]], [[0.5859375]], [[0.9140625]], [[0.53125]], [[0.0]], [[0.0]], [[0.0]], [[0.0810546875]], [[0.061767578125]], [[0.52734375]], [[0.61328125]], [[0.5234375]], [[0.0]], [[0.26953125]], [[0.0888671875]], [[0.0]], [[0.0]], [[0.0]], [[0.0]], [[0.130859375]], [[0.0]], [[0.2080078125]], [[0.0]], [[0.28515625]], [[0.0]], [[0.0]], [[0.0]], [[0.0]], [[0.0]], [[0.061767578125]], [[0.0]], [[0.0]], [[0.0]], [[0.0]], [[0.039794921875]], [[0.0]], [[0.0]], [[0.0234375]], [[0.03515625]], [[0.0]], [[0.0]], [[0.0]], [[0.0]], [[0.0]]], [[[0.0]], [[0.0]], [[0.0]], [[0.0]], [[0.0]], [[0.0]], [[0.0]], [[0.10400390625]], [[0.1611328125]], [[0.0]], [[0.0]], [[0.0]], [[0.0]], [[0.0]], [[0.0]], [[0.0]], [[0.0]], [[0.0]], [[0.0]], [[0.0]], [[0.0]], [[0.05078125]], [[0.0]], [[0.0791015625]], [[0.0]], [[0.057861328125]], [[0.041259765625]], [[0.0]], [[0.0]], [[0.0]], [[0.0]], [[0.0]], [[0.0]], [[0.0]], [[0.0]], [[0.0]], [[0.0]], [[0.0]], [[0.0]], [[0.0]], [[0.150390625]], [[0.0]], [[0.0]], [[0.259765625]], [[0.0703125]], [[0.0107421875]], [[0.0]], [[0.0654296875]], [[0.09716796875]], [[0.08056640625]], [[0.0015869140625]], [[0.0]], [[0.330078125]], [[0.76171875]], [[0.6640625]], [[1.1484375]], [[0.78515625]], [[0.1845703125]], [[0.0]], [[0.1513671875]], [[0.10009765625]], [[0.1494140625]], [[0.326171875]], [[0.150390625]], [[0.10107421875]], [[0.0751953125]], [[0.0]], [[0.333984375]], [[0.12890625]], [[0.220703125]], [[0.0703125]], [[0.0]], [[0.0]], [[0.0]], [[0.05126953125]], [[0.060791015625]], [[0.0]], [[0.060302734375]], [[0.0]], [[0.0]], [[0.0]], [[0.0]], [[0.12890625]], [[0.140625]], [[0.0]], [[0.353515625]], [[0.734375]], [[0.41015625]], [[0.390625]], [[0.0]], [[0.0]], [[0.21484375]], [[0.0]], [[0.0]], [[0.03759765625]], [[0.0]], [[0.0]], [[0.0]], [[0.224609375]], [[0.1572265625]], [[0.1826171875]], [[0.1943359375]], [[0.0]], [[0.0]], [[0.0]], [[0.0]], [[0.0458984375]], [[0.3046875]], [[0.0]], [[0.03759765625]], [[0.06201171875]], [[0.0]], [[0.0]], [[0.0]], [[0.0]], [[0.0]], [[0.0]], [[0.0]], [[0.0]], [[0.0]], [[0.35546875]], [[0.0]], [[0.142578125]], [[0.0]], [[0.0]], [[0.0]], [[0.0]], [[0.0]]], [[[0.0]], [[0.0]], [[0.4296875]], [[0.48828125]], [[0.423828125]], [[0.10205078125]], [[0.388671875]], [[0.0]], [[0.06005859375]], [[0.11767578125]], [[0.1396484375]], [[0.07763671875]], [[0.173828125]], [[0.05322265625]], [[0.1650390625]], [[0.0]], [[0.0]], [[0.0]], [[0.0]], [[0.0]], [[0.0]], [[0.0]], [[0.0]], [[0.0]], [[0.0]], [[0.0]], [[0.330078125]], [[0.328125]], [[0.15625]], [[0.0]], [[0.0]], [[0.0]], [[0.0]], [[0.0]], [[0.197265625]], [[0.1669921875]], [[0.0]], [[0.0]], [[0.0]], [[0.0]], [[0.0]], [[0.0]], [[0.0]], [[0.1064453125]], [[0.5]], [[0.53515625]], [[0.0]], [[0.0]], [[0.01263427734375]], [[0.0]], [[0.0]], [[0.0]], [[0.0341796875]], [[0.0]], [[0.0]], [[0.51953125]], [[0.546875]], [[1.140625]], [[0.90625]], [[0.36328125]], [[0.63671875]], [[0.125]], [[0.57421875]], [[0.0]], [[0.0]], [[0.0]], [[0.0]], [[0.0]], [[0.0751953125]], [[0.0341796875]], [[0.0]], [[0.0]], [[0.0]], [[0.0]], [[0.005126953125]], [[0.0]], [[0.0]], [[0.0]], [[0.1767578125]], [[0.0]], [[0.0]], [[0.0]], [[0.0]], [[0.0]], [[0.0]], [[0.00860595703125]], [[0.0]], [[0.328125]], [[0.306640625]], [[0.2099609375]], [[0.142578125]], [[0.1982421875]], [[0.0]], [[0.2021484375]], [[0.033447265625]], [[0.0]], [[0.0]], [[0.0]], [[0.0]], [[0.0]], [[0.0]], [[0.0]], [[0.0]], [[0.0]], [[0.0]], [[0.0]], [[0.0]], [[0.0]], [[0.251953125]], [[0.01318359375]], [[0.0]], [[0.0625]], [[0.40234375]], [[0.271484375]], [[0.0]], [[0.09130859375]], [[0.0]], [[0.0]], [[0.0]], [[0.0]], [[0.0]], [[0.0]], [[0.0]], [[0.0]], [[0.0]], [[0.0]], [[0.0]], [[0.0]]], [[[0.0]], [[0.0]], [[0.0]], [[0.0]], [[0.0]], [[0.0]], [[0.0]], [[0.0]], [[0.0]], [[0.0]], [[0.0]], [[0.06494140625]], [[0.123046875]], [[0.0]], [[0.05419921875]], [[0.55078125]], [[1.125]], [[0.8125]], [[0.9921875]], [[0.94140625]], [[0.73828125]], [[0.59375]], [[0.6796875]], [[0.20703125]], [[0.5390625]], [[0.89453125]], [[0.30078125]], [[0.061279296875]], [[0.236328125]], [[0.4609375]], [[0.26953125]], [[0.48828125]], [[0.50390625]], [[0.478515625]], [[0.5859375]], [[0.44921875]], [[0.267578125]], [[0.0]], [[0.0]], [[0.0]], [[0.027587890625]], [[0.1474609375]], [[0.0]], [[0.0]], [[0.00775146484375]], [[0.06982421875]], [[0.337890625]], [[0.03515625]], [[0.08349609375]], [[0.0]], [[0.0]], [[0.0142822265625]], [[0.0]], [[0.0]], [[0.0]], [[0.08447265625]], [[0.30078125]], [[0.0]], [[0.0]], [[0.0]], [[0.0]], [[0.0]], [[0.0]], [[0.0]], [[0.0]], [[0.0]], [[0.0]], [[0.0]], [[0.0]], [[0.359375]], [[0.79296875]], [[0.314453125]], [[0.12060546875]], [[0.0]], [[0.0]], [[0.470703125]], [[0.421875]], [[0.0]], [[0.0]], [[0.0]], [[0.0]], [[0.0]], [[0.41796875]], [[0.0]], [[0.07568359375]], [[0.126953125]], [[0.279296875]], [[0.1240234375]], [[0.0]], [[0.0830078125]], [[0.169921875]], [[0.0]], [[0.392578125]], [[0.140625]], [[0.0]], [[0.0]], [[0.0]], [[0.0]], [[0.0]], [[0.0]], [[0.0]], [[0.0]], [[0.06640625]], [[0.169921875]], [[0.0]], [[0.01519775390625]], [[0.0]], [[0.0]], [[0.1533203125]], [[0.0]], [[0.07568359375]], [[0.0]], [[0.0]], [[0.0306396484375]], [[0.0]], [[0.0]], [[0.0]], [[0.0634765625]], [[0.0]], [[0.09521484375]], [[0.0]], [[0.0]], [[0.0]], [[0.0]], [[0.1357421875]], [[0.027587890625]], [[0.1015625]], [[0.0]]], [[[0.0]], [[0.0]], [[0.0]], [[0.0]], [[0.0]], [[0.0]], [[0.0]], [[0.00023365020751953125]], [[0.0]], [[0.0]], [[0.0]], [[0.0]], [[0.0]], [[0.0]], [[0.0]], [[0.0]], [[0.0]], [[0.0]], [[0.050048828125]], [[0.0]], [[0.0]], [[0.0281982421875]], [[0.0]], [[0.0]], [[0.0]], [[0.0]], [[0.0]], [[0.0]], [[0.0]], [[0.0]], [[0.0]], [[0.07373046875]], [[0.0]], [[0.0]], [[0.0]], [[0.0]], [[0.0]], [[0.44140625]], [[0.81640625]], [[0.2470703125]], [[0.734375]], [[0.49609375]], [[0.79296875]], [[1.125]], [[0.4140625]], [[0.859375]], [[0.92578125]], [[0.171875]], [[0.03271484375]], [[0.30859375]], [[0.08837890625]], [[0.0]], [[0.052734375]], [[0.0]], [[0.0]], [[0.0]], [[0.6953125]], [[0.8828125]], [[0.30859375]], [[0.171875]], [[0.291015625]], [[0.28515625]], [[0.181640625]], [[0.384765625]], [[0.0]], [[0.0]], [[0.0]], [[0.0]], [[0.16796875]], [[0.158203125]], [[0.0]], [[0.2373046875]], [[0.1689453125]], [[0.0]], [[0.07666015625]], [[0.0206298828125]], [[0.0]], [[0.0]], [[0.0]], [[0.0]], [[0.0517578125]], [[0.0]], [[0.0]], [[0.0]], [[0.0]], [[0.0]], [[0.0]], [[0.0]], [[0.115234375]], [[0.0]], [[0.0]], [[0.0]], [[0.0]], [[0.0]], [[0.0]], [[0.01007080078125]], [[0.0]], [[0.00860595703125]], [[0.2099609375]], [[0.38671875]], [[0.0966796875]], [[0.0277099609375]], [[0.1259765625]], [[0.4140625]], [[0.0]], [[0.0]], [[0.0]], [[0.0255126953125]], [[0.0]], [[0.0]], [[0.0]], [[0.0]], [[0.0]], [[0.0]], [[0.0]], [[0.0]], [[0.58984375]], [[0.87109375]], [[0.275390625]], [[0.0]], [[0.072265625]], [[0.0]], [[0.0]], [[0.0]], [[0.0]], [[0.0]], [[0.08740234375]], [[0.026611328125]]]], \"firstDimensionName\": \"Layer\", \"secondDimensionName\": \"Neuron\"}\n",
       "    )\n",
       "    </script>"
      ],
      "text/plain": [
       "<circuitsvis.utils.render.RenderedHTML at 0x7f45dcb5e0c0>"
      ]
     },
     "metadata": {},
     "output_type": "display_data"
    }
   ],
   "source": [
    "# Or alternatively view with circuitvis\n",
    "def _list_decode(x):\n",
    "    if len(x.shape) == 0:\n",
    "        return model.tokenizer.decode(x, skip_special_tokens=True)\n",
    "    else:\n",
    "        return [_list_decode(y) for y in x]\n",
    "\n",
    "selected_token_strs_FKL = _list_decode(selected_token_idxs_FKL)\n",
    "for i in range(selected_activations_FKL.shape[0]):\n",
    "    feat_idx = top_k_indices[i]\n",
    "    print(f\"Feature {feat_idx}:\")\n",
    "    selected_activations_KL11 = [selected_activations_FKL[i, k, :, None, None] for k in range(k_inputs_per_feature)]\n",
    "    html_activations = text_neuron_activations(selected_token_strs_FKL[i], selected_activations_KL11)\n",
    "    display(html_activations)\n",
    "\n"
   ]
  }
 ],
 "metadata": {
  "kernelspec": {
   "display_name": "mats-env",
   "language": "python",
   "name": "python3"
  },
  "language_info": {
   "codemirror_mode": {
    "name": "ipython",
    "version": 3
   },
   "file_extension": ".py",
   "mimetype": "text/x-python",
   "name": "python",
   "nbconvert_exporter": "python",
   "pygments_lexer": "ipython3",
   "version": "3.12.2"
  }
 },
 "nbformat": 4,
 "nbformat_minor": 2
}
