{
 "cells": [
  {
   "cell_type": "code",
   "execution_count": null,
   "metadata": {},
   "outputs": [],
   "source": [
    "import pickle"
   ]
  },
  {
   "cell_type": "code",
   "execution_count": null,
   "metadata": {},
   "outputs": [],
   "source": [
    "# Load /share/u/can/sae_eval/dictionary_learning/dictionaries/pythia70m_sweep0711/resid_post_layer_4/trainer_10/node_effects.pkl\n",
    "file_name = '/share/u/can/sae_eval/dictionary_learning/dictionaries/pythia70m_sweep0711/resid_post_layer_4/trainer_10/node_effects.pkl'\n",
    "with open(file_name, 'rb') as f:\n",
    "    node_effects = pickle.load(f)"
   ]
  },
  {
   "cell_type": "code",
   "execution_count": null,
   "metadata": {},
   "outputs": [],
   "source": [
    "# class_idxs = list(node_effects.keys())\n",
    "# node_effects = list(node_effects[class_idxs[0]].values())[0]\n",
    "\n",
    "\n",
    "\n",
    "# mask = node_effects > T_inscope_effect\n",
    "# node_effects"
   ]
  },
  {
   "cell_type": "code",
   "execution_count": null,
   "metadata": {},
   "outputs": [],
   "source": [
    "T_inscope_effect = 1e-8\n",
    "T_outscope_effect = 5e-3\n",
    "\n",
    "dict_size = 8192"
   ]
  },
  {
   "cell_type": "code",
   "execution_count": null,
   "metadata": {},
   "outputs": [],
   "source": [
    "from bib_intervention import select_unique_class_features\n",
    "\n",
    "unique_feats= select_unique_class_features(\n",
    "    node_effects,\n",
    "    dict_size,\n",
    "    T_effect=T_inscope_effect,\n",
    "    T_max_sideeffect=T_outscope_effect,\n",
    "    verbose=True,\n",
    ")"
   ]
  },
  {
   "cell_type": "code",
   "execution_count": null,
   "metadata": {},
   "outputs": [],
   "source": [
    "class_0_feats = unique_feats[0]\n",
    "class_1_feats = unique_feats[1]\n",
    "class_0_feats = list(class_0_feats.values())[0]\n",
    "class_1_feats = list(class_1_feats.values())[0]\n",
    "class_0_feats.nonzero().flatten().shape"
   ]
  },
  {
   "cell_type": "code",
   "execution_count": null,
   "metadata": {},
   "outputs": [],
   "source": [
    "class_0_nonzero = class_0_feats.nonzero().flatten()\n",
    "class_1_nonzero = class_1_feats.nonzero().flatten()\n",
    "(class_0_feats & class_1_feats).sum()\n"
   ]
  }
 ],
 "metadata": {
  "kernelspec": {
   "display_name": "mats-env",
   "language": "python",
   "name": "python3"
  },
  "language_info": {
   "codemirror_mode": {
    "name": "ipython",
    "version": 3
   },
   "file_extension": ".py",
   "mimetype": "text/x-python",
   "name": "python",
   "nbconvert_exporter": "python",
   "pygments_lexer": "ipython3",
   "version": "3.12.2"
  }
 },
 "nbformat": 4,
 "nbformat_minor": 2
}
