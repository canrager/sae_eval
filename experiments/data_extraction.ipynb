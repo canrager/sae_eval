{
 "cells": [
  {
   "cell_type": "markdown",
   "metadata": {},
   "source": [
    "To use: Move this notebook into `dictionary_learning/dictionaries` and run from there. `dictionaries` is a folder in a submodule so we don't track it currently."
   ]
  },
  {
   "cell_type": "code",
   "execution_count": null,
   "metadata": {},
   "outputs": [],
   "source": [
    "import os\n",
    "import shutil\n",
    "\n",
    "def copy_folder_structure(src, dst, exclude_files):\n",
    "    for root, dirs, files in os.walk(src):\n",
    "        # Create corresponding directory in destination\n",
    "        rel_path = os.path.relpath(root, src)\n",
    "        dst_dir = os.path.join(dst, rel_path)\n",
    "        os.makedirs(dst_dir, exist_ok=True)\n",
    "        \n",
    "        # Copy files, excluding those in exclude_files\n",
    "        for file in files:\n",
    "            if file not in exclude_files:\n",
    "                src_file = os.path.join(root, file)\n",
    "                dst_file = os.path.join(dst_dir, file)\n",
    "                shutil.copy2(src_file, dst_file)\n",
    "\n",
    "# Example usage\n",
    "src_folder = \"pythia70m_sweep_standard_ctx128_0712\"\n",
    "dst_folder = f\"{src_folder}_results\"\n",
    "files_to_exclude = [\"ae.pt\"]\n",
    "\n",
    "copy_folder_structure(src_folder, dst_folder, files_to_exclude)\n",
    "\n",
    "print(f\"Folder structure copied from {src_folder} to {dst_folder}, excluding {files_to_exclude}\")"
   ]
  }
 ],
 "metadata": {
  "language_info": {
   "name": "python"
  }
 },
 "nbformat": 4,
 "nbformat_minor": 2
}
