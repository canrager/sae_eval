{
 "cells": [
  {
   "cell_type": "code",
   "execution_count": 5,
   "metadata": {},
   "outputs": [
    {
     "name": "stdout",
     "output_type": "stream",
     "text": [
      "Cohen's Kappa scores for each category:\n",
      "male / female: 0.5000\n",
      "professor / nurse: 0.2593\n",
      "male_professor / female_nurse: 0.2958\n",
      "accountant: -0.1538\n",
      "architect: 0.0000\n",
      "attorney: 0.0000\n",
      "dentist: 0.0000\n",
      "filmmaker: 0.0000\n"
     ]
    }
   ],
   "source": [
    "import json\n",
    "import numpy as np\n",
    "from typing import Dict, List\n",
    "\n",
    "EPS = 1e-6\n",
    "\n",
    "def load_json(file_path: str) -> Dict:\n",
    "    with open(file_path, 'r') as f:\n",
    "        return json.load(f)\n",
    "\n",
    "def extract_scores(data: Dict) -> Dict[str, List[int]]:\n",
    "    return {k: [item['per_class_scores'][k] for item in data.values()]\n",
    "            for k in data['0']['per_class_scores'].keys()}\n",
    "\n",
    "def cohens_kappa(scores1: Dict[str, List[int]], scores2: Dict[str, List[int]]) -> Dict[str, float]:\n",
    "    def kappa(a: np.ndarray, b: np.ndarray) -> float:\n",
    "        n = len(a)\n",
    "        categories = np.unique(np.concatenate([a, b]))\n",
    "        n_categories = len(categories)\n",
    "        \n",
    "        # Observed agreement\n",
    "        observed = np.sum(a == b) / n\n",
    "        \n",
    "        # Expected agreement\n",
    "        expected = sum((np.sum(a == i) / n) * (np.sum(b == i) / n) for i in categories)\n",
    "        \n",
    "        # Compute kappa\n",
    "        kappa = (observed - expected) / (1 - expected + EPS)\n",
    "        return kappa\n",
    "\n",
    "    results = {}\n",
    "    for category in scores1.keys():\n",
    "        a = np.array(scores1[category])\n",
    "        b = np.array(scores2[category])\n",
    "        results[category] = kappa(a, b)\n",
    "    \n",
    "    return results\n",
    "\n",
    "def compute_kappa_for_files(file1: str, file2: str) -> Dict[str, float]:\n",
    "    data1 = load_json(file1)\n",
    "    data2 = load_json(file2)\n",
    "\n",
    "    # Find overlapping keys\n",
    "    overlap = set(data1.keys()) & set(data2.keys())\n",
    "    data1_overlap, data2_overlap = {}, {}\n",
    "    for key in overlap:\n",
    "        data1_overlap[key] = data1[key]\n",
    "        data2_overlap[key] = data2[key]\n",
    "    scores1 = extract_scores(data1_overlap)\n",
    "    scores2 = extract_scores(data2_overlap)\n",
    "    \n",
    "    return cohens_kappa(scores1, scores2)\n",
    "\n",
    "# Example usage\n",
    "file1 = 'manual_labels_can.json'\n",
    "file2 = 'manual_labels_adam.json'\n",
    "kappa_scores = compute_kappa_for_files(file1, file2)\n",
    "\n",
    "print(\"Cohen's Kappa scores for each category:\")\n",
    "for category, score in kappa_scores.items():\n",
    "    print(f\"{category}: {score:.4f}\")"
   ]
  },
  {
   "cell_type": "code",
   "execution_count": null,
   "metadata": {},
   "outputs": [],
   "source": []
  }
 ],
 "metadata": {
  "kernelspec": {
   "display_name": "mats-env",
   "language": "python",
   "name": "python3"
  },
  "language_info": {
   "codemirror_mode": {
    "name": "ipython",
    "version": 3
   },
   "file_extension": ".py",
   "mimetype": "text/x-python",
   "name": "python",
   "nbconvert_exporter": "python",
   "pygments_lexer": "ipython3",
   "version": "3.12.2"
  }
 },
 "nbformat": 4,
 "nbformat_minor": 2
}
