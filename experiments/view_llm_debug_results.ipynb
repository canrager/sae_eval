{
 "cells": [
  {
   "cell_type": "code",
   "execution_count": null,
   "metadata": {},
   "outputs": [],
   "source": [
    "import json\n",
    "\n",
    "with open(\"llm_debug_results.json\") as f:\n",
    "    data = json.load(f)\n",
    "\n",
    "for i, feat_idx in enumerate(data.keys()):\n",
    "\n",
    "    if i == 5:\n",
    "        print(feat_idx)\n",
    "        print(f\"Prompt: {data[feat_idx][-1]}\")\n",
    "        print(f\"Response: {data[feat_idx][0]}\")\n",
    "        print()\n",
    "        "
   ]
  }
 ],
 "metadata": {
  "kernelspec": {
   "display_name": "venv",
   "language": "python",
   "name": "python3"
  },
  "language_info": {
   "codemirror_mode": {
    "name": "ipython",
    "version": 3
   },
   "file_extension": ".py",
   "mimetype": "text/x-python",
   "name": "python",
   "nbconvert_exporter": "python",
   "pygments_lexer": "ipython3",
   "version": "3.11.8"
  }
 },
 "nbformat": 4,
 "nbformat_minor": 2
}
