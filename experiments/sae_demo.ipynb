{
 "cells": [
  {
   "cell_type": "code",
   "execution_count": null,
   "metadata": {},
   "outputs": [],
   "source": [
    "# First run these commands\n",
    "\n",
    "# huggingface-cli login # (Required for gemma-2-2b download)\n",
    "# git clone https://github.com/saprmarks/dictionary_learning.git\n",
    "# cd dictionary_learning\n",
    "# pip install -r requirements.txt\n",
    "# cd .."
   ]
  },
  {
   "cell_type": "code",
   "execution_count": null,
   "metadata": {},
   "outputs": [],
   "source": [
    "\n",
    "\n",
    "from huggingface_hub import snapshot_download\n",
    "import os\n",
    "\n",
    "repo_id = \"canrager/lm_sae\"\n",
    "\n",
    "# To download all trainers in resid_post_layer_11\n",
    "# folder_path = \"gemma-2-2b_sweep_topk_ctx128_ef2_0824/resid_post_layer_11\"\n",
    "\n",
    "# To download a checkpoint\n",
    "folder_path = \"gemma-2-2b_sweep_topk_ctx128_ef2_0824/resid_post_layer_11_checkpoints/trainer_1_step_4882\"\n",
    "\n",
    "# To download a single trainer\n",
    "folder_path = \"gemma-2-2b_sweep_topk_ctx128_ef2_0824/resid_post_layer_11/trainer_2\"\n",
    "\n",
    "local_dir = os.path.join(os.getcwd(), folder_path)\n",
    "\n",
    "downloaded_dir = snapshot_download(repo_id, allow_patterns=[f\"{folder_path}/*\"], local_dir=\"\", force_download=True)\n",
    "\n",
    "print(f\"Folder downloaded to {downloaded_dir}\")"
   ]
  },
  {
   "cell_type": "code",
   "execution_count": null,
   "metadata": {},
   "outputs": [],
   "source": [
    "import torch\n",
    "from nnsight import LanguageModel\n",
    "import json\n",
    "\n",
    "from dictionary_learning import AutoEncoder, ActivationBuffer\n",
    "from dictionary_learning.dictionary import (\n",
    "    IdentityDict,\n",
    "    GatedAutoEncoder,\n",
    "    AutoEncoderNew,\n",
    ")\n",
    "from dictionary_learning.trainers.top_k import AutoEncoderTopK"
   ]
  },
  {
   "cell_type": "code",
   "execution_count": null,
   "metadata": {},
   "outputs": [],
   "source": [
    "\n",
    "\n",
    "model_name = \"google/gemma-2-2b\"\n",
    "device = \"cpu\"\n",
    "model_dtype = torch.bfloat16\n",
    "\n",
    "model = LanguageModel(\n",
    "    model_name,\n",
    "    device_map=device,\n",
    "    dispatch=True,\n",
    "    attn_implementation=\"eager\",\n",
    "    torch_dtype=model_dtype,\n",
    ")"
   ]
  },
  {
   "cell_type": "code",
   "execution_count": null,
   "metadata": {},
   "outputs": [],
   "source": [
    "ae_path = \"gemma-2-2b_sweep_topk_ctx128_ef2_0824/resid_post_layer_11/trainer_2/ae.pt\"\n",
    "config_path = \"gemma-2-2b_sweep_topk_ctx128_ef2_0824/resid_post_layer_11/trainer_2/config.json\"\n",
    "\n",
    "with open(config_path, \"r\") as f:\n",
    "    config = json.load(f)\n",
    "\n",
    "submodule_str = config[\"trainer\"][\"submodule_name\"]\n",
    "layer = config[\"trainer\"][\"layer\"]\n",
    "ae_model_name = config[\"trainer\"][\"lm_name\"]\n",
    "dict_class = config[\"trainer\"][\"dict_class\"]\n",
    "\n",
    "assert model_name == ae_model_name\n",
    "\n",
    "submodule = model.model.layers[layer]\n",
    "\n",
    "if dict_class == \"AutoEncoderTopK\":\n",
    "    k = config[\"trainer\"][\"k\"]\n",
    "    dictionary = AutoEncoderTopK.from_pretrained(ae_path, k=k, device=device)"
   ]
  },
  {
   "cell_type": "code",
   "execution_count": null,
   "metadata": {},
   "outputs": [],
   "source": [
    "with model.trace(\"Hello World\"):\n",
    "    activations_BLD = submodule.output\n",
    "\n",
    "    if type(submodule.output.shape) == tuple:\n",
    "        activations_BLD = activations_BLD[0]\n",
    "\n",
    "    activations_BLD = activations_BLD.save()\n",
    "\n",
    "print(activations_BLD.shape)\n"
   ]
  },
  {
   "cell_type": "code",
   "execution_count": null,
   "metadata": {},
   "outputs": [],
   "source": [
    "ae_activations_BLF = dictionary.encode(activations_BLD)\n",
    "print(ae_activations_BLF.shape)\n",
    "reconstructed_activations_BLD = dictionary.decode(ae_activations_BLF)\n",
    "print(reconstructed_activations_BLD.shape)"
   ]
  },
  {
   "cell_type": "code",
   "execution_count": null,
   "metadata": {},
   "outputs": [],
   "source": [
    "l0 = (ae_activations_BLF != 0).float().sum(dim=-1).mean()\n",
    "l2_loss = torch.linalg.norm(activations_BLD - reconstructed_activations_BLD, dim=-1).mean()\n",
    "\n",
    "print(l0, l2_loss)"
   ]
  }
 ],
 "metadata": {
  "kernelspec": {
   "display_name": "base",
   "language": "python",
   "name": "python3"
  },
  "language_info": {
   "codemirror_mode": {
    "name": "ipython",
    "version": 3
   },
   "file_extension": ".py",
   "mimetype": "text/x-python",
   "name": "python",
   "nbconvert_exporter": "python",
   "pygments_lexer": "ipython3",
   "version": "3.11.8"
  }
 },
 "nbformat": 4,
 "nbformat_minor": 2
}
