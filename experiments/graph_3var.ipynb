{
 "cells": [
  {
   "cell_type": "code",
   "execution_count": 33,
   "metadata": {},
   "outputs": [
    {
     "name": "stdout",
     "output_type": "stream",
     "text": [
      "['../dictionary_learning/dictionaries/pythia70m_sweep_topk_ctx128_0730/resid_post_layer_3/trainer_0/', '../dictionary_learning/dictionaries/pythia70m_sweep_topk_ctx128_0730/resid_post_layer_3/trainer_1/', '../dictionary_learning/dictionaries/pythia70m_sweep_topk_ctx128_0730/resid_post_layer_3/trainer_2/', '../dictionary_learning/dictionaries/pythia70m_sweep_topk_ctx128_0730/resid_post_layer_3/trainer_3/', '../dictionary_learning/dictionaries/pythia70m_sweep_topk_ctx128_0730/resid_post_layer_3/trainer_4/', '../dictionary_learning/dictionaries/pythia70m_sweep_topk_ctx128_0730/resid_post_layer_3/trainer_5/', '../dictionary_learning/dictionaries/pythia70m_sweep_topk_ctx128_0730/resid_post_layer_3/trainer_6/', '../dictionary_learning/dictionaries/pythia70m_sweep_topk_ctx128_0730/resid_post_layer_3/trainer_7/', '../dictionary_learning/dictionaries/pythia70m_sweep_topk_ctx128_0730/resid_post_layer_3/trainer_8/', '../dictionary_learning/dictionaries/pythia70m_sweep_topk_ctx128_0730/resid_post_layer_3/trainer_9/', '../dictionary_learning/dictionaries/pythia70m_sweep_topk_ctx128_0730/resid_post_layer_3/trainer_10/', '../dictionary_learning/dictionaries/pythia70m_sweep_topk_ctx128_0730/resid_post_layer_3/trainer_11/', '../dictionary_learning/dictionaries/pythia70m_sweep_topk_ctx128_0730/resid_post_layer_3/trainer_12/', '../dictionary_learning/dictionaries/pythia70m_sweep_topk_ctx128_0730/resid_post_layer_3/trainer_13/', '../dictionary_learning/dictionaries/pythia70m_sweep_topk_ctx128_0730/resid_post_layer_3/trainer_14/', '../dictionary_learning/dictionaries/pythia70m_sweep_topk_ctx128_0730/resid_post_layer_3/trainer_15/', '../dictionary_learning/dictionaries/pythia70m_sweep_topk_ctx128_0730/resid_post_layer_3/trainer_16/', '../dictionary_learning/dictionaries/pythia70m_sweep_topk_ctx128_0730/resid_post_layer_3/trainer_17/', '../dictionary_learning/dictionaries/pythia70m_sweep_topk_ctx128_0730/resid_post_layer_3/trainer_18/', '../dictionary_learning/dictionaries/pythia70m_sweep_topk_ctx128_0730/resid_post_layer_3/trainer_19/', '../dictionary_learning/dictionaries/pythia70m_sweep_topk_ctx128_0730/resid_post_layer_3/trainer_20/', '../dictionary_learning/dictionaries/pythia70m_sweep_topk_ctx128_0730/resid_post_layer_3/trainer_21/', '../dictionary_learning/dictionaries/pythia70m_sweep_topk_ctx128_0730/resid_post_layer_3/trainer_22/', '../dictionary_learning/dictionaries/pythia70m_sweep_topk_ctx128_0730/resid_post_layer_3/trainer_23/']\n"
     ]
    }
   ],
   "source": [
    "import matplotlib.pyplot as plt\n",
    "import json\n",
    "import torch\n",
    "import pickle\n",
    "from typing import Optional\n",
    "from matplotlib.colors import Normalize\n",
    "import numpy as np\n",
    "import os\n",
    "\n",
    "import experiments.utils as utils\n",
    "\n",
    "\n",
    "\n",
    "dictionaries_path = \"../dictionary_learning/dictionaries\"\n",
    "\n",
    "# Another way to generate graphs, where you manually populate sweep_name and submodule_trainers\n",
    "sweep_name = \"pythia70m_test_sae\"\n",
    "submodule_trainers = {\"resid_post_layer_3\": {\"trainer_ids\": [0]}}\n",
    "\n",
    "# Current recommended way to generate graphs. You can copy paste ae_sweep_paths directly from bib_intervention.py\n",
    "ae_sweep_paths = {\n",
    "    \"pythia70m_sweep_standard_ctx128_0712\": {\n",
    "        \"resid_post_layer_3\": {\"trainer_ids\": [1, 7, 11, 18]}\n",
    "    }\n",
    "}\n",
    "\n",
    "\n",
    "ae_sweep_paths = {\n",
    "    \"pythia70m_sweep_standard_ctx128_0712\": {\n",
    "        # \"resid_post_layer_0\": {\"trainer_ids\": None},\n",
    "        # \"resid_post_layer_1\": {\"trainer_ids\": None},\n",
    "        # \"resid_post_layer_2\": {\"trainer_ids\": None},\n",
    "        # \"resid_post_layer_3\": {\"trainer_ids\": None},\n",
    "        # \"resid_post_layer_4\": {\"trainer_ids\": None},\n",
    "    },\n",
    "    \"pythia70m_sweep_topk_ctx128_0730\": {\n",
    "        # \"resid_post_layer_0\": {\"trainer_ids\": None},\n",
    "        # \"resid_post_layer_1\": {\"trainer_ids\": None},\n",
    "        # \"resid_post_layer_2\": {\"trainer_ids\": None},\n",
    "        \"resid_post_layer_3\": {\"trainer_ids\": None},\n",
    "        # \"resid_post_layer_4\": {\"trainer_ids\": None},\n",
    "    }\n",
    "}\n",
    "\n",
    "# ae_sweep_paths = {\n",
    "#     \"pythia70m_sweep_topk_ctx128_0730\": {\n",
    "#         # \"resid_post_layer_0\": {\"trainer_ids\": None},\n",
    "#         # \"resid_post_layer_1\": {\"trainer_ids\": None},\n",
    "#         # \"resid_post_layer_2\": {\"trainer_ids\": None},\n",
    "#         \"resid_post_layer_3\": {\"trainer_ids\": None},\n",
    "#         # \"resid_post_layer_4\": {\"trainer_ids\": None},\n",
    "#     }\n",
    "# }\n",
    "\n",
    "\n",
    "sweep_name = list(ae_sweep_paths.keys())[0]\n",
    "submodule_trainers = ae_sweep_paths[sweep_name]\n",
    "\n",
    "# If not empty, this will filter to only include the specified class ids\n",
    "# filter_class_ids = []\n",
    "intended_filter_class_ids = [-2]\n",
    "unintended_filter_class_ids = [-4]\n",
    "\n",
    "ae_paths = []\n",
    "\n",
    "for sweep_name, submodule_trainers in ae_sweep_paths.items():\n",
    "\n",
    "    ae_group_paths = utils.get_ae_group_paths(\n",
    "        dictionaries_path, sweep_name, submodule_trainers\n",
    "    )\n",
    "    ae_paths.extend(utils.get_ae_paths(ae_group_paths))\n",
    "\n",
    "\n",
    "# If you haven't ran bib_intervenion.py before and there's no class accuracies file\n",
    "# Set include_diff to False. You can still view the L0 / Loss recovered curve\n",
    "# And you can view various SAE hyperparameters like sparsity penalty in the 3 variable plot\n",
    "include_diff = True\n",
    "\n",
    "print(ae_paths)"
   ]
  },
  {
   "cell_type": "code",
   "execution_count": 34,
   "metadata": {},
   "outputs": [
    {
     "name": "stdout",
     "output_type": "stream",
     "text": [
      "{-1: {-4: 0.9020000696182251, -2: 0.9760000705718994}, -4: {10: {-4: 0.8330000638961792, -2: 0.968000054359436}, 50: {-4: 0.6160000562667847, -2: 0.971000075340271}, 500: {-4: 0.5040000081062317, -2: 0.9790000319480896}, 1000: {-4: 0.503000020980835, -2: 0.9760000705718994}}, -2: {10: {-4: 0.8880000710487366, -2: 0.8390000462532043}, 50: {-4: 0.8910000324249268, -2: 0.6760000586509705}, 500: {-4: 0.8830000162124634, -2: 0.5700000524520874}, 1000: {-4: 0.8800000548362732, -2: 0.5509999990463257}}}\n",
      "{-1: {-4: 0.9020000696182251, -2: 0.9760000705718994}, -4: {10: {-4: 0.8330000638961792, -2: 0.9740000367164612}, 50: {-4: 0.6130000352859497, -2: 0.968000054359436}, 500: {-4: 0.5020000338554382, -2: 0.9740000367164612}, 1000: {-4: 0.5070000290870667, -2: 0.9740000367164612}}, -2: {10: {-4: 0.89000004529953, -2: 0.8380000591278076}, 50: {-4: 0.8850000500679016, -2: 0.6760000586509705}, 500: {-4: 0.8820000290870667, -2: 0.5670000314712524}, 1000: {-4: 0.8730000257492065, -2: 0.5470000505447388}}}\n",
      "{-1: {-4: 0.9020000696182251, -2: 0.9760000705718994}, -4: {10: {-4: 0.8690000176429749, -2: 0.9450000524520874}, 50: {-4: 0.7610000371932983, -2: 0.9500000476837158}, 500: {-4: 0.5750000476837158, -2: 0.9590000510215759}, 1000: {-4: 0.5350000262260437, -2: 0.9610000252723694}}, -2: {10: {-4: 0.8920000195503235, -2: 0.6480000019073486}, 50: {-4: 0.9020000696182251, -2: 0.5840000510215759}, 500: {-4: 0.8820000290870667, -2: 0.5490000247955322}, 1000: {-4: 0.8910000324249268, -2: 0.5450000166893005}}}\n",
      "{-1: {-4: 0.9020000696182251, -2: 0.9760000705718994}, -4: {10: {-4: 0.8550000190734863, -2: 0.9470000267028809}, 50: {-4: 0.7430000305175781, -2: 0.9540000557899475}, 500: {-4: 0.5630000233650208, -2: 0.956000030040741}, 1000: {-4: 0.5420000553131104, -2: 0.9620000720024109}}, -2: {10: {-4: 0.8940000534057617, -2: 0.6180000305175781}, 50: {-4: 0.9030000567436218, -2: 0.5980000495910645}, 500: {-4: 0.8840000629425049, -2: 0.5520000457763672}, 1000: {-4: 0.8980000615119934, -2: 0.5590000152587891}}}\n",
      "{-1: {-4: 0.9020000696182251, -2: 0.9760000705718994}, -4: {10: {-4: 0.8220000267028809, -2: 0.9780000448226929}, 50: {-4: 0.6040000319480896, -2: 0.9790000319480896}, 500: {-4: 0.492000013589859, -2: 0.956000030040741}, 1000: {-4: 0.49900001287460327, -2: 0.9550000429153442}}, -2: {10: {-4: 0.9010000228881836, -2: 0.6540000438690186}, 50: {-4: 0.8920000195503235, -2: 0.5360000133514404}, 500: {-4: 0.9100000262260437, -2: 0.5090000033378601}, 1000: {-4: 0.8960000276565552, -2: 0.5200000405311584}}}\n",
      "{-1: {-4: 0.9020000696182251, -2: 0.9760000705718994}, -4: {10: {-4: 0.8360000252723694, -2: 0.9830000400543213}, 50: {-4: 0.5730000138282776, -2: 0.9740000367164612}, 500: {-4: 0.5049999952316284, -2: 0.9650000333786011}, 1000: {-4: 0.5070000290870667, -2: 0.9510000348091125}}, -2: {10: {-4: 0.9020000696182251, -2: 0.6420000195503235}, 50: {-4: 0.8920000195503235, -2: 0.5290000438690186}, 500: {-4: 0.8970000147819519, -2: 0.5250000357627869}, 1000: {-4: 0.909000039100647, -2: 0.51500004529953}}}\n",
      "{-1: {-4: 0.9020000696182251, -2: 0.9760000705718994}, -4: {10: {-4: 0.7930000424385071, -2: 0.9760000705718994}, 50: {-4: 0.6040000319480896, -2: 0.9760000705718994}, 500: {-4: 0.5170000195503235, -2: 0.9790000319480896}, 1000: {-4: 0.5260000228881836, -2: 0.9820000529289246}}, -2: {10: {-4: 0.8950000405311584, -2: 0.6490000486373901}, 50: {-4: 0.9030000567436218, -2: 0.5480000376701355}, 500: {-4: 0.89000004529953, -2: 0.4880000352859497}, 1000: {-4: 0.893000066280365, -2: 0.5270000100135803}}}\n",
      "{-1: {-4: 0.9020000696182251, -2: 0.9760000705718994}, -4: {10: {-4: 0.796000063419342, -2: 0.9790000319480896}, 50: {-4: 0.6130000352859497, -2: 0.9730000495910645}, 500: {-4: 0.51500004529953, -2: 0.9780000448226929}, 1000: {-4: 0.5020000338554382, -2: 0.9820000529289246}}, -2: {10: {-4: 0.8920000195503235, -2: 0.6460000276565552}, 50: {-4: 0.89000004529953, -2: 0.5630000233650208}, 500: {-4: 0.9070000648498535, -2: 0.4910000264644623}, 1000: {-4: 0.89000004529953, -2: 0.5049999952316284}}}\n",
      "{-1: {-4: 0.9020000696182251, -2: 0.9760000705718994}, -4: {10: {-4: 0.737000048160553, -2: 0.9750000238418579}, 50: {-4: 0.4870000183582306, -2: 0.9740000367164612}, 500: {-4: 0.49800002574920654, -2: 0.9500000476837158}, 1000: {-4: 0.4870000183582306, -2: 0.9550000429153442}}, -2: {10: {-4: 0.9020000696182251, -2: 0.5430000424385071}, 50: {-4: 0.8990000486373901, -2: 0.5}, 500: {-4: 0.893000066280365, -2: 0.5080000162124634}, 1000: {-4: 0.8890000581741333, -2: 0.5130000114440918}}}\n",
      "{-1: {-4: 0.9020000696182251, -2: 0.9760000705718994}, -4: {10: {-4: 0.7190000414848328, -2: 0.9750000238418579}, 50: {-4: 0.49000000953674316, -2: 0.9700000286102295}, 500: {-4: 0.5190000534057617, -2: 0.9640000462532043}, 1000: {-4: 0.5090000033378601, -2: 0.9490000605583191}}, -2: {10: {-4: 0.9120000600814819, -2: 0.5320000052452087}, 50: {-4: 0.9120000600814819, -2: 0.4880000352859497}, 500: {-4: 0.89000004529953, -2: 0.4960000216960907}, 1000: {-4: 0.893000066280365, -2: 0.5070000290870667}}}\n",
      "{-1: {-4: 0.9020000696182251, -2: 0.9760000705718994}, -4: {10: {-4: 0.6690000295639038, -2: 0.9810000658035278}, 50: {-4: 0.5120000243186951, -2: 0.9600000381469727}, 500: {-4: 0.4880000352859497, -2: 0.968000054359436}, 1000: {-4: 0.4830000102519989, -2: 0.9620000720024109}}, -2: {10: {-4: 0.8950000405311584, -2: 0.5180000066757202}, 50: {-4: 0.8950000405311584, -2: 0.51500004529953}, 500: {-4: 0.878000020980835, -2: 0.4930000305175781}, 1000: {-4: 0.8870000243186951, -2: 0.4930000305175781}}}\n",
      "{-1: {-4: 0.9020000696182251, -2: 0.9760000705718994}, -4: {10: {-4: 0.6910000443458557, -2: 0.9740000367164612}, 50: {-4: 0.5270000100135803, -2: 0.9620000720024109}, 500: {-4: 0.5070000290870667, -2: 0.9610000252723694}, 1000: {-4: 0.4690000116825104, -2: 0.9650000333786011}}, -2: {10: {-4: 0.8980000615119934, -2: 0.5420000553131104}, 50: {-4: 0.8920000195503235, -2: 0.4930000305175781}, 500: {-4: 0.8950000405311584, -2: 0.503000020980835}, 1000: {-4: 0.8960000276565552, -2: 0.4970000088214874}}}\n",
      "{-1: {-4: 0.9020000696182251, -2: 0.9760000705718994}, -4: {10: {-4: 0.6320000290870667, -2: 0.9760000705718994}, 50: {-4: 0.5139999985694885, -2: 0.9740000367164612}, 500: {-4: 0.5110000371932983, -2: 0.9610000252723694}, 1000: {-4: 0.49000000953674316, -2: 0.9620000720024109}}, -2: {10: {-4: 0.8870000243186951, -2: 0.5200000405311584}, 50: {-4: 0.9040000438690186, -2: 0.5070000290870667}, 500: {-4: 0.8910000324249268, -2: 0.5100000500679016}, 1000: {-4: 0.8760000467300415, -2: 0.5}}}\n",
      "{-1: {-4: 0.9020000696182251, -2: 0.9760000705718994}, -4: {10: {-4: 0.6470000147819519, -2: 0.9750000238418579}, 50: {-4: 0.5, -2: 0.9790000319480896}, 500: {-4: 0.5, -2: 0.968000054359436}, 1000: {-4: 0.5080000162124634, -2: 0.9590000510215759}}, -2: {10: {-4: 0.8960000276565552, -2: 0.5220000147819519}, 50: {-4: 0.8910000324249268, -2: 0.5090000033378601}, 500: {-4: 0.8800000548362732, -2: 0.49800002574920654}, 1000: {-4: 0.8460000157356262, -2: 0.4910000264644623}}}\n",
      "{-1: {-4: 0.9020000696182251, -2: 0.9760000705718994}, -4: {10: {-4: 0.6490000486373901, -2: 0.9780000448226929}, 50: {-4: 0.48900002241134644, -2: 0.9730000495910645}, 500: {-4: 0.48600003123283386, -2: 0.9760000705718994}, 1000: {-4: 0.5040000081062317, -2: 0.9720000624656677}}, -2: {10: {-4: 0.8910000324249268, -2: 0.4970000088214874}, 50: {-4: 0.9030000567436218, -2: 0.5}, 500: {-4: 0.8790000677108765, -2: 0.4910000264644623}, 1000: {-4: 0.8950000405311584, -2: 0.4910000264644623}}}\n",
      "{-1: {-4: 0.9020000696182251, -2: 0.9760000705718994}, -4: {10: {-4: 0.6630000472068787, -2: 0.9780000448226929}, 50: {-4: 0.49900001287460327, -2: 0.971000075340271}, 500: {-4: 0.5090000033378601, -2: 0.9770000576972961}, 1000: {-4: 0.4930000305175781, -2: 0.9730000495910645}}, -2: {10: {-4: 0.8950000405311584, -2: 0.5070000290870667}, 50: {-4: 0.8960000276565552, -2: 0.5100000500679016}, 500: {-4: 0.8950000405311584, -2: 0.49400001764297485}, 1000: {-4: 0.89000004529953, -2: 0.4960000216960907}}}\n",
      "{-1: {-4: 0.9020000696182251, -2: 0.9760000705718994}, -4: {10: {-4: 0.4870000183582306, -2: 0.937000036239624}, 50: {-4: 0.5070000290870667, -2: 0.7290000319480896}, 500: {-4: 0.47600001096725464, -2: 0.5470000505447388}, 1000: {-4: 0.49900001287460327, -2: 0.527999997138977}}, -2: {10: {-4: 0.8950000405311584, -2: 0.492000013589859}, 50: {-4: 0.8660000562667847, -2: 0.5110000371932983}, 500: {-4: 0.8600000143051147, -2: 0.49800002574920654}, 1000: {-4: 0.8860000371932983, -2: 0.49900001287460327}}}\n",
      "{-1: {-4: 0.9020000696182251, -2: 0.9760000705718994}, -4: {10: {-4: 0.5070000290870667, -2: 0.9340000152587891}, 50: {-4: 0.5110000371932983, -2: 0.7240000367164612}, 500: {-4: 0.48900002241134644, -2: 0.5300000309944153}, 1000: {-4: 0.5010000467300415, -2: 0.5450000166893005}}, -2: {10: {-4: 0.8950000405311584, -2: 0.4780000150203705}, 50: {-4: 0.8670000433921814, -2: 0.5110000371932983}, 500: {-4: 0.8740000128746033, -2: 0.4870000183582306}, 1000: {-4: 0.8870000243186951, -2: 0.5139999985694885}}}\n",
      "{-1: {-4: 0.9020000696182251, -2: 0.9760000705718994}, -4: {10: {-4: 0.6460000276565552, -2: 0.9530000686645508}, 50: {-4: 0.4880000352859497, -2: 0.9520000219345093}, 500: {-4: 0.49000000953674316, -2: 0.8830000162124634}, 1000: {-4: 0.49800002574920654, -2: 0.8970000147819519}}, -2: {10: {-4: 0.8950000405311584, -2: 0.48100003600120544}, 50: {-4: 0.8960000276565552, -2: 0.48500001430511475}, 500: {-4: 0.8570000529289246, -2: 0.5090000033378601}, 1000: {-4: 0.8650000691413879, -2: 0.5049999952316284}}}\n",
      "{-1: {-4: 0.9020000696182251, -2: 0.9760000705718994}, -4: {10: {-4: 0.6210000514984131, -2: 0.9570000171661377}, 50: {-4: 0.5070000290870667, -2: 0.9580000638961792}, 500: {-4: 0.5080000162124634, -2: 0.8850000500679016}, 1000: {-4: 0.51500004529953, -2: 0.893000066280365}}, -2: {10: {-4: 0.8980000615119934, -2: 0.5130000114440918}, 50: {-4: 0.8950000405311584, -2: 0.4820000231266022}, 500: {-4: 0.862000048160553, -2: 0.503000020980835}, 1000: {-4: 0.8680000305175781, -2: 0.4970000088214874}}}\n",
      "{-1: {-4: 0.9020000696182251, -2: 0.9760000705718994}, -4: {10: {-4: 0.5020000338554382, -2: 0.9310000538825989}, 50: {-4: 0.5110000371932983, -2: 0.9150000214576721}, 500: {-4: 0.4880000352859497, -2: 0.51500004529953}, 1000: {-4: 0.5100000500679016, -2: 0.4910000264644623}}, -2: {10: {-4: 0.9010000228881836, -2: 0.49800002574920654}, 50: {-4: 0.8130000233650208, -2: 0.49900001287460327}, 500: {-4: 0.5100000500679016, -2: 0.5}, 1000: {-4: 0.5090000033378601, -2: 0.484000027179718}}}\n",
      "{-1: {-4: 0.9020000696182251, -2: 0.9760000705718994}, -4: {10: {-4: 0.4930000305175781, -2: 0.9280000329017639}, 50: {-4: 0.5080000162124634, -2: 0.909000039100647}, 500: {-4: 0.47600001096725464, -2: 0.48500001430511475}, 1000: {-4: 0.49000000953674316, -2: 0.5049999952316284}}, -2: {10: {-4: 0.9040000438690186, -2: 0.5040000081062317}, 50: {-4: 0.8250000476837158, -2: 0.49800002574920654}, 500: {-4: 0.484000027179718, -2: 0.4870000183582306}, 1000: {-4: 0.4870000183582306, -2: 0.5160000324249268}}}\n",
      "{-1: {-4: 0.9020000696182251, -2: 0.9760000705718994}, -4: {10: {-4: 0.49800002574920654, -2: 0.9740000367164612}, 50: {-4: 0.5070000290870667, -2: 0.9630000591278076}, 500: {-4: 0.5100000500679016, -2: 0.4970000088214874}, 1000: {-4: 0.5110000371932983, -2: 0.5139999985694885}}, -2: {10: {-4: 0.8670000433921814, -2: 0.5049999952316284}, 50: {-4: 0.687000036239624, -2: 0.5130000114440918}, 500: {-4: 0.5220000147819519, -2: 0.5090000033378601}, 1000: {-4: 0.5160000324249268, -2: 0.49900001287460327}}}\n",
      "{-1: {-4: 0.9020000696182251, -2: 0.9760000705718994}, -4: {10: {-4: 0.5100000500679016, -2: 0.9760000705718994}, 50: {-4: 0.5040000081062317, -2: 0.9660000205039978}, 500: {-4: 0.47700002789497375, -2: 0.49400001764297485}, 1000: {-4: 0.4880000352859497, -2: 0.492000013589859}}, -2: {10: {-4: 0.878000020980835, -2: 0.5080000162124634}, 50: {-4: 0.7120000123977661, -2: 0.4960000216960907}, 500: {-4: 0.4910000264644623, -2: 0.49400001764297485}, 1000: {-4: 0.4970000088214874, -2: 0.5070000290870667}}}\n"
     ]
    }
   ],
   "source": [
    "results = {}\n",
    "threshold = 0.1\n",
    "threshold = 10\n",
    "\n",
    "# There's a potential issue as we currently assume that all SAEs have the same classes.\n",
    "\n",
    "\n",
    "def get_classes(first_path: str) -> list[int]:\n",
    "    class_accuracies_file = f\"{first_path}/class_accuracies.pkl\"\n",
    "    with open(class_accuracies_file, \"rb\") as f:\n",
    "        class_accuracies = pickle.load(f)\n",
    "    return list(class_accuracies[-1].keys())\n",
    "\n",
    "\n",
    "for ae_path in ae_paths:\n",
    "\n",
    "    eval_results_file = f\"{ae_path}/eval_results.json\"\n",
    "\n",
    "    if not os.path.exists(eval_results_file):\n",
    "        print(f\"Warning: {eval_results_file} does not exist.\")\n",
    "        continue\n",
    "\n",
    "    with open(eval_results_file, \"r\") as f:\n",
    "        eval_results = json.load(f)\n",
    "\n",
    "    l0 = eval_results[\"l0\"]\n",
    "    frac_recovered = eval_results[\"frac_recovered\"]\n",
    "\n",
    "    results[ae_path] = {\n",
    "        \"l0\": l0,\n",
    "        \"frac_recovered\": frac_recovered,\n",
    "    }\n",
    "\n",
    "    config_file = f\"{ae_path}/config.json\"\n",
    "\n",
    "    with open(config_file, \"r\") as f:\n",
    "        config = json.load(f)\n",
    "\n",
    "    results[ae_path][\"trainer_class\"] = config[\"trainer\"][\"trainer_class\"]\n",
    "\n",
    "    # results[ae_path][\"l1_penalty\"] = config[\"trainer\"][\"l1_penalty\"]\n",
    "    # results[ae_path][\"lr\"] = config[\"trainer\"][\"lr\"]\n",
    "    # results[ae_path][\"dict_size\"] = config[\"trainer\"][\"dict_size\"]\n",
    "\n",
    "    # # Use these to analyze hyperparameters vs L0 / frac recovered\n",
    "    # results[ae_path][\"average_diff\"] = results[ae_path][\"l1_penalty\"]\n",
    "    # results[ae_path][\"average_diff\"] = results[ae_path][\"lr\"]  \n",
    "    # results[ae_path][\"average_diff\"] = results[ae_path][\"dict_size\"]\n",
    "\n",
    "    if not include_diff:\n",
    "        continue\n",
    "\n",
    "    intended_diffs = []\n",
    "    unintended_diffs = []\n",
    "\n",
    "    class_accuracies_file = f\"{ae_path}/class_accuracies.pkl\"\n",
    "\n",
    "    if not os.path.exists(class_accuracies_file):\n",
    "        print(f\"Warning: {class_accuracies_file} does not exist. Removing this path from results.\")\n",
    "        del results[ae_path]\n",
    "        continue\n",
    "\n",
    "    with open(class_accuracies_file, \"rb\") as f:\n",
    "        class_accuracies = pickle.load(f)\n",
    "\n",
    "    classes = list(class_accuracies[-1].keys())\n",
    "\n",
    "    print(class_accuracies)\n",
    "    # for class_id in classes:\n",
    "    #     print(class_accuracies[-1][class_id])\n",
    "\n",
    "    for class_id in classes:\n",
    "\n",
    "        if intended_filter_class_ids and class_id not in intended_filter_class_ids:\n",
    "            continue\n",
    "\n",
    "        clean = class_accuracies[-1][class_id]\n",
    "        patched = class_accuracies[class_id][threshold][class_id]\n",
    "\n",
    "        diff = clean - patched\n",
    "        intended_diffs.append(diff)\n",
    "\n",
    "    for intended_class_id in classes:\n",
    "\n",
    "        if intended_filter_class_ids and intended_class_id not in intended_filter_class_ids:\n",
    "            continue\n",
    "\n",
    "        for unintended_class_id in classes:\n",
    "            if intended_class_id == unintended_class_id:\n",
    "                continue\n",
    "\n",
    "            if unintended_filter_class_ids and unintended_class_id not in unintended_filter_class_ids:\n",
    "                continue\n",
    "\n",
    "            clean = class_accuracies[-1][unintended_class_id]\n",
    "            patched = class_accuracies[intended_class_id][threshold][unintended_class_id]\n",
    "            diff = clean - patched\n",
    "            unintended_diffs.append(diff)\n",
    "\n",
    "    average_intended_diff = sum(intended_diffs) / len(intended_diffs)\n",
    "    average_unintended_diff = sum(unintended_diffs) / len(unintended_diffs)\n",
    "    average_diff = average_intended_diff - average_unintended_diff\n",
    "\n",
    "    results[ae_path][\"average_diff\"] = average_diff\n",
    "    results[ae_path][\"average_intended_diff\"] = average_intended_diff\n",
    "    results[ae_path][\"average_unintended_diff\"] = average_unintended_diff\n",
    "\n",
    "\n",
    "    # results[ae_path][\"average_diff\"] = average_intended_diff\n"
   ]
  },
  {
   "cell_type": "code",
   "execution_count": 35,
   "metadata": {},
   "outputs": [
    {
     "name": "stdout",
     "output_type": "stream",
     "text": [
      "Filtered out 4 results with L0 > 500\n"
     ]
    }
   ],
   "source": [
    "l0_threshold = None\n",
    "l0_threshold = 500\n",
    "\n",
    "if l0_threshold is not None:\n",
    "    filtered_results = {\n",
    "        path: data for path, data in results.items() \n",
    "        if data['l0'] <= l0_threshold\n",
    "    }\n",
    "    \n",
    "    # Optional: Print how many results were filtered out\n",
    "    filtered_count = len(results) - len(filtered_results)\n",
    "    print(f\"Filtered out {filtered_count} results with L0 > {l0_threshold}\")\n",
    "    \n",
    "    # Replace the original results with the filtered results\n",
    "    results = filtered_results"
   ]
  },
  {
   "cell_type": "code",
   "execution_count": 39,
   "metadata": {},
   "outputs": [
    {
     "data": {
      "image/png": "[encoded data removed]",
      "text/plain": [
       "<Figure size 1000x600 with 2 Axes>"
      ]
     },
     "metadata": {},
     "output_type": "display_data"
    }
   ],
   "source": [
    "# “Gated SAE”, “Gated SAE w/ p-annealing”, “Standard”, “Standard w/ p-annealing”\n",
    "label_lookup = {\n",
    "    \"StandardTrainer\": \"Standard\",\n",
    "    \"PAnnealTrainer\": \"Standard w/ p-annealing\",\n",
    "    \"GatedSAETrainer\": \"Gated SAE\",\n",
    "    # \"GatedAnnealTrainer\": \"Gated SAE w/ p-annealing\",\n",
    "    \"TrainerTopK\": \"Top K\",\n",
    "    # \"Identity\": \"Identity\",\n",
    "}\n",
    "\n",
    "unique_trainers = list(label_lookup.keys())\n",
    "\n",
    "# create a dictionary mapping trainer types to marker shapes\n",
    "trainer_markers = dict(zip(unique_trainers, [\"o\", \"X\", \"^\", \"d\"]))\n",
    "\n",
    "\n",
    "\n",
    "def plot_3var_graph(\n",
    "    results: dict,\n",
    "    xlims: Optional[tuple[float, float]] = None,\n",
    "    y_lims: Optional[tuple[float, float]] = None,\n",
    "    colorbar_label: str = \"Average Diff\",\n",
    "    output_filename: Optional[str] = None,\n",
    "    legend_location: str = \"lower right\",\n",
    "):\n",
    "    # Extract data from results\n",
    "    l0_values = [data['l0'] for data in results.values()]\n",
    "    frac_recovered_values = [data['frac_recovered'] for data in results.values()]\n",
    "    average_diff_values = [data['average_diff'] for data in results.values()]\n",
    "\n",
    "    # Create the scatter plot\n",
    "    fig, ax = plt.subplots(figsize=(10, 6))\n",
    "\n",
    "    # Create a normalize object for color scaling\n",
    "    norm = Normalize(vmin=min(average_diff_values), vmax=max(average_diff_values))\n",
    "\n",
    "    handles, labels = [], []\n",
    "\n",
    "    for trainer, marker in trainer_markers.items():\n",
    "\n",
    "        # Filter data for this trainer\n",
    "        trainer_data = {k: v for k, v in results.items() if v['trainer_class'] == trainer}\n",
    "        \n",
    "        if not trainer_data:\n",
    "            continue  # Skip this trainer if no data points\n",
    "\n",
    "        l0_values = [data['l0'] for data in trainer_data.values()]\n",
    "        frac_recovered_values = [data['frac_recovered'] for data in trainer_data.values()]\n",
    "        average_diff_values = [data['average_diff'] for data in trainer_data.values()]\n",
    "\n",
    "        # Plot data points\n",
    "        scatter = ax.scatter(\n",
    "            l0_values,\n",
    "            frac_recovered_values,\n",
    "            c=average_diff_values,\n",
    "            cmap=\"viridis\",\n",
    "            marker=marker,\n",
    "            s=100,\n",
    "            label=label_lookup[trainer],\n",
    "            norm=norm,\n",
    "            edgecolor=\"black\"\n",
    "        )\n",
    "\n",
    "        # custom legend stuff\n",
    "        _handle, _ = scatter.legend_elements(prop=\"sizes\")\n",
    "        _handle[0].set_markeredgecolor(\"black\")\n",
    "        _handle[0].set_markerfacecolor(\"white\")\n",
    "        _handle[0].set_markersize(10)\n",
    "        if marker == \"d\":\n",
    "            _handle[0].set_markersize(13)\n",
    "        handles += _handle\n",
    "        labels.append(label_lookup[trainer])\n",
    "\n",
    "    # Add colorbar\n",
    "    cbar = fig.colorbar(scatter, ax=ax, label=colorbar_label)\n",
    "\n",
    "    # Set labels and title\n",
    "    ax.set_xlabel(\"L0\")\n",
    "    ax.set_ylabel(\"Fraction Recovered\")\n",
    "    ax.set_title(f\"\"\"Ablating Top {threshold} features from attribution patching.\n",
    "                 Color is (intended class difference - unintended class difference).\n",
    "                 intended class = gender probe, unintended class = profession probe\"\"\")\n",
    "\n",
    "    ax.legend(handles, labels, loc=legend_location)\n",
    "\n",
    "    # Set axis limits\n",
    "    if xlims:\n",
    "        ax.set_xlim(*xlims)\n",
    "    if y_lims:\n",
    "        ax.set_ylim(*y_lims)\n",
    "\n",
    "    plt.tight_layout()\n",
    "\n",
    "    # Save and show the plot\n",
    "    if output_filename:\n",
    "        plt.savefig(output_filename, bbox_inches=\"tight\")\n",
    "    plt.show()\n",
    "\n",
    "# print(results)\n",
    "if include_diff:\n",
    "    plot_3var_graph(results)\n"
   ]
  },
  {
   "cell_type": "code",
   "execution_count": 37,
   "metadata": {},
   "outputs": [
    {
     "data": {
      "application/vnd.plotly.v1+json": {
       "config": {
        "plotlyServerURL": "https://plot.ly"
       },
       "data": [
        {
         "hoverinfo": "text",
         "marker": {
          "color": [
           0.12300002574920654,
           0.12599998712539673,
           0.31800001859664917,
           0.3500000238418579,
           0.32099997997283936,
           0.3340000510215759,
           0.3199999928474426,
           0.3199999928474426,
           0.43300002813339233,
           0.4540000557899475,
           0.45100003480911255,
           0.4300000071525574,
           0.44099998474121094,
           0.4480000138282776,
           0.46800002455711365,
           0.4620000123977661,
           0.47700002789497375,
           0.4910000264644623,
           0.4880000054836273,
           0.4590000510215759
          ],
          "colorscale": [
           [
            0,
            "#440154"
           ],
           [
            0.1111111111111111,
            "#482878"
           ],
           [
            0.2222222222222222,
            "#3e4989"
           ],
           [
            0.3333333333333333,
            "#31688e"
           ],
           [
            0.4444444444444444,
            "#26828e"
           ],
           [
            0.5555555555555556,
            "#1f9e89"
           ],
           [
            0.6666666666666666,
            "#35b779"
           ],
           [
            0.7777777777777778,
            "#6ece58"
           ],
           [
            0.8888888888888888,
            "#b5de2b"
           ],
           [
            1,
            "#fde725"
           ]
          ],
          "showscale": true,
          "size": 10
         },
         "mode": "markers",
         "text": [
          "AE Path: ../dictionary_learning/dictionaries/pythia70m_sweep_topk_ctx128_0730/resid_post_layer_3/trainer_0/<br>L0: 20.0000<br>Frac Recovered: 0.9358<br>Average Diff: 0.1230",
          "AE Path: ../dictionary_learning/dictionaries/pythia70m_sweep_topk_ctx128_0730/resid_post_layer_3/trainer_1/<br>L0: 20.0000<br>Frac Recovered: 0.9358<br>Average Diff: 0.1260",
          "AE Path: ../dictionary_learning/dictionaries/pythia70m_sweep_topk_ctx128_0730/resid_post_layer_3/trainer_2/<br>L0: 20.0000<br>Frac Recovered: 0.9574<br>Average Diff: 0.3180",
          "AE Path: ../dictionary_learning/dictionaries/pythia70m_sweep_topk_ctx128_0730/resid_post_layer_3/trainer_3/<br>L0: 20.0000<br>Frac Recovered: 0.9574<br>Average Diff: 0.3500",
          "AE Path: ../dictionary_learning/dictionaries/pythia70m_sweep_topk_ctx128_0730/resid_post_layer_3/trainer_4/<br>L0: 40.0000<br>Frac Recovered: 0.9547<br>Average Diff: 0.3210",
          "AE Path: ../dictionary_learning/dictionaries/pythia70m_sweep_topk_ctx128_0730/resid_post_layer_3/trainer_5/<br>L0: 40.0000<br>Frac Recovered: 0.9547<br>Average Diff: 0.3340",
          "AE Path: ../dictionary_learning/dictionaries/pythia70m_sweep_topk_ctx128_0730/resid_post_layer_3/trainer_6/<br>L0: 39.9700<br>Frac Recovered: 0.9666<br>Average Diff: 0.3200",
          "AE Path: ../dictionary_learning/dictionaries/pythia70m_sweep_topk_ctx128_0730/resid_post_layer_3/trainer_7/<br>L0: 39.8700<br>Frac Recovered: 0.9666<br>Average Diff: 0.3200",
          "AE Path: ../dictionary_learning/dictionaries/pythia70m_sweep_topk_ctx128_0730/resid_post_layer_3/trainer_8/<br>L0: 80.0000<br>Frac Recovered: 0.9640<br>Average Diff: 0.4330",
          "AE Path: ../dictionary_learning/dictionaries/pythia70m_sweep_topk_ctx128_0730/resid_post_layer_3/trainer_9/<br>L0: 80.0000<br>Frac Recovered: 0.9640<br>Average Diff: 0.4540",
          "AE Path: ../dictionary_learning/dictionaries/pythia70m_sweep_topk_ctx128_0730/resid_post_layer_3/trainer_10/<br>L0: 79.8000<br>Frac Recovered: 0.9776<br>Average Diff: 0.4510",
          "AE Path: ../dictionary_learning/dictionaries/pythia70m_sweep_topk_ctx128_0730/resid_post_layer_3/trainer_11/<br>L0: 80.0000<br>Frac Recovered: 0.9776<br>Average Diff: 0.4300",
          "AE Path: ../dictionary_learning/dictionaries/pythia70m_sweep_topk_ctx128_0730/resid_post_layer_3/trainer_12/<br>L0: 160.0000<br>Frac Recovered: 0.9843<br>Average Diff: 0.4410",
          "AE Path: ../dictionary_learning/dictionaries/pythia70m_sweep_topk_ctx128_0730/resid_post_layer_3/trainer_13/<br>L0: 159.8000<br>Frac Recovered: 0.9843<br>Average Diff: 0.4480",
          "AE Path: ../dictionary_learning/dictionaries/pythia70m_sweep_topk_ctx128_0730/resid_post_layer_3/trainer_14/<br>L0: 159.5800<br>Frac Recovered: 0.9883<br>Average Diff: 0.4680",
          "AE Path: ../dictionary_learning/dictionaries/pythia70m_sweep_topk_ctx128_0730/resid_post_layer_3/trainer_15/<br>L0: 159.4700<br>Frac Recovered: 0.9883<br>Average Diff: 0.4620",
          "AE Path: ../dictionary_learning/dictionaries/pythia70m_sweep_topk_ctx128_0730/resid_post_layer_3/trainer_16/<br>L0: 319.1600<br>Frac Recovered: 0.9983<br>Average Diff: 0.4770",
          "AE Path: ../dictionary_learning/dictionaries/pythia70m_sweep_topk_ctx128_0730/resid_post_layer_3/trainer_17/<br>L0: 319.6200<br>Frac Recovered: 0.9983<br>Average Diff: 0.4910",
          "AE Path: ../dictionary_learning/dictionaries/pythia70m_sweep_topk_ctx128_0730/resid_post_layer_3/trainer_18/<br>L0: 319.0200<br>Frac Recovered: 0.9982<br>Average Diff: 0.4880",
          "AE Path: ../dictionary_learning/dictionaries/pythia70m_sweep_topk_ctx128_0730/resid_post_layer_3/trainer_19/<br>L0: 319.4500<br>Frac Recovered: 0.9982<br>Average Diff: 0.4590"
         ],
         "type": "scatter",
         "x": [
          20,
          20,
          20,
          20,
          40,
          40,
          39.96999740600586,
          39.869998931884766,
          80,
          80,
          79.79999542236328,
          80,
          160,
          159.8000030517578,
          159.5800018310547,
          159.47000122070312,
          319.1600036621094,
          319.6199951171875,
          319.0199890136719,
          319.4499816894531
         ],
         "y": [
          0.9358097314834595,
          0.9358097314834595,
          0.9574421048164368,
          0.9574421048164368,
          0.9547033905982971,
          0.9547033905982971,
          0.966587245464325,
          0.966587245464325,
          0.9640280604362488,
          0.9640280604362488,
          0.9775798320770264,
          0.9775798320770264,
          0.9843444228172302,
          0.9843444228172302,
          0.9882849454879761,
          0.9882849454879761,
          0.9983206391334534,
          0.9983206391334534,
          0.9981680512428284,
          0.9981680512428284
         ]
        }
       ],
       "layout": {
        "hovermode": "closest",
        "template": {
         "data": {
          "bar": [
           {
            "error_x": {
             "color": "#2a3f5f"
            },
            "error_y": {
             "color": "#2a3f5f"
            },
            "marker": {
             "line": {
              "color": "#E5ECF6",
              "width": 0.5
             },
             "pattern": {
              "fillmode": "overlay",
              "size": 10,
              "solidity": 0.2
             }
            },
            "type": "bar"
           }
          ],
          "barpolar": [
           {
            "marker": {
             "line": {
              "color": "#E5ECF6",
              "width": 0.5
             },
             "pattern": {
              "fillmode": "overlay",
              "size": 10,
              "solidity": 0.2
             }
            },
            "type": "barpolar"
           }
          ],
          "carpet": [
           {
            "aaxis": {
             "endlinecolor": "#2a3f5f",
             "gridcolor": "white",
             "linecolor": "white",
             "minorgridcolor": "white",
             "startlinecolor": "#2a3f5f"
            },
            "baxis": {
             "endlinecolor": "#2a3f5f",
             "gridcolor": "white",
             "linecolor": "white",
             "minorgridcolor": "white",
             "startlinecolor": "#2a3f5f"
            },
            "type": "carpet"
           }
          ],
          "choropleth": [
           {
            "colorbar": {
             "outlinewidth": 0,
             "ticks": ""
            },
            "type": "choropleth"
           }
          ],
          "contour": [
           {
            "colorbar": {
             "outlinewidth": 0,
             "ticks": ""
            },
            "colorscale": [
             [
              0,
              "#0d0887"
             ],
             [
              0.1111111111111111,
              "#46039f"
             ],
             [
              0.2222222222222222,
              "#7201a8"
             ],
             [
              0.3333333333333333,
              "#9c179e"
             ],
             [
              0.4444444444444444,
              "#bd3786"
             ],
             [
              0.5555555555555556,
              "#d8576b"
             ],
             [
              0.6666666666666666,
              "#ed7953"
             ],
             [
              0.7777777777777778,
              "#fb9f3a"
             ],
             [
              0.8888888888888888,
              "#fdca26"
             ],
             [
              1,
              "#f0f921"
             ]
            ],
            "type": "contour"
           }
          ],
          "contourcarpet": [
           {
            "colorbar": {
             "outlinewidth": 0,
             "ticks": ""
            },
            "type": "contourcarpet"
           }
          ],
          "heatmap": [
           {
            "colorbar": {
             "outlinewidth": 0,
             "ticks": ""
            },
            "colorscale": [
             [
              0,
              "#0d0887"
             ],
             [
              0.1111111111111111,
              "#46039f"
             ],
             [
              0.2222222222222222,
              "#7201a8"
             ],
             [
              0.3333333333333333,
              "#9c179e"
             ],
             [
              0.4444444444444444,
              "#bd3786"
             ],
             [
              0.5555555555555556,
              "#d8576b"
             ],
             [
              0.6666666666666666,
              "#ed7953"
             ],
             [
              0.7777777777777778,
              "#fb9f3a"
             ],
             [
              0.8888888888888888,
              "#fdca26"
             ],
             [
              1,
              "#f0f921"
             ]
            ],
            "type": "heatmap"
           }
          ],
          "heatmapgl": [
           {
            "colorbar": {
             "outlinewidth": 0,
             "ticks": ""
            },
            "colorscale": [
             [
              0,
              "#0d0887"
             ],
             [
              0.1111111111111111,
              "#46039f"
             ],
             [
              0.2222222222222222,
              "#7201a8"
             ],
             [
              0.3333333333333333,
              "#9c179e"
             ],
             [
              0.4444444444444444,
              "#bd3786"
             ],
             [
              0.5555555555555556,
              "#d8576b"
             ],
             [
              0.6666666666666666,
              "#ed7953"
             ],
             [
              0.7777777777777778,
              "#fb9f3a"
             ],
             [
              0.8888888888888888,
              "#fdca26"
             ],
             [
              1,
              "#f0f921"
             ]
            ],
            "type": "heatmapgl"
           }
          ],
          "histogram": [
           {
            "marker": {
             "pattern": {
              "fillmode": "overlay",
              "size": 10,
              "solidity": 0.2
             }
            },
            "type": "histogram"
           }
          ],
          "histogram2d": [
           {
            "colorbar": {
             "outlinewidth": 0,
             "ticks": ""
            },
            "colorscale": [
             [
              0,
              "#0d0887"
             ],
             [
              0.1111111111111111,
              "#46039f"
             ],
             [
              0.2222222222222222,
              "#7201a8"
             ],
             [
              0.3333333333333333,
              "#9c179e"
             ],
             [
              0.4444444444444444,
              "#bd3786"
             ],
             [
              0.5555555555555556,
              "#d8576b"
             ],
             [
              0.6666666666666666,
              "#ed7953"
             ],
             [
              0.7777777777777778,
              "#fb9f3a"
             ],
             [
              0.8888888888888888,
              "#fdca26"
             ],
             [
              1,
              "#f0f921"
             ]
            ],
            "type": "histogram2d"
           }
          ],
          "histogram2dcontour": [
           {
            "colorbar": {
             "outlinewidth": 0,
             "ticks": ""
            },
            "colorscale": [
             [
              0,
              "#0d0887"
             ],
             [
              0.1111111111111111,
              "#46039f"
             ],
             [
              0.2222222222222222,
              "#7201a8"
             ],
             [
              0.3333333333333333,
              "#9c179e"
             ],
             [
              0.4444444444444444,
              "#bd3786"
             ],
             [
              0.5555555555555556,
              "#d8576b"
             ],
             [
              0.6666666666666666,
              "#ed7953"
             ],
             [
              0.7777777777777778,
              "#fb9f3a"
             ],
             [
              0.8888888888888888,
              "#fdca26"
             ],
             [
              1,
              "#f0f921"
             ]
            ],
            "type": "histogram2dcontour"
           }
          ],
          "mesh3d": [
           {
            "colorbar": {
             "outlinewidth": 0,
             "ticks": ""
            },
            "type": "mesh3d"
           }
          ],
          "parcoords": [
           {
            "line": {
             "colorbar": {
              "outlinewidth": 0,
              "ticks": ""
             }
            },
            "type": "parcoords"
           }
          ],
          "pie": [
           {
            "automargin": true,
            "type": "pie"
           }
          ],
          "scatter": [
           {
            "fillpattern": {
             "fillmode": "overlay",
             "size": 10,
             "solidity": 0.2
            },
            "type": "scatter"
           }
          ],
          "scatter3d": [
           {
            "line": {
             "colorbar": {
              "outlinewidth": 0,
              "ticks": ""
             }
            },
            "marker": {
             "colorbar": {
              "outlinewidth": 0,
              "ticks": ""
             }
            },
            "type": "scatter3d"
           }
          ],
          "scattercarpet": [
           {
            "marker": {
             "colorbar": {
              "outlinewidth": 0,
              "ticks": ""
             }
            },
            "type": "scattercarpet"
           }
          ],
          "scattergeo": [
           {
            "marker": {
             "colorbar": {
              "outlinewidth": 0,
              "ticks": ""
             }
            },
            "type": "scattergeo"
           }
          ],
          "scattergl": [
           {
            "marker": {
             "colorbar": {
              "outlinewidth": 0,
              "ticks": ""
             }
            },
            "type": "scattergl"
           }
          ],
          "scattermapbox": [
           {
            "marker": {
             "colorbar": {
              "outlinewidth": 0,
              "ticks": ""
             }
            },
            "type": "scattermapbox"
           }
          ],
          "scatterpolar": [
           {
            "marker": {
             "colorbar": {
              "outlinewidth": 0,
              "ticks": ""
             }
            },
            "type": "scatterpolar"
           }
          ],
          "scatterpolargl": [
           {
            "marker": {
             "colorbar": {
              "outlinewidth": 0,
              "ticks": ""
             }
            },
            "type": "scatterpolargl"
           }
          ],
          "scatterternary": [
           {
            "marker": {
             "colorbar": {
              "outlinewidth": 0,
              "ticks": ""
             }
            },
            "type": "scatterternary"
           }
          ],
          "surface": [
           {
            "colorbar": {
             "outlinewidth": 0,
             "ticks": ""
            },
            "colorscale": [
             [
              0,
              "#0d0887"
             ],
             [
              0.1111111111111111,
              "#46039f"
             ],
             [
              0.2222222222222222,
              "#7201a8"
             ],
             [
              0.3333333333333333,
              "#9c179e"
             ],
             [
              0.4444444444444444,
              "#bd3786"
             ],
             [
              0.5555555555555556,
              "#d8576b"
             ],
             [
              0.6666666666666666,
              "#ed7953"
             ],
             [
              0.7777777777777778,
              "#fb9f3a"
             ],
             [
              0.8888888888888888,
              "#fdca26"
             ],
             [
              1,
              "#f0f921"
             ]
            ],
            "type": "surface"
           }
          ],
          "table": [
           {
            "cells": {
             "fill": {
              "color": "#EBF0F8"
             },
             "line": {
              "color": "white"
             }
            },
            "header": {
             "fill": {
              "color": "#C8D4E3"
             },
             "line": {
              "color": "white"
             }
            },
            "type": "table"
           }
          ]
         },
         "layout": {
          "annotationdefaults": {
           "arrowcolor": "#2a3f5f",
           "arrowhead": 0,
           "arrowwidth": 1
          },
          "autotypenumbers": "strict",
          "coloraxis": {
           "colorbar": {
            "outlinewidth": 0,
            "ticks": ""
           }
          },
          "colorscale": {
           "diverging": [
            [
             0,
             "#8e0152"
            ],
            [
             0.1,
             "#c51b7d"
            ],
            [
             0.2,
             "#de77ae"
            ],
            [
             0.3,
             "#f1b6da"
            ],
            [
             0.4,
             "#fde0ef"
            ],
            [
             0.5,
             "#f7f7f7"
            ],
            [
             0.6,
             "#e6f5d0"
            ],
            [
             0.7,
             "#b8e186"
            ],
            [
             0.8,
             "#7fbc41"
            ],
            [
             0.9,
             "#4d9221"
            ],
            [
             1,
             "#276419"
            ]
           ],
           "sequential": [
            [
             0,
             "#0d0887"
            ],
            [
             0.1111111111111111,
             "#46039f"
            ],
            [
             0.2222222222222222,
             "#7201a8"
            ],
            [
             0.3333333333333333,
             "#9c179e"
            ],
            [
             0.4444444444444444,
             "#bd3786"
            ],
            [
             0.5555555555555556,
             "#d8576b"
            ],
            [
             0.6666666666666666,
             "#ed7953"
            ],
            [
             0.7777777777777778,
             "#fb9f3a"
            ],
            [
             0.8888888888888888,
             "#fdca26"
            ],
            [
             1,
             "#f0f921"
            ]
           ],
           "sequentialminus": [
            [
             0,
             "#0d0887"
            ],
            [
             0.1111111111111111,
             "#46039f"
            ],
            [
             0.2222222222222222,
             "#7201a8"
            ],
            [
             0.3333333333333333,
             "#9c179e"
            ],
            [
             0.4444444444444444,
             "#bd3786"
            ],
            [
             0.5555555555555556,
             "#d8576b"
            ],
            [
             0.6666666666666666,
             "#ed7953"
            ],
            [
             0.7777777777777778,
             "#fb9f3a"
            ],
            [
             0.8888888888888888,
             "#fdca26"
            ],
            [
             1,
             "#f0f921"
            ]
           ]
          },
          "colorway": [
           "#636efa",
           "#EF553B",
           "#00cc96",
           "#ab63fa",
           "#FFA15A",
           "#19d3f3",
           "#FF6692",
           "#B6E880",
           "#FF97FF",
           "#FECB52"
          ],
          "font": {
           "color": "#2a3f5f"
          },
          "geo": {
           "bgcolor": "white",
           "lakecolor": "white",
           "landcolor": "#E5ECF6",
           "showlakes": true,
           "showland": true,
           "subunitcolor": "white"
          },
          "hoverlabel": {
           "align": "left"
          },
          "hovermode": "closest",
          "mapbox": {
           "style": "light"
          },
          "paper_bgcolor": "white",
          "plot_bgcolor": "#E5ECF6",
          "polar": {
           "angularaxis": {
            "gridcolor": "white",
            "linecolor": "white",
            "ticks": ""
           },
           "bgcolor": "#E5ECF6",
           "radialaxis": {
            "gridcolor": "white",
            "linecolor": "white",
            "ticks": ""
           }
          },
          "scene": {
           "xaxis": {
            "backgroundcolor": "#E5ECF6",
            "gridcolor": "white",
            "gridwidth": 2,
            "linecolor": "white",
            "showbackground": true,
            "ticks": "",
            "zerolinecolor": "white"
           },
           "yaxis": {
            "backgroundcolor": "#E5ECF6",
            "gridcolor": "white",
            "gridwidth": 2,
            "linecolor": "white",
            "showbackground": true,
            "ticks": "",
            "zerolinecolor": "white"
           },
           "zaxis": {
            "backgroundcolor": "#E5ECF6",
            "gridcolor": "white",
            "gridwidth": 2,
            "linecolor": "white",
            "showbackground": true,
            "ticks": "",
            "zerolinecolor": "white"
           }
          },
          "shapedefaults": {
           "line": {
            "color": "#2a3f5f"
           }
          },
          "ternary": {
           "aaxis": {
            "gridcolor": "white",
            "linecolor": "white",
            "ticks": ""
           },
           "baxis": {
            "gridcolor": "white",
            "linecolor": "white",
            "ticks": ""
           },
           "bgcolor": "#E5ECF6",
           "caxis": {
            "gridcolor": "white",
            "linecolor": "white",
            "ticks": ""
           }
          },
          "title": {
           "x": 0.05
          },
          "xaxis": {
           "automargin": true,
           "gridcolor": "white",
           "linecolor": "white",
           "ticks": "",
           "title": {
            "standoff": 15
           },
           "zerolinecolor": "white",
           "zerolinewidth": 2
          },
          "yaxis": {
           "automargin": true,
           "gridcolor": "white",
           "linecolor": "white",
           "ticks": "",
           "title": {
            "standoff": 15
           },
           "zerolinecolor": "white",
           "zerolinewidth": 2
          }
         }
        },
        "title": {
         "text": "L0 vs Fraction Recovered"
        },
        "xaxis": {
         "title": {
          "text": "L0"
         }
        },
        "yaxis": {
         "title": {
          "text": "Fraction Recovered"
         }
        }
       }
      },
      "text/html": [
       "<div>                            <div id=\"a5ce3a53-6680-401e-84f6-6820fbbf4956\" class=\"plotly-graph-div\" style=\"height:525px; width:100%;\"></div>            <script type=\"text/javascript\">                require([\"plotly\"], function(Plotly) {                    window.PLOTLYENV=window.PLOTLYENV || {};                                    if (document.getElementById(\"a5ce3a53-6680-401e-84f6-6820fbbf4956\")) {                    Plotly.newPlot(                        \"a5ce3a53-6680-401e-84f6-6820fbbf4956\",                        [{\"hoverinfo\":\"text\",\"marker\":{\"color\":[0.12300002574920654,0.12599998712539673,0.31800001859664917,0.3500000238418579,0.32099997997283936,0.3340000510215759,0.3199999928474426,0.3199999928474426,0.43300002813339233,0.4540000557899475,0.45100003480911255,0.4300000071525574,0.44099998474121094,0.4480000138282776,0.46800002455711365,0.4620000123977661,0.47700002789497375,0.4910000264644623,0.4880000054836273,0.4590000510215759],\"colorscale\":[[0.0,\"#440154\"],[0.1111111111111111,\"#482878\"],[0.2222222222222222,\"#3e4989\"],[0.3333333333333333,\"#31688e\"],[0.4444444444444444,\"#26828e\"],[0.5555555555555556,\"#1f9e89\"],[0.6666666666666666,\"#35b779\"],[0.7777777777777778,\"#6ece58\"],[0.8888888888888888,\"#b5de2b\"],[1.0,\"#fde725\"]],\"showscale\":true,\"size\":10},\"mode\":\"markers\",\"text\":[\"AE Path: ..\\u002fdictionary_learning\\u002fdictionaries\\u002fpythia70m_sweep_topk_ctx128_0730\\u002fresid_post_layer_3\\u002ftrainer_0\\u002f\\u003cbr\\u003eL0: 20.0000\\u003cbr\\u003eFrac Recovered: 0.9358\\u003cbr\\u003eAverage Diff: 0.1230\",\"AE Path: ..\\u002fdictionary_learning\\u002fdictionaries\\u002fpythia70m_sweep_topk_ctx128_0730\\u002fresid_post_layer_3\\u002ftrainer_1\\u002f\\u003cbr\\u003eL0: 20.0000\\u003cbr\\u003eFrac Recovered: 0.9358\\u003cbr\\u003eAverage Diff: 0.1260\",\"AE Path: ..\\u002fdictionary_learning\\u002fdictionaries\\u002fpythia70m_sweep_topk_ctx128_0730\\u002fresid_post_layer_3\\u002ftrainer_2\\u002f\\u003cbr\\u003eL0: 20.0000\\u003cbr\\u003eFrac Recovered: 0.9574\\u003cbr\\u003eAverage Diff: 0.3180\",\"AE Path: ..\\u002fdictionary_learning\\u002fdictionaries\\u002fpythia70m_sweep_topk_ctx128_0730\\u002fresid_post_layer_3\\u002ftrainer_3\\u002f\\u003cbr\\u003eL0: 20.0000\\u003cbr\\u003eFrac Recovered: 0.9574\\u003cbr\\u003eAverage Diff: 0.3500\",\"AE Path: ..\\u002fdictionary_learning\\u002fdictionaries\\u002fpythia70m_sweep_topk_ctx128_0730\\u002fresid_post_layer_3\\u002ftrainer_4\\u002f\\u003cbr\\u003eL0: 40.0000\\u003cbr\\u003eFrac Recovered: 0.9547\\u003cbr\\u003eAverage Diff: 0.3210\",\"AE Path: ..\\u002fdictionary_learning\\u002fdictionaries\\u002fpythia70m_sweep_topk_ctx128_0730\\u002fresid_post_layer_3\\u002ftrainer_5\\u002f\\u003cbr\\u003eL0: 40.0000\\u003cbr\\u003eFrac Recovered: 0.9547\\u003cbr\\u003eAverage Diff: 0.3340\",\"AE Path: ..\\u002fdictionary_learning\\u002fdictionaries\\u002fpythia70m_sweep_topk_ctx128_0730\\u002fresid_post_layer_3\\u002ftrainer_6\\u002f\\u003cbr\\u003eL0: 39.9700\\u003cbr\\u003eFrac Recovered: 0.9666\\u003cbr\\u003eAverage Diff: 0.3200\",\"AE Path: ..\\u002fdictionary_learning\\u002fdictionaries\\u002fpythia70m_sweep_topk_ctx128_0730\\u002fresid_post_layer_3\\u002ftrainer_7\\u002f\\u003cbr\\u003eL0: 39.8700\\u003cbr\\u003eFrac Recovered: 0.9666\\u003cbr\\u003eAverage Diff: 0.3200\",\"AE Path: ..\\u002fdictionary_learning\\u002fdictionaries\\u002fpythia70m_sweep_topk_ctx128_0730\\u002fresid_post_layer_3\\u002ftrainer_8\\u002f\\u003cbr\\u003eL0: 80.0000\\u003cbr\\u003eFrac Recovered: 0.9640\\u003cbr\\u003eAverage Diff: 0.4330\",\"AE Path: ..\\u002fdictionary_learning\\u002fdictionaries\\u002fpythia70m_sweep_topk_ctx128_0730\\u002fresid_post_layer_3\\u002ftrainer_9\\u002f\\u003cbr\\u003eL0: 80.0000\\u003cbr\\u003eFrac Recovered: 0.9640\\u003cbr\\u003eAverage Diff: 0.4540\",\"AE Path: ..\\u002fdictionary_learning\\u002fdictionaries\\u002fpythia70m_sweep_topk_ctx128_0730\\u002fresid_post_layer_3\\u002ftrainer_10\\u002f\\u003cbr\\u003eL0: 79.8000\\u003cbr\\u003eFrac Recovered: 0.9776\\u003cbr\\u003eAverage Diff: 0.4510\",\"AE Path: ..\\u002fdictionary_learning\\u002fdictionaries\\u002fpythia70m_sweep_topk_ctx128_0730\\u002fresid_post_layer_3\\u002ftrainer_11\\u002f\\u003cbr\\u003eL0: 80.0000\\u003cbr\\u003eFrac Recovered: 0.9776\\u003cbr\\u003eAverage Diff: 0.4300\",\"AE Path: ..\\u002fdictionary_learning\\u002fdictionaries\\u002fpythia70m_sweep_topk_ctx128_0730\\u002fresid_post_layer_3\\u002ftrainer_12\\u002f\\u003cbr\\u003eL0: 160.0000\\u003cbr\\u003eFrac Recovered: 0.9843\\u003cbr\\u003eAverage Diff: 0.4410\",\"AE Path: ..\\u002fdictionary_learning\\u002fdictionaries\\u002fpythia70m_sweep_topk_ctx128_0730\\u002fresid_post_layer_3\\u002ftrainer_13\\u002f\\u003cbr\\u003eL0: 159.8000\\u003cbr\\u003eFrac Recovered: 0.9843\\u003cbr\\u003eAverage Diff: 0.4480\",\"AE Path: ..\\u002fdictionary_learning\\u002fdictionaries\\u002fpythia70m_sweep_topk_ctx128_0730\\u002fresid_post_layer_3\\u002ftrainer_14\\u002f\\u003cbr\\u003eL0: 159.5800\\u003cbr\\u003eFrac Recovered: 0.9883\\u003cbr\\u003eAverage Diff: 0.4680\",\"AE Path: ..\\u002fdictionary_learning\\u002fdictionaries\\u002fpythia70m_sweep_topk_ctx128_0730\\u002fresid_post_layer_3\\u002ftrainer_15\\u002f\\u003cbr\\u003eL0: 159.4700\\u003cbr\\u003eFrac Recovered: 0.9883\\u003cbr\\u003eAverage Diff: 0.4620\",\"AE Path: ..\\u002fdictionary_learning\\u002fdictionaries\\u002fpythia70m_sweep_topk_ctx128_0730\\u002fresid_post_layer_3\\u002ftrainer_16\\u002f\\u003cbr\\u003eL0: 319.1600\\u003cbr\\u003eFrac Recovered: 0.9983\\u003cbr\\u003eAverage Diff: 0.4770\",\"AE Path: ..\\u002fdictionary_learning\\u002fdictionaries\\u002fpythia70m_sweep_topk_ctx128_0730\\u002fresid_post_layer_3\\u002ftrainer_17\\u002f\\u003cbr\\u003eL0: 319.6200\\u003cbr\\u003eFrac Recovered: 0.9983\\u003cbr\\u003eAverage Diff: 0.4910\",\"AE Path: ..\\u002fdictionary_learning\\u002fdictionaries\\u002fpythia70m_sweep_topk_ctx128_0730\\u002fresid_post_layer_3\\u002ftrainer_18\\u002f\\u003cbr\\u003eL0: 319.0200\\u003cbr\\u003eFrac Recovered: 0.9982\\u003cbr\\u003eAverage Diff: 0.4880\",\"AE Path: ..\\u002fdictionary_learning\\u002fdictionaries\\u002fpythia70m_sweep_topk_ctx128_0730\\u002fresid_post_layer_3\\u002ftrainer_19\\u002f\\u003cbr\\u003eL0: 319.4500\\u003cbr\\u003eFrac Recovered: 0.9982\\u003cbr\\u003eAverage Diff: 0.4590\"],\"x\":[20.0,20.0,20.0,20.0,40.0,40.0,39.96999740600586,39.869998931884766,80.0,80.0,79.79999542236328,80.0,160.0,159.8000030517578,159.5800018310547,159.47000122070312,319.1600036621094,319.6199951171875,319.0199890136719,319.4499816894531],\"y\":[0.9358097314834595,0.9358097314834595,0.9574421048164368,0.9574421048164368,0.9547033905982971,0.9547033905982971,0.966587245464325,0.966587245464325,0.9640280604362488,0.9640280604362488,0.9775798320770264,0.9775798320770264,0.9843444228172302,0.9843444228172302,0.9882849454879761,0.9882849454879761,0.9983206391334534,0.9983206391334534,0.9981680512428284,0.9981680512428284],\"type\":\"scatter\"}],                        {\"template\":{\"data\":{\"histogram2dcontour\":[{\"type\":\"histogram2dcontour\",\"colorbar\":{\"outlinewidth\":0,\"ticks\":\"\"},\"colorscale\":[[0.0,\"#0d0887\"],[0.1111111111111111,\"#46039f\"],[0.2222222222222222,\"#7201a8\"],[0.3333333333333333,\"#9c179e\"],[0.4444444444444444,\"#bd3786\"],[0.5555555555555556,\"#d8576b\"],[0.6666666666666666,\"#ed7953\"],[0.7777777777777778,\"#fb9f3a\"],[0.8888888888888888,\"#fdca26\"],[1.0,\"#f0f921\"]]}],\"choropleth\":[{\"type\":\"choropleth\",\"colorbar\":{\"outlinewidth\":0,\"ticks\":\"\"}}],\"histogram2d\":[{\"type\":\"histogram2d\",\"colorbar\":{\"outlinewidth\":0,\"ticks\":\"\"},\"colorscale\":[[0.0,\"#0d0887\"],[0.1111111111111111,\"#46039f\"],[0.2222222222222222,\"#7201a8\"],[0.3333333333333333,\"#9c179e\"],[0.4444444444444444,\"#bd3786\"],[0.5555555555555556,\"#d8576b\"],[0.6666666666666666,\"#ed7953\"],[0.7777777777777778,\"#fb9f3a\"],[0.8888888888888888,\"#fdca26\"],[1.0,\"#f0f921\"]]}],\"heatmap\":[{\"type\":\"heatmap\",\"colorbar\":{\"outlinewidth\":0,\"ticks\":\"\"},\"colorscale\":[[0.0,\"#0d0887\"],[0.1111111111111111,\"#46039f\"],[0.2222222222222222,\"#7201a8\"],[0.3333333333333333,\"#9c179e\"],[0.4444444444444444,\"#bd3786\"],[0.5555555555555556,\"#d8576b\"],[0.6666666666666666,\"#ed7953\"],[0.7777777777777778,\"#fb9f3a\"],[0.8888888888888888,\"#fdca26\"],[1.0,\"#f0f921\"]]}],\"heatmapgl\":[{\"type\":\"heatmapgl\",\"colorbar\":{\"outlinewidth\":0,\"ticks\":\"\"},\"colorscale\":[[0.0,\"#0d0887\"],[0.1111111111111111,\"#46039f\"],[0.2222222222222222,\"#7201a8\"],[0.3333333333333333,\"#9c179e\"],[0.4444444444444444,\"#bd3786\"],[0.5555555555555556,\"#d8576b\"],[0.6666666666666666,\"#ed7953\"],[0.7777777777777778,\"#fb9f3a\"],[0.8888888888888888,\"#fdca26\"],[1.0,\"#f0f921\"]]}],\"contourcarpet\":[{\"type\":\"contourcarpet\",\"colorbar\":{\"outlinewidth\":0,\"ticks\":\"\"}}],\"contour\":[{\"type\":\"contour\",\"colorbar\":{\"outlinewidth\":0,\"ticks\":\"\"},\"colorscale\":[[0.0,\"#0d0887\"],[0.1111111111111111,\"#46039f\"],[0.2222222222222222,\"#7201a8\"],[0.3333333333333333,\"#9c179e\"],[0.4444444444444444,\"#bd3786\"],[0.5555555555555556,\"#d8576b\"],[0.6666666666666666,\"#ed7953\"],[0.7777777777777778,\"#fb9f3a\"],[0.8888888888888888,\"#fdca26\"],[1.0,\"#f0f921\"]]}],\"surface\":[{\"type\":\"surface\",\"colorbar\":{\"outlinewidth\":0,\"ticks\":\"\"},\"colorscale\":[[0.0,\"#0d0887\"],[0.1111111111111111,\"#46039f\"],[0.2222222222222222,\"#7201a8\"],[0.3333333333333333,\"#9c179e\"],[0.4444444444444444,\"#bd3786\"],[0.5555555555555556,\"#d8576b\"],[0.6666666666666666,\"#ed7953\"],[0.7777777777777778,\"#fb9f3a\"],[0.8888888888888888,\"#fdca26\"],[1.0,\"#f0f921\"]]}],\"mesh3d\":[{\"type\":\"mesh3d\",\"colorbar\":{\"outlinewidth\":0,\"ticks\":\"\"}}],\"scatter\":[{\"fillpattern\":{\"fillmode\":\"overlay\",\"size\":10,\"solidity\":0.2},\"type\":\"scatter\"}],\"parcoords\":[{\"type\":\"parcoords\",\"line\":{\"colorbar\":{\"outlinewidth\":0,\"ticks\":\"\"}}}],\"scatterpolargl\":[{\"type\":\"scatterpolargl\",\"marker\":{\"colorbar\":{\"outlinewidth\":0,\"ticks\":\"\"}}}],\"bar\":[{\"error_x\":{\"color\":\"#2a3f5f\"},\"error_y\":{\"color\":\"#2a3f5f\"},\"marker\":{\"line\":{\"color\":\"#E5ECF6\",\"width\":0.5},\"pattern\":{\"fillmode\":\"overlay\",\"size\":10,\"solidity\":0.2}},\"type\":\"bar\"}],\"scattergeo\":[{\"type\":\"scattergeo\",\"marker\":{\"colorbar\":{\"outlinewidth\":0,\"ticks\":\"\"}}}],\"scatterpolar\":[{\"type\":\"scatterpolar\",\"marker\":{\"colorbar\":{\"outlinewidth\":0,\"ticks\":\"\"}}}],\"histogram\":[{\"marker\":{\"pattern\":{\"fillmode\":\"overlay\",\"size\":10,\"solidity\":0.2}},\"type\":\"histogram\"}],\"scattergl\":[{\"type\":\"scattergl\",\"marker\":{\"colorbar\":{\"outlinewidth\":0,\"ticks\":\"\"}}}],\"scatter3d\":[{\"type\":\"scatter3d\",\"line\":{\"colorbar\":{\"outlinewidth\":0,\"ticks\":\"\"}},\"marker\":{\"colorbar\":{\"outlinewidth\":0,\"ticks\":\"\"}}}],\"scattermapbox\":[{\"type\":\"scattermapbox\",\"marker\":{\"colorbar\":{\"outlinewidth\":0,\"ticks\":\"\"}}}],\"scatterternary\":[{\"type\":\"scatterternary\",\"marker\":{\"colorbar\":{\"outlinewidth\":0,\"ticks\":\"\"}}}],\"scattercarpet\":[{\"type\":\"scattercarpet\",\"marker\":{\"colorbar\":{\"outlinewidth\":0,\"ticks\":\"\"}}}],\"carpet\":[{\"aaxis\":{\"endlinecolor\":\"#2a3f5f\",\"gridcolor\":\"white\",\"linecolor\":\"white\",\"minorgridcolor\":\"white\",\"startlinecolor\":\"#2a3f5f\"},\"baxis\":{\"endlinecolor\":\"#2a3f5f\",\"gridcolor\":\"white\",\"linecolor\":\"white\",\"minorgridcolor\":\"white\",\"startlinecolor\":\"#2a3f5f\"},\"type\":\"carpet\"}],\"table\":[{\"cells\":{\"fill\":{\"color\":\"#EBF0F8\"},\"line\":{\"color\":\"white\"}},\"header\":{\"fill\":{\"color\":\"#C8D4E3\"},\"line\":{\"color\":\"white\"}},\"type\":\"table\"}],\"barpolar\":[{\"marker\":{\"line\":{\"color\":\"#E5ECF6\",\"width\":0.5},\"pattern\":{\"fillmode\":\"overlay\",\"size\":10,\"solidity\":0.2}},\"type\":\"barpolar\"}],\"pie\":[{\"automargin\":true,\"type\":\"pie\"}]},\"layout\":{\"autotypenumbers\":\"strict\",\"colorway\":[\"#636efa\",\"#EF553B\",\"#00cc96\",\"#ab63fa\",\"#FFA15A\",\"#19d3f3\",\"#FF6692\",\"#B6E880\",\"#FF97FF\",\"#FECB52\"],\"font\":{\"color\":\"#2a3f5f\"},\"hovermode\":\"closest\",\"hoverlabel\":{\"align\":\"left\"},\"paper_bgcolor\":\"white\",\"plot_bgcolor\":\"#E5ECF6\",\"polar\":{\"bgcolor\":\"#E5ECF6\",\"angularaxis\":{\"gridcolor\":\"white\",\"linecolor\":\"white\",\"ticks\":\"\"},\"radialaxis\":{\"gridcolor\":\"white\",\"linecolor\":\"white\",\"ticks\":\"\"}},\"ternary\":{\"bgcolor\":\"#E5ECF6\",\"aaxis\":{\"gridcolor\":\"white\",\"linecolor\":\"white\",\"ticks\":\"\"},\"baxis\":{\"gridcolor\":\"white\",\"linecolor\":\"white\",\"ticks\":\"\"},\"caxis\":{\"gridcolor\":\"white\",\"linecolor\":\"white\",\"ticks\":\"\"}},\"coloraxis\":{\"colorbar\":{\"outlinewidth\":0,\"ticks\":\"\"}},\"colorscale\":{\"sequential\":[[0.0,\"#0d0887\"],[0.1111111111111111,\"#46039f\"],[0.2222222222222222,\"#7201a8\"],[0.3333333333333333,\"#9c179e\"],[0.4444444444444444,\"#bd3786\"],[0.5555555555555556,\"#d8576b\"],[0.6666666666666666,\"#ed7953\"],[0.7777777777777778,\"#fb9f3a\"],[0.8888888888888888,\"#fdca26\"],[1.0,\"#f0f921\"]],\"sequentialminus\":[[0.0,\"#0d0887\"],[0.1111111111111111,\"#46039f\"],[0.2222222222222222,\"#7201a8\"],[0.3333333333333333,\"#9c179e\"],[0.4444444444444444,\"#bd3786\"],[0.5555555555555556,\"#d8576b\"],[0.6666666666666666,\"#ed7953\"],[0.7777777777777778,\"#fb9f3a\"],[0.8888888888888888,\"#fdca26\"],[1.0,\"#f0f921\"]],\"diverging\":[[0,\"#8e0152\"],[0.1,\"#c51b7d\"],[0.2,\"#de77ae\"],[0.3,\"#f1b6da\"],[0.4,\"#fde0ef\"],[0.5,\"#f7f7f7\"],[0.6,\"#e6f5d0\"],[0.7,\"#b8e186\"],[0.8,\"#7fbc41\"],[0.9,\"#4d9221\"],[1,\"#276419\"]]},\"xaxis\":{\"gridcolor\":\"white\",\"linecolor\":\"white\",\"ticks\":\"\",\"title\":{\"standoff\":15},\"zerolinecolor\":\"white\",\"automargin\":true,\"zerolinewidth\":2},\"yaxis\":{\"gridcolor\":\"white\",\"linecolor\":\"white\",\"ticks\":\"\",\"title\":{\"standoff\":15},\"zerolinecolor\":\"white\",\"automargin\":true,\"zerolinewidth\":2},\"scene\":{\"xaxis\":{\"backgroundcolor\":\"#E5ECF6\",\"gridcolor\":\"white\",\"linecolor\":\"white\",\"showbackground\":true,\"ticks\":\"\",\"zerolinecolor\":\"white\",\"gridwidth\":2},\"yaxis\":{\"backgroundcolor\":\"#E5ECF6\",\"gridcolor\":\"white\",\"linecolor\":\"white\",\"showbackground\":true,\"ticks\":\"\",\"zerolinecolor\":\"white\",\"gridwidth\":2},\"zaxis\":{\"backgroundcolor\":\"#E5ECF6\",\"gridcolor\":\"white\",\"linecolor\":\"white\",\"showbackground\":true,\"ticks\":\"\",\"zerolinecolor\":\"white\",\"gridwidth\":2}},\"shapedefaults\":{\"line\":{\"color\":\"#2a3f5f\"}},\"annotationdefaults\":{\"arrowcolor\":\"#2a3f5f\",\"arrowhead\":0,\"arrowwidth\":1},\"geo\":{\"bgcolor\":\"white\",\"landcolor\":\"#E5ECF6\",\"subunitcolor\":\"white\",\"showland\":true,\"showlakes\":true,\"lakecolor\":\"white\"},\"title\":{\"x\":0.05},\"mapbox\":{\"style\":\"light\"}}},\"title\":{\"text\":\"L0 vs Fraction Recovered\"},\"xaxis\":{\"title\":{\"text\":\"L0\"}},\"yaxis\":{\"title\":{\"text\":\"Fraction Recovered\"}},\"hovermode\":\"closest\"},                        {\"responsive\": true}                    ).then(function(){\n",
       "                            \n",
       "var gd = document.getElementById('a5ce3a53-6680-401e-84f6-6820fbbf4956');\n",
       "var x = new MutationObserver(function (mutations, observer) {{\n",
       "        var display = window.getComputedStyle(gd).display;\n",
       "        if (!display || display === 'none') {{\n",
       "            console.log([gd, 'removed!']);\n",
       "            Plotly.purge(gd);\n",
       "            observer.disconnect();\n",
       "        }}\n",
       "}});\n",
       "\n",
       "// Listen for the removal of the full notebook cells\n",
       "var notebookContainer = gd.closest('#notebook-container');\n",
       "if (notebookContainer) {{\n",
       "    x.observe(notebookContainer, {childList: true});\n",
       "}}\n",
       "\n",
       "// Listen for the clearing of the current output cell\n",
       "var outputEl = gd.closest('.output');\n",
       "if (outputEl) {{\n",
       "    x.observe(outputEl, {childList: true});\n",
       "}}\n",
       "\n",
       "                        })                };                });            </script>        </div>"
      ]
     },
     "metadata": {},
     "output_type": "display_data"
    }
   ],
   "source": [
    "import plotly.graph_objects as go\n",
    "from typing import Optional, Dict, Any\n",
    "\n",
    "def plot_interactive_3var_graph(\n",
    "    results: Dict[str, Dict[str, float]],\n",
    "    xlims: Optional[tuple[float, float]] = None,\n",
    "    y_lims: Optional[tuple[float, float]] = None,\n",
    "    output_filename: Optional[str] = None,\n",
    "):\n",
    "    # Extract data from results\n",
    "    ae_paths = list(results.keys())\n",
    "    l0_values = [data['l0'] for data in results.values()]\n",
    "    frac_recovered_values = [data['frac_recovered'] for data in results.values()]\n",
    "\n",
    "    third_value = [data['average_diff'] for data in results.values()]\n",
    "    \n",
    "    # Create the scatter plot\n",
    "    fig = go.Figure()\n",
    "\n",
    "    # Add trace\n",
    "    fig.add_trace(go.Scatter(\n",
    "        x=l0_values,\n",
    "        y=frac_recovered_values,\n",
    "        mode='markers',\n",
    "        marker=dict(\n",
    "            size=10,\n",
    "            color=third_value,  # Color points based on frac_recovered\n",
    "            colorscale='Viridis',  # You can change this colorscale\n",
    "            showscale=True\n",
    "        ),\n",
    "        text=[f'AE Path: {ae}<br>L0: {l0:.4f}<br>Frac Recovered: {fr:.4f}<br>Average Diff: {ad:.4f}' \n",
    "              for ae, l0, fr, ad in zip(ae_paths, l0_values, frac_recovered_values, third_value)],\n",
    "        hoverinfo='text'\n",
    "    ))\n",
    "\n",
    "    # Update layout\n",
    "    fig.update_layout(\n",
    "        title='L0 vs Fraction Recovered',\n",
    "        xaxis_title='L0',\n",
    "        yaxis_title='Fraction Recovered',\n",
    "        hovermode='closest'\n",
    "    )\n",
    "\n",
    "    # Set axis limits\n",
    "    if xlims:\n",
    "        fig.update_xaxes(range=xlims)\n",
    "    if y_lims:\n",
    "        fig.update_yaxes(range=y_lims)\n",
    "\n",
    "    # Save and show the plot\n",
    "    if output_filename:\n",
    "        fig.write_html(output_filename)\n",
    "    \n",
    "    fig.show()\n",
    "\n",
    "# Example usage:\n",
    "plot_interactive_3var_graph(results)"
   ]
  },
  {
   "cell_type": "code",
   "execution_count": 38,
   "metadata": {},
   "outputs": [
    {
     "data": {
      "image/png": "[encoded data removed]",
      "text/plain": [
       "<Figure size 1000x600 with 1 Axes>"
      ]
     },
     "metadata": {},
     "output_type": "display_data"
    }
   ],
   "source": [
    "def plot_2var_graph(\n",
    "    results: dict,\n",
    "    xlims: Optional[tuple[float, float]] = None,\n",
    "    y_lims: Optional[tuple[float, float]] = None,\n",
    "    output_filename: Optional[str] = None,\n",
    "):\n",
    "    # Extract data from results\n",
    "    l0_values = [data['l0'] for data in results.values()]\n",
    "    frac_recovered_values = [data['frac_recovered'] for data in results.values()]\n",
    "\n",
    "    # Create the scatter plot\n",
    "    fig, ax = plt.subplots(figsize=(10, 6))\n",
    "\n",
    "    # Plot data points\n",
    "    ax.scatter(\n",
    "        l0_values,\n",
    "        frac_recovered_values,\n",
    "        s=100,\n",
    "        edgecolor=\"black\",\n",
    "        c=\"blue\"  # You can change this color as needed\n",
    "    )\n",
    "\n",
    "    # Set labels and title\n",
    "    ax.set_xlabel(\"L0\")\n",
    "    ax.set_ylabel(\"Fraction Recovered\")\n",
    "    ax.set_title(\"L0 vs Fraction Recovered\")\n",
    "\n",
    "    # Set axis limits\n",
    "    if xlims:\n",
    "        ax.set_xlim(*xlims)\n",
    "    if y_lims:\n",
    "        ax.set_ylim(*y_lims)\n",
    "\n",
    "    plt.tight_layout()\n",
    "\n",
    "    # Save and show the plot\n",
    "    if output_filename:\n",
    "        plt.savefig(output_filename, bbox_inches=\"tight\")\n",
    "    plt.show()\n",
    "\n",
    "# Example usage:\n",
    "plot_2var_graph(results)"
   ]
  }
 ],
 "metadata": {
  "kernelspec": {
   "display_name": "shift",
   "language": "python",
   "name": "python3"
  },
  "language_info": {
   "codemirror_mode": {
    "name": "ipython",
    "version": 3
   },
   "file_extension": ".py",
   "mimetype": "text/x-python",
   "name": "python",
   "nbconvert_exporter": "python",
   "pygments_lexer": "ipython3",
   "version": "3.10.13"
  }
 },
 "nbformat": 4,
 "nbformat_minor": 2
}
