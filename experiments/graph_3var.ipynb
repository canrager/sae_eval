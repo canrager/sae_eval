{
 "cells": [
  {
   "cell_type": "code",
   "execution_count": 263,
   "metadata": {},
   "outputs": [],
   "source": [
    "import matplotlib.pyplot as plt\n",
    "import json\n",
    "import torch\n",
    "import pickle\n",
    "from typing import Optional\n",
    "from matplotlib.colors import Normalize\n",
    "import numpy as np\n",
    "import os\n",
    "\n",
    "import experiments.utils as utils\n",
    "\n",
    "\n",
    "DICTIONARIES_PATH = \"../dictionary_learning/dictionaries\"\n",
    "# DICTIONARIES_PATH = \"../dictionary_learning/dictionaries/gemma-2-2b-saved-data\"\n",
    "# DICTIONARIES_PATH = \"../dictionary_learning/dictionaries/pythia70m-autointerp-results\""
   ]
  },
  {
   "cell_type": "code",
   "execution_count": 264,
   "metadata": {},
   "outputs": [],
   "source": [
    "# There's a potential issue as we currently assume that all SAEs have the same classes.\n",
    "\n",
    "\n",
    "def get_classes(first_path: str) -> list[int]:\n",
    "    class_accuracies_file = f\"{first_path}/class_accuracies.pkl\"\n",
    "    with open(class_accuracies_file, \"rb\") as f:\n",
    "        class_accuracies = pickle.load(f)\n",
    "    return list(class_accuracies[\"clean_acc\"].keys())\n",
    "\n",
    "\n",
    "def get_sparsity_penalty(config: dict, trainer_class: str) -> float:\n",
    "    if trainer_class == \"TrainerTopK\":\n",
    "        return config[\"trainer\"][\"k\"]\n",
    "    elif trainer_class == \"PAnnealTrainer\":\n",
    "        return config[\"trainer\"][\"sparsity_penalty\"]\n",
    "    else:\n",
    "        return config[\"trainer\"][\"l1_penalty\"]\n",
    "\n",
    "\n",
    "def get_l0_frac_recovered(ae_paths: list[str]) -> dict[str, dict[str, float]]:\n",
    "    results = {}\n",
    "    for ae_path in ae_paths:\n",
    "        eval_results_file = f\"{ae_path}/eval_results.json\"\n",
    "        if not os.path.exists(eval_results_file):\n",
    "            print(f\"Warning: {eval_results_file} does not exist.\")\n",
    "            continue\n",
    "\n",
    "        with open(eval_results_file, \"r\") as f:\n",
    "            eval_results = json.load(f)\n",
    "\n",
    "        l0 = eval_results[\"l0\"]\n",
    "        frac_recovered = eval_results[\"frac_recovered\"]\n",
    "\n",
    "        results[ae_path] = {\n",
    "            \"l0\": l0,\n",
    "            \"frac_recovered\": frac_recovered,\n",
    "        }\n",
    "\n",
    "    return results\n",
    "\n",
    "\n",
    "def add_ae_config_results(\n",
    "    ae_paths: list[str], results: dict[str, dict[str, float]]\n",
    ") -> dict[str, dict[str, float]]:\n",
    "    for ae_path in ae_paths:\n",
    "        config_file = f\"{ae_path}/config.json\"\n",
    "\n",
    "        with open(config_file, \"r\") as f:\n",
    "            config = json.load(f)\n",
    "\n",
    "        trainer_class = config[\"trainer\"][\"trainer_class\"]\n",
    "        results[ae_path][\"trainer_class\"] = trainer_class\n",
    "        results[ae_path][\"l1_penalty\"] = get_sparsity_penalty(config, trainer_class)\n",
    "\n",
    "        results[ae_path][\"lr\"] = config[\"trainer\"][\"lr\"]\n",
    "        results[ae_path][\"dict_size\"] = config[\"trainer\"][\"dict_size\"]\n",
    "        if \"steps\" in config[\"trainer\"]:\n",
    "            results[ae_path][\"steps\"] = config[\"trainer\"][\"steps\"]\n",
    "\n",
    "    return results\n",
    "\n",
    "\n",
    "def add_ablation_diff_plotting_dict(\n",
    "    ae_paths: list[str],\n",
    "    results: dict[str, dict[str, float]],\n",
    "    threshold: float,\n",
    "    intended_filter_class_ids: list[int],\n",
    "    unintended_filter_class_ids: list[int],\n",
    "    filename_counter: str,\n",
    "    acc_key: str = \"acc\",\n",
    ") -> dict:\n",
    "    for ae_path in ae_paths:\n",
    "        intended_diffs = []\n",
    "        unintended_diffs = []\n",
    "\n",
    "        class_accuracies_file = f\"{ae_path}/class_accuracies{filename_counter}.pkl\"\n",
    "\n",
    "        if not os.path.exists(class_accuracies_file):\n",
    "            print(\n",
    "                f\"Warning: {class_accuracies_file} does not exist. Removing this path from results.\"\n",
    "            )\n",
    "            del results[ae_path]\n",
    "            continue\n",
    "\n",
    "        with open(class_accuracies_file, \"rb\") as f:\n",
    "            class_accuracies = pickle.load(f)\n",
    "\n",
    "        classes = list(class_accuracies[\"clean_acc\"].keys())\n",
    "\n",
    "        # print(class_accuracies)\n",
    "        # for class_id in classes:\n",
    "        #     print(class_accuracies[\"clean_acc\"][class_id][\"acc\"])\n",
    "\n",
    "        for class_id in classes:\n",
    "            if isinstance(class_id, str) and \" probe on \" in class_id:\n",
    "                continue\n",
    "\n",
    "            if intended_filter_class_ids and class_id not in intended_filter_class_ids:\n",
    "                continue\n",
    "\n",
    "            clean = class_accuracies[\"clean_acc\"][class_id][\"acc\"]\n",
    "            # print(ae_path)\n",
    "            # print(class_accuracies[class_id])\n",
    "            patched = class_accuracies[class_id][threshold][class_id][acc_key]\n",
    "\n",
    "            diff = clean - patched\n",
    "            intended_diffs.append(diff)\n",
    "\n",
    "        for intended_class_id in classes:\n",
    "            if isinstance(intended_class_id, str) and \" probe on \" in intended_class_id:\n",
    "                continue\n",
    "\n",
    "            if intended_filter_class_ids and intended_class_id not in intended_filter_class_ids:\n",
    "                continue\n",
    "\n",
    "            for unintended_class_id in classes:\n",
    "                if intended_class_id == unintended_class_id:\n",
    "                    continue\n",
    "\n",
    "                if (\n",
    "                    unintended_filter_class_ids\n",
    "                    and unintended_class_id not in unintended_filter_class_ids\n",
    "                ):\n",
    "                    continue\n",
    "\n",
    "                if isinstance(unintended_class_id, str) and \" probe on \" in unintended_class_id:\n",
    "                    continue\n",
    "\n",
    "                clean = class_accuracies[\"clean_acc\"][unintended_class_id][\"acc\"]\n",
    "                patched = class_accuracies[intended_class_id][threshold][unintended_class_id][\n",
    "                    acc_key\n",
    "                ]\n",
    "                diff = clean - patched\n",
    "                unintended_diffs.append(diff)\n",
    "\n",
    "        average_intended_diff = sum(intended_diffs) / len(intended_diffs)\n",
    "        average_unintended_diff = sum(unintended_diffs) / len(unintended_diffs)\n",
    "        average_diff = average_intended_diff - average_unintended_diff\n",
    "\n",
    "        results[ae_path][\"average_diff\"] = average_diff\n",
    "        results[ae_path][\"average_intended_diff\"] = average_intended_diff\n",
    "        results[ae_path][\"average_unintended_diff\"] = average_unintended_diff\n",
    "\n",
    "    return results\n"
   ]
  },
  {
   "cell_type": "code",
   "execution_count": 265,
   "metadata": {},
   "outputs": [],
   "source": [
    "def filter_by_l0_threshold(results: dict, l0_threshold: Optional[int]) -> dict:\n",
    "    if l0_threshold is not None:\n",
    "        filtered_results = {\n",
    "            path: data for path, data in results.items() if data[\"l0\"] <= l0_threshold\n",
    "        }\n",
    "\n",
    "        # Optional: Print how many results were filtered out\n",
    "        filtered_count = len(results) - len(filtered_results)\n",
    "        print(f\"Filtered out {filtered_count} results with L0 > {l0_threshold}\")\n",
    "\n",
    "        # Replace the original results with the filtered results\n",
    "        results = filtered_results\n",
    "    return results"
   ]
  },
  {
   "cell_type": "code",
   "execution_count": 266,
   "metadata": {},
   "outputs": [],
   "source": [
    "# “Gated SAE”, “Gated SAE w/ p-annealing”, “Standard”, “Standard w/ p-annealing”\n",
    "label_lookup = {\n",
    "    \"StandardTrainer\": \"Standard\",\n",
    "    # \"PAnnealTrainer\": \"Standard w/ p-annealing\",\n",
    "    # \"GatedSAETrainer\": \"Gated SAE\",\n",
    "    \"TrainerJumpRelu\": \"JumpReLU\",\n",
    "    # \"GatedAnnealTrainer\": \"Gated SAE w/ p-annealing\",\n",
    "    \"TrainerTopK\": \"Top K\",\n",
    "    # \"Identity\": \"Identity\",\n",
    "}\n",
    "\n",
    "unique_trainers = list(label_lookup.keys())\n",
    "\n",
    "# create a dictionary mapping trainer types to marker shapes\n",
    "\n",
    "trainer_markers = {\n",
    "    \"StandardTrainer\": \"o\",\n",
    "    \"TrainerJumpRelu\": \"X\",\n",
    "    \"TrainerTopK\": \"^\",\n",
    "    \"GatedSAETrainer\": \"d\",\n",
    "}\n",
    "\n",
    "\n",
    "# default text size\n",
    "plt.rcParams.update({\"font.size\": 16})\n",
    "\n",
    "\n",
    "def plot_3var_graph(\n",
    "    results: dict,\n",
    "    title: str,\n",
    "    custom_metric: str,\n",
    "    xlims: Optional[tuple[float, float]] = None,\n",
    "    ylims: Optional[tuple[float, float]] = None,\n",
    "    colorbar_label: str = \"Average Diff\",\n",
    "    output_filename: Optional[str] = None,\n",
    "    legend_location: str = \"lower right\",\n",
    "):\n",
    "    # Extract data from results\n",
    "    l0_values = [data[\"l0\"] for data in results.values()]\n",
    "    frac_recovered_values = [data[\"frac_recovered\"] for data in results.values()]\n",
    "    average_diff_values = [data[custom_metric] for data in results.values()]\n",
    "\n",
    "    # Create the scatter plot\n",
    "    fig, ax = plt.subplots(figsize=(10, 6))\n",
    "\n",
    "    # Create a normalize object for color scaling\n",
    "    norm = Normalize(vmin=min(average_diff_values), vmax=max(average_diff_values))\n",
    "\n",
    "    handles, labels = [], []\n",
    "\n",
    "    for trainer, marker in trainer_markers.items():\n",
    "        # Filter data for this trainer\n",
    "        trainer_data = {k: v for k, v in results.items() if v[\"trainer_class\"] == trainer}\n",
    "\n",
    "        if not trainer_data:\n",
    "            continue  # Skip this trainer if no data points\n",
    "\n",
    "        l0_values = [data[\"l0\"] for data in trainer_data.values()]\n",
    "        frac_recovered_values = [data[\"frac_recovered\"] for data in trainer_data.values()]\n",
    "        average_diff_values = [data[custom_metric] for data in trainer_data.values()]\n",
    "\n",
    "        # Plot data points\n",
    "        scatter = ax.scatter(\n",
    "            l0_values,\n",
    "            frac_recovered_values,\n",
    "            c=average_diff_values,\n",
    "            cmap=\"viridis\",\n",
    "            marker=marker,\n",
    "            s=100,\n",
    "            label=label_lookup[trainer],\n",
    "            norm=norm,\n",
    "            edgecolor=\"black\",\n",
    "        )\n",
    "\n",
    "        # custom legend stuff\n",
    "        _handle, _ = scatter.legend_elements(prop=\"sizes\")\n",
    "        _handle[0].set_markeredgecolor(\"black\")\n",
    "        _handle[0].set_markerfacecolor(\"white\")\n",
    "        _handle[0].set_markersize(10)\n",
    "        if marker == \"d\":\n",
    "            _handle[0].set_markersize(13)\n",
    "        handles += _handle\n",
    "        labels.append(label_lookup[trainer])\n",
    "\n",
    "    # Add colorbar\n",
    "    cbar = fig.colorbar(scatter, ax=ax, label=colorbar_label)\n",
    "\n",
    "    # Set labels and title\n",
    "    ax.set_xlabel(\"L0\")\n",
    "    ax.set_ylabel(\"Fraction Recovered\")\n",
    "    ax.set_title(title)\n",
    "\n",
    "    ax.legend(handles, labels, loc=legend_location)\n",
    "\n",
    "    # Set axis limits\n",
    "    if xlims:\n",
    "        ax.set_xlim(*xlims)\n",
    "    if ylims:\n",
    "        ax.set_ylim(*ylims)\n",
    "\n",
    "    plt.tight_layout()\n",
    "\n",
    "    # Save and show the plot\n",
    "    if output_filename:\n",
    "        plt.savefig(output_filename, bbox_inches=\"tight\")\n",
    "    plt.show()\n",
    "\n",
    "\n",
    "# print(results)\n",
    "# if include_diff:\n",
    "# plot_3var_graph(results)\n"
   ]
  },
  {
   "cell_type": "code",
   "execution_count": 267,
   "metadata": {},
   "outputs": [],
   "source": [
    "import plotly.graph_objects as go\n",
    "from typing import Optional, Dict, Any\n",
    "\n",
    "\n",
    "def plot_interactive_3var_graph(\n",
    "    results: Dict[str, Dict[str, float]],\n",
    "    custom_color_metric: str,\n",
    "    xlims: Optional[tuple[float, float]] = None,\n",
    "    y_lims: Optional[tuple[float, float]] = None,\n",
    "    output_filename: Optional[str] = None,\n",
    "):\n",
    "    # Extract data from results\n",
    "    ae_paths = list(results.keys())\n",
    "    l0_values = [data[\"l0\"] for data in results.values()]\n",
    "    frac_recovered_values = [data[\"frac_recovered\"] for data in results.values()]\n",
    "\n",
    "    custom_metric_value = [data[custom_color_metric] for data in results.values()]\n",
    "\n",
    "    dict_size = [data[\"dict_size\"] for data in results.values()]\n",
    "    lr = [data[\"lr\"] for data in results.values()]\n",
    "    l1_penalty = [data[\"l1_penalty\"] for data in results.values()]\n",
    "\n",
    "    # Create the scatter plot\n",
    "    fig = go.Figure()\n",
    "\n",
    "    # Add trace\n",
    "    fig.add_trace(\n",
    "        go.Scatter(\n",
    "            x=l0_values,\n",
    "            y=frac_recovered_values,\n",
    "            mode=\"markers\",\n",
    "            marker=dict(\n",
    "                size=10,\n",
    "                color=custom_metric_value,  # Color points based on frac_recovered\n",
    "                colorscale=\"Viridis\",  # You can change this colorscale\n",
    "                showscale=True,\n",
    "            ),\n",
    "            text=[\n",
    "                f\"AE Path: {ae}<br>L0: {l0:.4f}<br>Frac Recovered: {fr:.4f}<br>Custom Metric: {ad:.4f}<br>Dict Size: {d:.4f}<br>LR: {l:.4f}<br>L1 Penalty: {l1:.4f}\"\n",
    "                for ae, l0, fr, ad, d, l, l1 in zip(\n",
    "                    ae_paths,\n",
    "                    l0_values,\n",
    "                    frac_recovered_values,\n",
    "                    custom_metric_value,\n",
    "                    dict_size,\n",
    "                    lr,\n",
    "                    l1_penalty,\n",
    "                )\n",
    "            ],\n",
    "            hoverinfo=\"text\",\n",
    "        )\n",
    "    )\n",
    "\n",
    "    # Update layout\n",
    "    fig.update_layout(\n",
    "        title=\"L0 vs Fraction Recovered\",\n",
    "        xaxis_title=\"L0\",\n",
    "        yaxis_title=\"Fraction Recovered\",\n",
    "        hovermode=\"closest\",\n",
    "    )\n",
    "\n",
    "    # Set axis limits\n",
    "    if xlims:\n",
    "        fig.update_xaxes(range=xlims)\n",
    "    if y_lims:\n",
    "        fig.update_yaxes(range=y_lims)\n",
    "\n",
    "    # Save and show the plot\n",
    "    if output_filename:\n",
    "        fig.write_html(output_filename)\n",
    "\n",
    "    fig.show()\n",
    "\n",
    "\n",
    "# Example usage:\n",
    "# plot_interactive_3var_graph(results)"
   ]
  },
  {
   "cell_type": "code",
   "execution_count": 268,
   "metadata": {},
   "outputs": [],
   "source": [
    "def plot_2var_graph(\n",
    "    results: dict,\n",
    "    xlims: Optional[tuple[float, float]] = None,\n",
    "    y_lims: Optional[tuple[float, float]] = None,\n",
    "    output_filename: Optional[str] = None,\n",
    "):\n",
    "    # Extract data from results\n",
    "    l0_values = [data[\"l0\"] for data in results.values()]\n",
    "    frac_recovered_values = [data[\"frac_recovered\"] for data in results.values()]\n",
    "\n",
    "    # Create the scatter plot\n",
    "    fig, ax = plt.subplots(figsize=(10, 6))\n",
    "\n",
    "    # Plot data points\n",
    "    ax.scatter(\n",
    "        l0_values,\n",
    "        frac_recovered_values,\n",
    "        s=100,\n",
    "        edgecolor=\"black\",\n",
    "        c=\"blue\",  # You can change this color as needed\n",
    "    )\n",
    "\n",
    "    # Set labels and title\n",
    "    ax.set_xlabel(\"L0\")\n",
    "    ax.set_ylabel(\"Fraction Recovered\")\n",
    "    ax.set_title(\"L0 vs Fraction Recovered\")\n",
    "\n",
    "    # Set axis limits\n",
    "    if xlims:\n",
    "        ax.set_xlim(*xlims)\n",
    "    if y_lims:\n",
    "        ax.set_ylim(*y_lims)\n",
    "\n",
    "    plt.tight_layout()\n",
    "\n",
    "    # Save and show the plot\n",
    "    if output_filename:\n",
    "        plt.savefig(output_filename, bbox_inches=\"tight\")\n",
    "    plt.show()\n",
    "\n",
    "\n",
    "# Example usage:\n",
    "# plot_2var_graph(results)"
   ]
  },
  {
   "cell_type": "code",
   "execution_count": 269,
   "metadata": {},
   "outputs": [
    {
     "data": {
      "image/png": "[encoded data removed]",
      "text/plain": [
       "<Figure size 1000x600 with 2 Axes>"
      ]
     },
     "metadata": {},
     "output_type": "display_data"
    },
    {
     "data": {
      "application/vnd.plotly.v1+json": {
       "config": {
        "plotlyServerURL": "https://plot.ly"
       },
       "data": [
        {
         "hoverinfo": "text",
         "marker": {
          "color": [
           40,
           40,
           40,
           40,
           40,
           80,
           80,
           80,
           80,
           80,
           40,
           80,
           40,
           40,
           40,
           40,
           40,
           80,
           80,
           80,
           80,
           80,
           80,
           40,
           40,
           40,
           40,
           40,
           40,
           80,
           80,
           80,
           80,
           80,
           80,
           40
          ],
          "colorscale": [
           [
            0,
            "#440154"
           ],
           [
            0.1111111111111111,
            "#482878"
           ],
           [
            0.2222222222222222,
            "#3e4989"
           ],
           [
            0.3333333333333333,
            "#31688e"
           ],
           [
            0.4444444444444444,
            "#26828e"
           ],
           [
            0.5555555555555556,
            "#1f9e89"
           ],
           [
            0.6666666666666666,
            "#35b779"
           ],
           [
            0.7777777777777778,
            "#6ece58"
           ],
           [
            0.8888888888888888,
            "#b5de2b"
           ],
           [
            1,
            "#fde725"
           ]
          ],
          "showscale": true,
          "size": 10
         },
         "mode": "markers",
         "text": [
          "AE Path: ../dictionary_learning/dictionaries/gemma-2-2b_sweep_topk_ctx128_ef8_0824/resid_post_layer_11_checkpoints/trainer_1_step_0<br>L0: 40.0000<br>Frac Recovered: -0.1137<br>Custom Metric: 40.0000<br>Dict Size: 18432.0000<br>LR: 0.0002<br>L1 Penalty: 40.0000",
          "AE Path: ../dictionary_learning/dictionaries/gemma-2-2b_sweep_topk_ctx128_ef8_0824/resid_post_layer_11_checkpoints/trainer_1_step_19528<br>L0: 40.0000<br>Frac Recovered: 0.9831<br>Custom Metric: 40.0000<br>Dict Size: 18432.0000<br>LR: 0.0002<br>L1 Penalty: 40.0000",
          "AE Path: ../dictionary_learning/dictionaries/gemma-2-2b_sweep_topk_ctx128_ef8_0824/resid_post_layer_11_checkpoints/trainer_1_step_29292<br>L0: 39.9833<br>Frac Recovered: 0.9838<br>Custom Metric: 40.0000<br>Dict Size: 18432.0000<br>LR: 0.0002<br>L1 Penalty: 40.0000",
          "AE Path: ../dictionary_learning/dictionaries/gemma-2-2b_sweep_topk_ctx128_ef8_0824/resid_post_layer_11_checkpoints/trainer_1_step_4882<br>L0: 40.0000<br>Frac Recovered: 0.9771<br>Custom Metric: 40.0000<br>Dict Size: 18432.0000<br>LR: 0.0002<br>L1 Penalty: 40.0000",
          "AE Path: ../dictionary_learning/dictionaries/gemma-2-2b_sweep_topk_ctx128_ef8_0824/resid_post_layer_11_checkpoints/trainer_1_step_9764<br>L0: 40.0000<br>Frac Recovered: 0.9825<br>Custom Metric: 40.0000<br>Dict Size: 18432.0000<br>LR: 0.0002<br>L1 Penalty: 40.0000",
          "AE Path: ../dictionary_learning/dictionaries/gemma-2-2b_sweep_topk_ctx128_ef8_0824/resid_post_layer_11_checkpoints/trainer_2_step_0<br>L0: 80.0000<br>Frac Recovered: -0.2103<br>Custom Metric: 80.0000<br>Dict Size: 18432.0000<br>LR: 0.0002<br>L1 Penalty: 80.0000",
          "AE Path: ../dictionary_learning/dictionaries/gemma-2-2b_sweep_topk_ctx128_ef8_0824/resid_post_layer_11_checkpoints/trainer_2_step_19528<br>L0: 79.9000<br>Frac Recovered: 0.9897<br>Custom Metric: 80.0000<br>Dict Size: 18432.0000<br>LR: 0.0002<br>L1 Penalty: 80.0000",
          "AE Path: ../dictionary_learning/dictionaries/gemma-2-2b_sweep_topk_ctx128_ef8_0824/resid_post_layer_11_checkpoints/trainer_2_step_29292<br>L0: 80.0000<br>Frac Recovered: 0.9899<br>Custom Metric: 80.0000<br>Dict Size: 18432.0000<br>LR: 0.0002<br>L1 Penalty: 80.0000",
          "AE Path: ../dictionary_learning/dictionaries/gemma-2-2b_sweep_topk_ctx128_ef8_0824/resid_post_layer_11_checkpoints/trainer_2_step_4882<br>L0: 80.0000<br>Frac Recovered: 0.9861<br>Custom Metric: 80.0000<br>Dict Size: 18432.0000<br>LR: 0.0002<br>L1 Penalty: 80.0000",
          "AE Path: ../dictionary_learning/dictionaries/gemma-2-2b_sweep_topk_ctx128_ef8_0824/resid_post_layer_11_checkpoints/trainer_2_step_9764<br>L0: 80.0000<br>Frac Recovered: 0.9886<br>Custom Metric: 80.0000<br>Dict Size: 18432.0000<br>LR: 0.0002<br>L1 Penalty: 80.0000",
          "AE Path: ../dictionary_learning/dictionaries/gemma-2-2b_sweep_topk_ctx128_ef8_0824/resid_post_layer_11_checkpoints/trainer_1_step_48828<br>L0: 40.0000<br>Frac Recovered: 0.9844<br>Custom Metric: 40.0000<br>Dict Size: 18432.0000<br>LR: 0.0002<br>L1 Penalty: 40.0000",
          "AE Path: ../dictionary_learning/dictionaries/gemma-2-2b_sweep_topk_ctx128_ef8_0824/resid_post_layer_11_checkpoints/trainer_2_step_48828<br>L0: 79.9542<br>Frac Recovered: 0.9903<br>Custom Metric: 80.0000<br>Dict Size: 18432.0000<br>LR: 0.0002<br>L1 Penalty: 80.0000",
          "AE Path: ../dictionary_learning/dictionaries/gemma-2-2b_sweep_topk_ctx128_ef8_0824/resid_post_layer_15_checkpoints/trainer_1_step_0<br>L0: 40.0000<br>Frac Recovered: -0.2329<br>Custom Metric: 40.0000<br>Dict Size: 18432.0000<br>LR: 0.0002<br>L1 Penalty: 40.0000",
          "AE Path: ../dictionary_learning/dictionaries/gemma-2-2b_sweep_topk_ctx128_ef8_0824/resid_post_layer_15_checkpoints/trainer_1_step_19528<br>L0: 39.9958<br>Frac Recovered: 0.9789<br>Custom Metric: 40.0000<br>Dict Size: 18432.0000<br>LR: 0.0002<br>L1 Penalty: 40.0000",
          "AE Path: ../dictionary_learning/dictionaries/gemma-2-2b_sweep_topk_ctx128_ef8_0824/resid_post_layer_15_checkpoints/trainer_1_step_29292<br>L0: 39.9917<br>Frac Recovered: 0.9797<br>Custom Metric: 40.0000<br>Dict Size: 18432.0000<br>LR: 0.0002<br>L1 Penalty: 40.0000",
          "AE Path: ../dictionary_learning/dictionaries/gemma-2-2b_sweep_topk_ctx128_ef8_0824/resid_post_layer_15_checkpoints/trainer_1_step_4882<br>L0: 40.0000<br>Frac Recovered: 0.9736<br>Custom Metric: 40.0000<br>Dict Size: 18432.0000<br>LR: 0.0002<br>L1 Penalty: 40.0000",
          "AE Path: ../dictionary_learning/dictionaries/gemma-2-2b_sweep_topk_ctx128_ef8_0824/resid_post_layer_15_checkpoints/trainer_1_step_9764<br>L0: 40.0000<br>Frac Recovered: 0.9776<br>Custom Metric: 40.0000<br>Dict Size: 18432.0000<br>LR: 0.0002<br>L1 Penalty: 40.0000",
          "AE Path: ../dictionary_learning/dictionaries/gemma-2-2b_sweep_topk_ctx128_ef8_0824/resid_post_layer_15_checkpoints/trainer_2_step_0<br>L0: 80.0000<br>Frac Recovered: -0.0656<br>Custom Metric: 80.0000<br>Dict Size: 18432.0000<br>LR: 0.0002<br>L1 Penalty: 80.0000",
          "AE Path: ../dictionary_learning/dictionaries/gemma-2-2b_sweep_topk_ctx128_ef8_0824/resid_post_layer_15_checkpoints/trainer_2_step_19528<br>L0: 80.0000<br>Frac Recovered: 0.9874<br>Custom Metric: 80.0000<br>Dict Size: 18432.0000<br>LR: 0.0002<br>L1 Penalty: 80.0000",
          "AE Path: ../dictionary_learning/dictionaries/gemma-2-2b_sweep_topk_ctx128_ef8_0824/resid_post_layer_15_checkpoints/trainer_2_step_29292<br>L0: 79.9000<br>Frac Recovered: 0.9880<br>Custom Metric: 80.0000<br>Dict Size: 18432.0000<br>LR: 0.0002<br>L1 Penalty: 80.0000",
          "AE Path: ../dictionary_learning/dictionaries/gemma-2-2b_sweep_topk_ctx128_ef8_0824/resid_post_layer_15_checkpoints/trainer_2_step_4882<br>L0: 80.0000<br>Frac Recovered: 0.9839<br>Custom Metric: 80.0000<br>Dict Size: 18432.0000<br>LR: 0.0002<br>L1 Penalty: 80.0000",
          "AE Path: ../dictionary_learning/dictionaries/gemma-2-2b_sweep_topk_ctx128_ef8_0824/resid_post_layer_15_checkpoints/trainer_2_step_9764<br>L0: 80.0000<br>Frac Recovered: 0.9866<br>Custom Metric: 80.0000<br>Dict Size: 18432.0000<br>LR: 0.0002<br>L1 Penalty: 80.0000",
          "AE Path: ../dictionary_learning/dictionaries/gemma-2-2b_sweep_topk_ctx128_ef8_0824/resid_post_layer_15_checkpoints/trainer_2_step_48828<br>L0: 80.0000<br>Frac Recovered: 0.9884<br>Custom Metric: 80.0000<br>Dict Size: 18432.0000<br>LR: 0.0002<br>L1 Penalty: 80.0000",
          "AE Path: ../dictionary_learning/dictionaries/gemma-2-2b_sweep_topk_ctx128_ef8_0824/resid_post_layer_15_checkpoints/trainer_1_step_48828<br>L0: 40.0000<br>Frac Recovered: 0.9807<br>Custom Metric: 40.0000<br>Dict Size: 18432.0000<br>LR: 0.0002<br>L1 Penalty: 40.0000",
          "AE Path: ../dictionary_learning/dictionaries/gemma-2-2b_sweep_topk_ctx128_ef8_0824/resid_post_layer_19_checkpoints/trainer_1_step_0<br>L0: 40.0000<br>Frac Recovered: -0.0305<br>Custom Metric: 40.0000<br>Dict Size: 18432.0000<br>LR: 0.0002<br>L1 Penalty: 40.0000",
          "AE Path: ../dictionary_learning/dictionaries/gemma-2-2b_sweep_topk_ctx128_ef8_0824/resid_post_layer_19_checkpoints/trainer_1_step_19528<br>L0: 40.0000<br>Frac Recovered: 0.9767<br>Custom Metric: 40.0000<br>Dict Size: 18432.0000<br>LR: 0.0002<br>L1 Penalty: 40.0000",
          "AE Path: ../dictionary_learning/dictionaries/gemma-2-2b_sweep_topk_ctx128_ef8_0824/resid_post_layer_19_checkpoints/trainer_1_step_29292<br>L0: 40.0000<br>Frac Recovered: 0.9777<br>Custom Metric: 40.0000<br>Dict Size: 18432.0000<br>LR: 0.0002<br>L1 Penalty: 40.0000",
          "AE Path: ../dictionary_learning/dictionaries/gemma-2-2b_sweep_topk_ctx128_ef8_0824/resid_post_layer_19_checkpoints/trainer_1_step_4882<br>L0: 40.0000<br>Frac Recovered: 0.9729<br>Custom Metric: 40.0000<br>Dict Size: 18432.0000<br>LR: 0.0002<br>L1 Penalty: 40.0000",
          "AE Path: ../dictionary_learning/dictionaries/gemma-2-2b_sweep_topk_ctx128_ef8_0824/resid_post_layer_19_checkpoints/trainer_1_step_9764<br>L0: 40.0000<br>Frac Recovered: 0.9756<br>Custom Metric: 40.0000<br>Dict Size: 18432.0000<br>LR: 0.0002<br>L1 Penalty: 40.0000",
          "AE Path: ../dictionary_learning/dictionaries/gemma-2-2b_sweep_topk_ctx128_ef8_0824/resid_post_layer_19_checkpoints/trainer_2_step_19528<br>L0: 80.0000<br>Frac Recovered: 0.9847<br>Custom Metric: 80.0000<br>Dict Size: 18432.0000<br>LR: 0.0002<br>L1 Penalty: 80.0000",
          "AE Path: ../dictionary_learning/dictionaries/gemma-2-2b_sweep_topk_ctx128_ef8_0824/resid_post_layer_19_checkpoints/trainer_2_step_0<br>L0: 80.0000<br>Frac Recovered: 0.1242<br>Custom Metric: 80.0000<br>Dict Size: 18432.0000<br>LR: 0.0002<br>L1 Penalty: 80.0000",
          "AE Path: ../dictionary_learning/dictionaries/gemma-2-2b_sweep_topk_ctx128_ef8_0824/resid_post_layer_19_checkpoints/trainer_2_step_29292<br>L0: 80.0000<br>Frac Recovered: 0.9849<br>Custom Metric: 80.0000<br>Dict Size: 18432.0000<br>LR: 0.0002<br>L1 Penalty: 80.0000",
          "AE Path: ../dictionary_learning/dictionaries/gemma-2-2b_sweep_topk_ctx128_ef8_0824/resid_post_layer_19_checkpoints/trainer_2_step_4882<br>L0: 80.0000<br>Frac Recovered: 0.9815<br>Custom Metric: 80.0000<br>Dict Size: 18432.0000<br>LR: 0.0002<br>L1 Penalty: 80.0000",
          "AE Path: ../dictionary_learning/dictionaries/gemma-2-2b_sweep_topk_ctx128_ef8_0824/resid_post_layer_19_checkpoints/trainer_2_step_9764<br>L0: 80.0000<br>Frac Recovered: 0.9837<br>Custom Metric: 80.0000<br>Dict Size: 18432.0000<br>LR: 0.0002<br>L1 Penalty: 80.0000",
          "AE Path: ../dictionary_learning/dictionaries/gemma-2-2b_sweep_topk_ctx128_ef8_0824/resid_post_layer_19_checkpoints/trainer_2_step_48828<br>L0: 80.0000<br>Frac Recovered: 0.9854<br>Custom Metric: 80.0000<br>Dict Size: 18432.0000<br>LR: 0.0002<br>L1 Penalty: 80.0000",
          "AE Path: ../dictionary_learning/dictionaries/gemma-2-2b_sweep_topk_ctx128_ef8_0824/resid_post_layer_19_checkpoints/trainer_1_step_48828<br>L0: 40.0000<br>Frac Recovered: 0.9781<br>Custom Metric: 40.0000<br>Dict Size: 18432.0000<br>LR: 0.0002<br>L1 Penalty: 40.0000"
         ],
         "type": "scatter",
         "x": [
          40,
          40,
          39.983334350585935,
          40,
          40,
          80,
          79.9,
          80,
          80,
          80,
          40,
          79.95416717529297,
          40,
          39.99583358764649,
          39.99166717529297,
          40,
          40,
          80,
          80,
          79.9,
          80,
          80,
          80,
          40,
          40,
          40,
          40,
          40,
          40,
          80,
          80,
          80,
          80,
          80,
          80,
          40
         ],
         "y": [
          -0.1137192726135254,
          0.9831358790397644,
          0.9838047802448273,
          0.9771327614784241,
          0.9825274705886841,
          -0.2103082224726677,
          0.9896542429924011,
          0.9898871839046478,
          0.9860971808433533,
          0.988573682308197,
          0.9843562066555023,
          0.9903075456619262,
          -0.23288672268390656,
          0.9788522481918335,
          0.979695725440979,
          0.9735915839672089,
          0.9776096105575561,
          -0.06557218059897423,
          0.9874190568923951,
          0.9880201041698455,
          0.9839148700237275,
          0.9866274833679199,
          0.988433837890625,
          0.980656909942627,
          -0.030534679733682422,
          0.9767161905765533,
          0.977747130393982,
          0.9729329884052277,
          0.9755988657474518,
          0.9846857130527497,
          0.12416270188987255,
          0.9848611414432525,
          0.9814700245857239,
          0.9837063908576965,
          0.9854330003261567,
          0.9781295597553253
         ]
        }
       ],
       "layout": {
        "hovermode": "closest",
        "template": {
         "data": {
          "bar": [
           {
            "error_x": {
             "color": "#2a3f5f"
            },
            "error_y": {
             "color": "#2a3f5f"
            },
            "marker": {
             "line": {
              "color": "#E5ECF6",
              "width": 0.5
             },
             "pattern": {
              "fillmode": "overlay",
              "size": 10,
              "solidity": 0.2
             }
            },
            "type": "bar"
           }
          ],
          "barpolar": [
           {
            "marker": {
             "line": {
              "color": "#E5ECF6",
              "width": 0.5
             },
             "pattern": {
              "fillmode": "overlay",
              "size": 10,
              "solidity": 0.2
             }
            },
            "type": "barpolar"
           }
          ],
          "carpet": [
           {
            "aaxis": {
             "endlinecolor": "#2a3f5f",
             "gridcolor": "white",
             "linecolor": "white",
             "minorgridcolor": "white",
             "startlinecolor": "#2a3f5f"
            },
            "baxis": {
             "endlinecolor": "#2a3f5f",
             "gridcolor": "white",
             "linecolor": "white",
             "minorgridcolor": "white",
             "startlinecolor": "#2a3f5f"
            },
            "type": "carpet"
           }
          ],
          "choropleth": [
           {
            "colorbar": {
             "outlinewidth": 0,
             "ticks": ""
            },
            "type": "choropleth"
           }
          ],
          "contour": [
           {
            "colorbar": {
             "outlinewidth": 0,
             "ticks": ""
            },
            "colorscale": [
             [
              0,
              "#0d0887"
             ],
             [
              0.1111111111111111,
              "#46039f"
             ],
             [
              0.2222222222222222,
              "#7201a8"
             ],
             [
              0.3333333333333333,
              "#9c179e"
             ],
             [
              0.4444444444444444,
              "#bd3786"
             ],
             [
              0.5555555555555556,
              "#d8576b"
             ],
             [
              0.6666666666666666,
              "#ed7953"
             ],
             [
              0.7777777777777778,
              "#fb9f3a"
             ],
             [
              0.8888888888888888,
              "#fdca26"
             ],
             [
              1,
              "#f0f921"
             ]
            ],
            "type": "contour"
           }
          ],
          "contourcarpet": [
           {
            "colorbar": {
             "outlinewidth": 0,
             "ticks": ""
            },
            "type": "contourcarpet"
           }
          ],
          "heatmap": [
           {
            "colorbar": {
             "outlinewidth": 0,
             "ticks": ""
            },
            "colorscale": [
             [
              0,
              "#0d0887"
             ],
             [
              0.1111111111111111,
              "#46039f"
             ],
             [
              0.2222222222222222,
              "#7201a8"
             ],
             [
              0.3333333333333333,
              "#9c179e"
             ],
             [
              0.4444444444444444,
              "#bd3786"
             ],
             [
              0.5555555555555556,
              "#d8576b"
             ],
             [
              0.6666666666666666,
              "#ed7953"
             ],
             [
              0.7777777777777778,
              "#fb9f3a"
             ],
             [
              0.8888888888888888,
              "#fdca26"
             ],
             [
              1,
              "#f0f921"
             ]
            ],
            "type": "heatmap"
           }
          ],
          "heatmapgl": [
           {
            "colorbar": {
             "outlinewidth": 0,
             "ticks": ""
            },
            "colorscale": [
             [
              0,
              "#0d0887"
             ],
             [
              0.1111111111111111,
              "#46039f"
             ],
             [
              0.2222222222222222,
              "#7201a8"
             ],
             [
              0.3333333333333333,
              "#9c179e"
             ],
             [
              0.4444444444444444,
              "#bd3786"
             ],
             [
              0.5555555555555556,
              "#d8576b"
             ],
             [
              0.6666666666666666,
              "#ed7953"
             ],
             [
              0.7777777777777778,
              "#fb9f3a"
             ],
             [
              0.8888888888888888,
              "#fdca26"
             ],
             [
              1,
              "#f0f921"
             ]
            ],
            "type": "heatmapgl"
           }
          ],
          "histogram": [
           {
            "marker": {
             "pattern": {
              "fillmode": "overlay",
              "size": 10,
              "solidity": 0.2
             }
            },
            "type": "histogram"
           }
          ],
          "histogram2d": [
           {
            "colorbar": {
             "outlinewidth": 0,
             "ticks": ""
            },
            "colorscale": [
             [
              0,
              "#0d0887"
             ],
             [
              0.1111111111111111,
              "#46039f"
             ],
             [
              0.2222222222222222,
              "#7201a8"
             ],
             [
              0.3333333333333333,
              "#9c179e"
             ],
             [
              0.4444444444444444,
              "#bd3786"
             ],
             [
              0.5555555555555556,
              "#d8576b"
             ],
             [
              0.6666666666666666,
              "#ed7953"
             ],
             [
              0.7777777777777778,
              "#fb9f3a"
             ],
             [
              0.8888888888888888,
              "#fdca26"
             ],
             [
              1,
              "#f0f921"
             ]
            ],
            "type": "histogram2d"
           }
          ],
          "histogram2dcontour": [
           {
            "colorbar": {
             "outlinewidth": 0,
             "ticks": ""
            },
            "colorscale": [
             [
              0,
              "#0d0887"
             ],
             [
              0.1111111111111111,
              "#46039f"
             ],
             [
              0.2222222222222222,
              "#7201a8"
             ],
             [
              0.3333333333333333,
              "#9c179e"
             ],
             [
              0.4444444444444444,
              "#bd3786"
             ],
             [
              0.5555555555555556,
              "#d8576b"
             ],
             [
              0.6666666666666666,
              "#ed7953"
             ],
             [
              0.7777777777777778,
              "#fb9f3a"
             ],
             [
              0.8888888888888888,
              "#fdca26"
             ],
             [
              1,
              "#f0f921"
             ]
            ],
            "type": "histogram2dcontour"
           }
          ],
          "mesh3d": [
           {
            "colorbar": {
             "outlinewidth": 0,
             "ticks": ""
            },
            "type": "mesh3d"
           }
          ],
          "parcoords": [
           {
            "line": {
             "colorbar": {
              "outlinewidth": 0,
              "ticks": ""
             }
            },
            "type": "parcoords"
           }
          ],
          "pie": [
           {
            "automargin": true,
            "type": "pie"
           }
          ],
          "scatter": [
           {
            "fillpattern": {
             "fillmode": "overlay",
             "size": 10,
             "solidity": 0.2
            },
            "type": "scatter"
           }
          ],
          "scatter3d": [
           {
            "line": {
             "colorbar": {
              "outlinewidth": 0,
              "ticks": ""
             }
            },
            "marker": {
             "colorbar": {
              "outlinewidth": 0,
              "ticks": ""
             }
            },
            "type": "scatter3d"
           }
          ],
          "scattercarpet": [
           {
            "marker": {
             "colorbar": {
              "outlinewidth": 0,
              "ticks": ""
             }
            },
            "type": "scattercarpet"
           }
          ],
          "scattergeo": [
           {
            "marker": {
             "colorbar": {
              "outlinewidth": 0,
              "ticks": ""
             }
            },
            "type": "scattergeo"
           }
          ],
          "scattergl": [
           {
            "marker": {
             "colorbar": {
              "outlinewidth": 0,
              "ticks": ""
             }
            },
            "type": "scattergl"
           }
          ],
          "scattermapbox": [
           {
            "marker": {
             "colorbar": {
              "outlinewidth": 0,
              "ticks": ""
             }
            },
            "type": "scattermapbox"
           }
          ],
          "scatterpolar": [
           {
            "marker": {
             "colorbar": {
              "outlinewidth": 0,
              "ticks": ""
             }
            },
            "type": "scatterpolar"
           }
          ],
          "scatterpolargl": [
           {
            "marker": {
             "colorbar": {
              "outlinewidth": 0,
              "ticks": ""
             }
            },
            "type": "scatterpolargl"
           }
          ],
          "scatterternary": [
           {
            "marker": {
             "colorbar": {
              "outlinewidth": 0,
              "ticks": ""
             }
            },
            "type": "scatterternary"
           }
          ],
          "surface": [
           {
            "colorbar": {
             "outlinewidth": 0,
             "ticks": ""
            },
            "colorscale": [
             [
              0,
              "#0d0887"
             ],
             [
              0.1111111111111111,
              "#46039f"
             ],
             [
              0.2222222222222222,
              "#7201a8"
             ],
             [
              0.3333333333333333,
              "#9c179e"
             ],
             [
              0.4444444444444444,
              "#bd3786"
             ],
             [
              0.5555555555555556,
              "#d8576b"
             ],
             [
              0.6666666666666666,
              "#ed7953"
             ],
             [
              0.7777777777777778,
              "#fb9f3a"
             ],
             [
              0.8888888888888888,
              "#fdca26"
             ],
             [
              1,
              "#f0f921"
             ]
            ],
            "type": "surface"
           }
          ],
          "table": [
           {
            "cells": {
             "fill": {
              "color": "#EBF0F8"
             },
             "line": {
              "color": "white"
             }
            },
            "header": {
             "fill": {
              "color": "#C8D4E3"
             },
             "line": {
              "color": "white"
             }
            },
            "type": "table"
           }
          ]
         },
         "layout": {
          "annotationdefaults": {
           "arrowcolor": "#2a3f5f",
           "arrowhead": 0,
           "arrowwidth": 1
          },
          "autotypenumbers": "strict",
          "coloraxis": {
           "colorbar": {
            "outlinewidth": 0,
            "ticks": ""
           }
          },
          "colorscale": {
           "diverging": [
            [
             0,
             "#8e0152"
            ],
            [
             0.1,
             "#c51b7d"
            ],
            [
             0.2,
             "#de77ae"
            ],
            [
             0.3,
             "#f1b6da"
            ],
            [
             0.4,
             "#fde0ef"
            ],
            [
             0.5,
             "#f7f7f7"
            ],
            [
             0.6,
             "#e6f5d0"
            ],
            [
             0.7,
             "#b8e186"
            ],
            [
             0.8,
             "#7fbc41"
            ],
            [
             0.9,
             "#4d9221"
            ],
            [
             1,
             "#276419"
            ]
           ],
           "sequential": [
            [
             0,
             "#0d0887"
            ],
            [
             0.1111111111111111,
             "#46039f"
            ],
            [
             0.2222222222222222,
             "#7201a8"
            ],
            [
             0.3333333333333333,
             "#9c179e"
            ],
            [
             0.4444444444444444,
             "#bd3786"
            ],
            [
             0.5555555555555556,
             "#d8576b"
            ],
            [
             0.6666666666666666,
             "#ed7953"
            ],
            [
             0.7777777777777778,
             "#fb9f3a"
            ],
            [
             0.8888888888888888,
             "#fdca26"
            ],
            [
             1,
             "#f0f921"
            ]
           ],
           "sequentialminus": [
            [
             0,
             "#0d0887"
            ],
            [
             0.1111111111111111,
             "#46039f"
            ],
            [
             0.2222222222222222,
             "#7201a8"
            ],
            [
             0.3333333333333333,
             "#9c179e"
            ],
            [
             0.4444444444444444,
             "#bd3786"
            ],
            [
             0.5555555555555556,
             "#d8576b"
            ],
            [
             0.6666666666666666,
             "#ed7953"
            ],
            [
             0.7777777777777778,
             "#fb9f3a"
            ],
            [
             0.8888888888888888,
             "#fdca26"
            ],
            [
             1,
             "#f0f921"
            ]
           ]
          },
          "colorway": [
           "#636efa",
           "#EF553B",
           "#00cc96",
           "#ab63fa",
           "#FFA15A",
           "#19d3f3",
           "#FF6692",
           "#B6E880",
           "#FF97FF",
           "#FECB52"
          ],
          "font": {
           "color": "#2a3f5f"
          },
          "geo": {
           "bgcolor": "white",
           "lakecolor": "white",
           "landcolor": "#E5ECF6",
           "showlakes": true,
           "showland": true,
           "subunitcolor": "white"
          },
          "hoverlabel": {
           "align": "left"
          },
          "hovermode": "closest",
          "mapbox": {
           "style": "light"
          },
          "paper_bgcolor": "white",
          "plot_bgcolor": "#E5ECF6",
          "polar": {
           "angularaxis": {
            "gridcolor": "white",
            "linecolor": "white",
            "ticks": ""
           },
           "bgcolor": "#E5ECF6",
           "radialaxis": {
            "gridcolor": "white",
            "linecolor": "white",
            "ticks": ""
           }
          },
          "scene": {
           "xaxis": {
            "backgroundcolor": "#E5ECF6",
            "gridcolor": "white",
            "gridwidth": 2,
            "linecolor": "white",
            "showbackground": true,
            "ticks": "",
            "zerolinecolor": "white"
           },
           "yaxis": {
            "backgroundcolor": "#E5ECF6",
            "gridcolor": "white",
            "gridwidth": 2,
            "linecolor": "white",
            "showbackground": true,
            "ticks": "",
            "zerolinecolor": "white"
           },
           "zaxis": {
            "backgroundcolor": "#E5ECF6",
            "gridcolor": "white",
            "gridwidth": 2,
            "linecolor": "white",
            "showbackground": true,
            "ticks": "",
            "zerolinecolor": "white"
           }
          },
          "shapedefaults": {
           "line": {
            "color": "#2a3f5f"
           }
          },
          "ternary": {
           "aaxis": {
            "gridcolor": "white",
            "linecolor": "white",
            "ticks": ""
           },
           "baxis": {
            "gridcolor": "white",
            "linecolor": "white",
            "ticks": ""
           },
           "bgcolor": "#E5ECF6",
           "caxis": {
            "gridcolor": "white",
            "linecolor": "white",
            "ticks": ""
           }
          },
          "title": {
           "x": 0.05
          },
          "xaxis": {
           "automargin": true,
           "gridcolor": "white",
           "linecolor": "white",
           "ticks": "",
           "title": {
            "standoff": 15
           },
           "zerolinecolor": "white",
           "zerolinewidth": 2
          },
          "yaxis": {
           "automargin": true,
           "gridcolor": "white",
           "linecolor": "white",
           "ticks": "",
           "title": {
            "standoff": 15
           },
           "zerolinecolor": "white",
           "zerolinewidth": 2
          }
         }
        },
        "title": {
         "text": "L0 vs Fraction Recovered"
        },
        "xaxis": {
         "title": {
          "text": "L0"
         }
        },
        "yaxis": {
         "title": {
          "text": "Fraction Recovered"
         }
        }
       }
      },
      "text/html": [
       "<div>                            <div id=\"ed5ee12a-0922-4cfa-953e-e5081a20610e\" class=\"plotly-graph-div\" style=\"height:525px; width:100%;\"></div>            <script type=\"text/javascript\">                require([\"plotly\"], function(Plotly) {                    window.PLOTLYENV=window.PLOTLYENV || {};                                    if (document.getElementById(\"ed5ee12a-0922-4cfa-953e-e5081a20610e\")) {                    Plotly.newPlot(                        \"ed5ee12a-0922-4cfa-953e-e5081a20610e\",                        [{\"hoverinfo\":\"text\",\"marker\":{\"color\":[40,40,40,40,40,80,80,80,80,80,40,80,40,40,40,40,40,80,80,80,80,80,80,40,40,40,40,40,40,80,80,80,80,80,80,40],\"colorscale\":[[0.0,\"#440154\"],[0.1111111111111111,\"#482878\"],[0.2222222222222222,\"#3e4989\"],[0.3333333333333333,\"#31688e\"],[0.4444444444444444,\"#26828e\"],[0.5555555555555556,\"#1f9e89\"],[0.6666666666666666,\"#35b779\"],[0.7777777777777778,\"#6ece58\"],[0.8888888888888888,\"#b5de2b\"],[1.0,\"#fde725\"]],\"showscale\":true,\"size\":10},\"mode\":\"markers\",\"text\":[\"AE Path: ..\\u002fdictionary_learning\\u002fdictionaries\\u002fgemma-2-2b_sweep_topk_ctx128_ef8_0824\\u002fresid_post_layer_11_checkpoints\\u002ftrainer_1_step_0\\u003cbr\\u003eL0: 40.0000\\u003cbr\\u003eFrac Recovered: -0.1137\\u003cbr\\u003eCustom Metric: 40.0000\\u003cbr\\u003eDict Size: 18432.0000\\u003cbr\\u003eLR: 0.0002\\u003cbr\\u003eL1 Penalty: 40.0000\",\"AE Path: ..\\u002fdictionary_learning\\u002fdictionaries\\u002fgemma-2-2b_sweep_topk_ctx128_ef8_0824\\u002fresid_post_layer_11_checkpoints\\u002ftrainer_1_step_19528\\u003cbr\\u003eL0: 40.0000\\u003cbr\\u003eFrac Recovered: 0.9831\\u003cbr\\u003eCustom Metric: 40.0000\\u003cbr\\u003eDict Size: 18432.0000\\u003cbr\\u003eLR: 0.0002\\u003cbr\\u003eL1 Penalty: 40.0000\",\"AE Path: ..\\u002fdictionary_learning\\u002fdictionaries\\u002fgemma-2-2b_sweep_topk_ctx128_ef8_0824\\u002fresid_post_layer_11_checkpoints\\u002ftrainer_1_step_29292\\u003cbr\\u003eL0: 39.9833\\u003cbr\\u003eFrac Recovered: 0.9838\\u003cbr\\u003eCustom Metric: 40.0000\\u003cbr\\u003eDict Size: 18432.0000\\u003cbr\\u003eLR: 0.0002\\u003cbr\\u003eL1 Penalty: 40.0000\",\"AE Path: ..\\u002fdictionary_learning\\u002fdictionaries\\u002fgemma-2-2b_sweep_topk_ctx128_ef8_0824\\u002fresid_post_layer_11_checkpoints\\u002ftrainer_1_step_4882\\u003cbr\\u003eL0: 40.0000\\u003cbr\\u003eFrac Recovered: 0.9771\\u003cbr\\u003eCustom Metric: 40.0000\\u003cbr\\u003eDict Size: 18432.0000\\u003cbr\\u003eLR: 0.0002\\u003cbr\\u003eL1 Penalty: 40.0000\",\"AE Path: ..\\u002fdictionary_learning\\u002fdictionaries\\u002fgemma-2-2b_sweep_topk_ctx128_ef8_0824\\u002fresid_post_layer_11_checkpoints\\u002ftrainer_1_step_9764\\u003cbr\\u003eL0: 40.0000\\u003cbr\\u003eFrac Recovered: 0.9825\\u003cbr\\u003eCustom Metric: 40.0000\\u003cbr\\u003eDict Size: 18432.0000\\u003cbr\\u003eLR: 0.0002\\u003cbr\\u003eL1 Penalty: 40.0000\",\"AE Path: ..\\u002fdictionary_learning\\u002fdictionaries\\u002fgemma-2-2b_sweep_topk_ctx128_ef8_0824\\u002fresid_post_layer_11_checkpoints\\u002ftrainer_2_step_0\\u003cbr\\u003eL0: 80.0000\\u003cbr\\u003eFrac Recovered: -0.2103\\u003cbr\\u003eCustom Metric: 80.0000\\u003cbr\\u003eDict Size: 18432.0000\\u003cbr\\u003eLR: 0.0002\\u003cbr\\u003eL1 Penalty: 80.0000\",\"AE Path: ..\\u002fdictionary_learning\\u002fdictionaries\\u002fgemma-2-2b_sweep_topk_ctx128_ef8_0824\\u002fresid_post_layer_11_checkpoints\\u002ftrainer_2_step_19528\\u003cbr\\u003eL0: 79.9000\\u003cbr\\u003eFrac Recovered: 0.9897\\u003cbr\\u003eCustom Metric: 80.0000\\u003cbr\\u003eDict Size: 18432.0000\\u003cbr\\u003eLR: 0.0002\\u003cbr\\u003eL1 Penalty: 80.0000\",\"AE Path: ..\\u002fdictionary_learning\\u002fdictionaries\\u002fgemma-2-2b_sweep_topk_ctx128_ef8_0824\\u002fresid_post_layer_11_checkpoints\\u002ftrainer_2_step_29292\\u003cbr\\u003eL0: 80.0000\\u003cbr\\u003eFrac Recovered: 0.9899\\u003cbr\\u003eCustom Metric: 80.0000\\u003cbr\\u003eDict Size: 18432.0000\\u003cbr\\u003eLR: 0.0002\\u003cbr\\u003eL1 Penalty: 80.0000\",\"AE Path: ..\\u002fdictionary_learning\\u002fdictionaries\\u002fgemma-2-2b_sweep_topk_ctx128_ef8_0824\\u002fresid_post_layer_11_checkpoints\\u002ftrainer_2_step_4882\\u003cbr\\u003eL0: 80.0000\\u003cbr\\u003eFrac Recovered: 0.9861\\u003cbr\\u003eCustom Metric: 80.0000\\u003cbr\\u003eDict Size: 18432.0000\\u003cbr\\u003eLR: 0.0002\\u003cbr\\u003eL1 Penalty: 80.0000\",\"AE Path: ..\\u002fdictionary_learning\\u002fdictionaries\\u002fgemma-2-2b_sweep_topk_ctx128_ef8_0824\\u002fresid_post_layer_11_checkpoints\\u002ftrainer_2_step_9764\\u003cbr\\u003eL0: 80.0000\\u003cbr\\u003eFrac Recovered: 0.9886\\u003cbr\\u003eCustom Metric: 80.0000\\u003cbr\\u003eDict Size: 18432.0000\\u003cbr\\u003eLR: 0.0002\\u003cbr\\u003eL1 Penalty: 80.0000\",\"AE Path: ..\\u002fdictionary_learning\\u002fdictionaries\\u002fgemma-2-2b_sweep_topk_ctx128_ef8_0824\\u002fresid_post_layer_11_checkpoints\\u002ftrainer_1_step_48828\\u003cbr\\u003eL0: 40.0000\\u003cbr\\u003eFrac Recovered: 0.9844\\u003cbr\\u003eCustom Metric: 40.0000\\u003cbr\\u003eDict Size: 18432.0000\\u003cbr\\u003eLR: 0.0002\\u003cbr\\u003eL1 Penalty: 40.0000\",\"AE Path: ..\\u002fdictionary_learning\\u002fdictionaries\\u002fgemma-2-2b_sweep_topk_ctx128_ef8_0824\\u002fresid_post_layer_11_checkpoints\\u002ftrainer_2_step_48828\\u003cbr\\u003eL0: 79.9542\\u003cbr\\u003eFrac Recovered: 0.9903\\u003cbr\\u003eCustom Metric: 80.0000\\u003cbr\\u003eDict Size: 18432.0000\\u003cbr\\u003eLR: 0.0002\\u003cbr\\u003eL1 Penalty: 80.0000\",\"AE Path: ..\\u002fdictionary_learning\\u002fdictionaries\\u002fgemma-2-2b_sweep_topk_ctx128_ef8_0824\\u002fresid_post_layer_15_checkpoints\\u002ftrainer_1_step_0\\u003cbr\\u003eL0: 40.0000\\u003cbr\\u003eFrac Recovered: -0.2329\\u003cbr\\u003eCustom Metric: 40.0000\\u003cbr\\u003eDict Size: 18432.0000\\u003cbr\\u003eLR: 0.0002\\u003cbr\\u003eL1 Penalty: 40.0000\",\"AE Path: ..\\u002fdictionary_learning\\u002fdictionaries\\u002fgemma-2-2b_sweep_topk_ctx128_ef8_0824\\u002fresid_post_layer_15_checkpoints\\u002ftrainer_1_step_19528\\u003cbr\\u003eL0: 39.9958\\u003cbr\\u003eFrac Recovered: 0.9789\\u003cbr\\u003eCustom Metric: 40.0000\\u003cbr\\u003eDict Size: 18432.0000\\u003cbr\\u003eLR: 0.0002\\u003cbr\\u003eL1 Penalty: 40.0000\",\"AE Path: ..\\u002fdictionary_learning\\u002fdictionaries\\u002fgemma-2-2b_sweep_topk_ctx128_ef8_0824\\u002fresid_post_layer_15_checkpoints\\u002ftrainer_1_step_29292\\u003cbr\\u003eL0: 39.9917\\u003cbr\\u003eFrac Recovered: 0.9797\\u003cbr\\u003eCustom Metric: 40.0000\\u003cbr\\u003eDict Size: 18432.0000\\u003cbr\\u003eLR: 0.0002\\u003cbr\\u003eL1 Penalty: 40.0000\",\"AE Path: ..\\u002fdictionary_learning\\u002fdictionaries\\u002fgemma-2-2b_sweep_topk_ctx128_ef8_0824\\u002fresid_post_layer_15_checkpoints\\u002ftrainer_1_step_4882\\u003cbr\\u003eL0: 40.0000\\u003cbr\\u003eFrac Recovered: 0.9736\\u003cbr\\u003eCustom Metric: 40.0000\\u003cbr\\u003eDict Size: 18432.0000\\u003cbr\\u003eLR: 0.0002\\u003cbr\\u003eL1 Penalty: 40.0000\",\"AE Path: ..\\u002fdictionary_learning\\u002fdictionaries\\u002fgemma-2-2b_sweep_topk_ctx128_ef8_0824\\u002fresid_post_layer_15_checkpoints\\u002ftrainer_1_step_9764\\u003cbr\\u003eL0: 40.0000\\u003cbr\\u003eFrac Recovered: 0.9776\\u003cbr\\u003eCustom Metric: 40.0000\\u003cbr\\u003eDict Size: 18432.0000\\u003cbr\\u003eLR: 0.0002\\u003cbr\\u003eL1 Penalty: 40.0000\",\"AE Path: ..\\u002fdictionary_learning\\u002fdictionaries\\u002fgemma-2-2b_sweep_topk_ctx128_ef8_0824\\u002fresid_post_layer_15_checkpoints\\u002ftrainer_2_step_0\\u003cbr\\u003eL0: 80.0000\\u003cbr\\u003eFrac Recovered: -0.0656\\u003cbr\\u003eCustom Metric: 80.0000\\u003cbr\\u003eDict Size: 18432.0000\\u003cbr\\u003eLR: 0.0002\\u003cbr\\u003eL1 Penalty: 80.0000\",\"AE Path: ..\\u002fdictionary_learning\\u002fdictionaries\\u002fgemma-2-2b_sweep_topk_ctx128_ef8_0824\\u002fresid_post_layer_15_checkpoints\\u002ftrainer_2_step_19528\\u003cbr\\u003eL0: 80.0000\\u003cbr\\u003eFrac Recovered: 0.9874\\u003cbr\\u003eCustom Metric: 80.0000\\u003cbr\\u003eDict Size: 18432.0000\\u003cbr\\u003eLR: 0.0002\\u003cbr\\u003eL1 Penalty: 80.0000\",\"AE Path: ..\\u002fdictionary_learning\\u002fdictionaries\\u002fgemma-2-2b_sweep_topk_ctx128_ef8_0824\\u002fresid_post_layer_15_checkpoints\\u002ftrainer_2_step_29292\\u003cbr\\u003eL0: 79.9000\\u003cbr\\u003eFrac Recovered: 0.9880\\u003cbr\\u003eCustom Metric: 80.0000\\u003cbr\\u003eDict Size: 18432.0000\\u003cbr\\u003eLR: 0.0002\\u003cbr\\u003eL1 Penalty: 80.0000\",\"AE Path: ..\\u002fdictionary_learning\\u002fdictionaries\\u002fgemma-2-2b_sweep_topk_ctx128_ef8_0824\\u002fresid_post_layer_15_checkpoints\\u002ftrainer_2_step_4882\\u003cbr\\u003eL0: 80.0000\\u003cbr\\u003eFrac Recovered: 0.9839\\u003cbr\\u003eCustom Metric: 80.0000\\u003cbr\\u003eDict Size: 18432.0000\\u003cbr\\u003eLR: 0.0002\\u003cbr\\u003eL1 Penalty: 80.0000\",\"AE Path: ..\\u002fdictionary_learning\\u002fdictionaries\\u002fgemma-2-2b_sweep_topk_ctx128_ef8_0824\\u002fresid_post_layer_15_checkpoints\\u002ftrainer_2_step_9764\\u003cbr\\u003eL0: 80.0000\\u003cbr\\u003eFrac Recovered: 0.9866\\u003cbr\\u003eCustom Metric: 80.0000\\u003cbr\\u003eDict Size: 18432.0000\\u003cbr\\u003eLR: 0.0002\\u003cbr\\u003eL1 Penalty: 80.0000\",\"AE Path: ..\\u002fdictionary_learning\\u002fdictionaries\\u002fgemma-2-2b_sweep_topk_ctx128_ef8_0824\\u002fresid_post_layer_15_checkpoints\\u002ftrainer_2_step_48828\\u003cbr\\u003eL0: 80.0000\\u003cbr\\u003eFrac Recovered: 0.9884\\u003cbr\\u003eCustom Metric: 80.0000\\u003cbr\\u003eDict Size: 18432.0000\\u003cbr\\u003eLR: 0.0002\\u003cbr\\u003eL1 Penalty: 80.0000\",\"AE Path: ..\\u002fdictionary_learning\\u002fdictionaries\\u002fgemma-2-2b_sweep_topk_ctx128_ef8_0824\\u002fresid_post_layer_15_checkpoints\\u002ftrainer_1_step_48828\\u003cbr\\u003eL0: 40.0000\\u003cbr\\u003eFrac Recovered: 0.9807\\u003cbr\\u003eCustom Metric: 40.0000\\u003cbr\\u003eDict Size: 18432.0000\\u003cbr\\u003eLR: 0.0002\\u003cbr\\u003eL1 Penalty: 40.0000\",\"AE Path: ..\\u002fdictionary_learning\\u002fdictionaries\\u002fgemma-2-2b_sweep_topk_ctx128_ef8_0824\\u002fresid_post_layer_19_checkpoints\\u002ftrainer_1_step_0\\u003cbr\\u003eL0: 40.0000\\u003cbr\\u003eFrac Recovered: -0.0305\\u003cbr\\u003eCustom Metric: 40.0000\\u003cbr\\u003eDict Size: 18432.0000\\u003cbr\\u003eLR: 0.0002\\u003cbr\\u003eL1 Penalty: 40.0000\",\"AE Path: ..\\u002fdictionary_learning\\u002fdictionaries\\u002fgemma-2-2b_sweep_topk_ctx128_ef8_0824\\u002fresid_post_layer_19_checkpoints\\u002ftrainer_1_step_19528\\u003cbr\\u003eL0: 40.0000\\u003cbr\\u003eFrac Recovered: 0.9767\\u003cbr\\u003eCustom Metric: 40.0000\\u003cbr\\u003eDict Size: 18432.0000\\u003cbr\\u003eLR: 0.0002\\u003cbr\\u003eL1 Penalty: 40.0000\",\"AE Path: ..\\u002fdictionary_learning\\u002fdictionaries\\u002fgemma-2-2b_sweep_topk_ctx128_ef8_0824\\u002fresid_post_layer_19_checkpoints\\u002ftrainer_1_step_29292\\u003cbr\\u003eL0: 40.0000\\u003cbr\\u003eFrac Recovered: 0.9777\\u003cbr\\u003eCustom Metric: 40.0000\\u003cbr\\u003eDict Size: 18432.0000\\u003cbr\\u003eLR: 0.0002\\u003cbr\\u003eL1 Penalty: 40.0000\",\"AE Path: ..\\u002fdictionary_learning\\u002fdictionaries\\u002fgemma-2-2b_sweep_topk_ctx128_ef8_0824\\u002fresid_post_layer_19_checkpoints\\u002ftrainer_1_step_4882\\u003cbr\\u003eL0: 40.0000\\u003cbr\\u003eFrac Recovered: 0.9729\\u003cbr\\u003eCustom Metric: 40.0000\\u003cbr\\u003eDict Size: 18432.0000\\u003cbr\\u003eLR: 0.0002\\u003cbr\\u003eL1 Penalty: 40.0000\",\"AE Path: ..\\u002fdictionary_learning\\u002fdictionaries\\u002fgemma-2-2b_sweep_topk_ctx128_ef8_0824\\u002fresid_post_layer_19_checkpoints\\u002ftrainer_1_step_9764\\u003cbr\\u003eL0: 40.0000\\u003cbr\\u003eFrac Recovered: 0.9756\\u003cbr\\u003eCustom Metric: 40.0000\\u003cbr\\u003eDict Size: 18432.0000\\u003cbr\\u003eLR: 0.0002\\u003cbr\\u003eL1 Penalty: 40.0000\",\"AE Path: ..\\u002fdictionary_learning\\u002fdictionaries\\u002fgemma-2-2b_sweep_topk_ctx128_ef8_0824\\u002fresid_post_layer_19_checkpoints\\u002ftrainer_2_step_19528\\u003cbr\\u003eL0: 80.0000\\u003cbr\\u003eFrac Recovered: 0.9847\\u003cbr\\u003eCustom Metric: 80.0000\\u003cbr\\u003eDict Size: 18432.0000\\u003cbr\\u003eLR: 0.0002\\u003cbr\\u003eL1 Penalty: 80.0000\",\"AE Path: ..\\u002fdictionary_learning\\u002fdictionaries\\u002fgemma-2-2b_sweep_topk_ctx128_ef8_0824\\u002fresid_post_layer_19_checkpoints\\u002ftrainer_2_step_0\\u003cbr\\u003eL0: 80.0000\\u003cbr\\u003eFrac Recovered: 0.1242\\u003cbr\\u003eCustom Metric: 80.0000\\u003cbr\\u003eDict Size: 18432.0000\\u003cbr\\u003eLR: 0.0002\\u003cbr\\u003eL1 Penalty: 80.0000\",\"AE Path: ..\\u002fdictionary_learning\\u002fdictionaries\\u002fgemma-2-2b_sweep_topk_ctx128_ef8_0824\\u002fresid_post_layer_19_checkpoints\\u002ftrainer_2_step_29292\\u003cbr\\u003eL0: 80.0000\\u003cbr\\u003eFrac Recovered: 0.9849\\u003cbr\\u003eCustom Metric: 80.0000\\u003cbr\\u003eDict Size: 18432.0000\\u003cbr\\u003eLR: 0.0002\\u003cbr\\u003eL1 Penalty: 80.0000\",\"AE Path: ..\\u002fdictionary_learning\\u002fdictionaries\\u002fgemma-2-2b_sweep_topk_ctx128_ef8_0824\\u002fresid_post_layer_19_checkpoints\\u002ftrainer_2_step_4882\\u003cbr\\u003eL0: 80.0000\\u003cbr\\u003eFrac Recovered: 0.9815\\u003cbr\\u003eCustom Metric: 80.0000\\u003cbr\\u003eDict Size: 18432.0000\\u003cbr\\u003eLR: 0.0002\\u003cbr\\u003eL1 Penalty: 80.0000\",\"AE Path: ..\\u002fdictionary_learning\\u002fdictionaries\\u002fgemma-2-2b_sweep_topk_ctx128_ef8_0824\\u002fresid_post_layer_19_checkpoints\\u002ftrainer_2_step_9764\\u003cbr\\u003eL0: 80.0000\\u003cbr\\u003eFrac Recovered: 0.9837\\u003cbr\\u003eCustom Metric: 80.0000\\u003cbr\\u003eDict Size: 18432.0000\\u003cbr\\u003eLR: 0.0002\\u003cbr\\u003eL1 Penalty: 80.0000\",\"AE Path: ..\\u002fdictionary_learning\\u002fdictionaries\\u002fgemma-2-2b_sweep_topk_ctx128_ef8_0824\\u002fresid_post_layer_19_checkpoints\\u002ftrainer_2_step_48828\\u003cbr\\u003eL0: 80.0000\\u003cbr\\u003eFrac Recovered: 0.9854\\u003cbr\\u003eCustom Metric: 80.0000\\u003cbr\\u003eDict Size: 18432.0000\\u003cbr\\u003eLR: 0.0002\\u003cbr\\u003eL1 Penalty: 80.0000\",\"AE Path: ..\\u002fdictionary_learning\\u002fdictionaries\\u002fgemma-2-2b_sweep_topk_ctx128_ef8_0824\\u002fresid_post_layer_19_checkpoints\\u002ftrainer_1_step_48828\\u003cbr\\u003eL0: 40.0000\\u003cbr\\u003eFrac Recovered: 0.9781\\u003cbr\\u003eCustom Metric: 40.0000\\u003cbr\\u003eDict Size: 18432.0000\\u003cbr\\u003eLR: 0.0002\\u003cbr\\u003eL1 Penalty: 40.0000\"],\"x\":[40.0,40.0,39.983334350585935,40.0,40.0,80.0,79.9,80.0,80.0,80.0,40.0,79.95416717529297,40.0,39.99583358764649,39.99166717529297,40.0,40.0,80.0,80.0,79.9,80.0,80.0,80.0,40.0,40.0,40.0,40.0,40.0,40.0,80.0,80.0,80.0,80.0,80.0,80.0,40.0],\"y\":[-0.1137192726135254,0.9831358790397644,0.9838047802448273,0.9771327614784241,0.9825274705886841,-0.2103082224726677,0.9896542429924011,0.9898871839046478,0.9860971808433533,0.988573682308197,0.9843562066555023,0.9903075456619262,-0.23288672268390656,0.9788522481918335,0.979695725440979,0.9735915839672089,0.9776096105575561,-0.06557218059897423,0.9874190568923951,0.9880201041698455,0.9839148700237275,0.9866274833679199,0.988433837890625,0.980656909942627,-0.030534679733682422,0.9767161905765533,0.977747130393982,0.9729329884052277,0.9755988657474518,0.9846857130527497,0.12416270188987255,0.9848611414432525,0.9814700245857239,0.9837063908576965,0.9854330003261567,0.9781295597553253],\"type\":\"scatter\"}],                        {\"template\":{\"data\":{\"histogram2dcontour\":[{\"type\":\"histogram2dcontour\",\"colorbar\":{\"outlinewidth\":0,\"ticks\":\"\"},\"colorscale\":[[0.0,\"#0d0887\"],[0.1111111111111111,\"#46039f\"],[0.2222222222222222,\"#7201a8\"],[0.3333333333333333,\"#9c179e\"],[0.4444444444444444,\"#bd3786\"],[0.5555555555555556,\"#d8576b\"],[0.6666666666666666,\"#ed7953\"],[0.7777777777777778,\"#fb9f3a\"],[0.8888888888888888,\"#fdca26\"],[1.0,\"#f0f921\"]]}],\"choropleth\":[{\"type\":\"choropleth\",\"colorbar\":{\"outlinewidth\":0,\"ticks\":\"\"}}],\"histogram2d\":[{\"type\":\"histogram2d\",\"colorbar\":{\"outlinewidth\":0,\"ticks\":\"\"},\"colorscale\":[[0.0,\"#0d0887\"],[0.1111111111111111,\"#46039f\"],[0.2222222222222222,\"#7201a8\"],[0.3333333333333333,\"#9c179e\"],[0.4444444444444444,\"#bd3786\"],[0.5555555555555556,\"#d8576b\"],[0.6666666666666666,\"#ed7953\"],[0.7777777777777778,\"#fb9f3a\"],[0.8888888888888888,\"#fdca26\"],[1.0,\"#f0f921\"]]}],\"heatmap\":[{\"type\":\"heatmap\",\"colorbar\":{\"outlinewidth\":0,\"ticks\":\"\"},\"colorscale\":[[0.0,\"#0d0887\"],[0.1111111111111111,\"#46039f\"],[0.2222222222222222,\"#7201a8\"],[0.3333333333333333,\"#9c179e\"],[0.4444444444444444,\"#bd3786\"],[0.5555555555555556,\"#d8576b\"],[0.6666666666666666,\"#ed7953\"],[0.7777777777777778,\"#fb9f3a\"],[0.8888888888888888,\"#fdca26\"],[1.0,\"#f0f921\"]]}],\"heatmapgl\":[{\"type\":\"heatmapgl\",\"colorbar\":{\"outlinewidth\":0,\"ticks\":\"\"},\"colorscale\":[[0.0,\"#0d0887\"],[0.1111111111111111,\"#46039f\"],[0.2222222222222222,\"#7201a8\"],[0.3333333333333333,\"#9c179e\"],[0.4444444444444444,\"#bd3786\"],[0.5555555555555556,\"#d8576b\"],[0.6666666666666666,\"#ed7953\"],[0.7777777777777778,\"#fb9f3a\"],[0.8888888888888888,\"#fdca26\"],[1.0,\"#f0f921\"]]}],\"contourcarpet\":[{\"type\":\"contourcarpet\",\"colorbar\":{\"outlinewidth\":0,\"ticks\":\"\"}}],\"contour\":[{\"type\":\"contour\",\"colorbar\":{\"outlinewidth\":0,\"ticks\":\"\"},\"colorscale\":[[0.0,\"#0d0887\"],[0.1111111111111111,\"#46039f\"],[0.2222222222222222,\"#7201a8\"],[0.3333333333333333,\"#9c179e\"],[0.4444444444444444,\"#bd3786\"],[0.5555555555555556,\"#d8576b\"],[0.6666666666666666,\"#ed7953\"],[0.7777777777777778,\"#fb9f3a\"],[0.8888888888888888,\"#fdca26\"],[1.0,\"#f0f921\"]]}],\"surface\":[{\"type\":\"surface\",\"colorbar\":{\"outlinewidth\":0,\"ticks\":\"\"},\"colorscale\":[[0.0,\"#0d0887\"],[0.1111111111111111,\"#46039f\"],[0.2222222222222222,\"#7201a8\"],[0.3333333333333333,\"#9c179e\"],[0.4444444444444444,\"#bd3786\"],[0.5555555555555556,\"#d8576b\"],[0.6666666666666666,\"#ed7953\"],[0.7777777777777778,\"#fb9f3a\"],[0.8888888888888888,\"#fdca26\"],[1.0,\"#f0f921\"]]}],\"mesh3d\":[{\"type\":\"mesh3d\",\"colorbar\":{\"outlinewidth\":0,\"ticks\":\"\"}}],\"scatter\":[{\"fillpattern\":{\"fillmode\":\"overlay\",\"size\":10,\"solidity\":0.2},\"type\":\"scatter\"}],\"parcoords\":[{\"type\":\"parcoords\",\"line\":{\"colorbar\":{\"outlinewidth\":0,\"ticks\":\"\"}}}],\"scatterpolargl\":[{\"type\":\"scatterpolargl\",\"marker\":{\"colorbar\":{\"outlinewidth\":0,\"ticks\":\"\"}}}],\"bar\":[{\"error_x\":{\"color\":\"#2a3f5f\"},\"error_y\":{\"color\":\"#2a3f5f\"},\"marker\":{\"line\":{\"color\":\"#E5ECF6\",\"width\":0.5},\"pattern\":{\"fillmode\":\"overlay\",\"size\":10,\"solidity\":0.2}},\"type\":\"bar\"}],\"scattergeo\":[{\"type\":\"scattergeo\",\"marker\":{\"colorbar\":{\"outlinewidth\":0,\"ticks\":\"\"}}}],\"scatterpolar\":[{\"type\":\"scatterpolar\",\"marker\":{\"colorbar\":{\"outlinewidth\":0,\"ticks\":\"\"}}}],\"histogram\":[{\"marker\":{\"pattern\":{\"fillmode\":\"overlay\",\"size\":10,\"solidity\":0.2}},\"type\":\"histogram\"}],\"scattergl\":[{\"type\":\"scattergl\",\"marker\":{\"colorbar\":{\"outlinewidth\":0,\"ticks\":\"\"}}}],\"scatter3d\":[{\"type\":\"scatter3d\",\"line\":{\"colorbar\":{\"outlinewidth\":0,\"ticks\":\"\"}},\"marker\":{\"colorbar\":{\"outlinewidth\":0,\"ticks\":\"\"}}}],\"scattermapbox\":[{\"type\":\"scattermapbox\",\"marker\":{\"colorbar\":{\"outlinewidth\":0,\"ticks\":\"\"}}}],\"scatterternary\":[{\"type\":\"scatterternary\",\"marker\":{\"colorbar\":{\"outlinewidth\":0,\"ticks\":\"\"}}}],\"scattercarpet\":[{\"type\":\"scattercarpet\",\"marker\":{\"colorbar\":{\"outlinewidth\":0,\"ticks\":\"\"}}}],\"carpet\":[{\"aaxis\":{\"endlinecolor\":\"#2a3f5f\",\"gridcolor\":\"white\",\"linecolor\":\"white\",\"minorgridcolor\":\"white\",\"startlinecolor\":\"#2a3f5f\"},\"baxis\":{\"endlinecolor\":\"#2a3f5f\",\"gridcolor\":\"white\",\"linecolor\":\"white\",\"minorgridcolor\":\"white\",\"startlinecolor\":\"#2a3f5f\"},\"type\":\"carpet\"}],\"table\":[{\"cells\":{\"fill\":{\"color\":\"#EBF0F8\"},\"line\":{\"color\":\"white\"}},\"header\":{\"fill\":{\"color\":\"#C8D4E3\"},\"line\":{\"color\":\"white\"}},\"type\":\"table\"}],\"barpolar\":[{\"marker\":{\"line\":{\"color\":\"#E5ECF6\",\"width\":0.5},\"pattern\":{\"fillmode\":\"overlay\",\"size\":10,\"solidity\":0.2}},\"type\":\"barpolar\"}],\"pie\":[{\"automargin\":true,\"type\":\"pie\"}]},\"layout\":{\"autotypenumbers\":\"strict\",\"colorway\":[\"#636efa\",\"#EF553B\",\"#00cc96\",\"#ab63fa\",\"#FFA15A\",\"#19d3f3\",\"#FF6692\",\"#B6E880\",\"#FF97FF\",\"#FECB52\"],\"font\":{\"color\":\"#2a3f5f\"},\"hovermode\":\"closest\",\"hoverlabel\":{\"align\":\"left\"},\"paper_bgcolor\":\"white\",\"plot_bgcolor\":\"#E5ECF6\",\"polar\":{\"bgcolor\":\"#E5ECF6\",\"angularaxis\":{\"gridcolor\":\"white\",\"linecolor\":\"white\",\"ticks\":\"\"},\"radialaxis\":{\"gridcolor\":\"white\",\"linecolor\":\"white\",\"ticks\":\"\"}},\"ternary\":{\"bgcolor\":\"#E5ECF6\",\"aaxis\":{\"gridcolor\":\"white\",\"linecolor\":\"white\",\"ticks\":\"\"},\"baxis\":{\"gridcolor\":\"white\",\"linecolor\":\"white\",\"ticks\":\"\"},\"caxis\":{\"gridcolor\":\"white\",\"linecolor\":\"white\",\"ticks\":\"\"}},\"coloraxis\":{\"colorbar\":{\"outlinewidth\":0,\"ticks\":\"\"}},\"colorscale\":{\"sequential\":[[0.0,\"#0d0887\"],[0.1111111111111111,\"#46039f\"],[0.2222222222222222,\"#7201a8\"],[0.3333333333333333,\"#9c179e\"],[0.4444444444444444,\"#bd3786\"],[0.5555555555555556,\"#d8576b\"],[0.6666666666666666,\"#ed7953\"],[0.7777777777777778,\"#fb9f3a\"],[0.8888888888888888,\"#fdca26\"],[1.0,\"#f0f921\"]],\"sequentialminus\":[[0.0,\"#0d0887\"],[0.1111111111111111,\"#46039f\"],[0.2222222222222222,\"#7201a8\"],[0.3333333333333333,\"#9c179e\"],[0.4444444444444444,\"#bd3786\"],[0.5555555555555556,\"#d8576b\"],[0.6666666666666666,\"#ed7953\"],[0.7777777777777778,\"#fb9f3a\"],[0.8888888888888888,\"#fdca26\"],[1.0,\"#f0f921\"]],\"diverging\":[[0,\"#8e0152\"],[0.1,\"#c51b7d\"],[0.2,\"#de77ae\"],[0.3,\"#f1b6da\"],[0.4,\"#fde0ef\"],[0.5,\"#f7f7f7\"],[0.6,\"#e6f5d0\"],[0.7,\"#b8e186\"],[0.8,\"#7fbc41\"],[0.9,\"#4d9221\"],[1,\"#276419\"]]},\"xaxis\":{\"gridcolor\":\"white\",\"linecolor\":\"white\",\"ticks\":\"\",\"title\":{\"standoff\":15},\"zerolinecolor\":\"white\",\"automargin\":true,\"zerolinewidth\":2},\"yaxis\":{\"gridcolor\":\"white\",\"linecolor\":\"white\",\"ticks\":\"\",\"title\":{\"standoff\":15},\"zerolinecolor\":\"white\",\"automargin\":true,\"zerolinewidth\":2},\"scene\":{\"xaxis\":{\"backgroundcolor\":\"#E5ECF6\",\"gridcolor\":\"white\",\"linecolor\":\"white\",\"showbackground\":true,\"ticks\":\"\",\"zerolinecolor\":\"white\",\"gridwidth\":2},\"yaxis\":{\"backgroundcolor\":\"#E5ECF6\",\"gridcolor\":\"white\",\"linecolor\":\"white\",\"showbackground\":true,\"ticks\":\"\",\"zerolinecolor\":\"white\",\"gridwidth\":2},\"zaxis\":{\"backgroundcolor\":\"#E5ECF6\",\"gridcolor\":\"white\",\"linecolor\":\"white\",\"showbackground\":true,\"ticks\":\"\",\"zerolinecolor\":\"white\",\"gridwidth\":2}},\"shapedefaults\":{\"line\":{\"color\":\"#2a3f5f\"}},\"annotationdefaults\":{\"arrowcolor\":\"#2a3f5f\",\"arrowhead\":0,\"arrowwidth\":1},\"geo\":{\"bgcolor\":\"white\",\"landcolor\":\"#E5ECF6\",\"subunitcolor\":\"white\",\"showland\":true,\"showlakes\":true,\"lakecolor\":\"white\"},\"title\":{\"x\":0.05},\"mapbox\":{\"style\":\"light\"}}},\"title\":{\"text\":\"L0 vs Fraction Recovered\"},\"xaxis\":{\"title\":{\"text\":\"L0\"}},\"yaxis\":{\"title\":{\"text\":\"Fraction Recovered\"}},\"hovermode\":\"closest\"},                        {\"responsive\": true}                    ).then(function(){\n",
       "                            \n",
       "var gd = document.getElementById('ed5ee12a-0922-4cfa-953e-e5081a20610e');\n",
       "var x = new MutationObserver(function (mutations, observer) {{\n",
       "        var display = window.getComputedStyle(gd).display;\n",
       "        if (!display || display === 'none') {{\n",
       "            console.log([gd, 'removed!']);\n",
       "            Plotly.purge(gd);\n",
       "            observer.disconnect();\n",
       "        }}\n",
       "}});\n",
       "\n",
       "// Listen for the removal of the full notebook cells\n",
       "var notebookContainer = gd.closest('#notebook-container');\n",
       "if (notebookContainer) {{\n",
       "    x.observe(notebookContainer, {childList: true});\n",
       "}}\n",
       "\n",
       "// Listen for the clearing of the current output cell\n",
       "var outputEl = gd.closest('.output');\n",
       "if (outputEl) {{\n",
       "    x.observe(outputEl, {childList: true});\n",
       "}}\n",
       "\n",
       "                        })                };                });            </script>        </div>"
      ]
     },
     "metadata": {},
     "output_type": "display_data"
    }
   ],
   "source": [
    "# Another way to generate graphs, where you manually populate sweep_name and submodule_trainers\n",
    "sweep_name = \"pythia70m_test_sae\"\n",
    "submodule_trainers = {\"resid_post_layer_3\": {\"trainer_ids\": [0]}}\n",
    "\n",
    "# Current recommended way to generate graphs. You can copy paste ae_sweep_paths directly from bib_intervention.py\n",
    "ae_sweep_paths = {\n",
    "    \"pythia70m_sweep_standard_ctx128_0712\": {\"resid_post_layer_3\": {\"trainer_ids\": [1, 7, 11, 18]}}\n",
    "}\n",
    "\n",
    "# trainer_ids = [2, 6, 10, 14, 18]\n",
    "trainer_ids = None\n",
    "\n",
    "ae_sweep_paths = {\n",
    "    \"pythia70m_sweep_standard_ctx128_0712\": {\n",
    "        # \"resid_post_layer_0\": {\"trainer_ids\": None},\n",
    "        # \"resid_post_layer_1\": {\"trainer_ids\": None},\n",
    "        # \"resid_post_layer_2\": {\"trainer_ids\": None},\n",
    "        \"resid_post_layer_3\": {\"trainer_ids\": trainer_ids},\n",
    "        # \"resid_post_layer_4\": {\"trainer_ids\": None},\n",
    "    },\n",
    "    \"pythia70m_sweep_topk_ctx128_0730\": {\n",
    "        # \"resid_post_layer_0\": {\"trainer_ids\": None},\n",
    "        # \"resid_post_layer_1\": {\"trainer_ids\": None},\n",
    "        # \"resid_post_layer_2\": {\"trainer_ids\": None},\n",
    "        # \"resid_post_layer_3\": {\"trainer_ids\": None},\n",
    "        # \"resid_post_layer_4\": {\"trainer_ids\": None},\n",
    "        \"resid_post_layer_3\": {\"trainer_ids\": trainer_ids},\n",
    "    },\n",
    "    # \"pythia70m_sweep_gated_ctx128_0730\": {\n",
    "    #     # \"resid_post_layer_0\": {\"trainer_ids\": None},\n",
    "    #     # \"resid_post_layer_1\": {\"trainer_ids\": None},\n",
    "    #     # \"resid_post_layer_2\": {\"trainer_ids\": None},\n",
    "    #     # \"resid_post_layer_3\": {\"trainer_ids\": None},\n",
    "    #     # \"resid_post_layer_4\": {\"trainer_ids\": None},\n",
    "    #     \"resid_post_layer_3\": {\"trainer_ids\": trainer_ids},\n",
    "    # },\n",
    "}\n",
    "\n",
    "# ae_sweep_paths = {\n",
    "#     \"pythia70m_sweep_topk_ctx128_0730\": {\n",
    "#         # \"resid_post_layer_0\": {\"trainer_ids\": None},\n",
    "#         # \"resid_post_layer_1\": {\"trainer_ids\": None},\n",
    "#         # \"resid_post_layer_2\": {\"trainer_ids\": None},\n",
    "#         \"resid_post_layer_3\": {\"trainer_ids\": None},\n",
    "#         # \"resid_post_layer_4\": {\"trainer_ids\": None},\n",
    "#     }\n",
    "# }\n",
    "\n",
    "trainer_ids = None\n",
    "# trainer_ids = [1]\n",
    "\n",
    "ae_sweep_paths = {\n",
    "    \"gemma-2-2b_sweep_standard_ctx128_ef8_0824\": {\n",
    "        # \"resid_post_layer_12\": {\"trainer_ids\": trainer_ids},\n",
    "        \"resid_post_layer_15\": {\"trainer_ids\": trainer_ids},\n",
    "        # \"resid_post_layer_19\": {\"trainer_ids\": trainer_ids},\n",
    "        # \"resid_post_layer_20\": {\"trainer_ids\": trainer_ids},\n",
    "    },\n",
    "    \"gemma-2-2b_sweep_topk_ctx128_ef8_0824\": {\n",
    "        # \"resid_post_layer_12\": {\"trainer_ids\": trainer_ids},\n",
    "        # \"resid_post_layer_11\": {\"trainer_ids\": trainer_ids},\n",
    "        \"resid_post_layer_15\": {\"trainer_ids\": trainer_ids},\n",
    "        # \"resid_post_layer_19\": {\"trainer_ids\": trainer_ids},\n",
    "        # \"resid_post_layer_20\": {\"trainer_ids\": trainer_ids},\n",
    "    },\n",
    "    \"gemma-2-2b_sweep_jumprelu_0902\": {\n",
    "        \"resid_post_layer_15\": {\"trainer_ids\": trainer_ids},\n",
    "        # \"resid_post_layer_19\": {\"trainer_ids\": trainer_ids},\n",
    "    },\n",
    "}\n",
    "\n",
    "# trainer_ids = None\n",
    "# ae_sweep_paths = {\n",
    "#     \"gemma-2-2b_sweep_jumprelu_0902_probe_layer24_results\": {\n",
    "#         \"resid_post_layer_11\": {\"trainer_ids\": trainer_ids},\n",
    "#     },\n",
    "#     \"gemma-2-2b_sweep_standard_ctx128_ef8_0824_probe_layer24_results\": {\n",
    "#         \"resid_post_layer_11\": {\"trainer_ids\": trainer_ids},\n",
    "#     },\n",
    "#     \"gemma-2-2b_sweep_topk_ctx128_ef8_0824_probe_layer24_results\": {\n",
    "#         \"resid_post_layer_11\": {\"trainer_ids\": trainer_ids},\n",
    "#     },\n",
    "#     \"gemma-2-2b_sweep_standard_ctx128_ef2_0824_probe_layer_24_results\": {\n",
    "#         \"resid_post_layer_11\": {\"trainer_ids\": trainer_ids},\n",
    "#     },\n",
    "#     \"gemma-2-2b_sweep_topk_ctx128_ef2_0824_probe_layer_24_results\": {\n",
    "#         \"resid_post_layer_11\": {\"trainer_ids\": trainer_ids},\n",
    "#     },\n",
    "# }\n",
    "\n",
    "# ae_sweep_paths = {\n",
    "#     \"gemma-2-2b_sweep_standard_ctx128_ef8_0824_probe_layer20_results\": {\n",
    "#         \"resid_post_layer_11\": {\"trainer_ids\": trainer_ids},\n",
    "#     },\n",
    "#     \"gemma-2-2b_sweep_topk_ctx128_ef8_0824_probe_layer20_results\": {\n",
    "#         \"resid_post_layer_11\": {\"trainer_ids\": trainer_ids},\n",
    "#     },\n",
    "# }\n",
    "\n",
    "ae_sweep_paths = {\n",
    "    \"gemma-2-2b_sweep_topk_ctx128_ef8_0824\": {\n",
    "        \"resid_post_layer_11_checkpoints\": {\"trainer_ids\": trainer_ids},\n",
    "        \"resid_post_layer_15_checkpoints\": {\"trainer_ids\": trainer_ids},\n",
    "        \"resid_post_layer_19_checkpoints\": {\"trainer_ids\": trainer_ids},\n",
    "    },\n",
    "}\n",
    "\n",
    "\n",
    "sweep_name = list(ae_sweep_paths.keys())[0]\n",
    "submodule_trainers = ae_sweep_paths[sweep_name]\n",
    "\n",
    "\n",
    "ae_paths = []\n",
    "\n",
    "for sweep_name, submodule_trainers in ae_sweep_paths.items():\n",
    "    ae_group_paths = utils.get_ae_group_paths(DICTIONARIES_PATH, sweep_name, submodule_trainers)\n",
    "    ae_paths.extend(utils.get_ae_paths(ae_group_paths))\n",
    "\n",
    "l0_loss_recovered_results = get_l0_frac_recovered(ae_paths)\n",
    "plotting_results = add_ae_config_results(ae_paths, l0_loss_recovered_results)\n",
    "\n",
    "filename_filter = \"\"\n",
    "\n",
    "l0_threshold = 500\n",
    "l0_threshold = None\n",
    "\n",
    "plotting_results = filter_by_l0_threshold(plotting_results, l0_threshold)\n",
    "\n",
    "title = \"L0 vs Fraction Recovered vs Sparsity Penalty\"\n",
    "\n",
    "custom_metric = \"l1_penalty\"\n",
    "\n",
    "plot_3var_graph(plotting_results, title, custom_metric)\n",
    "plot_interactive_3var_graph(plotting_results, custom_metric)\n",
    "\n",
    "# At this point, if there's any additional .json files located alongside the ae.pt and eval_results.json\n",
    "# You can easily adapt them to be included in the plotting_results dictionary by using something similar to add_ae_config_results()"
   ]
  },
  {
   "cell_type": "code",
   "execution_count": 306,
   "metadata": {},
   "outputs": [
    {
     "name": "stdout",
     "output_type": "stream",
     "text": [
      "['../dictionary_learning/dictionaries/gemma-2-2b_sweep_topk_ctx128_ef8_0824/resid_post_layer_11_checkpoints/trainer_1_step_0', '../dictionary_learning/dictionaries/gemma-2-2b_sweep_topk_ctx128_ef8_0824/resid_post_layer_11_checkpoints/trainer_1_step_19528', '../dictionary_learning/dictionaries/gemma-2-2b_sweep_topk_ctx128_ef8_0824/resid_post_layer_11_checkpoints/trainer_1_step_29292', '../dictionary_learning/dictionaries/gemma-2-2b_sweep_topk_ctx128_ef8_0824/resid_post_layer_11_checkpoints/trainer_1_step_4882', '../dictionary_learning/dictionaries/gemma-2-2b_sweep_topk_ctx128_ef8_0824/resid_post_layer_11_checkpoints/trainer_1_step_9764', '../dictionary_learning/dictionaries/gemma-2-2b_sweep_topk_ctx128_ef8_0824/resid_post_layer_11_checkpoints/trainer_2_step_0', '../dictionary_learning/dictionaries/gemma-2-2b_sweep_topk_ctx128_ef8_0824/resid_post_layer_11_checkpoints/trainer_2_step_19528', '../dictionary_learning/dictionaries/gemma-2-2b_sweep_topk_ctx128_ef8_0824/resid_post_layer_11_checkpoints/trainer_2_step_29292', '../dictionary_learning/dictionaries/gemma-2-2b_sweep_topk_ctx128_ef8_0824/resid_post_layer_11_checkpoints/trainer_2_step_4882', '../dictionary_learning/dictionaries/gemma-2-2b_sweep_topk_ctx128_ef8_0824/resid_post_layer_11_checkpoints/trainer_2_step_9764', '../dictionary_learning/dictionaries/gemma-2-2b_sweep_topk_ctx128_ef8_0824/resid_post_layer_11_checkpoints/trainer_1_step_48828', '../dictionary_learning/dictionaries/gemma-2-2b_sweep_topk_ctx128_ef8_0824/resid_post_layer_11_checkpoints/trainer_2_step_48828', '../dictionary_learning/dictionaries/gemma-2-2b_sweep_topk_ctx128_ef8_0824/resid_post_layer_15_checkpoints/trainer_1_step_0', '../dictionary_learning/dictionaries/gemma-2-2b_sweep_topk_ctx128_ef8_0824/resid_post_layer_15_checkpoints/trainer_1_step_19528', '../dictionary_learning/dictionaries/gemma-2-2b_sweep_topk_ctx128_ef8_0824/resid_post_layer_15_checkpoints/trainer_1_step_29292', '../dictionary_learning/dictionaries/gemma-2-2b_sweep_topk_ctx128_ef8_0824/resid_post_layer_15_checkpoints/trainer_1_step_4882', '../dictionary_learning/dictionaries/gemma-2-2b_sweep_topk_ctx128_ef8_0824/resid_post_layer_15_checkpoints/trainer_1_step_9764', '../dictionary_learning/dictionaries/gemma-2-2b_sweep_topk_ctx128_ef8_0824/resid_post_layer_15_checkpoints/trainer_2_step_0', '../dictionary_learning/dictionaries/gemma-2-2b_sweep_topk_ctx128_ef8_0824/resid_post_layer_15_checkpoints/trainer_2_step_19528', '../dictionary_learning/dictionaries/gemma-2-2b_sweep_topk_ctx128_ef8_0824/resid_post_layer_15_checkpoints/trainer_2_step_29292', '../dictionary_learning/dictionaries/gemma-2-2b_sweep_topk_ctx128_ef8_0824/resid_post_layer_15_checkpoints/trainer_2_step_4882', '../dictionary_learning/dictionaries/gemma-2-2b_sweep_topk_ctx128_ef8_0824/resid_post_layer_15_checkpoints/trainer_2_step_9764', '../dictionary_learning/dictionaries/gemma-2-2b_sweep_topk_ctx128_ef8_0824/resid_post_layer_15_checkpoints/trainer_2_step_48828', '../dictionary_learning/dictionaries/gemma-2-2b_sweep_topk_ctx128_ef8_0824/resid_post_layer_15_checkpoints/trainer_1_step_48828', '../dictionary_learning/dictionaries/gemma-2-2b_sweep_topk_ctx128_ef8_0824/resid_post_layer_19_checkpoints/trainer_1_step_0', '../dictionary_learning/dictionaries/gemma-2-2b_sweep_topk_ctx128_ef8_0824/resid_post_layer_19_checkpoints/trainer_1_step_19528', '../dictionary_learning/dictionaries/gemma-2-2b_sweep_topk_ctx128_ef8_0824/resid_post_layer_19_checkpoints/trainer_1_step_29292', '../dictionary_learning/dictionaries/gemma-2-2b_sweep_topk_ctx128_ef8_0824/resid_post_layer_19_checkpoints/trainer_1_step_4882', '../dictionary_learning/dictionaries/gemma-2-2b_sweep_topk_ctx128_ef8_0824/resid_post_layer_19_checkpoints/trainer_1_step_9764', '../dictionary_learning/dictionaries/gemma-2-2b_sweep_topk_ctx128_ef8_0824/resid_post_layer_19_checkpoints/trainer_2_step_19528', '../dictionary_learning/dictionaries/gemma-2-2b_sweep_topk_ctx128_ef8_0824/resid_post_layer_19_checkpoints/trainer_2_step_0', '../dictionary_learning/dictionaries/gemma-2-2b_sweep_topk_ctx128_ef8_0824/resid_post_layer_19_checkpoints/trainer_2_step_29292', '../dictionary_learning/dictionaries/gemma-2-2b_sweep_topk_ctx128_ef8_0824/resid_post_layer_19_checkpoints/trainer_2_step_4882', '../dictionary_learning/dictionaries/gemma-2-2b_sweep_topk_ctx128_ef8_0824/resid_post_layer_19_checkpoints/trainer_2_step_9764', '../dictionary_learning/dictionaries/gemma-2-2b_sweep_topk_ctx128_ef8_0824/resid_post_layer_19_checkpoints/trainer_2_step_48828', '../dictionary_learning/dictionaries/gemma-2-2b_sweep_topk_ctx128_ef8_0824/resid_post_layer_19_checkpoints/trainer_1_step_48828']\n"
     ]
    },
    {
     "data": {
      "image/png": "[encoded data removed]",
      "text/plain": [
       "<Figure size 1000x600 with 2 Axes>"
      ]
     },
     "metadata": {},
     "output_type": "display_data"
    },
    {
     "data": {
      "application/vnd.plotly.v1+json": {
       "config": {
        "plotlyServerURL": "https://plot.ly"
       },
       "data": [
        {
         "hoverinfo": "text",
         "marker": {
          "color": [
           -0.002499997615814209,
           0.11500000953674316,
           0.10500001907348633,
           0.10249999165534973,
           0.12250000238418579,
           -0.002499997615814209,
           0.125,
           0.12250000238418579,
           0.12250000238418579,
           0.13749998807907104,
           0.10750001668930054,
           0.13500002026557922,
           0,
           0.07000002264976501,
           0.0650000274181366,
           0.06250002980232239,
           0.08500000834465027,
           -0.002499997615814209,
           0.0675000250339508,
           0.08250001072883606,
           0.0975000262260437,
           0.11750003695487976,
           0.10249999165534973,
           0.07500001788139343,
           0,
           0.04500001668930054,
           0.050000011920928955,
           0.050000011920928955,
           0.04500001668930054,
           0.09000000357627869,
           0,
           0.06000003218650818,
           0.07500001788139343,
           0.07500001788139343,
           0.06250002980232239,
           0.04250001907348633
          ],
          "colorscale": [
           [
            0,
            "#440154"
           ],
           [
            0.1111111111111111,
            "#482878"
           ],
           [
            0.2222222222222222,
            "#3e4989"
           ],
           [
            0.3333333333333333,
            "#31688e"
           ],
           [
            0.4444444444444444,
            "#26828e"
           ],
           [
            0.5555555555555556,
            "#1f9e89"
           ],
           [
            0.6666666666666666,
            "#35b779"
           ],
           [
            0.7777777777777778,
            "#6ece58"
           ],
           [
            0.8888888888888888,
            "#b5de2b"
           ],
           [
            1,
            "#fde725"
           ]
          ],
          "showscale": true,
          "size": 10
         },
         "mode": "markers",
         "text": [
          "AE Path: ../dictionary_learning/dictionaries/gemma-2-2b_sweep_topk_ctx128_ef8_0824/resid_post_layer_11_checkpoints/trainer_1_step_0<br>L0: 40.0000<br>Frac Recovered: -0.1137<br>Custom Metric: -0.0025<br>Dict Size: 18432.0000<br>LR: 0.0002<br>L1 Penalty: 40.0000",
          "AE Path: ../dictionary_learning/dictionaries/gemma-2-2b_sweep_topk_ctx128_ef8_0824/resid_post_layer_11_checkpoints/trainer_1_step_19528<br>L0: 40.0000<br>Frac Recovered: 0.9831<br>Custom Metric: 0.1150<br>Dict Size: 18432.0000<br>LR: 0.0002<br>L1 Penalty: 40.0000",
          "AE Path: ../dictionary_learning/dictionaries/gemma-2-2b_sweep_topk_ctx128_ef8_0824/resid_post_layer_11_checkpoints/trainer_1_step_29292<br>L0: 39.9833<br>Frac Recovered: 0.9838<br>Custom Metric: 0.1050<br>Dict Size: 18432.0000<br>LR: 0.0002<br>L1 Penalty: 40.0000",
          "AE Path: ../dictionary_learning/dictionaries/gemma-2-2b_sweep_topk_ctx128_ef8_0824/resid_post_layer_11_checkpoints/trainer_1_step_4882<br>L0: 40.0000<br>Frac Recovered: 0.9771<br>Custom Metric: 0.1025<br>Dict Size: 18432.0000<br>LR: 0.0002<br>L1 Penalty: 40.0000",
          "AE Path: ../dictionary_learning/dictionaries/gemma-2-2b_sweep_topk_ctx128_ef8_0824/resid_post_layer_11_checkpoints/trainer_1_step_9764<br>L0: 40.0000<br>Frac Recovered: 0.9825<br>Custom Metric: 0.1225<br>Dict Size: 18432.0000<br>LR: 0.0002<br>L1 Penalty: 40.0000",
          "AE Path: ../dictionary_learning/dictionaries/gemma-2-2b_sweep_topk_ctx128_ef8_0824/resid_post_layer_11_checkpoints/trainer_2_step_0<br>L0: 80.0000<br>Frac Recovered: -0.2103<br>Custom Metric: -0.0025<br>Dict Size: 18432.0000<br>LR: 0.0002<br>L1 Penalty: 80.0000",
          "AE Path: ../dictionary_learning/dictionaries/gemma-2-2b_sweep_topk_ctx128_ef8_0824/resid_post_layer_11_checkpoints/trainer_2_step_19528<br>L0: 79.9000<br>Frac Recovered: 0.9897<br>Custom Metric: 0.1250<br>Dict Size: 18432.0000<br>LR: 0.0002<br>L1 Penalty: 80.0000",
          "AE Path: ../dictionary_learning/dictionaries/gemma-2-2b_sweep_topk_ctx128_ef8_0824/resid_post_layer_11_checkpoints/trainer_2_step_29292<br>L0: 80.0000<br>Frac Recovered: 0.9899<br>Custom Metric: 0.1225<br>Dict Size: 18432.0000<br>LR: 0.0002<br>L1 Penalty: 80.0000",
          "AE Path: ../dictionary_learning/dictionaries/gemma-2-2b_sweep_topk_ctx128_ef8_0824/resid_post_layer_11_checkpoints/trainer_2_step_4882<br>L0: 80.0000<br>Frac Recovered: 0.9861<br>Custom Metric: 0.1225<br>Dict Size: 18432.0000<br>LR: 0.0002<br>L1 Penalty: 80.0000",
          "AE Path: ../dictionary_learning/dictionaries/gemma-2-2b_sweep_topk_ctx128_ef8_0824/resid_post_layer_11_checkpoints/trainer_2_step_9764<br>L0: 80.0000<br>Frac Recovered: 0.9886<br>Custom Metric: 0.1375<br>Dict Size: 18432.0000<br>LR: 0.0002<br>L1 Penalty: 80.0000",
          "AE Path: ../dictionary_learning/dictionaries/gemma-2-2b_sweep_topk_ctx128_ef8_0824/resid_post_layer_11_checkpoints/trainer_1_step_48828<br>L0: 40.0000<br>Frac Recovered: 0.9844<br>Custom Metric: 0.1075<br>Dict Size: 18432.0000<br>LR: 0.0002<br>L1 Penalty: 40.0000",
          "AE Path: ../dictionary_learning/dictionaries/gemma-2-2b_sweep_topk_ctx128_ef8_0824/resid_post_layer_11_checkpoints/trainer_2_step_48828<br>L0: 79.9542<br>Frac Recovered: 0.9903<br>Custom Metric: 0.1350<br>Dict Size: 18432.0000<br>LR: 0.0002<br>L1 Penalty: 80.0000",
          "AE Path: ../dictionary_learning/dictionaries/gemma-2-2b_sweep_topk_ctx128_ef8_0824/resid_post_layer_15_checkpoints/trainer_1_step_0<br>L0: 40.0000<br>Frac Recovered: -0.2329<br>Custom Metric: 0.0000<br>Dict Size: 18432.0000<br>LR: 0.0002<br>L1 Penalty: 40.0000",
          "AE Path: ../dictionary_learning/dictionaries/gemma-2-2b_sweep_topk_ctx128_ef8_0824/resid_post_layer_15_checkpoints/trainer_1_step_19528<br>L0: 39.9958<br>Frac Recovered: 0.9789<br>Custom Metric: 0.0700<br>Dict Size: 18432.0000<br>LR: 0.0002<br>L1 Penalty: 40.0000",
          "AE Path: ../dictionary_learning/dictionaries/gemma-2-2b_sweep_topk_ctx128_ef8_0824/resid_post_layer_15_checkpoints/trainer_1_step_29292<br>L0: 39.9917<br>Frac Recovered: 0.9797<br>Custom Metric: 0.0650<br>Dict Size: 18432.0000<br>LR: 0.0002<br>L1 Penalty: 40.0000",
          "AE Path: ../dictionary_learning/dictionaries/gemma-2-2b_sweep_topk_ctx128_ef8_0824/resid_post_layer_15_checkpoints/trainer_1_step_4882<br>L0: 40.0000<br>Frac Recovered: 0.9736<br>Custom Metric: 0.0625<br>Dict Size: 18432.0000<br>LR: 0.0002<br>L1 Penalty: 40.0000",
          "AE Path: ../dictionary_learning/dictionaries/gemma-2-2b_sweep_topk_ctx128_ef8_0824/resid_post_layer_15_checkpoints/trainer_1_step_9764<br>L0: 40.0000<br>Frac Recovered: 0.9776<br>Custom Metric: 0.0850<br>Dict Size: 18432.0000<br>LR: 0.0002<br>L1 Penalty: 40.0000",
          "AE Path: ../dictionary_learning/dictionaries/gemma-2-2b_sweep_topk_ctx128_ef8_0824/resid_post_layer_15_checkpoints/trainer_2_step_0<br>L0: 80.0000<br>Frac Recovered: -0.0656<br>Custom Metric: -0.0025<br>Dict Size: 18432.0000<br>LR: 0.0002<br>L1 Penalty: 80.0000",
          "AE Path: ../dictionary_learning/dictionaries/gemma-2-2b_sweep_topk_ctx128_ef8_0824/resid_post_layer_15_checkpoints/trainer_2_step_19528<br>L0: 80.0000<br>Frac Recovered: 0.9874<br>Custom Metric: 0.0675<br>Dict Size: 18432.0000<br>LR: 0.0002<br>L1 Penalty: 80.0000",
          "AE Path: ../dictionary_learning/dictionaries/gemma-2-2b_sweep_topk_ctx128_ef8_0824/resid_post_layer_15_checkpoints/trainer_2_step_29292<br>L0: 79.9000<br>Frac Recovered: 0.9880<br>Custom Metric: 0.0825<br>Dict Size: 18432.0000<br>LR: 0.0002<br>L1 Penalty: 80.0000",
          "AE Path: ../dictionary_learning/dictionaries/gemma-2-2b_sweep_topk_ctx128_ef8_0824/resid_post_layer_15_checkpoints/trainer_2_step_4882<br>L0: 80.0000<br>Frac Recovered: 0.9839<br>Custom Metric: 0.0975<br>Dict Size: 18432.0000<br>LR: 0.0002<br>L1 Penalty: 80.0000",
          "AE Path: ../dictionary_learning/dictionaries/gemma-2-2b_sweep_topk_ctx128_ef8_0824/resid_post_layer_15_checkpoints/trainer_2_step_9764<br>L0: 80.0000<br>Frac Recovered: 0.9866<br>Custom Metric: 0.1175<br>Dict Size: 18432.0000<br>LR: 0.0002<br>L1 Penalty: 80.0000",
          "AE Path: ../dictionary_learning/dictionaries/gemma-2-2b_sweep_topk_ctx128_ef8_0824/resid_post_layer_15_checkpoints/trainer_2_step_48828<br>L0: 80.0000<br>Frac Recovered: 0.9884<br>Custom Metric: 0.1025<br>Dict Size: 18432.0000<br>LR: 0.0002<br>L1 Penalty: 80.0000",
          "AE Path: ../dictionary_learning/dictionaries/gemma-2-2b_sweep_topk_ctx128_ef8_0824/resid_post_layer_15_checkpoints/trainer_1_step_48828<br>L0: 40.0000<br>Frac Recovered: 0.9807<br>Custom Metric: 0.0750<br>Dict Size: 18432.0000<br>LR: 0.0002<br>L1 Penalty: 40.0000",
          "AE Path: ../dictionary_learning/dictionaries/gemma-2-2b_sweep_topk_ctx128_ef8_0824/resid_post_layer_19_checkpoints/trainer_1_step_0<br>L0: 40.0000<br>Frac Recovered: -0.0305<br>Custom Metric: 0.0000<br>Dict Size: 18432.0000<br>LR: 0.0002<br>L1 Penalty: 40.0000",
          "AE Path: ../dictionary_learning/dictionaries/gemma-2-2b_sweep_topk_ctx128_ef8_0824/resid_post_layer_19_checkpoints/trainer_1_step_19528<br>L0: 40.0000<br>Frac Recovered: 0.9767<br>Custom Metric: 0.0450<br>Dict Size: 18432.0000<br>LR: 0.0002<br>L1 Penalty: 40.0000",
          "AE Path: ../dictionary_learning/dictionaries/gemma-2-2b_sweep_topk_ctx128_ef8_0824/resid_post_layer_19_checkpoints/trainer_1_step_29292<br>L0: 40.0000<br>Frac Recovered: 0.9777<br>Custom Metric: 0.0500<br>Dict Size: 18432.0000<br>LR: 0.0002<br>L1 Penalty: 40.0000",
          "AE Path: ../dictionary_learning/dictionaries/gemma-2-2b_sweep_topk_ctx128_ef8_0824/resid_post_layer_19_checkpoints/trainer_1_step_4882<br>L0: 40.0000<br>Frac Recovered: 0.9729<br>Custom Metric: 0.0500<br>Dict Size: 18432.0000<br>LR: 0.0002<br>L1 Penalty: 40.0000",
          "AE Path: ../dictionary_learning/dictionaries/gemma-2-2b_sweep_topk_ctx128_ef8_0824/resid_post_layer_19_checkpoints/trainer_1_step_9764<br>L0: 40.0000<br>Frac Recovered: 0.9756<br>Custom Metric: 0.0450<br>Dict Size: 18432.0000<br>LR: 0.0002<br>L1 Penalty: 40.0000",
          "AE Path: ../dictionary_learning/dictionaries/gemma-2-2b_sweep_topk_ctx128_ef8_0824/resid_post_layer_19_checkpoints/trainer_2_step_19528<br>L0: 80.0000<br>Frac Recovered: 0.9847<br>Custom Metric: 0.0900<br>Dict Size: 18432.0000<br>LR: 0.0002<br>L1 Penalty: 80.0000",
          "AE Path: ../dictionary_learning/dictionaries/gemma-2-2b_sweep_topk_ctx128_ef8_0824/resid_post_layer_19_checkpoints/trainer_2_step_0<br>L0: 80.0000<br>Frac Recovered: 0.1242<br>Custom Metric: 0.0000<br>Dict Size: 18432.0000<br>LR: 0.0002<br>L1 Penalty: 80.0000",
          "AE Path: ../dictionary_learning/dictionaries/gemma-2-2b_sweep_topk_ctx128_ef8_0824/resid_post_layer_19_checkpoints/trainer_2_step_29292<br>L0: 80.0000<br>Frac Recovered: 0.9849<br>Custom Metric: 0.0600<br>Dict Size: 18432.0000<br>LR: 0.0002<br>L1 Penalty: 80.0000",
          "AE Path: ../dictionary_learning/dictionaries/gemma-2-2b_sweep_topk_ctx128_ef8_0824/resid_post_layer_19_checkpoints/trainer_2_step_4882<br>L0: 80.0000<br>Frac Recovered: 0.9815<br>Custom Metric: 0.0750<br>Dict Size: 18432.0000<br>LR: 0.0002<br>L1 Penalty: 80.0000",
          "AE Path: ../dictionary_learning/dictionaries/gemma-2-2b_sweep_topk_ctx128_ef8_0824/resid_post_layer_19_checkpoints/trainer_2_step_9764<br>L0: 80.0000<br>Frac Recovered: 0.9837<br>Custom Metric: 0.0750<br>Dict Size: 18432.0000<br>LR: 0.0002<br>L1 Penalty: 80.0000",
          "AE Path: ../dictionary_learning/dictionaries/gemma-2-2b_sweep_topk_ctx128_ef8_0824/resid_post_layer_19_checkpoints/trainer_2_step_48828<br>L0: 80.0000<br>Frac Recovered: 0.9854<br>Custom Metric: 0.0625<br>Dict Size: 18432.0000<br>LR: 0.0002<br>L1 Penalty: 80.0000",
          "AE Path: ../dictionary_learning/dictionaries/gemma-2-2b_sweep_topk_ctx128_ef8_0824/resid_post_layer_19_checkpoints/trainer_1_step_48828<br>L0: 40.0000<br>Frac Recovered: 0.9781<br>Custom Metric: 0.0425<br>Dict Size: 18432.0000<br>LR: 0.0002<br>L1 Penalty: 40.0000"
         ],
         "type": "scatter",
         "x": [
          40,
          40,
          39.983334350585935,
          40,
          40,
          80,
          79.9,
          80,
          80,
          80,
          40,
          79.95416717529297,
          40,
          39.99583358764649,
          39.99166717529297,
          40,
          40,
          80,
          80,
          79.9,
          80,
          80,
          80,
          40,
          40,
          40,
          40,
          40,
          40,
          80,
          80,
          80,
          80,
          80,
          80,
          40
         ],
         "y": [
          -0.1137192726135254,
          0.9831358790397644,
          0.9838047802448273,
          0.9771327614784241,
          0.9825274705886841,
          -0.2103082224726677,
          0.9896542429924011,
          0.9898871839046478,
          0.9860971808433533,
          0.988573682308197,
          0.9843562066555023,
          0.9903075456619262,
          -0.23288672268390656,
          0.9788522481918335,
          0.979695725440979,
          0.9735915839672089,
          0.9776096105575561,
          -0.06557218059897423,
          0.9874190568923951,
          0.9880201041698455,
          0.9839148700237275,
          0.9866274833679199,
          0.988433837890625,
          0.980656909942627,
          -0.030534679733682422,
          0.9767161905765533,
          0.977747130393982,
          0.9729329884052277,
          0.9755988657474518,
          0.9846857130527497,
          0.12416270188987255,
          0.9848611414432525,
          0.9814700245857239,
          0.9837063908576965,
          0.9854330003261567,
          0.9781295597553253
         ]
        }
       ],
       "layout": {
        "hovermode": "closest",
        "template": {
         "data": {
          "bar": [
           {
            "error_x": {
             "color": "#2a3f5f"
            },
            "error_y": {
             "color": "#2a3f5f"
            },
            "marker": {
             "line": {
              "color": "#E5ECF6",
              "width": 0.5
             },
             "pattern": {
              "fillmode": "overlay",
              "size": 10,
              "solidity": 0.2
             }
            },
            "type": "bar"
           }
          ],
          "barpolar": [
           {
            "marker": {
             "line": {
              "color": "#E5ECF6",
              "width": 0.5
             },
             "pattern": {
              "fillmode": "overlay",
              "size": 10,
              "solidity": 0.2
             }
            },
            "type": "barpolar"
           }
          ],
          "carpet": [
           {
            "aaxis": {
             "endlinecolor": "#2a3f5f",
             "gridcolor": "white",
             "linecolor": "white",
             "minorgridcolor": "white",
             "startlinecolor": "#2a3f5f"
            },
            "baxis": {
             "endlinecolor": "#2a3f5f",
             "gridcolor": "white",
             "linecolor": "white",
             "minorgridcolor": "white",
             "startlinecolor": "#2a3f5f"
            },
            "type": "carpet"
           }
          ],
          "choropleth": [
           {
            "colorbar": {
             "outlinewidth": 0,
             "ticks": ""
            },
            "type": "choropleth"
           }
          ],
          "contour": [
           {
            "colorbar": {
             "outlinewidth": 0,
             "ticks": ""
            },
            "colorscale": [
             [
              0,
              "#0d0887"
             ],
             [
              0.1111111111111111,
              "#46039f"
             ],
             [
              0.2222222222222222,
              "#7201a8"
             ],
             [
              0.3333333333333333,
              "#9c179e"
             ],
             [
              0.4444444444444444,
              "#bd3786"
             ],
             [
              0.5555555555555556,
              "#d8576b"
             ],
             [
              0.6666666666666666,
              "#ed7953"
             ],
             [
              0.7777777777777778,
              "#fb9f3a"
             ],
             [
              0.8888888888888888,
              "#fdca26"
             ],
             [
              1,
              "#f0f921"
             ]
            ],
            "type": "contour"
           }
          ],
          "contourcarpet": [
           {
            "colorbar": {
             "outlinewidth": 0,
             "ticks": ""
            },
            "type": "contourcarpet"
           }
          ],
          "heatmap": [
           {
            "colorbar": {
             "outlinewidth": 0,
             "ticks": ""
            },
            "colorscale": [
             [
              0,
              "#0d0887"
             ],
             [
              0.1111111111111111,
              "#46039f"
             ],
             [
              0.2222222222222222,
              "#7201a8"
             ],
             [
              0.3333333333333333,
              "#9c179e"
             ],
             [
              0.4444444444444444,
              "#bd3786"
             ],
             [
              0.5555555555555556,
              "#d8576b"
             ],
             [
              0.6666666666666666,
              "#ed7953"
             ],
             [
              0.7777777777777778,
              "#fb9f3a"
             ],
             [
              0.8888888888888888,
              "#fdca26"
             ],
             [
              1,
              "#f0f921"
             ]
            ],
            "type": "heatmap"
           }
          ],
          "heatmapgl": [
           {
            "colorbar": {
             "outlinewidth": 0,
             "ticks": ""
            },
            "colorscale": [
             [
              0,
              "#0d0887"
             ],
             [
              0.1111111111111111,
              "#46039f"
             ],
             [
              0.2222222222222222,
              "#7201a8"
             ],
             [
              0.3333333333333333,
              "#9c179e"
             ],
             [
              0.4444444444444444,
              "#bd3786"
             ],
             [
              0.5555555555555556,
              "#d8576b"
             ],
             [
              0.6666666666666666,
              "#ed7953"
             ],
             [
              0.7777777777777778,
              "#fb9f3a"
             ],
             [
              0.8888888888888888,
              "#fdca26"
             ],
             [
              1,
              "#f0f921"
             ]
            ],
            "type": "heatmapgl"
           }
          ],
          "histogram": [
           {
            "marker": {
             "pattern": {
              "fillmode": "overlay",
              "size": 10,
              "solidity": 0.2
             }
            },
            "type": "histogram"
           }
          ],
          "histogram2d": [
           {
            "colorbar": {
             "outlinewidth": 0,
             "ticks": ""
            },
            "colorscale": [
             [
              0,
              "#0d0887"
             ],
             [
              0.1111111111111111,
              "#46039f"
             ],
             [
              0.2222222222222222,
              "#7201a8"
             ],
             [
              0.3333333333333333,
              "#9c179e"
             ],
             [
              0.4444444444444444,
              "#bd3786"
             ],
             [
              0.5555555555555556,
              "#d8576b"
             ],
             [
              0.6666666666666666,
              "#ed7953"
             ],
             [
              0.7777777777777778,
              "#fb9f3a"
             ],
             [
              0.8888888888888888,
              "#fdca26"
             ],
             [
              1,
              "#f0f921"
             ]
            ],
            "type": "histogram2d"
           }
          ],
          "histogram2dcontour": [
           {
            "colorbar": {
             "outlinewidth": 0,
             "ticks": ""
            },
            "colorscale": [
             [
              0,
              "#0d0887"
             ],
             [
              0.1111111111111111,
              "#46039f"
             ],
             [
              0.2222222222222222,
              "#7201a8"
             ],
             [
              0.3333333333333333,
              "#9c179e"
             ],
             [
              0.4444444444444444,
              "#bd3786"
             ],
             [
              0.5555555555555556,
              "#d8576b"
             ],
             [
              0.6666666666666666,
              "#ed7953"
             ],
             [
              0.7777777777777778,
              "#fb9f3a"
             ],
             [
              0.8888888888888888,
              "#fdca26"
             ],
             [
              1,
              "#f0f921"
             ]
            ],
            "type": "histogram2dcontour"
           }
          ],
          "mesh3d": [
           {
            "colorbar": {
             "outlinewidth": 0,
             "ticks": ""
            },
            "type": "mesh3d"
           }
          ],
          "parcoords": [
           {
            "line": {
             "colorbar": {
              "outlinewidth": 0,
              "ticks": ""
             }
            },
            "type": "parcoords"
           }
          ],
          "pie": [
           {
            "automargin": true,
            "type": "pie"
           }
          ],
          "scatter": [
           {
            "fillpattern": {
             "fillmode": "overlay",
             "size": 10,
             "solidity": 0.2
            },
            "type": "scatter"
           }
          ],
          "scatter3d": [
           {
            "line": {
             "colorbar": {
              "outlinewidth": 0,
              "ticks": ""
             }
            },
            "marker": {
             "colorbar": {
              "outlinewidth": 0,
              "ticks": ""
             }
            },
            "type": "scatter3d"
           }
          ],
          "scattercarpet": [
           {
            "marker": {
             "colorbar": {
              "outlinewidth": 0,
              "ticks": ""
             }
            },
            "type": "scattercarpet"
           }
          ],
          "scattergeo": [
           {
            "marker": {
             "colorbar": {
              "outlinewidth": 0,
              "ticks": ""
             }
            },
            "type": "scattergeo"
           }
          ],
          "scattergl": [
           {
            "marker": {
             "colorbar": {
              "outlinewidth": 0,
              "ticks": ""
             }
            },
            "type": "scattergl"
           }
          ],
          "scattermapbox": [
           {
            "marker": {
             "colorbar": {
              "outlinewidth": 0,
              "ticks": ""
             }
            },
            "type": "scattermapbox"
           }
          ],
          "scatterpolar": [
           {
            "marker": {
             "colorbar": {
              "outlinewidth": 0,
              "ticks": ""
             }
            },
            "type": "scatterpolar"
           }
          ],
          "scatterpolargl": [
           {
            "marker": {
             "colorbar": {
              "outlinewidth": 0,
              "ticks": ""
             }
            },
            "type": "scatterpolargl"
           }
          ],
          "scatterternary": [
           {
            "marker": {
             "colorbar": {
              "outlinewidth": 0,
              "ticks": ""
             }
            },
            "type": "scatterternary"
           }
          ],
          "surface": [
           {
            "colorbar": {
             "outlinewidth": 0,
             "ticks": ""
            },
            "colorscale": [
             [
              0,
              "#0d0887"
             ],
             [
              0.1111111111111111,
              "#46039f"
             ],
             [
              0.2222222222222222,
              "#7201a8"
             ],
             [
              0.3333333333333333,
              "#9c179e"
             ],
             [
              0.4444444444444444,
              "#bd3786"
             ],
             [
              0.5555555555555556,
              "#d8576b"
             ],
             [
              0.6666666666666666,
              "#ed7953"
             ],
             [
              0.7777777777777778,
              "#fb9f3a"
             ],
             [
              0.8888888888888888,
              "#fdca26"
             ],
             [
              1,
              "#f0f921"
             ]
            ],
            "type": "surface"
           }
          ],
          "table": [
           {
            "cells": {
             "fill": {
              "color": "#EBF0F8"
             },
             "line": {
              "color": "white"
             }
            },
            "header": {
             "fill": {
              "color": "#C8D4E3"
             },
             "line": {
              "color": "white"
             }
            },
            "type": "table"
           }
          ]
         },
         "layout": {
          "annotationdefaults": {
           "arrowcolor": "#2a3f5f",
           "arrowhead": 0,
           "arrowwidth": 1
          },
          "autotypenumbers": "strict",
          "coloraxis": {
           "colorbar": {
            "outlinewidth": 0,
            "ticks": ""
           }
          },
          "colorscale": {
           "diverging": [
            [
             0,
             "#8e0152"
            ],
            [
             0.1,
             "#c51b7d"
            ],
            [
             0.2,
             "#de77ae"
            ],
            [
             0.3,
             "#f1b6da"
            ],
            [
             0.4,
             "#fde0ef"
            ],
            [
             0.5,
             "#f7f7f7"
            ],
            [
             0.6,
             "#e6f5d0"
            ],
            [
             0.7,
             "#b8e186"
            ],
            [
             0.8,
             "#7fbc41"
            ],
            [
             0.9,
             "#4d9221"
            ],
            [
             1,
             "#276419"
            ]
           ],
           "sequential": [
            [
             0,
             "#0d0887"
            ],
            [
             0.1111111111111111,
             "#46039f"
            ],
            [
             0.2222222222222222,
             "#7201a8"
            ],
            [
             0.3333333333333333,
             "#9c179e"
            ],
            [
             0.4444444444444444,
             "#bd3786"
            ],
            [
             0.5555555555555556,
             "#d8576b"
            ],
            [
             0.6666666666666666,
             "#ed7953"
            ],
            [
             0.7777777777777778,
             "#fb9f3a"
            ],
            [
             0.8888888888888888,
             "#fdca26"
            ],
            [
             1,
             "#f0f921"
            ]
           ],
           "sequentialminus": [
            [
             0,
             "#0d0887"
            ],
            [
             0.1111111111111111,
             "#46039f"
            ],
            [
             0.2222222222222222,
             "#7201a8"
            ],
            [
             0.3333333333333333,
             "#9c179e"
            ],
            [
             0.4444444444444444,
             "#bd3786"
            ],
            [
             0.5555555555555556,
             "#d8576b"
            ],
            [
             0.6666666666666666,
             "#ed7953"
            ],
            [
             0.7777777777777778,
             "#fb9f3a"
            ],
            [
             0.8888888888888888,
             "#fdca26"
            ],
            [
             1,
             "#f0f921"
            ]
           ]
          },
          "colorway": [
           "#636efa",
           "#EF553B",
           "#00cc96",
           "#ab63fa",
           "#FFA15A",
           "#19d3f3",
           "#FF6692",
           "#B6E880",
           "#FF97FF",
           "#FECB52"
          ],
          "font": {
           "color": "#2a3f5f"
          },
          "geo": {
           "bgcolor": "white",
           "lakecolor": "white",
           "landcolor": "#E5ECF6",
           "showlakes": true,
           "showland": true,
           "subunitcolor": "white"
          },
          "hoverlabel": {
           "align": "left"
          },
          "hovermode": "closest",
          "mapbox": {
           "style": "light"
          },
          "paper_bgcolor": "white",
          "plot_bgcolor": "#E5ECF6",
          "polar": {
           "angularaxis": {
            "gridcolor": "white",
            "linecolor": "white",
            "ticks": ""
           },
           "bgcolor": "#E5ECF6",
           "radialaxis": {
            "gridcolor": "white",
            "linecolor": "white",
            "ticks": ""
           }
          },
          "scene": {
           "xaxis": {
            "backgroundcolor": "#E5ECF6",
            "gridcolor": "white",
            "gridwidth": 2,
            "linecolor": "white",
            "showbackground": true,
            "ticks": "",
            "zerolinecolor": "white"
           },
           "yaxis": {
            "backgroundcolor": "#E5ECF6",
            "gridcolor": "white",
            "gridwidth": 2,
            "linecolor": "white",
            "showbackground": true,
            "ticks": "",
            "zerolinecolor": "white"
           },
           "zaxis": {
            "backgroundcolor": "#E5ECF6",
            "gridcolor": "white",
            "gridwidth": 2,
            "linecolor": "white",
            "showbackground": true,
            "ticks": "",
            "zerolinecolor": "white"
           }
          },
          "shapedefaults": {
           "line": {
            "color": "#2a3f5f"
           }
          },
          "ternary": {
           "aaxis": {
            "gridcolor": "white",
            "linecolor": "white",
            "ticks": ""
           },
           "baxis": {
            "gridcolor": "white",
            "linecolor": "white",
            "ticks": ""
           },
           "bgcolor": "#E5ECF6",
           "caxis": {
            "gridcolor": "white",
            "linecolor": "white",
            "ticks": ""
           }
          },
          "title": {
           "x": 0.05
          },
          "xaxis": {
           "automargin": true,
           "gridcolor": "white",
           "linecolor": "white",
           "ticks": "",
           "title": {
            "standoff": 15
           },
           "zerolinecolor": "white",
           "zerolinewidth": 2
          },
          "yaxis": {
           "automargin": true,
           "gridcolor": "white",
           "linecolor": "white",
           "ticks": "",
           "title": {
            "standoff": 15
           },
           "zerolinecolor": "white",
           "zerolinewidth": 2
          }
         }
        },
        "title": {
         "text": "L0 vs Fraction Recovered"
        },
        "xaxis": {
         "title": {
          "text": "L0"
         }
        },
        "yaxis": {
         "title": {
          "text": "Fraction Recovered"
         }
        }
       }
      },
      "text/html": [
       "<div>                            <div id=\"fc9a3a3e-6091-4b7a-bfa8-fb055a9967fa\" class=\"plotly-graph-div\" style=\"height:525px; width:100%;\"></div>            <script type=\"text/javascript\">                require([\"plotly\"], function(Plotly) {                    window.PLOTLYENV=window.PLOTLYENV || {};                                    if (document.getElementById(\"fc9a3a3e-6091-4b7a-bfa8-fb055a9967fa\")) {                    Plotly.newPlot(                        \"fc9a3a3e-6091-4b7a-bfa8-fb055a9967fa\",                        [{\"hoverinfo\":\"text\",\"marker\":{\"color\":[-0.002499997615814209,0.11500000953674316,0.10500001907348633,0.10249999165534973,0.12250000238418579,-0.002499997615814209,0.125,0.12250000238418579,0.12250000238418579,0.13749998807907104,0.10750001668930054,0.13500002026557922,0.0,0.07000002264976501,0.0650000274181366,0.06250002980232239,0.08500000834465027,-0.002499997615814209,0.0675000250339508,0.08250001072883606,0.0975000262260437,0.11750003695487976,0.10249999165534973,0.07500001788139343,0.0,0.04500001668930054,0.050000011920928955,0.050000011920928955,0.04500001668930054,0.09000000357627869,0.0,0.06000003218650818,0.07500001788139343,0.07500001788139343,0.06250002980232239,0.04250001907348633],\"colorscale\":[[0.0,\"#440154\"],[0.1111111111111111,\"#482878\"],[0.2222222222222222,\"#3e4989\"],[0.3333333333333333,\"#31688e\"],[0.4444444444444444,\"#26828e\"],[0.5555555555555556,\"#1f9e89\"],[0.6666666666666666,\"#35b779\"],[0.7777777777777778,\"#6ece58\"],[0.8888888888888888,\"#b5de2b\"],[1.0,\"#fde725\"]],\"showscale\":true,\"size\":10},\"mode\":\"markers\",\"text\":[\"AE Path: ..\\u002fdictionary_learning\\u002fdictionaries\\u002fgemma-2-2b_sweep_topk_ctx128_ef8_0824\\u002fresid_post_layer_11_checkpoints\\u002ftrainer_1_step_0\\u003cbr\\u003eL0: 40.0000\\u003cbr\\u003eFrac Recovered: -0.1137\\u003cbr\\u003eCustom Metric: -0.0025\\u003cbr\\u003eDict Size: 18432.0000\\u003cbr\\u003eLR: 0.0002\\u003cbr\\u003eL1 Penalty: 40.0000\",\"AE Path: ..\\u002fdictionary_learning\\u002fdictionaries\\u002fgemma-2-2b_sweep_topk_ctx128_ef8_0824\\u002fresid_post_layer_11_checkpoints\\u002ftrainer_1_step_19528\\u003cbr\\u003eL0: 40.0000\\u003cbr\\u003eFrac Recovered: 0.9831\\u003cbr\\u003eCustom Metric: 0.1150\\u003cbr\\u003eDict Size: 18432.0000\\u003cbr\\u003eLR: 0.0002\\u003cbr\\u003eL1 Penalty: 40.0000\",\"AE Path: ..\\u002fdictionary_learning\\u002fdictionaries\\u002fgemma-2-2b_sweep_topk_ctx128_ef8_0824\\u002fresid_post_layer_11_checkpoints\\u002ftrainer_1_step_29292\\u003cbr\\u003eL0: 39.9833\\u003cbr\\u003eFrac Recovered: 0.9838\\u003cbr\\u003eCustom Metric: 0.1050\\u003cbr\\u003eDict Size: 18432.0000\\u003cbr\\u003eLR: 0.0002\\u003cbr\\u003eL1 Penalty: 40.0000\",\"AE Path: ..\\u002fdictionary_learning\\u002fdictionaries\\u002fgemma-2-2b_sweep_topk_ctx128_ef8_0824\\u002fresid_post_layer_11_checkpoints\\u002ftrainer_1_step_4882\\u003cbr\\u003eL0: 40.0000\\u003cbr\\u003eFrac Recovered: 0.9771\\u003cbr\\u003eCustom Metric: 0.1025\\u003cbr\\u003eDict Size: 18432.0000\\u003cbr\\u003eLR: 0.0002\\u003cbr\\u003eL1 Penalty: 40.0000\",\"AE Path: ..\\u002fdictionary_learning\\u002fdictionaries\\u002fgemma-2-2b_sweep_topk_ctx128_ef8_0824\\u002fresid_post_layer_11_checkpoints\\u002ftrainer_1_step_9764\\u003cbr\\u003eL0: 40.0000\\u003cbr\\u003eFrac Recovered: 0.9825\\u003cbr\\u003eCustom Metric: 0.1225\\u003cbr\\u003eDict Size: 18432.0000\\u003cbr\\u003eLR: 0.0002\\u003cbr\\u003eL1 Penalty: 40.0000\",\"AE Path: ..\\u002fdictionary_learning\\u002fdictionaries\\u002fgemma-2-2b_sweep_topk_ctx128_ef8_0824\\u002fresid_post_layer_11_checkpoints\\u002ftrainer_2_step_0\\u003cbr\\u003eL0: 80.0000\\u003cbr\\u003eFrac Recovered: -0.2103\\u003cbr\\u003eCustom Metric: -0.0025\\u003cbr\\u003eDict Size: 18432.0000\\u003cbr\\u003eLR: 0.0002\\u003cbr\\u003eL1 Penalty: 80.0000\",\"AE Path: ..\\u002fdictionary_learning\\u002fdictionaries\\u002fgemma-2-2b_sweep_topk_ctx128_ef8_0824\\u002fresid_post_layer_11_checkpoints\\u002ftrainer_2_step_19528\\u003cbr\\u003eL0: 79.9000\\u003cbr\\u003eFrac Recovered: 0.9897\\u003cbr\\u003eCustom Metric: 0.1250\\u003cbr\\u003eDict Size: 18432.0000\\u003cbr\\u003eLR: 0.0002\\u003cbr\\u003eL1 Penalty: 80.0000\",\"AE Path: ..\\u002fdictionary_learning\\u002fdictionaries\\u002fgemma-2-2b_sweep_topk_ctx128_ef8_0824\\u002fresid_post_layer_11_checkpoints\\u002ftrainer_2_step_29292\\u003cbr\\u003eL0: 80.0000\\u003cbr\\u003eFrac Recovered: 0.9899\\u003cbr\\u003eCustom Metric: 0.1225\\u003cbr\\u003eDict Size: 18432.0000\\u003cbr\\u003eLR: 0.0002\\u003cbr\\u003eL1 Penalty: 80.0000\",\"AE Path: ..\\u002fdictionary_learning\\u002fdictionaries\\u002fgemma-2-2b_sweep_topk_ctx128_ef8_0824\\u002fresid_post_layer_11_checkpoints\\u002ftrainer_2_step_4882\\u003cbr\\u003eL0: 80.0000\\u003cbr\\u003eFrac Recovered: 0.9861\\u003cbr\\u003eCustom Metric: 0.1225\\u003cbr\\u003eDict Size: 18432.0000\\u003cbr\\u003eLR: 0.0002\\u003cbr\\u003eL1 Penalty: 80.0000\",\"AE Path: ..\\u002fdictionary_learning\\u002fdictionaries\\u002fgemma-2-2b_sweep_topk_ctx128_ef8_0824\\u002fresid_post_layer_11_checkpoints\\u002ftrainer_2_step_9764\\u003cbr\\u003eL0: 80.0000\\u003cbr\\u003eFrac Recovered: 0.9886\\u003cbr\\u003eCustom Metric: 0.1375\\u003cbr\\u003eDict Size: 18432.0000\\u003cbr\\u003eLR: 0.0002\\u003cbr\\u003eL1 Penalty: 80.0000\",\"AE Path: ..\\u002fdictionary_learning\\u002fdictionaries\\u002fgemma-2-2b_sweep_topk_ctx128_ef8_0824\\u002fresid_post_layer_11_checkpoints\\u002ftrainer_1_step_48828\\u003cbr\\u003eL0: 40.0000\\u003cbr\\u003eFrac Recovered: 0.9844\\u003cbr\\u003eCustom Metric: 0.1075\\u003cbr\\u003eDict Size: 18432.0000\\u003cbr\\u003eLR: 0.0002\\u003cbr\\u003eL1 Penalty: 40.0000\",\"AE Path: ..\\u002fdictionary_learning\\u002fdictionaries\\u002fgemma-2-2b_sweep_topk_ctx128_ef8_0824\\u002fresid_post_layer_11_checkpoints\\u002ftrainer_2_step_48828\\u003cbr\\u003eL0: 79.9542\\u003cbr\\u003eFrac Recovered: 0.9903\\u003cbr\\u003eCustom Metric: 0.1350\\u003cbr\\u003eDict Size: 18432.0000\\u003cbr\\u003eLR: 0.0002\\u003cbr\\u003eL1 Penalty: 80.0000\",\"AE Path: ..\\u002fdictionary_learning\\u002fdictionaries\\u002fgemma-2-2b_sweep_topk_ctx128_ef8_0824\\u002fresid_post_layer_15_checkpoints\\u002ftrainer_1_step_0\\u003cbr\\u003eL0: 40.0000\\u003cbr\\u003eFrac Recovered: -0.2329\\u003cbr\\u003eCustom Metric: 0.0000\\u003cbr\\u003eDict Size: 18432.0000\\u003cbr\\u003eLR: 0.0002\\u003cbr\\u003eL1 Penalty: 40.0000\",\"AE Path: ..\\u002fdictionary_learning\\u002fdictionaries\\u002fgemma-2-2b_sweep_topk_ctx128_ef8_0824\\u002fresid_post_layer_15_checkpoints\\u002ftrainer_1_step_19528\\u003cbr\\u003eL0: 39.9958\\u003cbr\\u003eFrac Recovered: 0.9789\\u003cbr\\u003eCustom Metric: 0.0700\\u003cbr\\u003eDict Size: 18432.0000\\u003cbr\\u003eLR: 0.0002\\u003cbr\\u003eL1 Penalty: 40.0000\",\"AE Path: ..\\u002fdictionary_learning\\u002fdictionaries\\u002fgemma-2-2b_sweep_topk_ctx128_ef8_0824\\u002fresid_post_layer_15_checkpoints\\u002ftrainer_1_step_29292\\u003cbr\\u003eL0: 39.9917\\u003cbr\\u003eFrac Recovered: 0.9797\\u003cbr\\u003eCustom Metric: 0.0650\\u003cbr\\u003eDict Size: 18432.0000\\u003cbr\\u003eLR: 0.0002\\u003cbr\\u003eL1 Penalty: 40.0000\",\"AE Path: ..\\u002fdictionary_learning\\u002fdictionaries\\u002fgemma-2-2b_sweep_topk_ctx128_ef8_0824\\u002fresid_post_layer_15_checkpoints\\u002ftrainer_1_step_4882\\u003cbr\\u003eL0: 40.0000\\u003cbr\\u003eFrac Recovered: 0.9736\\u003cbr\\u003eCustom Metric: 0.0625\\u003cbr\\u003eDict Size: 18432.0000\\u003cbr\\u003eLR: 0.0002\\u003cbr\\u003eL1 Penalty: 40.0000\",\"AE Path: ..\\u002fdictionary_learning\\u002fdictionaries\\u002fgemma-2-2b_sweep_topk_ctx128_ef8_0824\\u002fresid_post_layer_15_checkpoints\\u002ftrainer_1_step_9764\\u003cbr\\u003eL0: 40.0000\\u003cbr\\u003eFrac Recovered: 0.9776\\u003cbr\\u003eCustom Metric: 0.0850\\u003cbr\\u003eDict Size: 18432.0000\\u003cbr\\u003eLR: 0.0002\\u003cbr\\u003eL1 Penalty: 40.0000\",\"AE Path: ..\\u002fdictionary_learning\\u002fdictionaries\\u002fgemma-2-2b_sweep_topk_ctx128_ef8_0824\\u002fresid_post_layer_15_checkpoints\\u002ftrainer_2_step_0\\u003cbr\\u003eL0: 80.0000\\u003cbr\\u003eFrac Recovered: -0.0656\\u003cbr\\u003eCustom Metric: -0.0025\\u003cbr\\u003eDict Size: 18432.0000\\u003cbr\\u003eLR: 0.0002\\u003cbr\\u003eL1 Penalty: 80.0000\",\"AE Path: ..\\u002fdictionary_learning\\u002fdictionaries\\u002fgemma-2-2b_sweep_topk_ctx128_ef8_0824\\u002fresid_post_layer_15_checkpoints\\u002ftrainer_2_step_19528\\u003cbr\\u003eL0: 80.0000\\u003cbr\\u003eFrac Recovered: 0.9874\\u003cbr\\u003eCustom Metric: 0.0675\\u003cbr\\u003eDict Size: 18432.0000\\u003cbr\\u003eLR: 0.0002\\u003cbr\\u003eL1 Penalty: 80.0000\",\"AE Path: ..\\u002fdictionary_learning\\u002fdictionaries\\u002fgemma-2-2b_sweep_topk_ctx128_ef8_0824\\u002fresid_post_layer_15_checkpoints\\u002ftrainer_2_step_29292\\u003cbr\\u003eL0: 79.9000\\u003cbr\\u003eFrac Recovered: 0.9880\\u003cbr\\u003eCustom Metric: 0.0825\\u003cbr\\u003eDict Size: 18432.0000\\u003cbr\\u003eLR: 0.0002\\u003cbr\\u003eL1 Penalty: 80.0000\",\"AE Path: ..\\u002fdictionary_learning\\u002fdictionaries\\u002fgemma-2-2b_sweep_topk_ctx128_ef8_0824\\u002fresid_post_layer_15_checkpoints\\u002ftrainer_2_step_4882\\u003cbr\\u003eL0: 80.0000\\u003cbr\\u003eFrac Recovered: 0.9839\\u003cbr\\u003eCustom Metric: 0.0975\\u003cbr\\u003eDict Size: 18432.0000\\u003cbr\\u003eLR: 0.0002\\u003cbr\\u003eL1 Penalty: 80.0000\",\"AE Path: ..\\u002fdictionary_learning\\u002fdictionaries\\u002fgemma-2-2b_sweep_topk_ctx128_ef8_0824\\u002fresid_post_layer_15_checkpoints\\u002ftrainer_2_step_9764\\u003cbr\\u003eL0: 80.0000\\u003cbr\\u003eFrac Recovered: 0.9866\\u003cbr\\u003eCustom Metric: 0.1175\\u003cbr\\u003eDict Size: 18432.0000\\u003cbr\\u003eLR: 0.0002\\u003cbr\\u003eL1 Penalty: 80.0000\",\"AE Path: ..\\u002fdictionary_learning\\u002fdictionaries\\u002fgemma-2-2b_sweep_topk_ctx128_ef8_0824\\u002fresid_post_layer_15_checkpoints\\u002ftrainer_2_step_48828\\u003cbr\\u003eL0: 80.0000\\u003cbr\\u003eFrac Recovered: 0.9884\\u003cbr\\u003eCustom Metric: 0.1025\\u003cbr\\u003eDict Size: 18432.0000\\u003cbr\\u003eLR: 0.0002\\u003cbr\\u003eL1 Penalty: 80.0000\",\"AE Path: ..\\u002fdictionary_learning\\u002fdictionaries\\u002fgemma-2-2b_sweep_topk_ctx128_ef8_0824\\u002fresid_post_layer_15_checkpoints\\u002ftrainer_1_step_48828\\u003cbr\\u003eL0: 40.0000\\u003cbr\\u003eFrac Recovered: 0.9807\\u003cbr\\u003eCustom Metric: 0.0750\\u003cbr\\u003eDict Size: 18432.0000\\u003cbr\\u003eLR: 0.0002\\u003cbr\\u003eL1 Penalty: 40.0000\",\"AE Path: ..\\u002fdictionary_learning\\u002fdictionaries\\u002fgemma-2-2b_sweep_topk_ctx128_ef8_0824\\u002fresid_post_layer_19_checkpoints\\u002ftrainer_1_step_0\\u003cbr\\u003eL0: 40.0000\\u003cbr\\u003eFrac Recovered: -0.0305\\u003cbr\\u003eCustom Metric: 0.0000\\u003cbr\\u003eDict Size: 18432.0000\\u003cbr\\u003eLR: 0.0002\\u003cbr\\u003eL1 Penalty: 40.0000\",\"AE Path: ..\\u002fdictionary_learning\\u002fdictionaries\\u002fgemma-2-2b_sweep_topk_ctx128_ef8_0824\\u002fresid_post_layer_19_checkpoints\\u002ftrainer_1_step_19528\\u003cbr\\u003eL0: 40.0000\\u003cbr\\u003eFrac Recovered: 0.9767\\u003cbr\\u003eCustom Metric: 0.0450\\u003cbr\\u003eDict Size: 18432.0000\\u003cbr\\u003eLR: 0.0002\\u003cbr\\u003eL1 Penalty: 40.0000\",\"AE Path: ..\\u002fdictionary_learning\\u002fdictionaries\\u002fgemma-2-2b_sweep_topk_ctx128_ef8_0824\\u002fresid_post_layer_19_checkpoints\\u002ftrainer_1_step_29292\\u003cbr\\u003eL0: 40.0000\\u003cbr\\u003eFrac Recovered: 0.9777\\u003cbr\\u003eCustom Metric: 0.0500\\u003cbr\\u003eDict Size: 18432.0000\\u003cbr\\u003eLR: 0.0002\\u003cbr\\u003eL1 Penalty: 40.0000\",\"AE Path: ..\\u002fdictionary_learning\\u002fdictionaries\\u002fgemma-2-2b_sweep_topk_ctx128_ef8_0824\\u002fresid_post_layer_19_checkpoints\\u002ftrainer_1_step_4882\\u003cbr\\u003eL0: 40.0000\\u003cbr\\u003eFrac Recovered: 0.9729\\u003cbr\\u003eCustom Metric: 0.0500\\u003cbr\\u003eDict Size: 18432.0000\\u003cbr\\u003eLR: 0.0002\\u003cbr\\u003eL1 Penalty: 40.0000\",\"AE Path: ..\\u002fdictionary_learning\\u002fdictionaries\\u002fgemma-2-2b_sweep_topk_ctx128_ef8_0824\\u002fresid_post_layer_19_checkpoints\\u002ftrainer_1_step_9764\\u003cbr\\u003eL0: 40.0000\\u003cbr\\u003eFrac Recovered: 0.9756\\u003cbr\\u003eCustom Metric: 0.0450\\u003cbr\\u003eDict Size: 18432.0000\\u003cbr\\u003eLR: 0.0002\\u003cbr\\u003eL1 Penalty: 40.0000\",\"AE Path: ..\\u002fdictionary_learning\\u002fdictionaries\\u002fgemma-2-2b_sweep_topk_ctx128_ef8_0824\\u002fresid_post_layer_19_checkpoints\\u002ftrainer_2_step_19528\\u003cbr\\u003eL0: 80.0000\\u003cbr\\u003eFrac Recovered: 0.9847\\u003cbr\\u003eCustom Metric: 0.0900\\u003cbr\\u003eDict Size: 18432.0000\\u003cbr\\u003eLR: 0.0002\\u003cbr\\u003eL1 Penalty: 80.0000\",\"AE Path: ..\\u002fdictionary_learning\\u002fdictionaries\\u002fgemma-2-2b_sweep_topk_ctx128_ef8_0824\\u002fresid_post_layer_19_checkpoints\\u002ftrainer_2_step_0\\u003cbr\\u003eL0: 80.0000\\u003cbr\\u003eFrac Recovered: 0.1242\\u003cbr\\u003eCustom Metric: 0.0000\\u003cbr\\u003eDict Size: 18432.0000\\u003cbr\\u003eLR: 0.0002\\u003cbr\\u003eL1 Penalty: 80.0000\",\"AE Path: ..\\u002fdictionary_learning\\u002fdictionaries\\u002fgemma-2-2b_sweep_topk_ctx128_ef8_0824\\u002fresid_post_layer_19_checkpoints\\u002ftrainer_2_step_29292\\u003cbr\\u003eL0: 80.0000\\u003cbr\\u003eFrac Recovered: 0.9849\\u003cbr\\u003eCustom Metric: 0.0600\\u003cbr\\u003eDict Size: 18432.0000\\u003cbr\\u003eLR: 0.0002\\u003cbr\\u003eL1 Penalty: 80.0000\",\"AE Path: ..\\u002fdictionary_learning\\u002fdictionaries\\u002fgemma-2-2b_sweep_topk_ctx128_ef8_0824\\u002fresid_post_layer_19_checkpoints\\u002ftrainer_2_step_4882\\u003cbr\\u003eL0: 80.0000\\u003cbr\\u003eFrac Recovered: 0.9815\\u003cbr\\u003eCustom Metric: 0.0750\\u003cbr\\u003eDict Size: 18432.0000\\u003cbr\\u003eLR: 0.0002\\u003cbr\\u003eL1 Penalty: 80.0000\",\"AE Path: ..\\u002fdictionary_learning\\u002fdictionaries\\u002fgemma-2-2b_sweep_topk_ctx128_ef8_0824\\u002fresid_post_layer_19_checkpoints\\u002ftrainer_2_step_9764\\u003cbr\\u003eL0: 80.0000\\u003cbr\\u003eFrac Recovered: 0.9837\\u003cbr\\u003eCustom Metric: 0.0750\\u003cbr\\u003eDict Size: 18432.0000\\u003cbr\\u003eLR: 0.0002\\u003cbr\\u003eL1 Penalty: 80.0000\",\"AE Path: ..\\u002fdictionary_learning\\u002fdictionaries\\u002fgemma-2-2b_sweep_topk_ctx128_ef8_0824\\u002fresid_post_layer_19_checkpoints\\u002ftrainer_2_step_48828\\u003cbr\\u003eL0: 80.0000\\u003cbr\\u003eFrac Recovered: 0.9854\\u003cbr\\u003eCustom Metric: 0.0625\\u003cbr\\u003eDict Size: 18432.0000\\u003cbr\\u003eLR: 0.0002\\u003cbr\\u003eL1 Penalty: 80.0000\",\"AE Path: ..\\u002fdictionary_learning\\u002fdictionaries\\u002fgemma-2-2b_sweep_topk_ctx128_ef8_0824\\u002fresid_post_layer_19_checkpoints\\u002ftrainer_1_step_48828\\u003cbr\\u003eL0: 40.0000\\u003cbr\\u003eFrac Recovered: 0.9781\\u003cbr\\u003eCustom Metric: 0.0425\\u003cbr\\u003eDict Size: 18432.0000\\u003cbr\\u003eLR: 0.0002\\u003cbr\\u003eL1 Penalty: 40.0000\"],\"x\":[40.0,40.0,39.983334350585935,40.0,40.0,80.0,79.9,80.0,80.0,80.0,40.0,79.95416717529297,40.0,39.99583358764649,39.99166717529297,40.0,40.0,80.0,80.0,79.9,80.0,80.0,80.0,40.0,40.0,40.0,40.0,40.0,40.0,80.0,80.0,80.0,80.0,80.0,80.0,40.0],\"y\":[-0.1137192726135254,0.9831358790397644,0.9838047802448273,0.9771327614784241,0.9825274705886841,-0.2103082224726677,0.9896542429924011,0.9898871839046478,0.9860971808433533,0.988573682308197,0.9843562066555023,0.9903075456619262,-0.23288672268390656,0.9788522481918335,0.979695725440979,0.9735915839672089,0.9776096105575561,-0.06557218059897423,0.9874190568923951,0.9880201041698455,0.9839148700237275,0.9866274833679199,0.988433837890625,0.980656909942627,-0.030534679733682422,0.9767161905765533,0.977747130393982,0.9729329884052277,0.9755988657474518,0.9846857130527497,0.12416270188987255,0.9848611414432525,0.9814700245857239,0.9837063908576965,0.9854330003261567,0.9781295597553253],\"type\":\"scatter\"}],                        {\"template\":{\"data\":{\"histogram2dcontour\":[{\"type\":\"histogram2dcontour\",\"colorbar\":{\"outlinewidth\":0,\"ticks\":\"\"},\"colorscale\":[[0.0,\"#0d0887\"],[0.1111111111111111,\"#46039f\"],[0.2222222222222222,\"#7201a8\"],[0.3333333333333333,\"#9c179e\"],[0.4444444444444444,\"#bd3786\"],[0.5555555555555556,\"#d8576b\"],[0.6666666666666666,\"#ed7953\"],[0.7777777777777778,\"#fb9f3a\"],[0.8888888888888888,\"#fdca26\"],[1.0,\"#f0f921\"]]}],\"choropleth\":[{\"type\":\"choropleth\",\"colorbar\":{\"outlinewidth\":0,\"ticks\":\"\"}}],\"histogram2d\":[{\"type\":\"histogram2d\",\"colorbar\":{\"outlinewidth\":0,\"ticks\":\"\"},\"colorscale\":[[0.0,\"#0d0887\"],[0.1111111111111111,\"#46039f\"],[0.2222222222222222,\"#7201a8\"],[0.3333333333333333,\"#9c179e\"],[0.4444444444444444,\"#bd3786\"],[0.5555555555555556,\"#d8576b\"],[0.6666666666666666,\"#ed7953\"],[0.7777777777777778,\"#fb9f3a\"],[0.8888888888888888,\"#fdca26\"],[1.0,\"#f0f921\"]]}],\"heatmap\":[{\"type\":\"heatmap\",\"colorbar\":{\"outlinewidth\":0,\"ticks\":\"\"},\"colorscale\":[[0.0,\"#0d0887\"],[0.1111111111111111,\"#46039f\"],[0.2222222222222222,\"#7201a8\"],[0.3333333333333333,\"#9c179e\"],[0.4444444444444444,\"#bd3786\"],[0.5555555555555556,\"#d8576b\"],[0.6666666666666666,\"#ed7953\"],[0.7777777777777778,\"#fb9f3a\"],[0.8888888888888888,\"#fdca26\"],[1.0,\"#f0f921\"]]}],\"heatmapgl\":[{\"type\":\"heatmapgl\",\"colorbar\":{\"outlinewidth\":0,\"ticks\":\"\"},\"colorscale\":[[0.0,\"#0d0887\"],[0.1111111111111111,\"#46039f\"],[0.2222222222222222,\"#7201a8\"],[0.3333333333333333,\"#9c179e\"],[0.4444444444444444,\"#bd3786\"],[0.5555555555555556,\"#d8576b\"],[0.6666666666666666,\"#ed7953\"],[0.7777777777777778,\"#fb9f3a\"],[0.8888888888888888,\"#fdca26\"],[1.0,\"#f0f921\"]]}],\"contourcarpet\":[{\"type\":\"contourcarpet\",\"colorbar\":{\"outlinewidth\":0,\"ticks\":\"\"}}],\"contour\":[{\"type\":\"contour\",\"colorbar\":{\"outlinewidth\":0,\"ticks\":\"\"},\"colorscale\":[[0.0,\"#0d0887\"],[0.1111111111111111,\"#46039f\"],[0.2222222222222222,\"#7201a8\"],[0.3333333333333333,\"#9c179e\"],[0.4444444444444444,\"#bd3786\"],[0.5555555555555556,\"#d8576b\"],[0.6666666666666666,\"#ed7953\"],[0.7777777777777778,\"#fb9f3a\"],[0.8888888888888888,\"#fdca26\"],[1.0,\"#f0f921\"]]}],\"surface\":[{\"type\":\"surface\",\"colorbar\":{\"outlinewidth\":0,\"ticks\":\"\"},\"colorscale\":[[0.0,\"#0d0887\"],[0.1111111111111111,\"#46039f\"],[0.2222222222222222,\"#7201a8\"],[0.3333333333333333,\"#9c179e\"],[0.4444444444444444,\"#bd3786\"],[0.5555555555555556,\"#d8576b\"],[0.6666666666666666,\"#ed7953\"],[0.7777777777777778,\"#fb9f3a\"],[0.8888888888888888,\"#fdca26\"],[1.0,\"#f0f921\"]]}],\"mesh3d\":[{\"type\":\"mesh3d\",\"colorbar\":{\"outlinewidth\":0,\"ticks\":\"\"}}],\"scatter\":[{\"fillpattern\":{\"fillmode\":\"overlay\",\"size\":10,\"solidity\":0.2},\"type\":\"scatter\"}],\"parcoords\":[{\"type\":\"parcoords\",\"line\":{\"colorbar\":{\"outlinewidth\":0,\"ticks\":\"\"}}}],\"scatterpolargl\":[{\"type\":\"scatterpolargl\",\"marker\":{\"colorbar\":{\"outlinewidth\":0,\"ticks\":\"\"}}}],\"bar\":[{\"error_x\":{\"color\":\"#2a3f5f\"},\"error_y\":{\"color\":\"#2a3f5f\"},\"marker\":{\"line\":{\"color\":\"#E5ECF6\",\"width\":0.5},\"pattern\":{\"fillmode\":\"overlay\",\"size\":10,\"solidity\":0.2}},\"type\":\"bar\"}],\"scattergeo\":[{\"type\":\"scattergeo\",\"marker\":{\"colorbar\":{\"outlinewidth\":0,\"ticks\":\"\"}}}],\"scatterpolar\":[{\"type\":\"scatterpolar\",\"marker\":{\"colorbar\":{\"outlinewidth\":0,\"ticks\":\"\"}}}],\"histogram\":[{\"marker\":{\"pattern\":{\"fillmode\":\"overlay\",\"size\":10,\"solidity\":0.2}},\"type\":\"histogram\"}],\"scattergl\":[{\"type\":\"scattergl\",\"marker\":{\"colorbar\":{\"outlinewidth\":0,\"ticks\":\"\"}}}],\"scatter3d\":[{\"type\":\"scatter3d\",\"line\":{\"colorbar\":{\"outlinewidth\":0,\"ticks\":\"\"}},\"marker\":{\"colorbar\":{\"outlinewidth\":0,\"ticks\":\"\"}}}],\"scattermapbox\":[{\"type\":\"scattermapbox\",\"marker\":{\"colorbar\":{\"outlinewidth\":0,\"ticks\":\"\"}}}],\"scatterternary\":[{\"type\":\"scatterternary\",\"marker\":{\"colorbar\":{\"outlinewidth\":0,\"ticks\":\"\"}}}],\"scattercarpet\":[{\"type\":\"scattercarpet\",\"marker\":{\"colorbar\":{\"outlinewidth\":0,\"ticks\":\"\"}}}],\"carpet\":[{\"aaxis\":{\"endlinecolor\":\"#2a3f5f\",\"gridcolor\":\"white\",\"linecolor\":\"white\",\"minorgridcolor\":\"white\",\"startlinecolor\":\"#2a3f5f\"},\"baxis\":{\"endlinecolor\":\"#2a3f5f\",\"gridcolor\":\"white\",\"linecolor\":\"white\",\"minorgridcolor\":\"white\",\"startlinecolor\":\"#2a3f5f\"},\"type\":\"carpet\"}],\"table\":[{\"cells\":{\"fill\":{\"color\":\"#EBF0F8\"},\"line\":{\"color\":\"white\"}},\"header\":{\"fill\":{\"color\":\"#C8D4E3\"},\"line\":{\"color\":\"white\"}},\"type\":\"table\"}],\"barpolar\":[{\"marker\":{\"line\":{\"color\":\"#E5ECF6\",\"width\":0.5},\"pattern\":{\"fillmode\":\"overlay\",\"size\":10,\"solidity\":0.2}},\"type\":\"barpolar\"}],\"pie\":[{\"automargin\":true,\"type\":\"pie\"}]},\"layout\":{\"autotypenumbers\":\"strict\",\"colorway\":[\"#636efa\",\"#EF553B\",\"#00cc96\",\"#ab63fa\",\"#FFA15A\",\"#19d3f3\",\"#FF6692\",\"#B6E880\",\"#FF97FF\",\"#FECB52\"],\"font\":{\"color\":\"#2a3f5f\"},\"hovermode\":\"closest\",\"hoverlabel\":{\"align\":\"left\"},\"paper_bgcolor\":\"white\",\"plot_bgcolor\":\"#E5ECF6\",\"polar\":{\"bgcolor\":\"#E5ECF6\",\"angularaxis\":{\"gridcolor\":\"white\",\"linecolor\":\"white\",\"ticks\":\"\"},\"radialaxis\":{\"gridcolor\":\"white\",\"linecolor\":\"white\",\"ticks\":\"\"}},\"ternary\":{\"bgcolor\":\"#E5ECF6\",\"aaxis\":{\"gridcolor\":\"white\",\"linecolor\":\"white\",\"ticks\":\"\"},\"baxis\":{\"gridcolor\":\"white\",\"linecolor\":\"white\",\"ticks\":\"\"},\"caxis\":{\"gridcolor\":\"white\",\"linecolor\":\"white\",\"ticks\":\"\"}},\"coloraxis\":{\"colorbar\":{\"outlinewidth\":0,\"ticks\":\"\"}},\"colorscale\":{\"sequential\":[[0.0,\"#0d0887\"],[0.1111111111111111,\"#46039f\"],[0.2222222222222222,\"#7201a8\"],[0.3333333333333333,\"#9c179e\"],[0.4444444444444444,\"#bd3786\"],[0.5555555555555556,\"#d8576b\"],[0.6666666666666666,\"#ed7953\"],[0.7777777777777778,\"#fb9f3a\"],[0.8888888888888888,\"#fdca26\"],[1.0,\"#f0f921\"]],\"sequentialminus\":[[0.0,\"#0d0887\"],[0.1111111111111111,\"#46039f\"],[0.2222222222222222,\"#7201a8\"],[0.3333333333333333,\"#9c179e\"],[0.4444444444444444,\"#bd3786\"],[0.5555555555555556,\"#d8576b\"],[0.6666666666666666,\"#ed7953\"],[0.7777777777777778,\"#fb9f3a\"],[0.8888888888888888,\"#fdca26\"],[1.0,\"#f0f921\"]],\"diverging\":[[0,\"#8e0152\"],[0.1,\"#c51b7d\"],[0.2,\"#de77ae\"],[0.3,\"#f1b6da\"],[0.4,\"#fde0ef\"],[0.5,\"#f7f7f7\"],[0.6,\"#e6f5d0\"],[0.7,\"#b8e186\"],[0.8,\"#7fbc41\"],[0.9,\"#4d9221\"],[1,\"#276419\"]]},\"xaxis\":{\"gridcolor\":\"white\",\"linecolor\":\"white\",\"ticks\":\"\",\"title\":{\"standoff\":15},\"zerolinecolor\":\"white\",\"automargin\":true,\"zerolinewidth\":2},\"yaxis\":{\"gridcolor\":\"white\",\"linecolor\":\"white\",\"ticks\":\"\",\"title\":{\"standoff\":15},\"zerolinecolor\":\"white\",\"automargin\":true,\"zerolinewidth\":2},\"scene\":{\"xaxis\":{\"backgroundcolor\":\"#E5ECF6\",\"gridcolor\":\"white\",\"linecolor\":\"white\",\"showbackground\":true,\"ticks\":\"\",\"zerolinecolor\":\"white\",\"gridwidth\":2},\"yaxis\":{\"backgroundcolor\":\"#E5ECF6\",\"gridcolor\":\"white\",\"linecolor\":\"white\",\"showbackground\":true,\"ticks\":\"\",\"zerolinecolor\":\"white\",\"gridwidth\":2},\"zaxis\":{\"backgroundcolor\":\"#E5ECF6\",\"gridcolor\":\"white\",\"linecolor\":\"white\",\"showbackground\":true,\"ticks\":\"\",\"zerolinecolor\":\"white\",\"gridwidth\":2}},\"shapedefaults\":{\"line\":{\"color\":\"#2a3f5f\"}},\"annotationdefaults\":{\"arrowcolor\":\"#2a3f5f\",\"arrowhead\":0,\"arrowwidth\":1},\"geo\":{\"bgcolor\":\"white\",\"landcolor\":\"#E5ECF6\",\"subunitcolor\":\"white\",\"showland\":true,\"showlakes\":true,\"lakecolor\":\"white\"},\"title\":{\"x\":0.05},\"mapbox\":{\"style\":\"light\"}}},\"title\":{\"text\":\"L0 vs Fraction Recovered\"},\"xaxis\":{\"title\":{\"text\":\"L0\"}},\"yaxis\":{\"title\":{\"text\":\"Fraction Recovered\"}},\"hovermode\":\"closest\"},                        {\"responsive\": true}                    ).then(function(){\n",
       "                            \n",
       "var gd = document.getElementById('fc9a3a3e-6091-4b7a-bfa8-fb055a9967fa');\n",
       "var x = new MutationObserver(function (mutations, observer) {{\n",
       "        var display = window.getComputedStyle(gd).display;\n",
       "        if (!display || display === 'none') {{\n",
       "            console.log([gd, 'removed!']);\n",
       "            Plotly.purge(gd);\n",
       "            observer.disconnect();\n",
       "        }}\n",
       "}});\n",
       "\n",
       "// Listen for the removal of the full notebook cells\n",
       "var notebookContainer = gd.closest('#notebook-container');\n",
       "if (notebookContainer) {{\n",
       "    x.observe(notebookContainer, {childList: true});\n",
       "}}\n",
       "\n",
       "// Listen for the clearing of the current output cell\n",
       "var outputEl = gd.closest('.output');\n",
       "if (outputEl) {{\n",
       "    x.observe(outputEl, {childList: true});\n",
       "}}\n",
       "\n",
       "                        })                };                });            </script>        </div>"
      ]
     },
     "metadata": {},
     "output_type": "display_data"
    }
   ],
   "source": [
    "print(ae_paths)\n",
    "\n",
    "# If not empty, this will filter to only include the specified class ids\n",
    "intended_filter_class_ids = [\"male / female\", \"professor / nurse\"]\n",
    "unintended_filter_class_ids = [\"male / female\", \"professor / nurse\"]\n",
    "# intended_filter_class_ids = [0, 1, 2, 6]\n",
    "# unintended_filter_class_ids = [0, 1, 2, 6]\n",
    "# intended_filter_class_ids = [\"male / female\"]\n",
    "# unintended_filter_class_ids = [1]\n",
    "# unintended_filter_class_ids = [-4]\n",
    "\n",
    "threshold = 0.1\n",
    "threshold = 20\n",
    "\n",
    "filename_filter = \"_attrib\"\n",
    "filename_filter = \"_auto_interp\"\n",
    "\n",
    "try:\n",
    "    results_acc = add_ablation_diff_plotting_dict(\n",
    "        ae_paths,\n",
    "        plotting_results,\n",
    "        threshold,\n",
    "        intended_filter_class_ids,\n",
    "        unintended_filter_class_ids,\n",
    "        filename_filter,\n",
    "        \"acc\",\n",
    "    )\n",
    "    # results_acc0 = add_ablation_diff_plotting_dict(\n",
    "    #     ae_paths,\n",
    "    #     plotting_results,\n",
    "    #     threshold,\n",
    "    #     intended_filter_class_ids,\n",
    "    #     unintended_filter_class_ids,\n",
    "    #     filename_counter,\n",
    "    #     \"loss\"\n",
    "    # )\n",
    "\n",
    "    # l0_threshold = None\n",
    "    # l0_threshold = 500\n",
    "\n",
    "    custom_metric1 = \"average_diff\"\n",
    "    custom_metric2 = \"average_intended_diff\"\n",
    "    custom_metric3 = \"average_unintended_diff\"\n",
    "\n",
    "    auto_interp_title = \"\"\n",
    "\n",
    "    if \"auto_interp\" in filename_filter:\n",
    "        auto_interp_title = \"\\n(Filtering features with auto-interp)\"\n",
    "\n",
    "    title = f\"\"\"Ablating Top {threshold} features from attribution patching.\n",
    "                    Color is (intended class difference - unintended class difference).{auto_interp_title}\"\"\"\n",
    "\n",
    "    # results_acc = filter_by_l0_threshold(results_acc, l0_threshold)\n",
    "    # results_acc0 = filter_by_l0_threshold(results_acc0, l0_threshold)\n",
    "\n",
    "    plot_3var_graph(results_acc, title, custom_metric1)\n",
    "    plot_interactive_3var_graph(results_acc, custom_metric1)\n",
    "    # plot_3var_graph(results_acc0, title, custom_metric1)\n",
    "    # plot_3var_graph(results, title, custom_metric3)\n",
    "except Exception as e:\n",
    "    print(\"Error plotting, possibly due to missing class accuracies file.\")\n",
    "    print(e)"
   ]
  },
  {
   "cell_type": "code",
   "execution_count": 307,
   "metadata": {},
   "outputs": [
    {
     "name": "stdout",
     "output_type": "stream",
     "text": [
      "Original acc: 0.5949999690055847\n",
      "Original acc: 0.5949999690055847\n",
      "Original acc: 0.5949999690055847\n",
      "Original acc: 0.5949999690055847\n",
      "Original acc: 0.5949999690055847\n",
      "Original acc: 0.5949999690055847\n",
      "Original acc: 0.5949999690055847\n",
      "Original acc: 0.5949999690055847\n",
      "Original acc: 0.5949999690055847\n",
      "Original acc: 0.5949999690055847\n",
      "Original acc: 0.5949999690055847\n",
      "Original acc: 0.5949999690055847\n",
      "Original acc: 0.6100000143051147\n",
      "Original acc: 0.6100000143051147\n",
      "Original acc: 0.6100000143051147\n",
      "Original acc: 0.6100000143051147\n",
      "Original acc: 0.6100000143051147\n",
      "Original acc: 0.6100000143051147\n",
      "Original acc: 0.6100000143051147\n",
      "Original acc: 0.6100000143051147\n",
      "Original acc: 0.6100000143051147\n",
      "Original acc: 0.6100000143051147\n",
      "Original acc: 0.6100000143051147\n",
      "Original acc: 0.6100000143051147\n",
      "Original acc: 0.5949999690055847\n",
      "Original acc: 0.5949999690055847\n",
      "Original acc: 0.5949999690055847\n",
      "Original acc: 0.5949999690055847\n",
      "Original acc: 0.5949999690055847\n",
      "Original acc: 0.5949999690055847\n",
      "Original acc: 0.5949999690055847\n",
      "Original acc: 0.5949999690055847\n",
      "Original acc: 0.5949999690055847\n",
      "Original acc: 0.5949999690055847\n",
      "Original acc: 0.5949999690055847\n",
      "Original acc: 0.5949999690055847\n"
     ]
    },
    {
     "data": {
      "image/png": "[encoded data removed]",
      "text/plain": [
       "<Figure size 1000x600 with 2 Axes>"
      ]
     },
     "metadata": {},
     "output_type": "display_data"
    },
    {
     "data": {
      "application/vnd.plotly.v1+json": {
       "config": {
        "plotlyServerURL": "https://plot.ly"
       },
       "data": [
        {
         "hoverinfo": "text",
         "marker": {
          "color": [
           0.5999999642372131,
           0.6349999904632568,
           0.6399999856948853,
           0.6449999809265137,
           0.6349999904632568,
           0.6049999594688416,
           0.6349999904632568,
           0.6200000047683716,
           0.6449999809265137,
           0.6299999952316284,
           0.6349999904632568,
           0.625,
           0.6100000143051147,
           0.625,
           0.625,
           0.625,
           0.625,
           0.6049999594688416,
           0.6150000095367432,
           0.6349999904632568,
           0.6299999952316284,
           0.6200000047683716,
           0.6299999952316284,
           0.6299999952316284,
           0.5949999690055847,
           0.6499999761581421,
           0.6349999904632568,
           0.6349999904632568,
           0.6299999952316284,
           0.625,
           0.5899999737739563,
           0.625,
           0.6200000047683716,
           0.625,
           0.6299999952316284,
           0.6349999904632568
          ],
          "colorscale": [
           [
            0,
            "#440154"
           ],
           [
            0.1111111111111111,
            "#482878"
           ],
           [
            0.2222222222222222,
            "#3e4989"
           ],
           [
            0.3333333333333333,
            "#31688e"
           ],
           [
            0.4444444444444444,
            "#26828e"
           ],
           [
            0.5555555555555556,
            "#1f9e89"
           ],
           [
            0.6666666666666666,
            "#35b779"
           ],
           [
            0.7777777777777778,
            "#6ece58"
           ],
           [
            0.8888888888888888,
            "#b5de2b"
           ],
           [
            1,
            "#fde725"
           ]
          ],
          "showscale": true,
          "size": 10
         },
         "mode": "markers",
         "text": [
          "AE Path: ../dictionary_learning/dictionaries/gemma-2-2b_sweep_topk_ctx128_ef8_0824/resid_post_layer_11_checkpoints/trainer_1_step_0<br>L0: 40.0000<br>Frac Recovered: -0.1137<br>Custom Metric: 0.6000<br>Dict Size: 18432.0000<br>LR: 0.0002<br>L1 Penalty: 40.0000",
          "AE Path: ../dictionary_learning/dictionaries/gemma-2-2b_sweep_topk_ctx128_ef8_0824/resid_post_layer_11_checkpoints/trainer_1_step_19528<br>L0: 40.0000<br>Frac Recovered: 0.9831<br>Custom Metric: 0.6350<br>Dict Size: 18432.0000<br>LR: 0.0002<br>L1 Penalty: 40.0000",
          "AE Path: ../dictionary_learning/dictionaries/gemma-2-2b_sweep_topk_ctx128_ef8_0824/resid_post_layer_11_checkpoints/trainer_1_step_29292<br>L0: 39.9833<br>Frac Recovered: 0.9838<br>Custom Metric: 0.6400<br>Dict Size: 18432.0000<br>LR: 0.0002<br>L1 Penalty: 40.0000",
          "AE Path: ../dictionary_learning/dictionaries/gemma-2-2b_sweep_topk_ctx128_ef8_0824/resid_post_layer_11_checkpoints/trainer_1_step_4882<br>L0: 40.0000<br>Frac Recovered: 0.9771<br>Custom Metric: 0.6450<br>Dict Size: 18432.0000<br>LR: 0.0002<br>L1 Penalty: 40.0000",
          "AE Path: ../dictionary_learning/dictionaries/gemma-2-2b_sweep_topk_ctx128_ef8_0824/resid_post_layer_11_checkpoints/trainer_1_step_9764<br>L0: 40.0000<br>Frac Recovered: 0.9825<br>Custom Metric: 0.6350<br>Dict Size: 18432.0000<br>LR: 0.0002<br>L1 Penalty: 40.0000",
          "AE Path: ../dictionary_learning/dictionaries/gemma-2-2b_sweep_topk_ctx128_ef8_0824/resid_post_layer_11_checkpoints/trainer_2_step_0<br>L0: 80.0000<br>Frac Recovered: -0.2103<br>Custom Metric: 0.6050<br>Dict Size: 18432.0000<br>LR: 0.0002<br>L1 Penalty: 80.0000",
          "AE Path: ../dictionary_learning/dictionaries/gemma-2-2b_sweep_topk_ctx128_ef8_0824/resid_post_layer_11_checkpoints/trainer_2_step_19528<br>L0: 79.9000<br>Frac Recovered: 0.9897<br>Custom Metric: 0.6350<br>Dict Size: 18432.0000<br>LR: 0.0002<br>L1 Penalty: 80.0000",
          "AE Path: ../dictionary_learning/dictionaries/gemma-2-2b_sweep_topk_ctx128_ef8_0824/resid_post_layer_11_checkpoints/trainer_2_step_29292<br>L0: 80.0000<br>Frac Recovered: 0.9899<br>Custom Metric: 0.6200<br>Dict Size: 18432.0000<br>LR: 0.0002<br>L1 Penalty: 80.0000",
          "AE Path: ../dictionary_learning/dictionaries/gemma-2-2b_sweep_topk_ctx128_ef8_0824/resid_post_layer_11_checkpoints/trainer_2_step_4882<br>L0: 80.0000<br>Frac Recovered: 0.9861<br>Custom Metric: 0.6450<br>Dict Size: 18432.0000<br>LR: 0.0002<br>L1 Penalty: 80.0000",
          "AE Path: ../dictionary_learning/dictionaries/gemma-2-2b_sweep_topk_ctx128_ef8_0824/resid_post_layer_11_checkpoints/trainer_2_step_9764<br>L0: 80.0000<br>Frac Recovered: 0.9886<br>Custom Metric: 0.6300<br>Dict Size: 18432.0000<br>LR: 0.0002<br>L1 Penalty: 80.0000",
          "AE Path: ../dictionary_learning/dictionaries/gemma-2-2b_sweep_topk_ctx128_ef8_0824/resid_post_layer_11_checkpoints/trainer_1_step_48828<br>L0: 40.0000<br>Frac Recovered: 0.9844<br>Custom Metric: 0.6350<br>Dict Size: 18432.0000<br>LR: 0.0002<br>L1 Penalty: 40.0000",
          "AE Path: ../dictionary_learning/dictionaries/gemma-2-2b_sweep_topk_ctx128_ef8_0824/resid_post_layer_11_checkpoints/trainer_2_step_48828<br>L0: 79.9542<br>Frac Recovered: 0.9903<br>Custom Metric: 0.6250<br>Dict Size: 18432.0000<br>LR: 0.0002<br>L1 Penalty: 80.0000",
          "AE Path: ../dictionary_learning/dictionaries/gemma-2-2b_sweep_topk_ctx128_ef8_0824/resid_post_layer_15_checkpoints/trainer_1_step_0<br>L0: 40.0000<br>Frac Recovered: -0.2329<br>Custom Metric: 0.6100<br>Dict Size: 18432.0000<br>LR: 0.0002<br>L1 Penalty: 40.0000",
          "AE Path: ../dictionary_learning/dictionaries/gemma-2-2b_sweep_topk_ctx128_ef8_0824/resid_post_layer_15_checkpoints/trainer_1_step_19528<br>L0: 39.9958<br>Frac Recovered: 0.9789<br>Custom Metric: 0.6250<br>Dict Size: 18432.0000<br>LR: 0.0002<br>L1 Penalty: 40.0000",
          "AE Path: ../dictionary_learning/dictionaries/gemma-2-2b_sweep_topk_ctx128_ef8_0824/resid_post_layer_15_checkpoints/trainer_1_step_29292<br>L0: 39.9917<br>Frac Recovered: 0.9797<br>Custom Metric: 0.6250<br>Dict Size: 18432.0000<br>LR: 0.0002<br>L1 Penalty: 40.0000",
          "AE Path: ../dictionary_learning/dictionaries/gemma-2-2b_sweep_topk_ctx128_ef8_0824/resid_post_layer_15_checkpoints/trainer_1_step_4882<br>L0: 40.0000<br>Frac Recovered: 0.9736<br>Custom Metric: 0.6250<br>Dict Size: 18432.0000<br>LR: 0.0002<br>L1 Penalty: 40.0000",
          "AE Path: ../dictionary_learning/dictionaries/gemma-2-2b_sweep_topk_ctx128_ef8_0824/resid_post_layer_15_checkpoints/trainer_1_step_9764<br>L0: 40.0000<br>Frac Recovered: 0.9776<br>Custom Metric: 0.6250<br>Dict Size: 18432.0000<br>LR: 0.0002<br>L1 Penalty: 40.0000",
          "AE Path: ../dictionary_learning/dictionaries/gemma-2-2b_sweep_topk_ctx128_ef8_0824/resid_post_layer_15_checkpoints/trainer_2_step_0<br>L0: 80.0000<br>Frac Recovered: -0.0656<br>Custom Metric: 0.6050<br>Dict Size: 18432.0000<br>LR: 0.0002<br>L1 Penalty: 80.0000",
          "AE Path: ../dictionary_learning/dictionaries/gemma-2-2b_sweep_topk_ctx128_ef8_0824/resid_post_layer_15_checkpoints/trainer_2_step_19528<br>L0: 80.0000<br>Frac Recovered: 0.9874<br>Custom Metric: 0.6150<br>Dict Size: 18432.0000<br>LR: 0.0002<br>L1 Penalty: 80.0000",
          "AE Path: ../dictionary_learning/dictionaries/gemma-2-2b_sweep_topk_ctx128_ef8_0824/resid_post_layer_15_checkpoints/trainer_2_step_29292<br>L0: 79.9000<br>Frac Recovered: 0.9880<br>Custom Metric: 0.6350<br>Dict Size: 18432.0000<br>LR: 0.0002<br>L1 Penalty: 80.0000",
          "AE Path: ../dictionary_learning/dictionaries/gemma-2-2b_sweep_topk_ctx128_ef8_0824/resid_post_layer_15_checkpoints/trainer_2_step_4882<br>L0: 80.0000<br>Frac Recovered: 0.9839<br>Custom Metric: 0.6300<br>Dict Size: 18432.0000<br>LR: 0.0002<br>L1 Penalty: 80.0000",
          "AE Path: ../dictionary_learning/dictionaries/gemma-2-2b_sweep_topk_ctx128_ef8_0824/resid_post_layer_15_checkpoints/trainer_2_step_9764<br>L0: 80.0000<br>Frac Recovered: 0.9866<br>Custom Metric: 0.6200<br>Dict Size: 18432.0000<br>LR: 0.0002<br>L1 Penalty: 80.0000",
          "AE Path: ../dictionary_learning/dictionaries/gemma-2-2b_sweep_topk_ctx128_ef8_0824/resid_post_layer_15_checkpoints/trainer_2_step_48828<br>L0: 80.0000<br>Frac Recovered: 0.9884<br>Custom Metric: 0.6300<br>Dict Size: 18432.0000<br>LR: 0.0002<br>L1 Penalty: 80.0000",
          "AE Path: ../dictionary_learning/dictionaries/gemma-2-2b_sweep_topk_ctx128_ef8_0824/resid_post_layer_15_checkpoints/trainer_1_step_48828<br>L0: 40.0000<br>Frac Recovered: 0.9807<br>Custom Metric: 0.6300<br>Dict Size: 18432.0000<br>LR: 0.0002<br>L1 Penalty: 40.0000",
          "AE Path: ../dictionary_learning/dictionaries/gemma-2-2b_sweep_topk_ctx128_ef8_0824/resid_post_layer_19_checkpoints/trainer_1_step_0<br>L0: 40.0000<br>Frac Recovered: -0.0305<br>Custom Metric: 0.5950<br>Dict Size: 18432.0000<br>LR: 0.0002<br>L1 Penalty: 40.0000",
          "AE Path: ../dictionary_learning/dictionaries/gemma-2-2b_sweep_topk_ctx128_ef8_0824/resid_post_layer_19_checkpoints/trainer_1_step_19528<br>L0: 40.0000<br>Frac Recovered: 0.9767<br>Custom Metric: 0.6500<br>Dict Size: 18432.0000<br>LR: 0.0002<br>L1 Penalty: 40.0000",
          "AE Path: ../dictionary_learning/dictionaries/gemma-2-2b_sweep_topk_ctx128_ef8_0824/resid_post_layer_19_checkpoints/trainer_1_step_29292<br>L0: 40.0000<br>Frac Recovered: 0.9777<br>Custom Metric: 0.6350<br>Dict Size: 18432.0000<br>LR: 0.0002<br>L1 Penalty: 40.0000",
          "AE Path: ../dictionary_learning/dictionaries/gemma-2-2b_sweep_topk_ctx128_ef8_0824/resid_post_layer_19_checkpoints/trainer_1_step_4882<br>L0: 40.0000<br>Frac Recovered: 0.9729<br>Custom Metric: 0.6350<br>Dict Size: 18432.0000<br>LR: 0.0002<br>L1 Penalty: 40.0000",
          "AE Path: ../dictionary_learning/dictionaries/gemma-2-2b_sweep_topk_ctx128_ef8_0824/resid_post_layer_19_checkpoints/trainer_1_step_9764<br>L0: 40.0000<br>Frac Recovered: 0.9756<br>Custom Metric: 0.6300<br>Dict Size: 18432.0000<br>LR: 0.0002<br>L1 Penalty: 40.0000",
          "AE Path: ../dictionary_learning/dictionaries/gemma-2-2b_sweep_topk_ctx128_ef8_0824/resid_post_layer_19_checkpoints/trainer_2_step_19528<br>L0: 80.0000<br>Frac Recovered: 0.9847<br>Custom Metric: 0.6250<br>Dict Size: 18432.0000<br>LR: 0.0002<br>L1 Penalty: 80.0000",
          "AE Path: ../dictionary_learning/dictionaries/gemma-2-2b_sweep_topk_ctx128_ef8_0824/resid_post_layer_19_checkpoints/trainer_2_step_0<br>L0: 80.0000<br>Frac Recovered: 0.1242<br>Custom Metric: 0.5900<br>Dict Size: 18432.0000<br>LR: 0.0002<br>L1 Penalty: 80.0000",
          "AE Path: ../dictionary_learning/dictionaries/gemma-2-2b_sweep_topk_ctx128_ef8_0824/resid_post_layer_19_checkpoints/trainer_2_step_29292<br>L0: 80.0000<br>Frac Recovered: 0.9849<br>Custom Metric: 0.6250<br>Dict Size: 18432.0000<br>LR: 0.0002<br>L1 Penalty: 80.0000",
          "AE Path: ../dictionary_learning/dictionaries/gemma-2-2b_sweep_topk_ctx128_ef8_0824/resid_post_layer_19_checkpoints/trainer_2_step_4882<br>L0: 80.0000<br>Frac Recovered: 0.9815<br>Custom Metric: 0.6200<br>Dict Size: 18432.0000<br>LR: 0.0002<br>L1 Penalty: 80.0000",
          "AE Path: ../dictionary_learning/dictionaries/gemma-2-2b_sweep_topk_ctx128_ef8_0824/resid_post_layer_19_checkpoints/trainer_2_step_9764<br>L0: 80.0000<br>Frac Recovered: 0.9837<br>Custom Metric: 0.6250<br>Dict Size: 18432.0000<br>LR: 0.0002<br>L1 Penalty: 80.0000",
          "AE Path: ../dictionary_learning/dictionaries/gemma-2-2b_sweep_topk_ctx128_ef8_0824/resid_post_layer_19_checkpoints/trainer_2_step_48828<br>L0: 80.0000<br>Frac Recovered: 0.9854<br>Custom Metric: 0.6300<br>Dict Size: 18432.0000<br>LR: 0.0002<br>L1 Penalty: 80.0000",
          "AE Path: ../dictionary_learning/dictionaries/gemma-2-2b_sweep_topk_ctx128_ef8_0824/resid_post_layer_19_checkpoints/trainer_1_step_48828<br>L0: 40.0000<br>Frac Recovered: 0.9781<br>Custom Metric: 0.6350<br>Dict Size: 18432.0000<br>LR: 0.0002<br>L1 Penalty: 40.0000"
         ],
         "type": "scatter",
         "x": [
          40,
          40,
          39.983334350585935,
          40,
          40,
          80,
          79.9,
          80,
          80,
          80,
          40,
          79.95416717529297,
          40,
          39.99583358764649,
          39.99166717529297,
          40,
          40,
          80,
          80,
          79.9,
          80,
          80,
          80,
          40,
          40,
          40,
          40,
          40,
          40,
          80,
          80,
          80,
          80,
          80,
          80,
          40
         ],
         "y": [
          -0.1137192726135254,
          0.9831358790397644,
          0.9838047802448273,
          0.9771327614784241,
          0.9825274705886841,
          -0.2103082224726677,
          0.9896542429924011,
          0.9898871839046478,
          0.9860971808433533,
          0.988573682308197,
          0.9843562066555023,
          0.9903075456619262,
          -0.23288672268390656,
          0.9788522481918335,
          0.979695725440979,
          0.9735915839672089,
          0.9776096105575561,
          -0.06557218059897423,
          0.9874190568923951,
          0.9880201041698455,
          0.9839148700237275,
          0.9866274833679199,
          0.988433837890625,
          0.980656909942627,
          -0.030534679733682422,
          0.9767161905765533,
          0.977747130393982,
          0.9729329884052277,
          0.9755988657474518,
          0.9846857130527497,
          0.12416270188987255,
          0.9848611414432525,
          0.9814700245857239,
          0.9837063908576965,
          0.9854330003261567,
          0.9781295597553253
         ]
        }
       ],
       "layout": {
        "hovermode": "closest",
        "template": {
         "data": {
          "bar": [
           {
            "error_x": {
             "color": "#2a3f5f"
            },
            "error_y": {
             "color": "#2a3f5f"
            },
            "marker": {
             "line": {
              "color": "#E5ECF6",
              "width": 0.5
             },
             "pattern": {
              "fillmode": "overlay",
              "size": 10,
              "solidity": 0.2
             }
            },
            "type": "bar"
           }
          ],
          "barpolar": [
           {
            "marker": {
             "line": {
              "color": "#E5ECF6",
              "width": 0.5
             },
             "pattern": {
              "fillmode": "overlay",
              "size": 10,
              "solidity": 0.2
             }
            },
            "type": "barpolar"
           }
          ],
          "carpet": [
           {
            "aaxis": {
             "endlinecolor": "#2a3f5f",
             "gridcolor": "white",
             "linecolor": "white",
             "minorgridcolor": "white",
             "startlinecolor": "#2a3f5f"
            },
            "baxis": {
             "endlinecolor": "#2a3f5f",
             "gridcolor": "white",
             "linecolor": "white",
             "minorgridcolor": "white",
             "startlinecolor": "#2a3f5f"
            },
            "type": "carpet"
           }
          ],
          "choropleth": [
           {
            "colorbar": {
             "outlinewidth": 0,
             "ticks": ""
            },
            "type": "choropleth"
           }
          ],
          "contour": [
           {
            "colorbar": {
             "outlinewidth": 0,
             "ticks": ""
            },
            "colorscale": [
             [
              0,
              "#0d0887"
             ],
             [
              0.1111111111111111,
              "#46039f"
             ],
             [
              0.2222222222222222,
              "#7201a8"
             ],
             [
              0.3333333333333333,
              "#9c179e"
             ],
             [
              0.4444444444444444,
              "#bd3786"
             ],
             [
              0.5555555555555556,
              "#d8576b"
             ],
             [
              0.6666666666666666,
              "#ed7953"
             ],
             [
              0.7777777777777778,
              "#fb9f3a"
             ],
             [
              0.8888888888888888,
              "#fdca26"
             ],
             [
              1,
              "#f0f921"
             ]
            ],
            "type": "contour"
           }
          ],
          "contourcarpet": [
           {
            "colorbar": {
             "outlinewidth": 0,
             "ticks": ""
            },
            "type": "contourcarpet"
           }
          ],
          "heatmap": [
           {
            "colorbar": {
             "outlinewidth": 0,
             "ticks": ""
            },
            "colorscale": [
             [
              0,
              "#0d0887"
             ],
             [
              0.1111111111111111,
              "#46039f"
             ],
             [
              0.2222222222222222,
              "#7201a8"
             ],
             [
              0.3333333333333333,
              "#9c179e"
             ],
             [
              0.4444444444444444,
              "#bd3786"
             ],
             [
              0.5555555555555556,
              "#d8576b"
             ],
             [
              0.6666666666666666,
              "#ed7953"
             ],
             [
              0.7777777777777778,
              "#fb9f3a"
             ],
             [
              0.8888888888888888,
              "#fdca26"
             ],
             [
              1,
              "#f0f921"
             ]
            ],
            "type": "heatmap"
           }
          ],
          "heatmapgl": [
           {
            "colorbar": {
             "outlinewidth": 0,
             "ticks": ""
            },
            "colorscale": [
             [
              0,
              "#0d0887"
             ],
             [
              0.1111111111111111,
              "#46039f"
             ],
             [
              0.2222222222222222,
              "#7201a8"
             ],
             [
              0.3333333333333333,
              "#9c179e"
             ],
             [
              0.4444444444444444,
              "#bd3786"
             ],
             [
              0.5555555555555556,
              "#d8576b"
             ],
             [
              0.6666666666666666,
              "#ed7953"
             ],
             [
              0.7777777777777778,
              "#fb9f3a"
             ],
             [
              0.8888888888888888,
              "#fdca26"
             ],
             [
              1,
              "#f0f921"
             ]
            ],
            "type": "heatmapgl"
           }
          ],
          "histogram": [
           {
            "marker": {
             "pattern": {
              "fillmode": "overlay",
              "size": 10,
              "solidity": 0.2
             }
            },
            "type": "histogram"
           }
          ],
          "histogram2d": [
           {
            "colorbar": {
             "outlinewidth": 0,
             "ticks": ""
            },
            "colorscale": [
             [
              0,
              "#0d0887"
             ],
             [
              0.1111111111111111,
              "#46039f"
             ],
             [
              0.2222222222222222,
              "#7201a8"
             ],
             [
              0.3333333333333333,
              "#9c179e"
             ],
             [
              0.4444444444444444,
              "#bd3786"
             ],
             [
              0.5555555555555556,
              "#d8576b"
             ],
             [
              0.6666666666666666,
              "#ed7953"
             ],
             [
              0.7777777777777778,
              "#fb9f3a"
             ],
             [
              0.8888888888888888,
              "#fdca26"
             ],
             [
              1,
              "#f0f921"
             ]
            ],
            "type": "histogram2d"
           }
          ],
          "histogram2dcontour": [
           {
            "colorbar": {
             "outlinewidth": 0,
             "ticks": ""
            },
            "colorscale": [
             [
              0,
              "#0d0887"
             ],
             [
              0.1111111111111111,
              "#46039f"
             ],
             [
              0.2222222222222222,
              "#7201a8"
             ],
             [
              0.3333333333333333,
              "#9c179e"
             ],
             [
              0.4444444444444444,
              "#bd3786"
             ],
             [
              0.5555555555555556,
              "#d8576b"
             ],
             [
              0.6666666666666666,
              "#ed7953"
             ],
             [
              0.7777777777777778,
              "#fb9f3a"
             ],
             [
              0.8888888888888888,
              "#fdca26"
             ],
             [
              1,
              "#f0f921"
             ]
            ],
            "type": "histogram2dcontour"
           }
          ],
          "mesh3d": [
           {
            "colorbar": {
             "outlinewidth": 0,
             "ticks": ""
            },
            "type": "mesh3d"
           }
          ],
          "parcoords": [
           {
            "line": {
             "colorbar": {
              "outlinewidth": 0,
              "ticks": ""
             }
            },
            "type": "parcoords"
           }
          ],
          "pie": [
           {
            "automargin": true,
            "type": "pie"
           }
          ],
          "scatter": [
           {
            "fillpattern": {
             "fillmode": "overlay",
             "size": 10,
             "solidity": 0.2
            },
            "type": "scatter"
           }
          ],
          "scatter3d": [
           {
            "line": {
             "colorbar": {
              "outlinewidth": 0,
              "ticks": ""
             }
            },
            "marker": {
             "colorbar": {
              "outlinewidth": 0,
              "ticks": ""
             }
            },
            "type": "scatter3d"
           }
          ],
          "scattercarpet": [
           {
            "marker": {
             "colorbar": {
              "outlinewidth": 0,
              "ticks": ""
             }
            },
            "type": "scattercarpet"
           }
          ],
          "scattergeo": [
           {
            "marker": {
             "colorbar": {
              "outlinewidth": 0,
              "ticks": ""
             }
            },
            "type": "scattergeo"
           }
          ],
          "scattergl": [
           {
            "marker": {
             "colorbar": {
              "outlinewidth": 0,
              "ticks": ""
             }
            },
            "type": "scattergl"
           }
          ],
          "scattermapbox": [
           {
            "marker": {
             "colorbar": {
              "outlinewidth": 0,
              "ticks": ""
             }
            },
            "type": "scattermapbox"
           }
          ],
          "scatterpolar": [
           {
            "marker": {
             "colorbar": {
              "outlinewidth": 0,
              "ticks": ""
             }
            },
            "type": "scatterpolar"
           }
          ],
          "scatterpolargl": [
           {
            "marker": {
             "colorbar": {
              "outlinewidth": 0,
              "ticks": ""
             }
            },
            "type": "scatterpolargl"
           }
          ],
          "scatterternary": [
           {
            "marker": {
             "colorbar": {
              "outlinewidth": 0,
              "ticks": ""
             }
            },
            "type": "scatterternary"
           }
          ],
          "surface": [
           {
            "colorbar": {
             "outlinewidth": 0,
             "ticks": ""
            },
            "colorscale": [
             [
              0,
              "#0d0887"
             ],
             [
              0.1111111111111111,
              "#46039f"
             ],
             [
              0.2222222222222222,
              "#7201a8"
             ],
             [
              0.3333333333333333,
              "#9c179e"
             ],
             [
              0.4444444444444444,
              "#bd3786"
             ],
             [
              0.5555555555555556,
              "#d8576b"
             ],
             [
              0.6666666666666666,
              "#ed7953"
             ],
             [
              0.7777777777777778,
              "#fb9f3a"
             ],
             [
              0.8888888888888888,
              "#fdca26"
             ],
             [
              1,
              "#f0f921"
             ]
            ],
            "type": "surface"
           }
          ],
          "table": [
           {
            "cells": {
             "fill": {
              "color": "#EBF0F8"
             },
             "line": {
              "color": "white"
             }
            },
            "header": {
             "fill": {
              "color": "#C8D4E3"
             },
             "line": {
              "color": "white"
             }
            },
            "type": "table"
           }
          ]
         },
         "layout": {
          "annotationdefaults": {
           "arrowcolor": "#2a3f5f",
           "arrowhead": 0,
           "arrowwidth": 1
          },
          "autotypenumbers": "strict",
          "coloraxis": {
           "colorbar": {
            "outlinewidth": 0,
            "ticks": ""
           }
          },
          "colorscale": {
           "diverging": [
            [
             0,
             "#8e0152"
            ],
            [
             0.1,
             "#c51b7d"
            ],
            [
             0.2,
             "#de77ae"
            ],
            [
             0.3,
             "#f1b6da"
            ],
            [
             0.4,
             "#fde0ef"
            ],
            [
             0.5,
             "#f7f7f7"
            ],
            [
             0.6,
             "#e6f5d0"
            ],
            [
             0.7,
             "#b8e186"
            ],
            [
             0.8,
             "#7fbc41"
            ],
            [
             0.9,
             "#4d9221"
            ],
            [
             1,
             "#276419"
            ]
           ],
           "sequential": [
            [
             0,
             "#0d0887"
            ],
            [
             0.1111111111111111,
             "#46039f"
            ],
            [
             0.2222222222222222,
             "#7201a8"
            ],
            [
             0.3333333333333333,
             "#9c179e"
            ],
            [
             0.4444444444444444,
             "#bd3786"
            ],
            [
             0.5555555555555556,
             "#d8576b"
            ],
            [
             0.6666666666666666,
             "#ed7953"
            ],
            [
             0.7777777777777778,
             "#fb9f3a"
            ],
            [
             0.8888888888888888,
             "#fdca26"
            ],
            [
             1,
             "#f0f921"
            ]
           ],
           "sequentialminus": [
            [
             0,
             "#0d0887"
            ],
            [
             0.1111111111111111,
             "#46039f"
            ],
            [
             0.2222222222222222,
             "#7201a8"
            ],
            [
             0.3333333333333333,
             "#9c179e"
            ],
            [
             0.4444444444444444,
             "#bd3786"
            ],
            [
             0.5555555555555556,
             "#d8576b"
            ],
            [
             0.6666666666666666,
             "#ed7953"
            ],
            [
             0.7777777777777778,
             "#fb9f3a"
            ],
            [
             0.8888888888888888,
             "#fdca26"
            ],
            [
             1,
             "#f0f921"
            ]
           ]
          },
          "colorway": [
           "#636efa",
           "#EF553B",
           "#00cc96",
           "#ab63fa",
           "#FFA15A",
           "#19d3f3",
           "#FF6692",
           "#B6E880",
           "#FF97FF",
           "#FECB52"
          ],
          "font": {
           "color": "#2a3f5f"
          },
          "geo": {
           "bgcolor": "white",
           "lakecolor": "white",
           "landcolor": "#E5ECF6",
           "showlakes": true,
           "showland": true,
           "subunitcolor": "white"
          },
          "hoverlabel": {
           "align": "left"
          },
          "hovermode": "closest",
          "mapbox": {
           "style": "light"
          },
          "paper_bgcolor": "white",
          "plot_bgcolor": "#E5ECF6",
          "polar": {
           "angularaxis": {
            "gridcolor": "white",
            "linecolor": "white",
            "ticks": ""
           },
           "bgcolor": "#E5ECF6",
           "radialaxis": {
            "gridcolor": "white",
            "linecolor": "white",
            "ticks": ""
           }
          },
          "scene": {
           "xaxis": {
            "backgroundcolor": "#E5ECF6",
            "gridcolor": "white",
            "gridwidth": 2,
            "linecolor": "white",
            "showbackground": true,
            "ticks": "",
            "zerolinecolor": "white"
           },
           "yaxis": {
            "backgroundcolor": "#E5ECF6",
            "gridcolor": "white",
            "gridwidth": 2,
            "linecolor": "white",
            "showbackground": true,
            "ticks": "",
            "zerolinecolor": "white"
           },
           "zaxis": {
            "backgroundcolor": "#E5ECF6",
            "gridcolor": "white",
            "gridwidth": 2,
            "linecolor": "white",
            "showbackground": true,
            "ticks": "",
            "zerolinecolor": "white"
           }
          },
          "shapedefaults": {
           "line": {
            "color": "#2a3f5f"
           }
          },
          "ternary": {
           "aaxis": {
            "gridcolor": "white",
            "linecolor": "white",
            "ticks": ""
           },
           "baxis": {
            "gridcolor": "white",
            "linecolor": "white",
            "ticks": ""
           },
           "bgcolor": "#E5ECF6",
           "caxis": {
            "gridcolor": "white",
            "linecolor": "white",
            "ticks": ""
           }
          },
          "title": {
           "x": 0.05
          },
          "xaxis": {
           "automargin": true,
           "gridcolor": "white",
           "linecolor": "white",
           "ticks": "",
           "title": {
            "standoff": 15
           },
           "zerolinecolor": "white",
           "zerolinewidth": 2
          },
          "yaxis": {
           "automargin": true,
           "gridcolor": "white",
           "linecolor": "white",
           "ticks": "",
           "title": {
            "standoff": 15
           },
           "zerolinecolor": "white",
           "zerolinewidth": 2
          }
         }
        },
        "title": {
         "text": "L0 vs Fraction Recovered"
        },
        "xaxis": {
         "title": {
          "text": "L0"
         }
        },
        "yaxis": {
         "title": {
          "text": "Fraction Recovered"
         }
        }
       }
      },
      "text/html": [
       "<div>                            <div id=\"6795dd29-c6b5-44b8-b5b5-df5b68546f74\" class=\"plotly-graph-div\" style=\"height:525px; width:100%;\"></div>            <script type=\"text/javascript\">                require([\"plotly\"], function(Plotly) {                    window.PLOTLYENV=window.PLOTLYENV || {};                                    if (document.getElementById(\"6795dd29-c6b5-44b8-b5b5-df5b68546f74\")) {                    Plotly.newPlot(                        \"6795dd29-c6b5-44b8-b5b5-df5b68546f74\",                        [{\"hoverinfo\":\"text\",\"marker\":{\"color\":[0.5999999642372131,0.6349999904632568,0.6399999856948853,0.6449999809265137,0.6349999904632568,0.6049999594688416,0.6349999904632568,0.6200000047683716,0.6449999809265137,0.6299999952316284,0.6349999904632568,0.625,0.6100000143051147,0.625,0.625,0.625,0.625,0.6049999594688416,0.6150000095367432,0.6349999904632568,0.6299999952316284,0.6200000047683716,0.6299999952316284,0.6299999952316284,0.5949999690055847,0.6499999761581421,0.6349999904632568,0.6349999904632568,0.6299999952316284,0.625,0.5899999737739563,0.625,0.6200000047683716,0.625,0.6299999952316284,0.6349999904632568],\"colorscale\":[[0.0,\"#440154\"],[0.1111111111111111,\"#482878\"],[0.2222222222222222,\"#3e4989\"],[0.3333333333333333,\"#31688e\"],[0.4444444444444444,\"#26828e\"],[0.5555555555555556,\"#1f9e89\"],[0.6666666666666666,\"#35b779\"],[0.7777777777777778,\"#6ece58\"],[0.8888888888888888,\"#b5de2b\"],[1.0,\"#fde725\"]],\"showscale\":true,\"size\":10},\"mode\":\"markers\",\"text\":[\"AE Path: ..\\u002fdictionary_learning\\u002fdictionaries\\u002fgemma-2-2b_sweep_topk_ctx128_ef8_0824\\u002fresid_post_layer_11_checkpoints\\u002ftrainer_1_step_0\\u003cbr\\u003eL0: 40.0000\\u003cbr\\u003eFrac Recovered: -0.1137\\u003cbr\\u003eCustom Metric: 0.6000\\u003cbr\\u003eDict Size: 18432.0000\\u003cbr\\u003eLR: 0.0002\\u003cbr\\u003eL1 Penalty: 40.0000\",\"AE Path: ..\\u002fdictionary_learning\\u002fdictionaries\\u002fgemma-2-2b_sweep_topk_ctx128_ef8_0824\\u002fresid_post_layer_11_checkpoints\\u002ftrainer_1_step_19528\\u003cbr\\u003eL0: 40.0000\\u003cbr\\u003eFrac Recovered: 0.9831\\u003cbr\\u003eCustom Metric: 0.6350\\u003cbr\\u003eDict Size: 18432.0000\\u003cbr\\u003eLR: 0.0002\\u003cbr\\u003eL1 Penalty: 40.0000\",\"AE Path: ..\\u002fdictionary_learning\\u002fdictionaries\\u002fgemma-2-2b_sweep_topk_ctx128_ef8_0824\\u002fresid_post_layer_11_checkpoints\\u002ftrainer_1_step_29292\\u003cbr\\u003eL0: 39.9833\\u003cbr\\u003eFrac Recovered: 0.9838\\u003cbr\\u003eCustom Metric: 0.6400\\u003cbr\\u003eDict Size: 18432.0000\\u003cbr\\u003eLR: 0.0002\\u003cbr\\u003eL1 Penalty: 40.0000\",\"AE Path: ..\\u002fdictionary_learning\\u002fdictionaries\\u002fgemma-2-2b_sweep_topk_ctx128_ef8_0824\\u002fresid_post_layer_11_checkpoints\\u002ftrainer_1_step_4882\\u003cbr\\u003eL0: 40.0000\\u003cbr\\u003eFrac Recovered: 0.9771\\u003cbr\\u003eCustom Metric: 0.6450\\u003cbr\\u003eDict Size: 18432.0000\\u003cbr\\u003eLR: 0.0002\\u003cbr\\u003eL1 Penalty: 40.0000\",\"AE Path: ..\\u002fdictionary_learning\\u002fdictionaries\\u002fgemma-2-2b_sweep_topk_ctx128_ef8_0824\\u002fresid_post_layer_11_checkpoints\\u002ftrainer_1_step_9764\\u003cbr\\u003eL0: 40.0000\\u003cbr\\u003eFrac Recovered: 0.9825\\u003cbr\\u003eCustom Metric: 0.6350\\u003cbr\\u003eDict Size: 18432.0000\\u003cbr\\u003eLR: 0.0002\\u003cbr\\u003eL1 Penalty: 40.0000\",\"AE Path: ..\\u002fdictionary_learning\\u002fdictionaries\\u002fgemma-2-2b_sweep_topk_ctx128_ef8_0824\\u002fresid_post_layer_11_checkpoints\\u002ftrainer_2_step_0\\u003cbr\\u003eL0: 80.0000\\u003cbr\\u003eFrac Recovered: -0.2103\\u003cbr\\u003eCustom Metric: 0.6050\\u003cbr\\u003eDict Size: 18432.0000\\u003cbr\\u003eLR: 0.0002\\u003cbr\\u003eL1 Penalty: 80.0000\",\"AE Path: ..\\u002fdictionary_learning\\u002fdictionaries\\u002fgemma-2-2b_sweep_topk_ctx128_ef8_0824\\u002fresid_post_layer_11_checkpoints\\u002ftrainer_2_step_19528\\u003cbr\\u003eL0: 79.9000\\u003cbr\\u003eFrac Recovered: 0.9897\\u003cbr\\u003eCustom Metric: 0.6350\\u003cbr\\u003eDict Size: 18432.0000\\u003cbr\\u003eLR: 0.0002\\u003cbr\\u003eL1 Penalty: 80.0000\",\"AE Path: ..\\u002fdictionary_learning\\u002fdictionaries\\u002fgemma-2-2b_sweep_topk_ctx128_ef8_0824\\u002fresid_post_layer_11_checkpoints\\u002ftrainer_2_step_29292\\u003cbr\\u003eL0: 80.0000\\u003cbr\\u003eFrac Recovered: 0.9899\\u003cbr\\u003eCustom Metric: 0.6200\\u003cbr\\u003eDict Size: 18432.0000\\u003cbr\\u003eLR: 0.0002\\u003cbr\\u003eL1 Penalty: 80.0000\",\"AE Path: ..\\u002fdictionary_learning\\u002fdictionaries\\u002fgemma-2-2b_sweep_topk_ctx128_ef8_0824\\u002fresid_post_layer_11_checkpoints\\u002ftrainer_2_step_4882\\u003cbr\\u003eL0: 80.0000\\u003cbr\\u003eFrac Recovered: 0.9861\\u003cbr\\u003eCustom Metric: 0.6450\\u003cbr\\u003eDict Size: 18432.0000\\u003cbr\\u003eLR: 0.0002\\u003cbr\\u003eL1 Penalty: 80.0000\",\"AE Path: ..\\u002fdictionary_learning\\u002fdictionaries\\u002fgemma-2-2b_sweep_topk_ctx128_ef8_0824\\u002fresid_post_layer_11_checkpoints\\u002ftrainer_2_step_9764\\u003cbr\\u003eL0: 80.0000\\u003cbr\\u003eFrac Recovered: 0.9886\\u003cbr\\u003eCustom Metric: 0.6300\\u003cbr\\u003eDict Size: 18432.0000\\u003cbr\\u003eLR: 0.0002\\u003cbr\\u003eL1 Penalty: 80.0000\",\"AE Path: ..\\u002fdictionary_learning\\u002fdictionaries\\u002fgemma-2-2b_sweep_topk_ctx128_ef8_0824\\u002fresid_post_layer_11_checkpoints\\u002ftrainer_1_step_48828\\u003cbr\\u003eL0: 40.0000\\u003cbr\\u003eFrac Recovered: 0.9844\\u003cbr\\u003eCustom Metric: 0.6350\\u003cbr\\u003eDict Size: 18432.0000\\u003cbr\\u003eLR: 0.0002\\u003cbr\\u003eL1 Penalty: 40.0000\",\"AE Path: ..\\u002fdictionary_learning\\u002fdictionaries\\u002fgemma-2-2b_sweep_topk_ctx128_ef8_0824\\u002fresid_post_layer_11_checkpoints\\u002ftrainer_2_step_48828\\u003cbr\\u003eL0: 79.9542\\u003cbr\\u003eFrac Recovered: 0.9903\\u003cbr\\u003eCustom Metric: 0.6250\\u003cbr\\u003eDict Size: 18432.0000\\u003cbr\\u003eLR: 0.0002\\u003cbr\\u003eL1 Penalty: 80.0000\",\"AE Path: ..\\u002fdictionary_learning\\u002fdictionaries\\u002fgemma-2-2b_sweep_topk_ctx128_ef8_0824\\u002fresid_post_layer_15_checkpoints\\u002ftrainer_1_step_0\\u003cbr\\u003eL0: 40.0000\\u003cbr\\u003eFrac Recovered: -0.2329\\u003cbr\\u003eCustom Metric: 0.6100\\u003cbr\\u003eDict Size: 18432.0000\\u003cbr\\u003eLR: 0.0002\\u003cbr\\u003eL1 Penalty: 40.0000\",\"AE Path: ..\\u002fdictionary_learning\\u002fdictionaries\\u002fgemma-2-2b_sweep_topk_ctx128_ef8_0824\\u002fresid_post_layer_15_checkpoints\\u002ftrainer_1_step_19528\\u003cbr\\u003eL0: 39.9958\\u003cbr\\u003eFrac Recovered: 0.9789\\u003cbr\\u003eCustom Metric: 0.6250\\u003cbr\\u003eDict Size: 18432.0000\\u003cbr\\u003eLR: 0.0002\\u003cbr\\u003eL1 Penalty: 40.0000\",\"AE Path: ..\\u002fdictionary_learning\\u002fdictionaries\\u002fgemma-2-2b_sweep_topk_ctx128_ef8_0824\\u002fresid_post_layer_15_checkpoints\\u002ftrainer_1_step_29292\\u003cbr\\u003eL0: 39.9917\\u003cbr\\u003eFrac Recovered: 0.9797\\u003cbr\\u003eCustom Metric: 0.6250\\u003cbr\\u003eDict Size: 18432.0000\\u003cbr\\u003eLR: 0.0002\\u003cbr\\u003eL1 Penalty: 40.0000\",\"AE Path: ..\\u002fdictionary_learning\\u002fdictionaries\\u002fgemma-2-2b_sweep_topk_ctx128_ef8_0824\\u002fresid_post_layer_15_checkpoints\\u002ftrainer_1_step_4882\\u003cbr\\u003eL0: 40.0000\\u003cbr\\u003eFrac Recovered: 0.9736\\u003cbr\\u003eCustom Metric: 0.6250\\u003cbr\\u003eDict Size: 18432.0000\\u003cbr\\u003eLR: 0.0002\\u003cbr\\u003eL1 Penalty: 40.0000\",\"AE Path: ..\\u002fdictionary_learning\\u002fdictionaries\\u002fgemma-2-2b_sweep_topk_ctx128_ef8_0824\\u002fresid_post_layer_15_checkpoints\\u002ftrainer_1_step_9764\\u003cbr\\u003eL0: 40.0000\\u003cbr\\u003eFrac Recovered: 0.9776\\u003cbr\\u003eCustom Metric: 0.6250\\u003cbr\\u003eDict Size: 18432.0000\\u003cbr\\u003eLR: 0.0002\\u003cbr\\u003eL1 Penalty: 40.0000\",\"AE Path: ..\\u002fdictionary_learning\\u002fdictionaries\\u002fgemma-2-2b_sweep_topk_ctx128_ef8_0824\\u002fresid_post_layer_15_checkpoints\\u002ftrainer_2_step_0\\u003cbr\\u003eL0: 80.0000\\u003cbr\\u003eFrac Recovered: -0.0656\\u003cbr\\u003eCustom Metric: 0.6050\\u003cbr\\u003eDict Size: 18432.0000\\u003cbr\\u003eLR: 0.0002\\u003cbr\\u003eL1 Penalty: 80.0000\",\"AE Path: ..\\u002fdictionary_learning\\u002fdictionaries\\u002fgemma-2-2b_sweep_topk_ctx128_ef8_0824\\u002fresid_post_layer_15_checkpoints\\u002ftrainer_2_step_19528\\u003cbr\\u003eL0: 80.0000\\u003cbr\\u003eFrac Recovered: 0.9874\\u003cbr\\u003eCustom Metric: 0.6150\\u003cbr\\u003eDict Size: 18432.0000\\u003cbr\\u003eLR: 0.0002\\u003cbr\\u003eL1 Penalty: 80.0000\",\"AE Path: ..\\u002fdictionary_learning\\u002fdictionaries\\u002fgemma-2-2b_sweep_topk_ctx128_ef8_0824\\u002fresid_post_layer_15_checkpoints\\u002ftrainer_2_step_29292\\u003cbr\\u003eL0: 79.9000\\u003cbr\\u003eFrac Recovered: 0.9880\\u003cbr\\u003eCustom Metric: 0.6350\\u003cbr\\u003eDict Size: 18432.0000\\u003cbr\\u003eLR: 0.0002\\u003cbr\\u003eL1 Penalty: 80.0000\",\"AE Path: ..\\u002fdictionary_learning\\u002fdictionaries\\u002fgemma-2-2b_sweep_topk_ctx128_ef8_0824\\u002fresid_post_layer_15_checkpoints\\u002ftrainer_2_step_4882\\u003cbr\\u003eL0: 80.0000\\u003cbr\\u003eFrac Recovered: 0.9839\\u003cbr\\u003eCustom Metric: 0.6300\\u003cbr\\u003eDict Size: 18432.0000\\u003cbr\\u003eLR: 0.0002\\u003cbr\\u003eL1 Penalty: 80.0000\",\"AE Path: ..\\u002fdictionary_learning\\u002fdictionaries\\u002fgemma-2-2b_sweep_topk_ctx128_ef8_0824\\u002fresid_post_layer_15_checkpoints\\u002ftrainer_2_step_9764\\u003cbr\\u003eL0: 80.0000\\u003cbr\\u003eFrac Recovered: 0.9866\\u003cbr\\u003eCustom Metric: 0.6200\\u003cbr\\u003eDict Size: 18432.0000\\u003cbr\\u003eLR: 0.0002\\u003cbr\\u003eL1 Penalty: 80.0000\",\"AE Path: ..\\u002fdictionary_learning\\u002fdictionaries\\u002fgemma-2-2b_sweep_topk_ctx128_ef8_0824\\u002fresid_post_layer_15_checkpoints\\u002ftrainer_2_step_48828\\u003cbr\\u003eL0: 80.0000\\u003cbr\\u003eFrac Recovered: 0.9884\\u003cbr\\u003eCustom Metric: 0.6300\\u003cbr\\u003eDict Size: 18432.0000\\u003cbr\\u003eLR: 0.0002\\u003cbr\\u003eL1 Penalty: 80.0000\",\"AE Path: ..\\u002fdictionary_learning\\u002fdictionaries\\u002fgemma-2-2b_sweep_topk_ctx128_ef8_0824\\u002fresid_post_layer_15_checkpoints\\u002ftrainer_1_step_48828\\u003cbr\\u003eL0: 40.0000\\u003cbr\\u003eFrac Recovered: 0.9807\\u003cbr\\u003eCustom Metric: 0.6300\\u003cbr\\u003eDict Size: 18432.0000\\u003cbr\\u003eLR: 0.0002\\u003cbr\\u003eL1 Penalty: 40.0000\",\"AE Path: ..\\u002fdictionary_learning\\u002fdictionaries\\u002fgemma-2-2b_sweep_topk_ctx128_ef8_0824\\u002fresid_post_layer_19_checkpoints\\u002ftrainer_1_step_0\\u003cbr\\u003eL0: 40.0000\\u003cbr\\u003eFrac Recovered: -0.0305\\u003cbr\\u003eCustom Metric: 0.5950\\u003cbr\\u003eDict Size: 18432.0000\\u003cbr\\u003eLR: 0.0002\\u003cbr\\u003eL1 Penalty: 40.0000\",\"AE Path: ..\\u002fdictionary_learning\\u002fdictionaries\\u002fgemma-2-2b_sweep_topk_ctx128_ef8_0824\\u002fresid_post_layer_19_checkpoints\\u002ftrainer_1_step_19528\\u003cbr\\u003eL0: 40.0000\\u003cbr\\u003eFrac Recovered: 0.9767\\u003cbr\\u003eCustom Metric: 0.6500\\u003cbr\\u003eDict Size: 18432.0000\\u003cbr\\u003eLR: 0.0002\\u003cbr\\u003eL1 Penalty: 40.0000\",\"AE Path: ..\\u002fdictionary_learning\\u002fdictionaries\\u002fgemma-2-2b_sweep_topk_ctx128_ef8_0824\\u002fresid_post_layer_19_checkpoints\\u002ftrainer_1_step_29292\\u003cbr\\u003eL0: 40.0000\\u003cbr\\u003eFrac Recovered: 0.9777\\u003cbr\\u003eCustom Metric: 0.6350\\u003cbr\\u003eDict Size: 18432.0000\\u003cbr\\u003eLR: 0.0002\\u003cbr\\u003eL1 Penalty: 40.0000\",\"AE Path: ..\\u002fdictionary_learning\\u002fdictionaries\\u002fgemma-2-2b_sweep_topk_ctx128_ef8_0824\\u002fresid_post_layer_19_checkpoints\\u002ftrainer_1_step_4882\\u003cbr\\u003eL0: 40.0000\\u003cbr\\u003eFrac Recovered: 0.9729\\u003cbr\\u003eCustom Metric: 0.6350\\u003cbr\\u003eDict Size: 18432.0000\\u003cbr\\u003eLR: 0.0002\\u003cbr\\u003eL1 Penalty: 40.0000\",\"AE Path: ..\\u002fdictionary_learning\\u002fdictionaries\\u002fgemma-2-2b_sweep_topk_ctx128_ef8_0824\\u002fresid_post_layer_19_checkpoints\\u002ftrainer_1_step_9764\\u003cbr\\u003eL0: 40.0000\\u003cbr\\u003eFrac Recovered: 0.9756\\u003cbr\\u003eCustom Metric: 0.6300\\u003cbr\\u003eDict Size: 18432.0000\\u003cbr\\u003eLR: 0.0002\\u003cbr\\u003eL1 Penalty: 40.0000\",\"AE Path: ..\\u002fdictionary_learning\\u002fdictionaries\\u002fgemma-2-2b_sweep_topk_ctx128_ef8_0824\\u002fresid_post_layer_19_checkpoints\\u002ftrainer_2_step_19528\\u003cbr\\u003eL0: 80.0000\\u003cbr\\u003eFrac Recovered: 0.9847\\u003cbr\\u003eCustom Metric: 0.6250\\u003cbr\\u003eDict Size: 18432.0000\\u003cbr\\u003eLR: 0.0002\\u003cbr\\u003eL1 Penalty: 80.0000\",\"AE Path: ..\\u002fdictionary_learning\\u002fdictionaries\\u002fgemma-2-2b_sweep_topk_ctx128_ef8_0824\\u002fresid_post_layer_19_checkpoints\\u002ftrainer_2_step_0\\u003cbr\\u003eL0: 80.0000\\u003cbr\\u003eFrac Recovered: 0.1242\\u003cbr\\u003eCustom Metric: 0.5900\\u003cbr\\u003eDict Size: 18432.0000\\u003cbr\\u003eLR: 0.0002\\u003cbr\\u003eL1 Penalty: 80.0000\",\"AE Path: ..\\u002fdictionary_learning\\u002fdictionaries\\u002fgemma-2-2b_sweep_topk_ctx128_ef8_0824\\u002fresid_post_layer_19_checkpoints\\u002ftrainer_2_step_29292\\u003cbr\\u003eL0: 80.0000\\u003cbr\\u003eFrac Recovered: 0.9849\\u003cbr\\u003eCustom Metric: 0.6250\\u003cbr\\u003eDict Size: 18432.0000\\u003cbr\\u003eLR: 0.0002\\u003cbr\\u003eL1 Penalty: 80.0000\",\"AE Path: ..\\u002fdictionary_learning\\u002fdictionaries\\u002fgemma-2-2b_sweep_topk_ctx128_ef8_0824\\u002fresid_post_layer_19_checkpoints\\u002ftrainer_2_step_4882\\u003cbr\\u003eL0: 80.0000\\u003cbr\\u003eFrac Recovered: 0.9815\\u003cbr\\u003eCustom Metric: 0.6200\\u003cbr\\u003eDict Size: 18432.0000\\u003cbr\\u003eLR: 0.0002\\u003cbr\\u003eL1 Penalty: 80.0000\",\"AE Path: ..\\u002fdictionary_learning\\u002fdictionaries\\u002fgemma-2-2b_sweep_topk_ctx128_ef8_0824\\u002fresid_post_layer_19_checkpoints\\u002ftrainer_2_step_9764\\u003cbr\\u003eL0: 80.0000\\u003cbr\\u003eFrac Recovered: 0.9837\\u003cbr\\u003eCustom Metric: 0.6250\\u003cbr\\u003eDict Size: 18432.0000\\u003cbr\\u003eLR: 0.0002\\u003cbr\\u003eL1 Penalty: 80.0000\",\"AE Path: ..\\u002fdictionary_learning\\u002fdictionaries\\u002fgemma-2-2b_sweep_topk_ctx128_ef8_0824\\u002fresid_post_layer_19_checkpoints\\u002ftrainer_2_step_48828\\u003cbr\\u003eL0: 80.0000\\u003cbr\\u003eFrac Recovered: 0.9854\\u003cbr\\u003eCustom Metric: 0.6300\\u003cbr\\u003eDict Size: 18432.0000\\u003cbr\\u003eLR: 0.0002\\u003cbr\\u003eL1 Penalty: 80.0000\",\"AE Path: ..\\u002fdictionary_learning\\u002fdictionaries\\u002fgemma-2-2b_sweep_topk_ctx128_ef8_0824\\u002fresid_post_layer_19_checkpoints\\u002ftrainer_1_step_48828\\u003cbr\\u003eL0: 40.0000\\u003cbr\\u003eFrac Recovered: 0.9781\\u003cbr\\u003eCustom Metric: 0.6350\\u003cbr\\u003eDict Size: 18432.0000\\u003cbr\\u003eLR: 0.0002\\u003cbr\\u003eL1 Penalty: 40.0000\"],\"x\":[40.0,40.0,39.983334350585935,40.0,40.0,80.0,79.9,80.0,80.0,80.0,40.0,79.95416717529297,40.0,39.99583358764649,39.99166717529297,40.0,40.0,80.0,80.0,79.9,80.0,80.0,80.0,40.0,40.0,40.0,40.0,40.0,40.0,80.0,80.0,80.0,80.0,80.0,80.0,40.0],\"y\":[-0.1137192726135254,0.9831358790397644,0.9838047802448273,0.9771327614784241,0.9825274705886841,-0.2103082224726677,0.9896542429924011,0.9898871839046478,0.9860971808433533,0.988573682308197,0.9843562066555023,0.9903075456619262,-0.23288672268390656,0.9788522481918335,0.979695725440979,0.9735915839672089,0.9776096105575561,-0.06557218059897423,0.9874190568923951,0.9880201041698455,0.9839148700237275,0.9866274833679199,0.988433837890625,0.980656909942627,-0.030534679733682422,0.9767161905765533,0.977747130393982,0.9729329884052277,0.9755988657474518,0.9846857130527497,0.12416270188987255,0.9848611414432525,0.9814700245857239,0.9837063908576965,0.9854330003261567,0.9781295597553253],\"type\":\"scatter\"}],                        {\"template\":{\"data\":{\"histogram2dcontour\":[{\"type\":\"histogram2dcontour\",\"colorbar\":{\"outlinewidth\":0,\"ticks\":\"\"},\"colorscale\":[[0.0,\"#0d0887\"],[0.1111111111111111,\"#46039f\"],[0.2222222222222222,\"#7201a8\"],[0.3333333333333333,\"#9c179e\"],[0.4444444444444444,\"#bd3786\"],[0.5555555555555556,\"#d8576b\"],[0.6666666666666666,\"#ed7953\"],[0.7777777777777778,\"#fb9f3a\"],[0.8888888888888888,\"#fdca26\"],[1.0,\"#f0f921\"]]}],\"choropleth\":[{\"type\":\"choropleth\",\"colorbar\":{\"outlinewidth\":0,\"ticks\":\"\"}}],\"histogram2d\":[{\"type\":\"histogram2d\",\"colorbar\":{\"outlinewidth\":0,\"ticks\":\"\"},\"colorscale\":[[0.0,\"#0d0887\"],[0.1111111111111111,\"#46039f\"],[0.2222222222222222,\"#7201a8\"],[0.3333333333333333,\"#9c179e\"],[0.4444444444444444,\"#bd3786\"],[0.5555555555555556,\"#d8576b\"],[0.6666666666666666,\"#ed7953\"],[0.7777777777777778,\"#fb9f3a\"],[0.8888888888888888,\"#fdca26\"],[1.0,\"#f0f921\"]]}],\"heatmap\":[{\"type\":\"heatmap\",\"colorbar\":{\"outlinewidth\":0,\"ticks\":\"\"},\"colorscale\":[[0.0,\"#0d0887\"],[0.1111111111111111,\"#46039f\"],[0.2222222222222222,\"#7201a8\"],[0.3333333333333333,\"#9c179e\"],[0.4444444444444444,\"#bd3786\"],[0.5555555555555556,\"#d8576b\"],[0.6666666666666666,\"#ed7953\"],[0.7777777777777778,\"#fb9f3a\"],[0.8888888888888888,\"#fdca26\"],[1.0,\"#f0f921\"]]}],\"heatmapgl\":[{\"type\":\"heatmapgl\",\"colorbar\":{\"outlinewidth\":0,\"ticks\":\"\"},\"colorscale\":[[0.0,\"#0d0887\"],[0.1111111111111111,\"#46039f\"],[0.2222222222222222,\"#7201a8\"],[0.3333333333333333,\"#9c179e\"],[0.4444444444444444,\"#bd3786\"],[0.5555555555555556,\"#d8576b\"],[0.6666666666666666,\"#ed7953\"],[0.7777777777777778,\"#fb9f3a\"],[0.8888888888888888,\"#fdca26\"],[1.0,\"#f0f921\"]]}],\"contourcarpet\":[{\"type\":\"contourcarpet\",\"colorbar\":{\"outlinewidth\":0,\"ticks\":\"\"}}],\"contour\":[{\"type\":\"contour\",\"colorbar\":{\"outlinewidth\":0,\"ticks\":\"\"},\"colorscale\":[[0.0,\"#0d0887\"],[0.1111111111111111,\"#46039f\"],[0.2222222222222222,\"#7201a8\"],[0.3333333333333333,\"#9c179e\"],[0.4444444444444444,\"#bd3786\"],[0.5555555555555556,\"#d8576b\"],[0.6666666666666666,\"#ed7953\"],[0.7777777777777778,\"#fb9f3a\"],[0.8888888888888888,\"#fdca26\"],[1.0,\"#f0f921\"]]}],\"surface\":[{\"type\":\"surface\",\"colorbar\":{\"outlinewidth\":0,\"ticks\":\"\"},\"colorscale\":[[0.0,\"#0d0887\"],[0.1111111111111111,\"#46039f\"],[0.2222222222222222,\"#7201a8\"],[0.3333333333333333,\"#9c179e\"],[0.4444444444444444,\"#bd3786\"],[0.5555555555555556,\"#d8576b\"],[0.6666666666666666,\"#ed7953\"],[0.7777777777777778,\"#fb9f3a\"],[0.8888888888888888,\"#fdca26\"],[1.0,\"#f0f921\"]]}],\"mesh3d\":[{\"type\":\"mesh3d\",\"colorbar\":{\"outlinewidth\":0,\"ticks\":\"\"}}],\"scatter\":[{\"fillpattern\":{\"fillmode\":\"overlay\",\"size\":10,\"solidity\":0.2},\"type\":\"scatter\"}],\"parcoords\":[{\"type\":\"parcoords\",\"line\":{\"colorbar\":{\"outlinewidth\":0,\"ticks\":\"\"}}}],\"scatterpolargl\":[{\"type\":\"scatterpolargl\",\"marker\":{\"colorbar\":{\"outlinewidth\":0,\"ticks\":\"\"}}}],\"bar\":[{\"error_x\":{\"color\":\"#2a3f5f\"},\"error_y\":{\"color\":\"#2a3f5f\"},\"marker\":{\"line\":{\"color\":\"#E5ECF6\",\"width\":0.5},\"pattern\":{\"fillmode\":\"overlay\",\"size\":10,\"solidity\":0.2}},\"type\":\"bar\"}],\"scattergeo\":[{\"type\":\"scattergeo\",\"marker\":{\"colorbar\":{\"outlinewidth\":0,\"ticks\":\"\"}}}],\"scatterpolar\":[{\"type\":\"scatterpolar\",\"marker\":{\"colorbar\":{\"outlinewidth\":0,\"ticks\":\"\"}}}],\"histogram\":[{\"marker\":{\"pattern\":{\"fillmode\":\"overlay\",\"size\":10,\"solidity\":0.2}},\"type\":\"histogram\"}],\"scattergl\":[{\"type\":\"scattergl\",\"marker\":{\"colorbar\":{\"outlinewidth\":0,\"ticks\":\"\"}}}],\"scatter3d\":[{\"type\":\"scatter3d\",\"line\":{\"colorbar\":{\"outlinewidth\":0,\"ticks\":\"\"}},\"marker\":{\"colorbar\":{\"outlinewidth\":0,\"ticks\":\"\"}}}],\"scattermapbox\":[{\"type\":\"scattermapbox\",\"marker\":{\"colorbar\":{\"outlinewidth\":0,\"ticks\":\"\"}}}],\"scatterternary\":[{\"type\":\"scatterternary\",\"marker\":{\"colorbar\":{\"outlinewidth\":0,\"ticks\":\"\"}}}],\"scattercarpet\":[{\"type\":\"scattercarpet\",\"marker\":{\"colorbar\":{\"outlinewidth\":0,\"ticks\":\"\"}}}],\"carpet\":[{\"aaxis\":{\"endlinecolor\":\"#2a3f5f\",\"gridcolor\":\"white\",\"linecolor\":\"white\",\"minorgridcolor\":\"white\",\"startlinecolor\":\"#2a3f5f\"},\"baxis\":{\"endlinecolor\":\"#2a3f5f\",\"gridcolor\":\"white\",\"linecolor\":\"white\",\"minorgridcolor\":\"white\",\"startlinecolor\":\"#2a3f5f\"},\"type\":\"carpet\"}],\"table\":[{\"cells\":{\"fill\":{\"color\":\"#EBF0F8\"},\"line\":{\"color\":\"white\"}},\"header\":{\"fill\":{\"color\":\"#C8D4E3\"},\"line\":{\"color\":\"white\"}},\"type\":\"table\"}],\"barpolar\":[{\"marker\":{\"line\":{\"color\":\"#E5ECF6\",\"width\":0.5},\"pattern\":{\"fillmode\":\"overlay\",\"size\":10,\"solidity\":0.2}},\"type\":\"barpolar\"}],\"pie\":[{\"automargin\":true,\"type\":\"pie\"}]},\"layout\":{\"autotypenumbers\":\"strict\",\"colorway\":[\"#636efa\",\"#EF553B\",\"#00cc96\",\"#ab63fa\",\"#FFA15A\",\"#19d3f3\",\"#FF6692\",\"#B6E880\",\"#FF97FF\",\"#FECB52\"],\"font\":{\"color\":\"#2a3f5f\"},\"hovermode\":\"closest\",\"hoverlabel\":{\"align\":\"left\"},\"paper_bgcolor\":\"white\",\"plot_bgcolor\":\"#E5ECF6\",\"polar\":{\"bgcolor\":\"#E5ECF6\",\"angularaxis\":{\"gridcolor\":\"white\",\"linecolor\":\"white\",\"ticks\":\"\"},\"radialaxis\":{\"gridcolor\":\"white\",\"linecolor\":\"white\",\"ticks\":\"\"}},\"ternary\":{\"bgcolor\":\"#E5ECF6\",\"aaxis\":{\"gridcolor\":\"white\",\"linecolor\":\"white\",\"ticks\":\"\"},\"baxis\":{\"gridcolor\":\"white\",\"linecolor\":\"white\",\"ticks\":\"\"},\"caxis\":{\"gridcolor\":\"white\",\"linecolor\":\"white\",\"ticks\":\"\"}},\"coloraxis\":{\"colorbar\":{\"outlinewidth\":0,\"ticks\":\"\"}},\"colorscale\":{\"sequential\":[[0.0,\"#0d0887\"],[0.1111111111111111,\"#46039f\"],[0.2222222222222222,\"#7201a8\"],[0.3333333333333333,\"#9c179e\"],[0.4444444444444444,\"#bd3786\"],[0.5555555555555556,\"#d8576b\"],[0.6666666666666666,\"#ed7953\"],[0.7777777777777778,\"#fb9f3a\"],[0.8888888888888888,\"#fdca26\"],[1.0,\"#f0f921\"]],\"sequentialminus\":[[0.0,\"#0d0887\"],[0.1111111111111111,\"#46039f\"],[0.2222222222222222,\"#7201a8\"],[0.3333333333333333,\"#9c179e\"],[0.4444444444444444,\"#bd3786\"],[0.5555555555555556,\"#d8576b\"],[0.6666666666666666,\"#ed7953\"],[0.7777777777777778,\"#fb9f3a\"],[0.8888888888888888,\"#fdca26\"],[1.0,\"#f0f921\"]],\"diverging\":[[0,\"#8e0152\"],[0.1,\"#c51b7d\"],[0.2,\"#de77ae\"],[0.3,\"#f1b6da\"],[0.4,\"#fde0ef\"],[0.5,\"#f7f7f7\"],[0.6,\"#e6f5d0\"],[0.7,\"#b8e186\"],[0.8,\"#7fbc41\"],[0.9,\"#4d9221\"],[1,\"#276419\"]]},\"xaxis\":{\"gridcolor\":\"white\",\"linecolor\":\"white\",\"ticks\":\"\",\"title\":{\"standoff\":15},\"zerolinecolor\":\"white\",\"automargin\":true,\"zerolinewidth\":2},\"yaxis\":{\"gridcolor\":\"white\",\"linecolor\":\"white\",\"ticks\":\"\",\"title\":{\"standoff\":15},\"zerolinecolor\":\"white\",\"automargin\":true,\"zerolinewidth\":2},\"scene\":{\"xaxis\":{\"backgroundcolor\":\"#E5ECF6\",\"gridcolor\":\"white\",\"linecolor\":\"white\",\"showbackground\":true,\"ticks\":\"\",\"zerolinecolor\":\"white\",\"gridwidth\":2},\"yaxis\":{\"backgroundcolor\":\"#E5ECF6\",\"gridcolor\":\"white\",\"linecolor\":\"white\",\"showbackground\":true,\"ticks\":\"\",\"zerolinecolor\":\"white\",\"gridwidth\":2},\"zaxis\":{\"backgroundcolor\":\"#E5ECF6\",\"gridcolor\":\"white\",\"linecolor\":\"white\",\"showbackground\":true,\"ticks\":\"\",\"zerolinecolor\":\"white\",\"gridwidth\":2}},\"shapedefaults\":{\"line\":{\"color\":\"#2a3f5f\"}},\"annotationdefaults\":{\"arrowcolor\":\"#2a3f5f\",\"arrowhead\":0,\"arrowwidth\":1},\"geo\":{\"bgcolor\":\"white\",\"landcolor\":\"#E5ECF6\",\"subunitcolor\":\"white\",\"showland\":true,\"showlakes\":true,\"lakecolor\":\"white\"},\"title\":{\"x\":0.05},\"mapbox\":{\"style\":\"light\"}}},\"title\":{\"text\":\"L0 vs Fraction Recovered\"},\"xaxis\":{\"title\":{\"text\":\"L0\"}},\"yaxis\":{\"title\":{\"text\":\"Fraction Recovered\"}},\"hovermode\":\"closest\"},                        {\"responsive\": true}                    ).then(function(){\n",
       "                            \n",
       "var gd = document.getElementById('6795dd29-c6b5-44b8-b5b5-df5b68546f74');\n",
       "var x = new MutationObserver(function (mutations, observer) {{\n",
       "        var display = window.getComputedStyle(gd).display;\n",
       "        if (!display || display === 'none') {{\n",
       "            console.log([gd, 'removed!']);\n",
       "            Plotly.purge(gd);\n",
       "            observer.disconnect();\n",
       "        }}\n",
       "}});\n",
       "\n",
       "// Listen for the removal of the full notebook cells\n",
       "var notebookContainer = gd.closest('#notebook-container');\n",
       "if (notebookContainer) {{\n",
       "    x.observe(notebookContainer, {childList: true});\n",
       "}}\n",
       "\n",
       "// Listen for the clearing of the current output cell\n",
       "var outputEl = gd.closest('.output');\n",
       "if (outputEl) {{\n",
       "    x.observe(outputEl, {childList: true});\n",
       "}}\n",
       "\n",
       "                        })                };                });            </script>        </div>"
      ]
     },
     "metadata": {},
     "output_type": "display_data"
    }
   ],
   "source": [
    "def get_spurious_correlation_plotting_dict(\n",
    "    ae_paths: list[str],\n",
    "    threshold: float,\n",
    "    ablated_probe_class_id: str,\n",
    "    eval_probe_class_id: str,\n",
    "    eval_data_class_id: str,\n",
    "    filename_counter: str,\n",
    "    acc_key: str = \"acc\",\n",
    ") -> tuple[dict[str, dict[str, float]], float]:\n",
    "    results = {}\n",
    "    orig_acc = None\n",
    "\n",
    "    for ae_path in ae_paths:\n",
    "        eval_results_file = f\"{ae_path}/eval_results.json\"\n",
    "\n",
    "        if not os.path.exists(eval_results_file):\n",
    "            print(f\"Warning: {eval_results_file} does not exist.\")\n",
    "            continue\n",
    "\n",
    "        with open(eval_results_file, \"r\") as f:\n",
    "            eval_results = json.load(f)\n",
    "\n",
    "        l0 = eval_results[\"l0\"]\n",
    "        frac_recovered = eval_results[\"frac_recovered\"]\n",
    "\n",
    "        results[ae_path] = {\n",
    "            \"l0\": l0,\n",
    "            \"frac_recovered\": frac_recovered,\n",
    "        }\n",
    "\n",
    "        config_file = f\"{ae_path}/config.json\"\n",
    "\n",
    "        with open(config_file, \"r\") as f:\n",
    "            config = json.load(f)\n",
    "\n",
    "        trainer_class = config[\"trainer\"][\"trainer_class\"]\n",
    "        results[ae_path][\"trainer_class\"] = trainer_class\n",
    "        results[ae_path][\"l1_penalty\"] = get_sparsity_penalty(config, trainer_class)\n",
    "\n",
    "        results[ae_path][\"lr\"] = config[\"trainer\"][\"lr\"]\n",
    "        results[ae_path][\"dict_size\"] = config[\"trainer\"][\"dict_size\"]\n",
    "        if \"steps\" in config[\"trainer\"]:\n",
    "            results[ae_path][\"steps\"] = config[\"trainer\"][\"steps\"]\n",
    "\n",
    "        class_accuracies_file = f\"{ae_path}/class_accuracies{filename_counter}.pkl\"\n",
    "\n",
    "        if not os.path.exists(class_accuracies_file):\n",
    "            print(\n",
    "                f\"Warning: {class_accuracies_file} does not exist. Removing this path from results.\"\n",
    "            )\n",
    "            del results[ae_path]\n",
    "            continue\n",
    "\n",
    "        with open(class_accuracies_file, \"rb\") as f:\n",
    "            class_accuracies = pickle.load(f)\n",
    "\n",
    "        # for class_id in class_accuracies['clean_acc']:\n",
    "        #     print(class_id, class_accuracies['clean_acc'][class_id])\n",
    "\n",
    "        combined_class_name = f\"{eval_probe_class_id} probe on {eval_data_class_id} data\"\n",
    "\n",
    "        original_acc = class_accuracies[\"clean_acc\"][combined_class_name][\"acc\"]\n",
    "        if orig_acc is None:\n",
    "            orig_acc = original_acc\n",
    "        print(f\"Original acc: {original_acc}\")\n",
    "\n",
    "        changed_acc = class_accuracies[ablated_probe_class_id][threshold][combined_class_name][\n",
    "            acc_key\n",
    "        ]\n",
    "\n",
    "        results[ae_path][\"average_diff\"] = changed_acc\n",
    "    return results, orig_acc\n",
    "\n",
    "\n",
    "ablated_probe_class_id = \"male / female\"\n",
    "# ablated_probe_class_id = \"professor / nurse\"\n",
    "# ablated_probe_class_id = \"male_professor / female_nurse\"\n",
    "eval_probe_class_id = \"male_professor / female_nurse\"\n",
    "eval_probe_class_id = \"male_professor / female_nurse\"\n",
    "# eval_probe_class_id = \"biased_male / biased_female\"\n",
    "# ablated_probe_class_id = eval_probe_class_id\n",
    "eval_data_class_id = \"professor / nurse\"\n",
    "eval_data_class_id = \"male / female\"\n",
    "\n",
    "threshold = 20\n",
    "\n",
    "filename_filter = \"_attrib\"\n",
    "# filename_filter = \"_auto_interp\"\n",
    "# filename_filter = \"_bias_shift_dir2\"\n",
    "\n",
    "attrib_dir = 2\n",
    "\n",
    "if  \"_bias_shift\" in filename_filter:\n",
    "    ablated_probe_class_id = eval_probe_class_id\n",
    "\n",
    "    if filename_filter == \"_bias_shift_dir1\":\n",
    "        title = f\"\"\"Ablating Top {threshold} gender features to increase profession accuracy.\"\"\"\n",
    "        eval_data_class_id = \"professor / nurse\"\n",
    "    elif filename_filter == \"_bias_shift_dir2\":\n",
    "        title = f\"\"\"Ablating Top {threshold} profession features to increase gender accuracy.\"\"\"\n",
    "        eval_data_class_id = \"male / female\"\n",
    "    else:\n",
    "        raise ValueError(\"Invalid filename filter.\")\n",
    "    title += \"\\nFiltering features with auto-interp.\"\n",
    "else:\n",
    "    if attrib_dir == 1:\n",
    "        ablated_probe_class_id = \"male / female\"\n",
    "        eval_data_class_id = \"professor / nurse\"\n",
    "        title = f\"\"\"Ablating Top {threshold} gender features to increase profession accuracy.\"\"\"\n",
    "    elif attrib_dir == 2:\n",
    "        ablated_probe_class_id = \"professor / nurse\"\n",
    "        eval_data_class_id = \"male / female\"\n",
    "        title = f\"\"\"Ablating Top {threshold} profession features to increase gender accuracy.\"\"\"\n",
    "    else:\n",
    "        raise ValueError(\"Invalid attrib_dir.\")\n",
    "\n",
    "\n",
    "\n",
    "spurious_correlation_results, original_acc = get_spurious_correlation_plotting_dict(\n",
    "    ae_paths,\n",
    "    threshold,\n",
    "    ablated_probe_class_id,\n",
    "    eval_probe_class_id,\n",
    "    eval_data_class_id,\n",
    "    filename_filter,\n",
    "    \"acc\",\n",
    ")\n",
    "\n",
    "# title += f\"\\nOriginal Accuracy: {original_acc:.4f}\"\n",
    "\n",
    "l0_threshold = None\n",
    "# l0_threshold = 500\n",
    "\n",
    "custom_metric1 = \"average_diff\"\n",
    "\n",
    "spurious_correlation_results = filter_by_l0_threshold(spurious_correlation_results, l0_threshold)\n",
    "\n",
    "plot_3var_graph(\n",
    "    spurious_correlation_results, title, custom_metric1, colorbar_label=\"Probe Accuracy\"\n",
    ")\n",
    "plot_interactive_3var_graph(spurious_correlation_results, custom_metric1)\n",
    "# plot_3var_graph(results_acc0, title, custom_metric1)\n",
    "# plot_3var_graph(results, title, custom_metric3)"
   ]
  },
  {
   "cell_type": "code",
   "execution_count": 308,
   "metadata": {},
   "outputs": [
    {
     "name": "stdout",
     "output_type": "stream",
     "text": [
      "Original acc: 0.5949999690055847\n"
     ]
    },
    {
     "data": {
      "image/png": "[encoded data removed]",
      "text/plain": [
       "<Figure size 1200x600 with 1 Axes>"
      ]
     },
     "metadata": {},
     "output_type": "display_data"
    }
   ],
   "source": [
    "import matplotlib.pyplot as plt\n",
    "import numpy as np\n",
    "from typing import Optional\n",
    "from collections import defaultdict\n",
    "\n",
    "def plot_steps_vs_average_diff(\n",
    "    results_dict: dict,\n",
    "    steps_key: str = \"steps\",\n",
    "    avg_diff_key: str = \"average_diff\",\n",
    "    title: Optional[str] = None,\n",
    "    y_label: Optional[str] = None,\n",
    "):\n",
    "    # Initialize a defaultdict to store data for each trainer\n",
    "    trainer_data = defaultdict(lambda: {'steps': [], 'average_diffs': []})\n",
    "\n",
    "    all_steps = set()\n",
    "\n",
    "    # Extract data from the dictionary\n",
    "    for key, value in results_dict.items():\n",
    "        # Extract trainer number from the key\n",
    "        trainer = key.split('/')[-1].split('_')[1]  # Assuming format like \"trainer_1_...\"\n",
    "        layer = key.split('/')[-2].split('_')[-2]\n",
    "        step = int(value[steps_key])\n",
    "        avg_diff = value[avg_diff_key]\n",
    "\n",
    "        trainer_key = f\"Layer {layer} Trainer {trainer}\"\n",
    "\n",
    "        trainer_data[trainer_key]['steps'].append(step)\n",
    "        trainer_data[trainer_key]['average_diffs'].append(avg_diff)\n",
    "        all_steps.add(step)\n",
    "\n",
    "    # Calculate average across all trainers\n",
    "    average_trainer_data = {'steps': [], 'average_diffs': []}\n",
    "    for step in sorted(all_steps):\n",
    "        step_diffs = []\n",
    "        for data in trainer_data.values():\n",
    "            if step in data['steps']:\n",
    "                idx = data['steps'].index(step)\n",
    "                step_diffs.append(data['average_diffs'][idx])\n",
    "        if step_diffs:\n",
    "            average_trainer_data['steps'].append(step)\n",
    "            average_trainer_data['average_diffs'].append(np.mean(step_diffs))\n",
    "\n",
    "    # Add average_trainer_data to trainer_data\n",
    "    trainer_data['Average'] = average_trainer_data\n",
    "\n",
    "    # Create the plot\n",
    "    plt.figure(figsize=(12, 6))\n",
    "\n",
    "    # Plot data for each trainer\n",
    "    for trainer_key, data in trainer_data.items():\n",
    "        steps = data['steps']\n",
    "        average_diffs = data['average_diffs']\n",
    "\n",
    "        # Sort the data by steps to ensure proper ordering\n",
    "        sorted_data = sorted(zip(steps, average_diffs))\n",
    "        steps, average_diffs = zip(*sorted_data)\n",
    "\n",
    "        # Find the maximum step value for this trainer\n",
    "        max_step = max(steps)\n",
    "\n",
    "        # Convert steps to percentages of max_step\n",
    "        step_percentages = [step / max_step * 100 for step in steps]\n",
    "\n",
    "        # Plot the line for this trainer\n",
    "        if trainer_key == 'Average':\n",
    "            plt.plot(step_percentages, average_diffs, marker=\"o\", label=trainer_key, \n",
    "                     linewidth=3, color='red', zorder=10)  # Emphasized average line\n",
    "        else:\n",
    "            plt.plot(step_percentages, average_diffs, marker=\"o\", label=trainer_key, \n",
    "                     alpha=0.3, linewidth=1)  # More transparent individual lines\n",
    "\n",
    "    if not title:\n",
    "        title = f'{steps_key.capitalize()} vs {avg_diff_key.replace(\"_\", \" \").capitalize()}'\n",
    "\n",
    "    if not y_label:\n",
    "        y_label = avg_diff_key.replace(\"_\", \" \").capitalize()\n",
    "\n",
    "    plt.xlabel(\"Checkpoint at x% of SAE training run\")\n",
    "    plt.ylabel(y_label)\n",
    "    plt.title(title)\n",
    "    plt.grid(True, alpha=0.3)  # More transparent grid\n",
    "\n",
    "    plt.legend(bbox_to_anchor=(1.05, 1), loc='upper left', borderaxespad=0.)\n",
    "\n",
    "    # Adjust layout to prevent clipping of tick-labels\n",
    "    plt.tight_layout()\n",
    "\n",
    "    # Show the plot\n",
    "    plt.show()\n",
    "\n",
    "# Example usage:\n",
    "# checkpoints_title = \"Training steps vs Decrease in Probe Accuracy\"\n",
    "y_label = \"Probe Accuracy Decrease\"\n",
    "\n",
    "# try:\n",
    "#     plot_steps_vs_average_diff(plotting_results, title=checkpoints_title, y_label=y_label)\n",
    "# except Exception as e:\n",
    "#     print(f\"Error plotting: {e}\")\n",
    "\n",
    "print(f\"Original acc: {original_acc}\")\n",
    "\n",
    "# If your keys are different, you can specify them:\n",
    "plot_steps_vs_average_diff(\n",
    "    spurious_correlation_results,\n",
    "    steps_key=\"steps\",\n",
    "    avg_diff_key=custom_metric1,\n",
    "    title=title,\n",
    "    y_label=y_label,\n",
    ")"
   ]
  },
  {
   "cell_type": "code",
   "execution_count": 309,
   "metadata": {},
   "outputs": [
    {
     "data": {
      "image/png": "[encoded data removed]",
      "text/plain": [
       "<Figure size 1200x600 with 1 Axes>"
      ]
     },
     "metadata": {},
     "output_type": "display_data"
    }
   ],
   "source": [
    "\n",
    "# tpp_title = f\"Decrease in probe accuracy for Targeted Probe Perturbation\"\n",
    "\n",
    "# plot_steps_vs_average_diff(\n",
    "#     results_acc,\n",
    "#     steps_key=\"steps\",\n",
    "#     avg_diff_key=custom_metric1,\n",
    "#     title=tpp_title,\n",
    "#     y_label=y_label,\n",
    "# )"
   ]
  },
  {
   "cell_type": "code",
   "execution_count": null,
   "metadata": {},
   "outputs": [],
   "source": []
  }
 ],
 "metadata": {
  "kernelspec": {
   "display_name": "shift",
   "language": "python",
   "name": "python3"
  },
  "language_info": {
   "codemirror_mode": {
    "name": "ipython",
    "version": 3
   },
   "file_extension": ".py",
   "mimetype": "text/x-python",
   "name": "python",
   "nbconvert_exporter": "python",
   "pygments_lexer": "ipython3",
   "version": "3.10.13"
  }
 },
 "nbformat": 4,
 "nbformat_minor": 2
}
