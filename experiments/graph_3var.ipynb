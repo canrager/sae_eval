{
 "cells": [
  {
   "cell_type": "code",
   "execution_count": 128,
   "metadata": {},
   "outputs": [],
   "source": [
    "import matplotlib.pyplot as plt\n",
    "import json\n",
    "import torch\n",
    "import pickle\n",
    "from typing import Optional\n",
    "from matplotlib.colors import Normalize\n",
    "import numpy as np\n",
    "import os\n",
    "\n",
    "import experiments.utils as utils\n",
    "\n",
    "\n",
    "DICTIONARIES_PATH = \"../dictionary_learning/dictionaries\"\n",
    "# DICTIONARIES_PATH = \"../dictionary_learning/dictionaries/gemma-2-2b-saved-data\"\n",
    "# DICTIONARIES_PATH = \"../dictionary_learning/dictionaries/pythia70m-autointerp-results\""
   ]
  },
  {
   "cell_type": "code",
   "execution_count": 129,
   "metadata": {},
   "outputs": [],
   "source": [
    "# There's a potential issue as we currently assume that all SAEs have the same classes.\n",
    "\n",
    "\n",
    "def get_classes(first_path: str) -> list[int]:\n",
    "    class_accuracies_file = f\"{first_path}/class_accuracies.pkl\"\n",
    "    with open(class_accuracies_file, \"rb\") as f:\n",
    "        class_accuracies = pickle.load(f)\n",
    "    return list(class_accuracies[\"clean_acc\"].keys())\n",
    "\n",
    "\n",
    "def get_sparsity_penalty(config: dict, trainer_class: str) -> float:\n",
    "    if trainer_class == \"TrainerTopK\":\n",
    "        return config[\"trainer\"][\"k\"]\n",
    "    elif trainer_class == \"PAnnealTrainer\":\n",
    "        return config[\"trainer\"][\"sparsity_penalty\"]\n",
    "    else:\n",
    "        return config[\"trainer\"][\"l1_penalty\"]\n",
    "\n",
    "\n",
    "def get_l0_frac_recovered(ae_paths: list[str]) -> dict[str, dict[str, float]]:\n",
    "    results = {}\n",
    "    for ae_path in ae_paths:\n",
    "        eval_results_file = f\"{ae_path}/eval_results.json\"\n",
    "        if not os.path.exists(eval_results_file):\n",
    "            print(f\"Warning: {eval_results_file} does not exist.\")\n",
    "            continue\n",
    "\n",
    "        with open(eval_results_file, \"r\") as f:\n",
    "            eval_results = json.load(f)\n",
    "\n",
    "        l0 = eval_results[\"l0\"]\n",
    "        frac_recovered = eval_results[\"frac_recovered\"]\n",
    "\n",
    "        results[ae_path] = {\n",
    "            \"l0\": l0,\n",
    "            \"frac_recovered\": frac_recovered,\n",
    "        }\n",
    "\n",
    "    return results\n",
    "\n",
    "\n",
    "def add_ae_config_results(\n",
    "    ae_paths: list[str], results: dict[str, dict[str, float]]\n",
    ") -> dict[str, dict[str, float]]:\n",
    "    for ae_path in ae_paths:\n",
    "        config_file = f\"{ae_path}/config.json\"\n",
    "\n",
    "        with open(config_file, \"r\") as f:\n",
    "            config = json.load(f)\n",
    "\n",
    "        trainer_class = config[\"trainer\"][\"trainer_class\"]\n",
    "        results[ae_path][\"trainer_class\"] = trainer_class\n",
    "        results[ae_path][\"l1_penalty\"] = get_sparsity_penalty(config, trainer_class)\n",
    "\n",
    "        results[ae_path][\"lr\"] = config[\"trainer\"][\"lr\"]\n",
    "        results[ae_path][\"dict_size\"] = config[\"trainer\"][\"dict_size\"]\n",
    "        if \"steps\" in config[\"trainer\"]:\n",
    "            results[ae_path][\"steps\"] = config[\"trainer\"][\"steps\"]\n",
    "\n",
    "    return results\n",
    "\n",
    "\n",
    "def add_ablation_diff_plotting_dict(\n",
    "    ae_paths: list[str],\n",
    "    results: dict[str, dict[str, float]],\n",
    "    threshold: float,\n",
    "    intended_filter_class_ids: list[int],\n",
    "    unintended_filter_class_ids: list[int],\n",
    "    filename_counter: str,\n",
    "    acc_key: str = \"acc\",\n",
    ") -> dict:\n",
    "    for ae_path in ae_paths:\n",
    "        intended_diffs = []\n",
    "        unintended_diffs = []\n",
    "\n",
    "        class_accuracies_file = f\"{ae_path}/class_accuracies{filename_counter}.pkl\"\n",
    "\n",
    "        if not os.path.exists(class_accuracies_file):\n",
    "            print(\n",
    "                f\"Warning: {class_accuracies_file} does not exist. Removing this path from results.\"\n",
    "            )\n",
    "            del results[ae_path]\n",
    "            continue\n",
    "\n",
    "        with open(class_accuracies_file, \"rb\") as f:\n",
    "            class_accuracies = pickle.load(f)\n",
    "\n",
    "        classes = list(class_accuracies[\"clean_acc\"].keys())\n",
    "\n",
    "        # print(class_accuracies)\n",
    "        # for class_id in classes:\n",
    "        #     print(class_accuracies[\"clean_acc\"][class_id][\"acc\"])\n",
    "\n",
    "        for class_id in classes:\n",
    "            if isinstance(class_id, str) and \" probe on \" in class_id:\n",
    "                continue\n",
    "\n",
    "            if intended_filter_class_ids and class_id not in intended_filter_class_ids:\n",
    "                continue\n",
    "\n",
    "            clean = class_accuracies[\"clean_acc\"][class_id][\"acc\"]\n",
    "            # print(ae_path)\n",
    "            # print(class_accuracies[class_id])\n",
    "            patched = class_accuracies[class_id][threshold][class_id][acc_key]\n",
    "\n",
    "            diff = clean - patched\n",
    "            intended_diffs.append(diff)\n",
    "\n",
    "        for intended_class_id in classes:\n",
    "            if isinstance(intended_class_id, str) and \" probe on \" in intended_class_id:\n",
    "                continue\n",
    "\n",
    "            if intended_filter_class_ids and intended_class_id not in intended_filter_class_ids:\n",
    "                continue\n",
    "\n",
    "            for unintended_class_id in classes:\n",
    "                if intended_class_id == unintended_class_id:\n",
    "                    continue\n",
    "\n",
    "                if (\n",
    "                    unintended_filter_class_ids\n",
    "                    and unintended_class_id not in unintended_filter_class_ids\n",
    "                ):\n",
    "                    continue\n",
    "\n",
    "                if isinstance(unintended_class_id, str) and \" probe on \" in unintended_class_id:\n",
    "                    continue\n",
    "\n",
    "                clean = class_accuracies[\"clean_acc\"][unintended_class_id][\"acc\"]\n",
    "                patched = class_accuracies[intended_class_id][threshold][unintended_class_id][\n",
    "                    acc_key\n",
    "                ]\n",
    "                diff = clean - patched\n",
    "                unintended_diffs.append(diff)\n",
    "\n",
    "        average_intended_diff = sum(intended_diffs) / len(intended_diffs)\n",
    "        average_unintended_diff = sum(unintended_diffs) / len(unintended_diffs)\n",
    "        average_diff = average_intended_diff - average_unintended_diff\n",
    "\n",
    "        results[ae_path][\"average_diff\"] = average_diff\n",
    "        results[ae_path][\"average_intended_diff\"] = average_intended_diff\n",
    "        results[ae_path][\"average_unintended_diff\"] = average_unintended_diff\n",
    "\n",
    "    return results\n"
   ]
  },
  {
   "cell_type": "code",
   "execution_count": 130,
   "metadata": {},
   "outputs": [],
   "source": [
    "def filter_by_l0_threshold(results: dict, l0_threshold: Optional[int]) -> dict:\n",
    "    if l0_threshold is not None:\n",
    "        filtered_results = {\n",
    "            path: data for path, data in results.items() if data[\"l0\"] <= l0_threshold\n",
    "        }\n",
    "\n",
    "        # Optional: Print how many results were filtered out\n",
    "        filtered_count = len(results) - len(filtered_results)\n",
    "        print(f\"Filtered out {filtered_count} results with L0 > {l0_threshold}\")\n",
    "\n",
    "        # Replace the original results with the filtered results\n",
    "        results = filtered_results\n",
    "    return results"
   ]
  },
  {
   "cell_type": "code",
   "execution_count": 131,
   "metadata": {},
   "outputs": [],
   "source": [
    "# “Gated SAE”, “Gated SAE w/ p-annealing”, “Standard”, “Standard w/ p-annealing”\n",
    "label_lookup = {\n",
    "    \"StandardTrainer\": \"Standard\",\n",
    "    # \"PAnnealTrainer\": \"Standard w/ p-annealing\",\n",
    "    # \"GatedSAETrainer\": \"Gated SAE\",\n",
    "    \"TrainerJumpRelu\": \"JumpReLU\",\n",
    "    # \"GatedAnnealTrainer\": \"Gated SAE w/ p-annealing\",\n",
    "    \"TrainerTopK\": \"Top K\",\n",
    "    # \"Identity\": \"Identity\",\n",
    "}\n",
    "\n",
    "unique_trainers = list(label_lookup.keys())\n",
    "\n",
    "# create a dictionary mapping trainer types to marker shapes\n",
    "\n",
    "trainer_markers = {\n",
    "    \"StandardTrainer\": \"o\",\n",
    "    \"TrainerJumpRelu\": \"X\",\n",
    "    \"TrainerTopK\": \"^\",\n",
    "    \"GatedSAETrainer\": \"d\",\n",
    "}\n",
    "\n",
    "\n",
    "# default text size\n",
    "plt.rcParams.update({\"font.size\": 16})\n",
    "\n",
    "\n",
    "def plot_3var_graph(\n",
    "    results: dict,\n",
    "    title: str,\n",
    "    custom_metric: str,\n",
    "    xlims: Optional[tuple[float, float]] = None,\n",
    "    ylims: Optional[tuple[float, float]] = None,\n",
    "    colorbar_label: str = \"Average Diff\",\n",
    "    output_filename: Optional[str] = None,\n",
    "    legend_location: str = \"lower right\",\n",
    "):\n",
    "    # Extract data from results\n",
    "    l0_values = [data[\"l0\"] for data in results.values()]\n",
    "    frac_recovered_values = [data[\"frac_recovered\"] for data in results.values()]\n",
    "    average_diff_values = [data[custom_metric] for data in results.values()]\n",
    "\n",
    "    # Create the scatter plot\n",
    "    fig, ax = plt.subplots(figsize=(10, 6))\n",
    "\n",
    "    # Create a normalize object for color scaling\n",
    "    norm = Normalize(vmin=min(average_diff_values), vmax=max(average_diff_values))\n",
    "\n",
    "    handles, labels = [], []\n",
    "\n",
    "    for trainer, marker in trainer_markers.items():\n",
    "        # Filter data for this trainer\n",
    "        trainer_data = {k: v for k, v in results.items() if v[\"trainer_class\"] == trainer}\n",
    "\n",
    "        if not trainer_data:\n",
    "            continue  # Skip this trainer if no data points\n",
    "\n",
    "        l0_values = [data[\"l0\"] for data in trainer_data.values()]\n",
    "        frac_recovered_values = [data[\"frac_recovered\"] for data in trainer_data.values()]\n",
    "        average_diff_values = [data[custom_metric] for data in trainer_data.values()]\n",
    "\n",
    "        # Plot data points\n",
    "        scatter = ax.scatter(\n",
    "            l0_values,\n",
    "            frac_recovered_values,\n",
    "            c=average_diff_values,\n",
    "            cmap=\"viridis\",\n",
    "            marker=marker,\n",
    "            s=100,\n",
    "            label=label_lookup[trainer],\n",
    "            norm=norm,\n",
    "            edgecolor=\"black\",\n",
    "        )\n",
    "\n",
    "        # custom legend stuff\n",
    "        _handle, _ = scatter.legend_elements(prop=\"sizes\")\n",
    "        _handle[0].set_markeredgecolor(\"black\")\n",
    "        _handle[0].set_markerfacecolor(\"white\")\n",
    "        _handle[0].set_markersize(10)\n",
    "        if marker == \"d\":\n",
    "            _handle[0].set_markersize(13)\n",
    "        handles += _handle\n",
    "        labels.append(label_lookup[trainer])\n",
    "\n",
    "    # Add colorbar\n",
    "    cbar = fig.colorbar(scatter, ax=ax, label=colorbar_label)\n",
    "\n",
    "    # Set labels and title\n",
    "    ax.set_xlabel(\"L0\")\n",
    "    ax.set_ylabel(\"Fraction Recovered\")\n",
    "    ax.set_title(title)\n",
    "\n",
    "    ax.legend(handles, labels, loc=legend_location)\n",
    "\n",
    "    # Set axis limits\n",
    "    if xlims:\n",
    "        ax.set_xlim(*xlims)\n",
    "    if ylims:\n",
    "        ax.set_ylim(*ylims)\n",
    "\n",
    "    plt.tight_layout()\n",
    "\n",
    "    # Save and show the plot\n",
    "    if output_filename:\n",
    "        plt.savefig(output_filename, bbox_inches=\"tight\")\n",
    "    plt.show()\n",
    "\n",
    "\n",
    "# print(results)\n",
    "# if include_diff:\n",
    "# plot_3var_graph(results)\n"
   ]
  },
  {
   "cell_type": "code",
   "execution_count": 132,
   "metadata": {},
   "outputs": [],
   "source": [
    "import plotly.graph_objects as go\n",
    "from typing import Optional, Dict, Any\n",
    "\n",
    "\n",
    "def plot_interactive_3var_graph(\n",
    "    results: Dict[str, Dict[str, float]],\n",
    "    custom_color_metric: str,\n",
    "    xlims: Optional[tuple[float, float]] = None,\n",
    "    y_lims: Optional[tuple[float, float]] = None,\n",
    "    output_filename: Optional[str] = None,\n",
    "):\n",
    "    # Extract data from results\n",
    "    ae_paths = list(results.keys())\n",
    "    l0_values = [data[\"l0\"] for data in results.values()]\n",
    "    frac_recovered_values = [data[\"frac_recovered\"] for data in results.values()]\n",
    "\n",
    "    custom_metric_value = [data[custom_color_metric] for data in results.values()]\n",
    "\n",
    "    dict_size = [data[\"dict_size\"] for data in results.values()]\n",
    "    lr = [data[\"lr\"] for data in results.values()]\n",
    "    l1_penalty = [data[\"l1_penalty\"] for data in results.values()]\n",
    "\n",
    "    # Create the scatter plot\n",
    "    fig = go.Figure()\n",
    "\n",
    "    # Add trace\n",
    "    fig.add_trace(\n",
    "        go.Scatter(\n",
    "            x=l0_values,\n",
    "            y=frac_recovered_values,\n",
    "            mode=\"markers\",\n",
    "            marker=dict(\n",
    "                size=10,\n",
    "                color=custom_metric_value,  # Color points based on frac_recovered\n",
    "                colorscale=\"Viridis\",  # You can change this colorscale\n",
    "                showscale=True,\n",
    "            ),\n",
    "            text=[\n",
    "                f\"AE Path: {ae}<br>L0: {l0:.4f}<br>Frac Recovered: {fr:.4f}<br>Custom Metric: {ad:.4f}<br>Dict Size: {d:.4f}<br>LR: {l:.4f}<br>L1 Penalty: {l1:.4f}\"\n",
    "                for ae, l0, fr, ad, d, l, l1 in zip(\n",
    "                    ae_paths,\n",
    "                    l0_values,\n",
    "                    frac_recovered_values,\n",
    "                    custom_metric_value,\n",
    "                    dict_size,\n",
    "                    lr,\n",
    "                    l1_penalty,\n",
    "                )\n",
    "            ],\n",
    "            hoverinfo=\"text\",\n",
    "        )\n",
    "    )\n",
    "\n",
    "    # Update layout\n",
    "    fig.update_layout(\n",
    "        title=\"L0 vs Fraction Recovered\",\n",
    "        xaxis_title=\"L0\",\n",
    "        yaxis_title=\"Fraction Recovered\",\n",
    "        hovermode=\"closest\",\n",
    "    )\n",
    "\n",
    "    # Set axis limits\n",
    "    if xlims:\n",
    "        fig.update_xaxes(range=xlims)\n",
    "    if y_lims:\n",
    "        fig.update_yaxes(range=y_lims)\n",
    "\n",
    "    # Save and show the plot\n",
    "    if output_filename:\n",
    "        fig.write_html(output_filename)\n",
    "\n",
    "    fig.show()\n",
    "\n",
    "\n",
    "# Example usage:\n",
    "# plot_interactive_3var_graph(results)"
   ]
  },
  {
   "cell_type": "code",
   "execution_count": 133,
   "metadata": {},
   "outputs": [],
   "source": [
    "def plot_2var_graph(\n",
    "    results: dict,\n",
    "    custom_metric: str,\n",
    "    title: str = \"L0 vs Custom Metric\",\n",
    "    y_label: str = \"Custom Metric\",\n",
    "    xlims: Optional[tuple[float, float]] = None,\n",
    "    ylims: Optional[tuple[float, float]] = None,\n",
    "    output_filename: Optional[str] = None,\n",
    "    legend_location: str = \"lower right\",\n",
    "):\n",
    "    # Extract data from results\n",
    "    l0_values = [data[\"l0\"] for data in results.values()]\n",
    "    custom_metric_values = [data[custom_metric] for data in results.values()]\n",
    "\n",
    "    # Create the scatter plot\n",
    "    fig, ax = plt.subplots(figsize=(10, 6))\n",
    "\n",
    "    handles, labels = [], []\n",
    "\n",
    "    for trainer, marker in trainer_markers.items():\n",
    "        # Filter data for this trainer\n",
    "        trainer_data = {k: v for k, v in results.items() if v[\"trainer_class\"] == trainer}\n",
    "\n",
    "        if not trainer_data:\n",
    "            continue  # Skip this trainer if no data points\n",
    "\n",
    "        l0_values = [data[\"l0\"] for data in trainer_data.values()]\n",
    "        custom_metric_values = [data[custom_metric] for data in trainer_data.values()]\n",
    "\n",
    "        # Plot data points\n",
    "        scatter = ax.scatter(\n",
    "            l0_values,\n",
    "            custom_metric_values,\n",
    "            marker=marker,\n",
    "            s=100,\n",
    "            label=label_lookup[trainer],\n",
    "            edgecolor=\"black\",\n",
    "        )\n",
    "\n",
    "        # custom legend stuff\n",
    "        _handle, _ = scatter.legend_elements(prop=\"sizes\")\n",
    "        _handle[0].set_markeredgecolor(\"black\")\n",
    "        _handle[0].set_markerfacecolor(\"white\")\n",
    "        _handle[0].set_markersize(10)\n",
    "        if marker == \"d\":\n",
    "            _handle[0].set_markersize(13)\n",
    "        handles += _handle\n",
    "        labels.append(label_lookup[trainer])\n",
    "\n",
    "    # Set labels and title\n",
    "    ax.set_xlabel(\"L0\")\n",
    "    ax.set_ylabel(y_label)\n",
    "    ax.set_title(title)\n",
    "\n",
    "    ax.legend(handles, labels, loc=legend_location)\n",
    "\n",
    "    # Set axis limits\n",
    "    if xlims:\n",
    "        ax.set_xlim(*xlims)\n",
    "    if ylims:\n",
    "        ax.set_ylim(*ylims)\n",
    "\n",
    "    plt.tight_layout()\n",
    "\n",
    "    # Save and show the plot\n",
    "    if output_filename:\n",
    "        plt.savefig(output_filename, bbox_inches=\"tight\")\n",
    "    plt.show()\n"
   ]
  },
  {
   "cell_type": "code",
   "execution_count": 134,
   "metadata": {},
   "outputs": [],
   "source": [
    "def get_spurious_correlation_plotting_dict(\n",
    "    ae_paths: list[str],\n",
    "    threshold: float,\n",
    "    ablated_probe_class_id: str,\n",
    "    eval_probe_class_id: str,\n",
    "    eval_data_class_id: str,\n",
    "    filename_counter: str,\n",
    "    acc_key: str = \"acc\",\n",
    ") -> tuple[dict[str, dict[str, float]], float]:\n",
    "    results = {}\n",
    "    orig_acc = None\n",
    "\n",
    "    for ae_path in ae_paths:\n",
    "        eval_results_file = f\"{ae_path}/eval_results.json\"\n",
    "\n",
    "        if not os.path.exists(eval_results_file):\n",
    "            print(f\"Warning: {eval_results_file} does not exist.\")\n",
    "            continue\n",
    "\n",
    "        with open(eval_results_file, \"r\") as f:\n",
    "            eval_results = json.load(f)\n",
    "\n",
    "        l0 = eval_results[\"l0\"]\n",
    "        frac_recovered = eval_results[\"frac_recovered\"]\n",
    "\n",
    "        results[ae_path] = {\n",
    "            \"l0\": l0,\n",
    "            \"frac_recovered\": frac_recovered,\n",
    "        }\n",
    "\n",
    "        config_file = f\"{ae_path}/config.json\"\n",
    "\n",
    "        with open(config_file, \"r\") as f:\n",
    "            config = json.load(f)\n",
    "\n",
    "        trainer_class = config[\"trainer\"][\"trainer_class\"]\n",
    "        results[ae_path][\"trainer_class\"] = trainer_class\n",
    "        results[ae_path][\"l1_penalty\"] = get_sparsity_penalty(config, trainer_class)\n",
    "\n",
    "        results[ae_path][\"lr\"] = config[\"trainer\"][\"lr\"]\n",
    "        results[ae_path][\"dict_size\"] = config[\"trainer\"][\"dict_size\"]\n",
    "        if \"steps\" in config[\"trainer\"]:\n",
    "            results[ae_path][\"steps\"] = config[\"trainer\"][\"steps\"]\n",
    "\n",
    "        class_accuracies_file = f\"{ae_path}/class_accuracies{filename_counter}.pkl\"\n",
    "\n",
    "        if not os.path.exists(class_accuracies_file):\n",
    "            print(\n",
    "                f\"Warning: {class_accuracies_file} does not exist. Removing this path from results.\"\n",
    "            )\n",
    "            del results[ae_path]\n",
    "            continue\n",
    "\n",
    "        with open(class_accuracies_file, \"rb\") as f:\n",
    "            class_accuracies = pickle.load(f)\n",
    "\n",
    "        # for class_id in class_accuracies['clean_acc']:\n",
    "        #     print(class_id, class_accuracies['clean_acc'][class_id])\n",
    "\n",
    "        combined_class_name = f\"{eval_probe_class_id} probe on {eval_data_class_id} data\"\n",
    "\n",
    "        original_acc = class_accuracies[\"clean_acc\"][combined_class_name][\"acc\"]\n",
    "        if orig_acc is None:\n",
    "            orig_acc = original_acc\n",
    "            print(f\"Original acc: {original_acc}\")\n",
    "\n",
    "        changed_acc = class_accuracies[ablated_probe_class_id][threshold][combined_class_name][\n",
    "            acc_key\n",
    "        ]\n",
    "\n",
    "        results[ae_path][\"average_diff\"] = changed_acc\n",
    "\n",
    "    if orig_acc is None:\n",
    "        raise ValueError(f\"original_acc not found for {ae_paths}\")\n",
    "    return results, orig_acc\n"
   ]
  },
  {
   "cell_type": "code",
   "execution_count": 135,
   "metadata": {},
   "outputs": [],
   "source": [
    "import matplotlib.pyplot as plt\n",
    "import numpy as np\n",
    "from typing import Optional\n",
    "from collections import defaultdict\n",
    "\n",
    "\n",
    "def plot_steps_vs_average_diff(\n",
    "    results_dict: dict,\n",
    "    steps_key: str = \"steps\",\n",
    "    avg_diff_key: str = \"average_diff\",\n",
    "    title: Optional[str] = None,\n",
    "    y_label: Optional[str] = None,\n",
    "):\n",
    "    # Initialize a defaultdict to store data for each trainer\n",
    "    trainer_data = defaultdict(lambda: {\"steps\": [], \"average_diffs\": []})\n",
    "\n",
    "    all_steps = set()\n",
    "\n",
    "    # Extract data from the dictionary\n",
    "    for key, value in results_dict.items():\n",
    "        # Extract trainer number from the key\n",
    "        trainer = key.split(\"/\")[-1].split(\"_\")[1]  # Assuming format like \"trainer_1_...\"\n",
    "        layer = key.split(\"/\")[-2].split(\"_\")[-2]\n",
    "\n",
    "        if \"topk_ctx128\" in key:\n",
    "            trainer_type = \"TopK SAE\"\n",
    "        elif \"standard_ctx128\" in key:\n",
    "            trainer_type = \"Standard SAE\"\n",
    "        else:\n",
    "            raise ValueError(f\"Unknown trainer type in key: {key}\")\n",
    "\n",
    "        step = int(value[steps_key])\n",
    "        avg_diff = value[avg_diff_key]\n",
    "\n",
    "        trainer_key = f\"{trainer_type} Layer {layer} Trainer {trainer}\"\n",
    "\n",
    "        trainer_data[trainer_key][\"steps\"].append(step)\n",
    "        trainer_data[trainer_key][\"average_diffs\"].append(avg_diff)\n",
    "        all_steps.add(step)\n",
    "\n",
    "    # Calculate average across all trainers\n",
    "    average_trainer_data = {\"steps\": [], \"average_diffs\": []}\n",
    "    for step in sorted(all_steps):\n",
    "        step_diffs = []\n",
    "        for data in trainer_data.values():\n",
    "            if step in data[\"steps\"]:\n",
    "                idx = data[\"steps\"].index(step)\n",
    "                step_diffs.append(data[\"average_diffs\"][idx])\n",
    "        if step_diffs:\n",
    "            average_trainer_data[\"steps\"].append(step)\n",
    "            average_trainer_data[\"average_diffs\"].append(np.mean(step_diffs))\n",
    "\n",
    "    # Add average_trainer_data to trainer_data\n",
    "    trainer_data[\"Average\"] = average_trainer_data\n",
    "\n",
    "    # Create the plot\n",
    "    plt.figure(figsize=(12, 6))\n",
    "\n",
    "    # Plot data for each trainer\n",
    "    for trainer_key, data in trainer_data.items():\n",
    "        steps = data[\"steps\"]\n",
    "        average_diffs = data[\"average_diffs\"]\n",
    "\n",
    "        # Sort the data by steps to ensure proper ordering\n",
    "        sorted_data = sorted(zip(steps, average_diffs))\n",
    "        steps, average_diffs = zip(*sorted_data)\n",
    "\n",
    "        # Find the maximum step value for this trainer\n",
    "        max_step = max(steps)\n",
    "\n",
    "        # Convert steps to percentages of max_step\n",
    "        step_percentages = [step / max_step * 100 for step in steps]\n",
    "\n",
    "        # Plot the line for this trainer\n",
    "        if trainer_key == \"Average\":\n",
    "            plt.plot(\n",
    "                step_percentages,\n",
    "                average_diffs,\n",
    "                marker=\"o\",\n",
    "                label=trainer_key,\n",
    "                linewidth=3,\n",
    "                color=\"red\",\n",
    "                zorder=10,\n",
    "            )  # Emphasized average line\n",
    "        else:\n",
    "            plt.plot(\n",
    "                step_percentages,\n",
    "                average_diffs,\n",
    "                marker=\"o\",\n",
    "                label=trainer_key,\n",
    "                alpha=0.3,\n",
    "                linewidth=1,\n",
    "            )  # More transparent individual lines\n",
    "\n",
    "    if not title:\n",
    "        title = f'{steps_key.capitalize()} vs {avg_diff_key.replace(\"_\", \" \").capitalize()}'\n",
    "\n",
    "    if not y_label:\n",
    "        y_label = avg_diff_key.replace(\"_\", \" \").capitalize()\n",
    "\n",
    "    plt.xlabel(\"Checkpoint at x% of SAE training run\")\n",
    "    plt.ylabel(y_label)\n",
    "    plt.title(title)\n",
    "    plt.grid(True, alpha=0.3)  # More transparent grid\n",
    "\n",
    "    if len(trainer_data) < 5:\n",
    "        plt.legend(bbox_to_anchor=(1.05, 1), loc=\"upper left\", borderaxespad=0.0)\n",
    "\n",
    "    # Adjust layout to prevent clipping of tick-labels\n",
    "    plt.tight_layout()\n",
    "\n",
    "    # Show the plot\n",
    "    plt.show()"
   ]
  },
  {
   "cell_type": "code",
   "execution_count": 136,
   "metadata": {},
   "outputs": [],
   "source": [
    "# Another way to generate graphs, where you manually populate sweep_name and submodule_trainers\n",
    "sweep_name = \"pythia70m_test_sae\"\n",
    "submodule_trainers = {\"resid_post_layer_3\": {\"trainer_ids\": [0]}}\n",
    "\n",
    "# Current recommended way to generate graphs. You can copy paste ae_sweep_paths directly from bib_intervention.py\n",
    "ae_sweep_paths = {\n",
    "    \"pythia70m_sweep_standard_ctx128_0712\": {\"resid_post_layer_3\": {\"trainer_ids\": [1, 7, 11, 18]}}\n",
    "}\n",
    "\n",
    "# trainer_ids = [2, 6, 10, 14, 18]\n",
    "trainer_ids = None\n",
    "\n",
    "ae_sweep_paths = {\n",
    "    \"pythia70m_sweep_standard_ctx128_0712\": {\n",
    "        # \"resid_post_layer_0\": {\"trainer_ids\": None},\n",
    "        # \"resid_post_layer_1\": {\"trainer_ids\": None},\n",
    "        # \"resid_post_layer_2\": {\"trainer_ids\": None},\n",
    "        \"resid_post_layer_3\": {\"trainer_ids\": trainer_ids},\n",
    "        # \"resid_post_layer_4\": {\"trainer_ids\": None},\n",
    "    },\n",
    "    \"pythia70m_sweep_topk_ctx128_0730\": {\n",
    "        # \"resid_post_layer_0\": {\"trainer_ids\": None},\n",
    "        # \"resid_post_layer_1\": {\"trainer_ids\": None},\n",
    "        # \"resid_post_layer_2\": {\"trainer_ids\": None},\n",
    "        # \"resid_post_layer_3\": {\"trainer_ids\": None},\n",
    "        # \"resid_post_layer_4\": {\"trainer_ids\": None},\n",
    "        \"resid_post_layer_3\": {\"trainer_ids\": trainer_ids},\n",
    "    },\n",
    "    # \"pythia70m_sweep_gated_ctx128_0730\": {\n",
    "    #     # \"resid_post_layer_0\": {\"trainer_ids\": None},\n",
    "    #     # \"resid_post_layer_1\": {\"trainer_ids\": None},\n",
    "    #     # \"resid_post_layer_2\": {\"trainer_ids\": None},\n",
    "    #     # \"resid_post_layer_3\": {\"trainer_ids\": None},\n",
    "    #     # \"resid_post_layer_4\": {\"trainer_ids\": None},\n",
    "    #     \"resid_post_layer_3\": {\"trainer_ids\": trainer_ids},\n",
    "    # },\n",
    "}\n",
    "\n",
    "# ae_sweep_paths = {\n",
    "#     \"pythia70m_sweep_topk_ctx128_0730\": {\n",
    "#         # \"resid_post_layer_0\": {\"trainer_ids\": None},\n",
    "#         # \"resid_post_layer_1\": {\"trainer_ids\": None},\n",
    "#         # \"resid_post_layer_2\": {\"trainer_ids\": None},\n",
    "#         \"resid_post_layer_3\": {\"trainer_ids\": None},\n",
    "#         # \"resid_post_layer_4\": {\"trainer_ids\": None},\n",
    "#     }\n",
    "# }\n",
    "\n",
    "trainer_ids = None\n",
    "# trainer_ids = [1]\n",
    "\n",
    "ae_sweep_paths = {\n",
    "    \"gemma-2-2b_sweep_standard_ctx128_ef8_0824\": {\n",
    "        # \"resid_post_layer_12\": {\"trainer_ids\": trainer_ids},\n",
    "        \"resid_post_layer_15\": {\"trainer_ids\": trainer_ids},\n",
    "        # \"resid_post_layer_19\": {\"trainer_ids\": trainer_ids},\n",
    "        # \"resid_post_layer_20\": {\"trainer_ids\": trainer_ids},\n",
    "    },\n",
    "    \"gemma-2-2b_sweep_topk_ctx128_ef8_0824\": {\n",
    "        # \"resid_post_layer_12\": {\"trainer_ids\": trainer_ids},\n",
    "        # \"resid_post_layer_11\": {\"trainer_ids\": trainer_ids},\n",
    "        \"resid_post_layer_15\": {\"trainer_ids\": trainer_ids},\n",
    "        # \"resid_post_layer_19\": {\"trainer_ids\": trainer_ids},\n",
    "        # \"resid_post_layer_20\": {\"trainer_ids\": trainer_ids},\n",
    "    },\n",
    "    \"gemma-2-2b_sweep_jumprelu_0902\": {\n",
    "        \"resid_post_layer_15\": {\"trainer_ids\": trainer_ids},\n",
    "        # \"resid_post_layer_19\": {\"trainer_ids\": trainer_ids},\n",
    "    },\n",
    "}\n",
    "\n",
    "# trainer_ids = None\n",
    "# ae_sweep_paths = {\n",
    "#     \"gemma-2-2b_sweep_jumprelu_0902_probe_layer24_results\": {\n",
    "#         \"resid_post_layer_11\": {\"trainer_ids\": trainer_ids},\n",
    "#     },\n",
    "#     \"gemma-2-2b_sweep_standard_ctx128_ef8_0824_probe_layer24_results\": {\n",
    "#         \"resid_post_layer_11\": {\"trainer_ids\": trainer_ids},\n",
    "#     },\n",
    "#     \"gemma-2-2b_sweep_topk_ctx128_ef8_0824_probe_layer24_results\": {\n",
    "#         \"resid_post_layer_11\": {\"trainer_ids\": trainer_ids},\n",
    "#     },\n",
    "#     \"gemma-2-2b_sweep_standard_ctx128_ef2_0824_probe_layer_24_results\": {\n",
    "#         \"resid_post_layer_11\": {\"trainer_ids\": trainer_ids},\n",
    "#     },\n",
    "#     \"gemma-2-2b_sweep_topk_ctx128_ef2_0824_probe_layer_24_results\": {\n",
    "#         \"resid_post_layer_11\": {\"trainer_ids\": trainer_ids},\n",
    "#     },\n",
    "# }\n",
    "\n",
    "# ae_sweep_paths = {\n",
    "#     \"gemma-2-2b_sweep_standard_ctx128_ef8_0824_probe_layer20_results\": {\n",
    "#         \"resid_post_layer_11\": {\"trainer_ids\": trainer_ids},\n",
    "#     },\n",
    "#     \"gemma-2-2b_sweep_topk_ctx128_ef8_0824_probe_layer20_results\": {\n",
    "#         \"resid_post_layer_11\": {\"trainer_ids\": trainer_ids},\n",
    "#     },\n",
    "# }\n",
    "\n",
    "trainer_ids = None\n",
    "\n",
    "ae_sweep_paths = {\n",
    "    \"gemma-2-2b_sweep_topk_ctx128_ef8_0824_probe_layer_11_tpp\": {\n",
    "        \"resid_post_layer_11_checkpoints\": {\"trainer_ids\": trainer_ids},\n",
    "    },\n",
    "    \"gemma-2-2b_sweep_topk_ctx128_ef8_0824_probe_layer_15_tpp\": {\n",
    "        \"resid_post_layer_15_checkpoints\": {\"trainer_ids\": trainer_ids},\n",
    "    },\n",
    "    \"gemma-2-2b_sweep_topk_ctx128_ef8_0824_probe_layer_19_tpp\": {\n",
    "        \"resid_post_layer_19_checkpoints\": {\"trainer_ids\": trainer_ids},\n",
    "    },\n",
    "}\n",
    "\n",
    "ae_sweep_paths = {\n",
    "    \"gemma-2-2b_sweep_standard_ctx128_ef8_0824_probe_layer_11_tpp\": None,\n",
    "    \"gemma-2-2b_sweep_standard_ctx128_ef8_0824_probe_layer_19_tpp\": None,\n",
    "}\n",
    "\n",
    "ae_sweep_paths = {}\n",
    "\n",
    "DICTIONARIES_PATH = (\n",
    "    \"../dictionary_learning/dictionaries/09_13_pythia1.4b_spurious_topk_attrib_only_checkpoints\"\n",
    ")\n",
    "\n",
    "plot_spurious = True\n",
    "plot_tpp = False\n",
    "plot_checkpoints = True\n",
    "plot_averaged_results = True\n",
    "\n",
    "model = \"Pythia-1.4B\"\n",
    "\n",
    "l0_threshold = 500\n",
    "\n",
    "\n",
    "\n",
    "ae_paths = []\n",
    "\n",
    "for sweep_name, submodule_trainers in ae_sweep_paths.items():\n",
    "    ae_group_paths = utils.get_ae_group_paths(DICTIONARIES_PATH, sweep_name, submodule_trainers)\n",
    "    ae_paths.extend(utils.get_ae_paths(ae_group_paths))\n",
    "\n",
    "\n",
    "if not plot_averaged_results:\n",
    "    l0_loss_recovered_results = get_l0_frac_recovered(ae_paths)\n",
    "    plotting_results = add_ae_config_results(ae_paths, l0_loss_recovered_results)\n",
    "\n",
    "    filename_filter = \"\"\n",
    "\n",
    "    l0_threshold = 500\n",
    "    l0_threshold = None\n",
    "\n",
    "    plotting_results = filter_by_l0_threshold(plotting_results, l0_threshold)\n",
    "\n",
    "    title = \"L0 vs Fraction Recovered vs Sparsity Penalty\"\n",
    "\n",
    "    custom_metric = \"l1_penalty\"\n",
    "\n",
    "    plot_3var_graph(plotting_results, title, custom_metric)\n",
    "    plot_interactive_3var_graph(plotting_results, custom_metric)\n",
    "\n",
    "    # At this point, if there's any additional .json files located alongside the ae.pt and eval_results.json\n",
    "    # You can easily adapt them to be included in the plotting_results dictionary by using something similar to add_ae_config_results()"
   ]
  },
  {
   "cell_type": "code",
   "execution_count": 137,
   "metadata": {},
   "outputs": [],
   "source": [
    "\n",
    "if plot_tpp:\n",
    "    # If not empty, this will filter to only include the specified class ids\n",
    "    intended_filter_class_ids = []\n",
    "    unintended_filter_class_ids = []\n",
    "    # intended_filter_class_ids = [0, 1, 2, 6]\n",
    "    # unintended_filter_class_ids = [0, 1, 2, 6]\n",
    "    # intended_filter_class_ids = [\"male / female\"]\n",
    "    # unintended_filter_class_ids = [1]\n",
    "    # unintended_filter_class_ids = [-4]\n",
    "\n",
    "    threshold = 0.1\n",
    "    threshold = 50\n",
    "\n",
    "    filename_filter = \"_attrib\"\n",
    "    filename_filter = \"_auto_interp\"\n",
    "\n",
    "if plot_spurious:\n",
    "\n",
    "    ablated_probe_class_id = \"male / female\"\n",
    "    # ablated_probe_class_id = \"professor / nurse\"\n",
    "    # ablated_probe_class_id = \"male_professor / female_nurse\"\n",
    "    eval_probe_class_id = \"male_professor / female_nurse\"\n",
    "    eval_probe_class_id = \"male_professor / female_nurse\"\n",
    "    # eval_probe_class_id = \"biased_male / biased_female\"\n",
    "    # ablated_probe_class_id = eval_probe_class_id\n",
    "    eval_data_class_id = \"professor / nurse\"\n",
    "    eval_data_class_id = \"male / female\"\n",
    "\n",
    "    threshold = 50\n",
    "\n",
    "    filename_filter = \"_attrib\"\n",
    "    # filename_filter = \"_auto_interp\"\n",
    "    # filename_filter = \"_bias_shift_dir2\"\n",
    "\n",
    "    attrib_dir = 2\n",
    "\n",
    "if plot_averaged_results:\n",
    "    ae_group_paths = [\n",
    "        \"pythia1.4b_sweep_topk_ctx128_0913\",\n",
    "    ]\n",
    "    probe_layers = [11]\n",
    "    column1_vals_list = [\n",
    "        (\"professor\", \"nurse\"),\n",
    "        (\"filmmaker\", \"dentist\"),\n",
    "        (\"painter\", \"teacher\"),\n",
    "        (\"photographer\", \"physician\"),\n",
    "    ]\n",
    "\n",
    "    # filters = [\"trainer_5\"]\n",
    "    filters = []"
   ]
  },
  {
   "cell_type": "code",
   "execution_count": 138,
   "metadata": {},
   "outputs": [],
   "source": [
    "if plot_tpp:\n",
    "    results_acc = add_ablation_diff_plotting_dict(\n",
    "        ae_paths,\n",
    "        plotting_results,\n",
    "        threshold,\n",
    "        intended_filter_class_ids,\n",
    "        unintended_filter_class_ids,\n",
    "        filename_filter,\n",
    "        \"acc\",\n",
    "    )\n",
    "\n",
    "    custom_metric1 = \"average_diff\"\n",
    "    custom_metric2 = \"average_intended_diff\"\n",
    "    custom_metric3 = \"average_unintended_diff\"\n",
    "\n",
    "    auto_interp_title = \"\"\n",
    "\n",
    "    if \"auto_interp\" in filename_filter:\n",
    "        auto_interp_title = \"\\n(Filtering features with auto-interp)\"\n",
    "\n",
    "    title = f\"\"\"Ablating Top {threshold} features from attribution patching.\n",
    "Model: {model} Targeted Probe Perturbation.\n",
    "Color is (intended class difference - unintended class difference).{auto_interp_title}\"\"\"\n",
    "\n",
    "    # results_acc = filter_by_l0_threshold(results_acc, l0_threshold)\n",
    "    # results_acc0 = filter_by_l0_threshold(results_acc0, l0_threshold)\n",
    "\n",
    "    plot_3var_graph(results_acc, title, custom_metric1)\n",
    "    plot_2var_graph(results_acc, custom_metric1, title=title, y_label=\"Decrease in Probe Accuracy\")\n",
    "    plot_interactive_3var_graph(results_acc, custom_metric1)"
   ]
  },
  {
   "cell_type": "code",
   "execution_count": 139,
   "metadata": {},
   "outputs": [],
   "source": [
    "if plot_spurious:\n",
    "    if \"_bias_shift\" in filename_filter:\n",
    "        ablated_probe_class_id = eval_probe_class_id\n",
    "\n",
    "        if filename_filter == \"_bias_shift_dir1\":\n",
    "            title = f\"\"\"Ablating Top {threshold} gender features to increase profession accuracy.\n",
    "Model: {model} Spurious Correlation Removal.\"\"\"\n",
    "            eval_data_class_id = \"professor / nurse\"\n",
    "        elif filename_filter == \"_bias_shift_dir2\":\n",
    "            title = f\"\"\"Ablating Top {threshold} profession features to increase gender accuracy.\n",
    "Model: {model} Spurious Correlation Removal.\"\"\"\n",
    "            eval_data_class_id = \"male / female\"\n",
    "        else:\n",
    "            raise ValueError(\"Invalid filename filter.\")\n",
    "        title += \"\\nFiltering features with auto-interp.\"\n",
    "    else:\n",
    "        if attrib_dir == 1:\n",
    "            ablated_probe_class_id = \"male / female\"\n",
    "            eval_data_class_id = \"professor / nurse\"\n",
    "            title = f\"\"\"Ablating Top {threshold} gender features to increase profession accuracy.\n",
    "Model: {model} Spurious Correlation Removal.\"\"\"\n",
    "        elif attrib_dir == 2:\n",
    "            ablated_probe_class_id = \"professor / nurse\"\n",
    "            eval_data_class_id = \"male / female\"\n",
    "            title = f\"\"\"Ablating Top {threshold} profession features to increase gender accuracy.\n",
    "Model: {model} Spurious Correlation Removal.\"\"\"\n",
    "        else:\n",
    "            raise ValueError(\"Invalid attrib_dir.\")\n",
    "\n",
    "    if eval_probe_class_id == \"biased_male / biased_female\":\n",
    "        title += \"\\nUsing probe with 2% noisy data.\"\n",
    "\n",
    "    custom_metric1 = \"average_diff\"\n",
    "\n",
    "    if not plot_averaged_results:\n",
    "        spurious_correlation_results, original_acc = get_spurious_correlation_plotting_dict(\n",
    "            ae_paths,\n",
    "            threshold,\n",
    "            ablated_probe_class_id,\n",
    "            eval_probe_class_id,\n",
    "            eval_data_class_id,\n",
    "            filename_filter,\n",
    "            \"acc\",\n",
    "        )\n",
    "\n",
    "        spurious_correlation_results = filter_by_l0_threshold(\n",
    "            spurious_correlation_results, l0_threshold\n",
    "        )\n",
    "\n",
    "        graph_title_3var = f\"{model} Spurious Correlation\\n\"\n",
    "        graph_title_3var += title\n",
    "\n",
    "        plot_3var_graph(\n",
    "            spurious_correlation_results,\n",
    "            graph_title_3var,\n",
    "            custom_metric1,\n",
    "            colorbar_label=\"Probe Accuracy\",\n",
    "        )\n",
    "        plot_2var_graph(\n",
    "            spurious_correlation_results,\n",
    "            custom_metric1,\n",
    "            title=graph_title_3var,\n",
    "            y_label=\"Probe Accuracy\",\n",
    "        )\n",
    "        plot_interactive_3var_graph(spurious_correlation_results, custom_metric1)\n",
    "        # plot_3var_graph(results_acc0, title, custom_metric1)\n",
    "        # plot_3var_graph(results, title, custom_metric3)"
   ]
  },
  {
   "cell_type": "code",
   "execution_count": 140,
   "metadata": {},
   "outputs": [],
   "source": [
    "if plot_spurious and plot_checkpoints and not plot_averaged_results:\n",
    "    # Example usage:\n",
    "    # checkpoints_title = \"Training steps vs Decrease in Probe Accuracy\"\n",
    "    y_label = \"Probe Accuracy Decrease\"\n",
    "\n",
    "    # try:\n",
    "    #     plot_steps_vs_average_diff(plotting_results, title=checkpoints_title, y_label=y_label)\n",
    "    # except Exception as e:\n",
    "    #     print(f\"Error plotting: {e}\")\n",
    "\n",
    "    print(f\"Original acc: {original_acc}\")\n",
    "\n",
    "    # If your keys are different, you can specify them:\n",
    "    plot_steps_vs_average_diff(\n",
    "        spurious_correlation_results,\n",
    "        steps_key=\"steps\",\n",
    "        avg_diff_key=custom_metric1,\n",
    "        title=title,\n",
    "        y_label=y_label,\n",
    "    )"
   ]
  },
  {
   "cell_type": "code",
   "execution_count": 141,
   "metadata": {},
   "outputs": [],
   "source": [
    "if plot_tpp and plot_checkpoints:\n",
    "    y_label = \"Probe Accuracy Decrease\"\n",
    "\n",
    "    plot_steps_vs_average_diff(\n",
    "        results_acc,\n",
    "        steps_key=\"steps\",\n",
    "        avg_diff_key=custom_metric1,\n",
    "        title=title,\n",
    "        y_label=y_label,\n",
    "    )"
   ]
  },
  {
   "cell_type": "code",
   "execution_count": 142,
   "metadata": {},
   "outputs": [
    {
     "name": "stdout",
     "output_type": "stream",
     "text": [
      "Original acc: 0.5290000438690186\n",
      "Original acc: 0.5190000534057617\n",
      "Original acc: 0.6370000243186951\n",
      "Original acc: 0.5430000424385071\n",
      "Filtered out 10 results with L0 > 500\n",
      "0.5570000410079956\n"
     ]
    },
    {
     "data": {
      "image/png": "[encoded data removed]",
      "text/plain": [
       "<Figure size 1000x600 with 2 Axes>"
      ]
     },
     "metadata": {},
     "output_type": "display_data"
    },
    {
     "data": {
      "image/png": "[encoded data removed]",
      "text/plain": [
       "<Figure size 1000x600 with 1 Axes>"
      ]
     },
     "metadata": {},
     "output_type": "display_data"
    },
    {
     "data": {
      "application/vnd.plotly.v1+json": {
       "config": {
        "plotlyServerURL": "https://plot.ly"
       },
       "data": [
        {
         "hoverinfo": "text",
         "marker": {
          "color": [
           0.5865000486373901,
           0.5890000313520432,
           0.5695000290870667,
           0.5890000313520432,
           0.5990000069141388,
           0.5567500442266464,
           0.5507500171661377,
           0.5660000294446945,
           0.5795000195503235,
           0.5882500261068344,
           0.5800000131130219,
           0.5737500339746475,
           0.5885000228881836,
           0.5660000443458557,
           0.5972500294446945,
           0.5572500228881836,
           0.5955000221729279,
           0.5682500153779984,
           0.5952500402927399,
           0.5847500413656235,
           0.5617500245571136,
           0.5640000402927399,
           0.5870000422000885,
           0.5657500326633453,
           0.5902500301599503,
           0.550000011920929,
           0.563000038266182,
           0.5927500277757645,
           0.5837500244379044,
           0.6007500290870667,
           0.585500031709671,
           0.5610000193119049,
           0.5867500305175781,
           0.5770000219345093,
           0.5790000259876251,
           0.5612500160932541,
           0.5610000342130661,
           0.5865000337362289,
           0.5590000301599503,
           0.5640000253915787,
           0.5775000154972076,
           0.6127500236034393,
           0.5577500313520432,
           0.5802500247955322,
           0.5727500319480896,
           0.5990000367164612,
           0.5582500249147415,
           0.5810000151395798,
           0.585500031709671,
           0.573250025510788
          ],
          "colorscale": [
           [
            0,
            "#440154"
           ],
           [
            0.1111111111111111,
            "#482878"
           ],
           [
            0.2222222222222222,
            "#3e4989"
           ],
           [
            0.3333333333333333,
            "#31688e"
           ],
           [
            0.4444444444444444,
            "#26828e"
           ],
           [
            0.5555555555555556,
            "#1f9e89"
           ],
           [
            0.6666666666666666,
            "#35b779"
           ],
           [
            0.7777777777777778,
            "#6ece58"
           ],
           [
            0.8888888888888888,
            "#b5de2b"
           ],
           [
            1,
            "#fde725"
           ]
          ],
          "showscale": true,
          "size": 10
         },
         "mode": "markers",
         "text": [
          "AE Path: ../dictionary_learning/dictionaries/09_13_pythia1.4b_spurious_topk_attrib_only_checkpoints/pythia1.4b_sweep_topk_ctx128_0913/resid_post_layer_11/trainer_4<br>L0: 320.0000<br>Frac Recovered: 0.9883<br>Custom Metric: 0.5865<br>Dict Size: 16384.0000<br>LR: 0.0002<br>L1 Penalty: 320.0000",
          "AE Path: ../dictionary_learning/dictionaries/09_13_pythia1.4b_spurious_topk_attrib_only_checkpoints/pythia1.4b_sweep_topk_ctx128_0913/resid_post_layer_11/trainer_3<br>L0: 160.0000<br>Frac Recovered: 0.9848<br>Custom Metric: 0.5890<br>Dict Size: 16384.0000<br>LR: 0.0002<br>L1 Penalty: 160.0000",
          "AE Path: ../dictionary_learning/dictionaries/09_13_pythia1.4b_spurious_topk_attrib_only_checkpoints/pythia1.4b_sweep_topk_ctx128_0913/resid_post_layer_11/trainer_2<br>L0: 80.0000<br>Frac Recovered: 0.9809<br>Custom Metric: 0.5695<br>Dict Size: 16384.0000<br>LR: 0.0002<br>L1 Penalty: 80.0000",
          "AE Path: ../dictionary_learning/dictionaries/09_13_pythia1.4b_spurious_topk_attrib_only_checkpoints/pythia1.4b_sweep_topk_ctx128_0913/resid_post_layer_11/trainer_0<br>L0: 20.0000<br>Frac Recovered: 0.9598<br>Custom Metric: 0.5890<br>Dict Size: 16384.0000<br>LR: 0.0002<br>L1 Penalty: 20.0000",
          "AE Path: ../dictionary_learning/dictionaries/09_13_pythia1.4b_spurious_topk_attrib_only_checkpoints/pythia1.4b_sweep_topk_ctx128_0913/resid_post_layer_11/trainer_1<br>L0: 40.0000<br>Frac Recovered: 0.9715<br>Custom Metric: 0.5990<br>Dict Size: 16384.0000<br>LR: 0.0002<br>L1 Penalty: 40.0000",
          "AE Path: ../dictionary_learning/dictionaries/09_13_pythia1.4b_spurious_topk_attrib_only_checkpoints/pythia1.4b_sweep_topk_ctx128_0913/resid_post_layer_11_checkpoints/trainer_0_step_0<br>L0: 20.0000<br>Frac Recovered: 0.0438<br>Custom Metric: 0.5568<br>Dict Size: 16384.0000<br>LR: 0.0002<br>L1 Penalty: 20.0000",
          "AE Path: ../dictionary_learning/dictionaries/09_13_pythia1.4b_spurious_topk_attrib_only_checkpoints/pythia1.4b_sweep_topk_ctx128_0913/resid_post_layer_11_checkpoints/trainer_3_step_154<br>L0: 160.0000<br>Frac Recovered: 0.9336<br>Custom Metric: 0.5508<br>Dict Size: 16384.0000<br>LR: 0.0002<br>L1 Penalty: 160.0000",
          "AE Path: ../dictionary_learning/dictionaries/09_13_pythia1.4b_spurious_topk_attrib_only_checkpoints/pythia1.4b_sweep_topk_ctx128_0913/resid_post_layer_11_checkpoints/trainer_2_step_154<br>L0: 80.0000<br>Frac Recovered: 0.8906<br>Custom Metric: 0.5660<br>Dict Size: 16384.0000<br>LR: 0.0002<br>L1 Penalty: 80.0000",
          "AE Path: ../dictionary_learning/dictionaries/09_13_pythia1.4b_spurious_topk_attrib_only_checkpoints/pythia1.4b_sweep_topk_ctx128_0913/resid_post_layer_11_checkpoints/trainer_2_step_1544<br>L0: 80.0000<br>Frac Recovered: 0.9715<br>Custom Metric: 0.5795<br>Dict Size: 16384.0000<br>LR: 0.0002<br>L1 Penalty: 80.0000",
          "AE Path: ../dictionary_learning/dictionaries/09_13_pythia1.4b_spurious_topk_attrib_only_checkpoints/pythia1.4b_sweep_topk_ctx128_0913/resid_post_layer_11_checkpoints/trainer_1_step_4882<br>L0: 40.0000<br>Frac Recovered: 0.9676<br>Custom Metric: 0.5883<br>Dict Size: 16384.0000<br>LR: 0.0002<br>L1 Penalty: 40.0000",
          "AE Path: ../dictionary_learning/dictionaries/09_13_pythia1.4b_spurious_topk_attrib_only_checkpoints/pythia1.4b_sweep_topk_ctx128_0913/resid_post_layer_11_checkpoints/trainer_3_step_488<br>L0: 160.0000<br>Frac Recovered: 0.9637<br>Custom Metric: 0.5800<br>Dict Size: 16384.0000<br>LR: 0.0002<br>L1 Penalty: 160.0000",
          "AE Path: ../dictionary_learning/dictionaries/09_13_pythia1.4b_spurious_topk_attrib_only_checkpoints/pythia1.4b_sweep_topk_ctx128_0913/resid_post_layer_11_checkpoints/trainer_2_step_488<br>L0: 80.0000<br>Frac Recovered: 0.9527<br>Custom Metric: 0.5738<br>Dict Size: 16384.0000<br>LR: 0.0002<br>L1 Penalty: 80.0000",
          "AE Path: ../dictionary_learning/dictionaries/09_13_pythia1.4b_spurious_topk_attrib_only_checkpoints/pythia1.4b_sweep_topk_ctx128_0913/resid_post_layer_11_checkpoints/trainer_0_step_19531<br>L0: 20.0000<br>Frac Recovered: 0.9570<br>Custom Metric: 0.5885<br>Dict Size: 16384.0000<br>LR: 0.0002<br>L1 Penalty: 20.0000",
          "AE Path: ../dictionary_learning/dictionaries/09_13_pythia1.4b_spurious_topk_attrib_only_checkpoints/pythia1.4b_sweep_topk_ctx128_0913/resid_post_layer_11_checkpoints/trainer_2_step_29296<br>L0: 80.0000<br>Frac Recovered: 0.9797<br>Custom Metric: 0.5660<br>Dict Size: 16384.0000<br>LR: 0.0002<br>L1 Penalty: 80.0000",
          "AE Path: ../dictionary_learning/dictionaries/09_13_pythia1.4b_spurious_topk_attrib_only_checkpoints/pythia1.4b_sweep_topk_ctx128_0913/resid_post_layer_11_checkpoints/trainer_1_step_9765<br>L0: 40.0000<br>Frac Recovered: 0.9695<br>Custom Metric: 0.5973<br>Dict Size: 16384.0000<br>LR: 0.0002<br>L1 Penalty: 40.0000",
          "AE Path: ../dictionary_learning/dictionaries/09_13_pythia1.4b_spurious_topk_attrib_only_checkpoints/pythia1.4b_sweep_topk_ctx128_0913/resid_post_layer_11_checkpoints/trainer_2_step_0<br>L0: 80.0000<br>Frac Recovered: 0.1458<br>Custom Metric: 0.5573<br>Dict Size: 16384.0000<br>LR: 0.0002<br>L1 Penalty: 80.0000",
          "AE Path: ../dictionary_learning/dictionaries/09_13_pythia1.4b_spurious_topk_attrib_only_checkpoints/pythia1.4b_sweep_topk_ctx128_0913/resid_post_layer_11_checkpoints/trainer_4_step_1544<br>L0: 320.0000<br>Frac Recovered: 0.9832<br>Custom Metric: 0.5955<br>Dict Size: 16384.0000<br>LR: 0.0002<br>L1 Penalty: 320.0000",
          "AE Path: ../dictionary_learning/dictionaries/09_13_pythia1.4b_spurious_topk_attrib_only_checkpoints/pythia1.4b_sweep_topk_ctx128_0913/resid_post_layer_11_checkpoints/trainer_4_step_488<br>L0: 320.0000<br>Frac Recovered: 0.9742<br>Custom Metric: 0.5683<br>Dict Size: 16384.0000<br>LR: 0.0002<br>L1 Penalty: 320.0000",
          "AE Path: ../dictionary_learning/dictionaries/09_13_pythia1.4b_spurious_topk_attrib_only_checkpoints/pythia1.4b_sweep_topk_ctx128_0913/resid_post_layer_11_checkpoints/trainer_3_step_1544<br>L0: 160.0000<br>Frac Recovered: 0.9777<br>Custom Metric: 0.5953<br>Dict Size: 16384.0000<br>LR: 0.0002<br>L1 Penalty: 160.0000",
          "AE Path: ../dictionary_learning/dictionaries/09_13_pythia1.4b_spurious_topk_attrib_only_checkpoints/pythia1.4b_sweep_topk_ctx128_0913/resid_post_layer_11_checkpoints/trainer_0_step_4882<br>L0: 20.0000<br>Frac Recovered: 0.9523<br>Custom Metric: 0.5848<br>Dict Size: 16384.0000<br>LR: 0.0002<br>L1 Penalty: 20.0000",
          "AE Path: ../dictionary_learning/dictionaries/09_13_pythia1.4b_spurious_topk_attrib_only_checkpoints/pythia1.4b_sweep_topk_ctx128_0913/resid_post_layer_11_checkpoints/trainer_4_step_154<br>L0: 320.0000<br>Frac Recovered: 0.9617<br>Custom Metric: 0.5618<br>Dict Size: 16384.0000<br>LR: 0.0002<br>L1 Penalty: 320.0000",
          "AE Path: ../dictionary_learning/dictionaries/09_13_pythia1.4b_spurious_topk_attrib_only_checkpoints/pythia1.4b_sweep_topk_ctx128_0913/resid_post_layer_11_checkpoints/trainer_4_step_0<br>L0: 320.0000<br>Frac Recovered: 0.6234<br>Custom Metric: 0.5640<br>Dict Size: 16384.0000<br>LR: 0.0002<br>L1 Penalty: 320.0000",
          "AE Path: ../dictionary_learning/dictionaries/09_13_pythia1.4b_spurious_topk_attrib_only_checkpoints/pythia1.4b_sweep_topk_ctx128_0913/resid_post_layer_11_checkpoints/trainer_0_step_9765<br>L0: 20.0000<br>Frac Recovered: 0.9547<br>Custom Metric: 0.5870<br>Dict Size: 16384.0000<br>LR: 0.0002<br>L1 Penalty: 20.0000",
          "AE Path: ../dictionary_learning/dictionaries/09_13_pythia1.4b_spurious_topk_attrib_only_checkpoints/pythia1.4b_sweep_topk_ctx128_0913/resid_post_layer_11_checkpoints/trainer_2_step_19531<br>L0: 80.0000<br>Frac Recovered: 0.9789<br>Custom Metric: 0.5658<br>Dict Size: 16384.0000<br>LR: 0.0002<br>L1 Penalty: 80.0000",
          "AE Path: ../dictionary_learning/dictionaries/09_13_pythia1.4b_spurious_topk_attrib_only_checkpoints/pythia1.4b_sweep_topk_ctx128_0913/resid_post_layer_11_checkpoints/trainer_0_step_29296<br>L0: 20.0000<br>Frac Recovered: 0.9594<br>Custom Metric: 0.5903<br>Dict Size: 16384.0000<br>LR: 0.0002<br>L1 Penalty: 20.0000",
          "AE Path: ../dictionary_learning/dictionaries/09_13_pythia1.4b_spurious_topk_attrib_only_checkpoints/pythia1.4b_sweep_topk_ctx128_0913/resid_post_layer_11_checkpoints/trainer_4_step_48<br>L0: 320.0000<br>Frac Recovered: 0.9383<br>Custom Metric: 0.5500<br>Dict Size: 16384.0000<br>LR: 0.0002<br>L1 Penalty: 320.0000",
          "AE Path: ../dictionary_learning/dictionaries/09_13_pythia1.4b_spurious_topk_attrib_only_checkpoints/pythia1.4b_sweep_topk_ctx128_0913/resid_post_layer_11_checkpoints/trainer_1_step_48<br>L0: 40.0000<br>Frac Recovered: 0.6508<br>Custom Metric: 0.5630<br>Dict Size: 16384.0000<br>LR: 0.0002<br>L1 Penalty: 40.0000",
          "AE Path: ../dictionary_learning/dictionaries/09_13_pythia1.4b_spurious_topk_attrib_only_checkpoints/pythia1.4b_sweep_topk_ctx128_0913/resid_post_layer_11_checkpoints/trainer_1_step_19531<br>L0: 40.0000<br>Frac Recovered: 0.9715<br>Custom Metric: 0.5928<br>Dict Size: 16384.0000<br>LR: 0.0002<br>L1 Penalty: 40.0000",
          "AE Path: ../dictionary_learning/dictionaries/09_13_pythia1.4b_spurious_topk_attrib_only_checkpoints/pythia1.4b_sweep_topk_ctx128_0913/resid_post_layer_11_checkpoints/trainer_3_step_29296<br>L0: 159.9958<br>Frac Recovered: 0.9848<br>Custom Metric: 0.5838<br>Dict Size: 16384.0000<br>LR: 0.0002<br>L1 Penalty: 160.0000",
          "AE Path: ../dictionary_learning/dictionaries/09_13_pythia1.4b_spurious_topk_attrib_only_checkpoints/pythia1.4b_sweep_topk_ctx128_0913/resid_post_layer_11_checkpoints/trainer_0_step_488<br>L0: 20.0000<br>Frac Recovered: 0.9102<br>Custom Metric: 0.6008<br>Dict Size: 16384.0000<br>LR: 0.0002<br>L1 Penalty: 20.0000",
          "AE Path: ../dictionary_learning/dictionaries/09_13_pythia1.4b_spurious_topk_attrib_only_checkpoints/pythia1.4b_sweep_topk_ctx128_0913/resid_post_layer_11_checkpoints/trainer_1_step_488<br>L0: 40.0000<br>Frac Recovered: 0.9395<br>Custom Metric: 0.5855<br>Dict Size: 16384.0000<br>LR: 0.0002<br>L1 Penalty: 40.0000",
          "AE Path: ../dictionary_learning/dictionaries/09_13_pythia1.4b_spurious_topk_attrib_only_checkpoints/pythia1.4b_sweep_topk_ctx128_0913/resid_post_layer_11_checkpoints/trainer_1_step_0<br>L0: 40.0000<br>Frac Recovered: 0.1091<br>Custom Metric: 0.5610<br>Dict Size: 16384.0000<br>LR: 0.0002<br>L1 Penalty: 40.0000",
          "AE Path: ../dictionary_learning/dictionaries/09_13_pythia1.4b_spurious_topk_attrib_only_checkpoints/pythia1.4b_sweep_topk_ctx128_0913/resid_post_layer_11_checkpoints/trainer_0_step_1544<br>L0: 20.0000<br>Frac Recovered: 0.9422<br>Custom Metric: 0.5868<br>Dict Size: 16384.0000<br>LR: 0.0002<br>L1 Penalty: 20.0000",
          "AE Path: ../dictionary_learning/dictionaries/09_13_pythia1.4b_spurious_topk_attrib_only_checkpoints/pythia1.4b_sweep_topk_ctx128_0913/resid_post_layer_11_checkpoints/trainer_4_step_19531<br>L0: 320.0000<br>Frac Recovered: 0.9883<br>Custom Metric: 0.5770<br>Dict Size: 16384.0000<br>LR: 0.0002<br>L1 Penalty: 320.0000",
          "AE Path: ../dictionary_learning/dictionaries/09_13_pythia1.4b_spurious_topk_attrib_only_checkpoints/pythia1.4b_sweep_topk_ctx128_0913/resid_post_layer_11_checkpoints/trainer_3_step_4882<br>L0: 159.9792<br>Frac Recovered: 0.9824<br>Custom Metric: 0.5790<br>Dict Size: 16384.0000<br>LR: 0.0002<br>L1 Penalty: 160.0000",
          "AE Path: ../dictionary_learning/dictionaries/09_13_pythia1.4b_spurious_topk_attrib_only_checkpoints/pythia1.4b_sweep_topk_ctx128_0913/resid_post_layer_11_checkpoints/trainer_3_step_0<br>L0: 160.0000<br>Frac Recovered: 0.3592<br>Custom Metric: 0.5613<br>Dict Size: 16384.0000<br>LR: 0.0002<br>L1 Penalty: 160.0000",
          "AE Path: ../dictionary_learning/dictionaries/09_13_pythia1.4b_spurious_topk_attrib_only_checkpoints/pythia1.4b_sweep_topk_ctx128_0913/resid_post_layer_11_checkpoints/trainer_0_step_48<br>L0: 20.0000<br>Frac Recovered: 0.5135<br>Custom Metric: 0.5610<br>Dict Size: 16384.0000<br>LR: 0.0002<br>L1 Penalty: 20.0000",
          "AE Path: ../dictionary_learning/dictionaries/09_13_pythia1.4b_spurious_topk_attrib_only_checkpoints/pythia1.4b_sweep_topk_ctx128_0913/resid_post_layer_11_checkpoints/trainer_3_step_9765<br>L0: 160.0000<br>Frac Recovered: 0.9840<br>Custom Metric: 0.5865<br>Dict Size: 16384.0000<br>LR: 0.0002<br>L1 Penalty: 160.0000",
          "AE Path: ../dictionary_learning/dictionaries/09_13_pythia1.4b_spurious_topk_attrib_only_checkpoints/pythia1.4b_sweep_topk_ctx128_0913/resid_post_layer_11_checkpoints/trainer_0_step_154<br>L0: 20.0000<br>Frac Recovered: 0.7570<br>Custom Metric: 0.5590<br>Dict Size: 16384.0000<br>LR: 0.0002<br>L1 Penalty: 20.0000",
          "AE Path: ../dictionary_learning/dictionaries/09_13_pythia1.4b_spurious_topk_attrib_only_checkpoints/pythia1.4b_sweep_topk_ctx128_0913/resid_post_layer_11_checkpoints/trainer_1_step_154<br>L0: 40.0000<br>Frac Recovered: 0.8227<br>Custom Metric: 0.5640<br>Dict Size: 16384.0000<br>LR: 0.0002<br>L1 Penalty: 40.0000",
          "AE Path: ../dictionary_learning/dictionaries/09_13_pythia1.4b_spurious_topk_attrib_only_checkpoints/pythia1.4b_sweep_topk_ctx128_0913/resid_post_layer_11_checkpoints/trainer_4_step_4882<br>L0: 320.0000<br>Frac Recovered: 0.9875<br>Custom Metric: 0.5775<br>Dict Size: 16384.0000<br>LR: 0.0002<br>L1 Penalty: 320.0000",
          "AE Path: ../dictionary_learning/dictionaries/09_13_pythia1.4b_spurious_topk_attrib_only_checkpoints/pythia1.4b_sweep_topk_ctx128_0913/resid_post_layer_11_checkpoints/trainer_4_step_9765<br>L0: 320.0000<br>Frac Recovered: 0.9883<br>Custom Metric: 0.6128<br>Dict Size: 16384.0000<br>LR: 0.0002<br>L1 Penalty: 320.0000",
          "AE Path: ../dictionary_learning/dictionaries/09_13_pythia1.4b_spurious_topk_attrib_only_checkpoints/pythia1.4b_sweep_topk_ctx128_0913/resid_post_layer_11_checkpoints/trainer_2_step_48<br>L0: 80.0000<br>Frac Recovered: 0.7980<br>Custom Metric: 0.5578<br>Dict Size: 16384.0000<br>LR: 0.0002<br>L1 Penalty: 80.0000",
          "AE Path: ../dictionary_learning/dictionaries/09_13_pythia1.4b_spurious_topk_attrib_only_checkpoints/pythia1.4b_sweep_topk_ctx128_0913/resid_post_layer_11_checkpoints/trainer_1_step_1544<br>L0: 40.0000<br>Frac Recovered: 0.9613<br>Custom Metric: 0.5803<br>Dict Size: 16384.0000<br>LR: 0.0002<br>L1 Penalty: 40.0000",
          "AE Path: ../dictionary_learning/dictionaries/09_13_pythia1.4b_spurious_topk_attrib_only_checkpoints/pythia1.4b_sweep_topk_ctx128_0913/resid_post_layer_11_checkpoints/trainer_3_step_19531<br>L0: 160.0000<br>Frac Recovered: 0.9840<br>Custom Metric: 0.5728<br>Dict Size: 16384.0000<br>LR: 0.0002<br>L1 Penalty: 160.0000",
          "AE Path: ../dictionary_learning/dictionaries/09_13_pythia1.4b_spurious_topk_attrib_only_checkpoints/pythia1.4b_sweep_topk_ctx128_0913/resid_post_layer_11_checkpoints/trainer_1_step_29296<br>L0: 40.0000<br>Frac Recovered: 0.9715<br>Custom Metric: 0.5990<br>Dict Size: 16384.0000<br>LR: 0.0002<br>L1 Penalty: 40.0000",
          "AE Path: ../dictionary_learning/dictionaries/09_13_pythia1.4b_spurious_topk_attrib_only_checkpoints/pythia1.4b_sweep_topk_ctx128_0913/resid_post_layer_11_checkpoints/trainer_3_step_48<br>L0: 160.0000<br>Frac Recovered: 0.8820<br>Custom Metric: 0.5583<br>Dict Size: 16384.0000<br>LR: 0.0002<br>L1 Penalty: 160.0000",
          "AE Path: ../dictionary_learning/dictionaries/09_13_pythia1.4b_spurious_topk_attrib_only_checkpoints/pythia1.4b_sweep_topk_ctx128_0913/resid_post_layer_11_checkpoints/trainer_4_step_29296<br>L0: 319.9958<br>Frac Recovered: 0.9883<br>Custom Metric: 0.5810<br>Dict Size: 16384.0000<br>LR: 0.0002<br>L1 Penalty: 320.0000",
          "AE Path: ../dictionary_learning/dictionaries/09_13_pythia1.4b_spurious_topk_attrib_only_checkpoints/pythia1.4b_sweep_topk_ctx128_0913/resid_post_layer_11_checkpoints/trainer_2_step_4882<br>L0: 80.0000<br>Frac Recovered: 0.9770<br>Custom Metric: 0.5855<br>Dict Size: 16384.0000<br>LR: 0.0002<br>L1 Penalty: 80.0000",
          "AE Path: ../dictionary_learning/dictionaries/09_13_pythia1.4b_spurious_topk_attrib_only_checkpoints/pythia1.4b_sweep_topk_ctx128_0913/resid_post_layer_11_checkpoints/trainer_2_step_9765<br>L0: 80.0000<br>Frac Recovered: 0.9781<br>Custom Metric: 0.5733<br>Dict Size: 16384.0000<br>LR: 0.0002<br>L1 Penalty: 80.0000"
         ],
         "type": "scatter",
         "x": [
          320,
          160,
          80,
          20,
          40,
          20,
          160,
          80,
          80,
          40,
          160,
          80,
          20,
          80,
          40,
          80,
          320,
          320,
          160,
          20,
          320,
          320,
          20,
          80,
          20,
          320,
          40,
          40,
          159.99583435058594,
          20,
          40,
          40,
          20,
          320,
          159.97916717529296,
          160,
          20,
          160,
          20,
          40,
          320,
          320,
          80,
          40,
          160,
          40,
          160,
          319.99583435058594,
          80,
          80
         ],
         "y": [
          0.98828125,
          0.984765625,
          0.980859375,
          0.959765625,
          0.971484375,
          0.043798828125,
          0.93359375,
          0.890625,
          0.971484375,
          0.967578125,
          0.963671875,
          0.952734375,
          0.95703125,
          0.9796875,
          0.96953125,
          0.14580078125,
          0.983203125,
          0.97421875,
          0.977734375,
          0.95234375,
          0.96171875,
          0.6234375,
          0.9546875,
          0.97890625,
          0.959375,
          0.93828125,
          0.65078125,
          0.971484375,
          0.984765625,
          0.91015625,
          0.939453125,
          0.109130859375,
          0.9421875,
          0.98828125,
          0.982421875,
          0.3591796875,
          0.5134765625,
          0.983984375,
          0.75703125,
          0.82265625,
          0.9875,
          0.98828125,
          0.798046875,
          0.961328125,
          0.983984375,
          0.971484375,
          0.88203125,
          0.98828125,
          0.976953125,
          0.978125
         ]
        }
       ],
       "layout": {
        "hovermode": "closest",
        "template": {
         "data": {
          "bar": [
           {
            "error_x": {
             "color": "#2a3f5f"
            },
            "error_y": {
             "color": "#2a3f5f"
            },
            "marker": {
             "line": {
              "color": "#E5ECF6",
              "width": 0.5
             },
             "pattern": {
              "fillmode": "overlay",
              "size": 10,
              "solidity": 0.2
             }
            },
            "type": "bar"
           }
          ],
          "barpolar": [
           {
            "marker": {
             "line": {
              "color": "#E5ECF6",
              "width": 0.5
             },
             "pattern": {
              "fillmode": "overlay",
              "size": 10,
              "solidity": 0.2
             }
            },
            "type": "barpolar"
           }
          ],
          "carpet": [
           {
            "aaxis": {
             "endlinecolor": "#2a3f5f",
             "gridcolor": "white",
             "linecolor": "white",
             "minorgridcolor": "white",
             "startlinecolor": "#2a3f5f"
            },
            "baxis": {
             "endlinecolor": "#2a3f5f",
             "gridcolor": "white",
             "linecolor": "white",
             "minorgridcolor": "white",
             "startlinecolor": "#2a3f5f"
            },
            "type": "carpet"
           }
          ],
          "choropleth": [
           {
            "colorbar": {
             "outlinewidth": 0,
             "ticks": ""
            },
            "type": "choropleth"
           }
          ],
          "contour": [
           {
            "colorbar": {
             "outlinewidth": 0,
             "ticks": ""
            },
            "colorscale": [
             [
              0,
              "#0d0887"
             ],
             [
              0.1111111111111111,
              "#46039f"
             ],
             [
              0.2222222222222222,
              "#7201a8"
             ],
             [
              0.3333333333333333,
              "#9c179e"
             ],
             [
              0.4444444444444444,
              "#bd3786"
             ],
             [
              0.5555555555555556,
              "#d8576b"
             ],
             [
              0.6666666666666666,
              "#ed7953"
             ],
             [
              0.7777777777777778,
              "#fb9f3a"
             ],
             [
              0.8888888888888888,
              "#fdca26"
             ],
             [
              1,
              "#f0f921"
             ]
            ],
            "type": "contour"
           }
          ],
          "contourcarpet": [
           {
            "colorbar": {
             "outlinewidth": 0,
             "ticks": ""
            },
            "type": "contourcarpet"
           }
          ],
          "heatmap": [
           {
            "colorbar": {
             "outlinewidth": 0,
             "ticks": ""
            },
            "colorscale": [
             [
              0,
              "#0d0887"
             ],
             [
              0.1111111111111111,
              "#46039f"
             ],
             [
              0.2222222222222222,
              "#7201a8"
             ],
             [
              0.3333333333333333,
              "#9c179e"
             ],
             [
              0.4444444444444444,
              "#bd3786"
             ],
             [
              0.5555555555555556,
              "#d8576b"
             ],
             [
              0.6666666666666666,
              "#ed7953"
             ],
             [
              0.7777777777777778,
              "#fb9f3a"
             ],
             [
              0.8888888888888888,
              "#fdca26"
             ],
             [
              1,
              "#f0f921"
             ]
            ],
            "type": "heatmap"
           }
          ],
          "heatmapgl": [
           {
            "colorbar": {
             "outlinewidth": 0,
             "ticks": ""
            },
            "colorscale": [
             [
              0,
              "#0d0887"
             ],
             [
              0.1111111111111111,
              "#46039f"
             ],
             [
              0.2222222222222222,
              "#7201a8"
             ],
             [
              0.3333333333333333,
              "#9c179e"
             ],
             [
              0.4444444444444444,
              "#bd3786"
             ],
             [
              0.5555555555555556,
              "#d8576b"
             ],
             [
              0.6666666666666666,
              "#ed7953"
             ],
             [
              0.7777777777777778,
              "#fb9f3a"
             ],
             [
              0.8888888888888888,
              "#fdca26"
             ],
             [
              1,
              "#f0f921"
             ]
            ],
            "type": "heatmapgl"
           }
          ],
          "histogram": [
           {
            "marker": {
             "pattern": {
              "fillmode": "overlay",
              "size": 10,
              "solidity": 0.2
             }
            },
            "type": "histogram"
           }
          ],
          "histogram2d": [
           {
            "colorbar": {
             "outlinewidth": 0,
             "ticks": ""
            },
            "colorscale": [
             [
              0,
              "#0d0887"
             ],
             [
              0.1111111111111111,
              "#46039f"
             ],
             [
              0.2222222222222222,
              "#7201a8"
             ],
             [
              0.3333333333333333,
              "#9c179e"
             ],
             [
              0.4444444444444444,
              "#bd3786"
             ],
             [
              0.5555555555555556,
              "#d8576b"
             ],
             [
              0.6666666666666666,
              "#ed7953"
             ],
             [
              0.7777777777777778,
              "#fb9f3a"
             ],
             [
              0.8888888888888888,
              "#fdca26"
             ],
             [
              1,
              "#f0f921"
             ]
            ],
            "type": "histogram2d"
           }
          ],
          "histogram2dcontour": [
           {
            "colorbar": {
             "outlinewidth": 0,
             "ticks": ""
            },
            "colorscale": [
             [
              0,
              "#0d0887"
             ],
             [
              0.1111111111111111,
              "#46039f"
             ],
             [
              0.2222222222222222,
              "#7201a8"
             ],
             [
              0.3333333333333333,
              "#9c179e"
             ],
             [
              0.4444444444444444,
              "#bd3786"
             ],
             [
              0.5555555555555556,
              "#d8576b"
             ],
             [
              0.6666666666666666,
              "#ed7953"
             ],
             [
              0.7777777777777778,
              "#fb9f3a"
             ],
             [
              0.8888888888888888,
              "#fdca26"
             ],
             [
              1,
              "#f0f921"
             ]
            ],
            "type": "histogram2dcontour"
           }
          ],
          "mesh3d": [
           {
            "colorbar": {
             "outlinewidth": 0,
             "ticks": ""
            },
            "type": "mesh3d"
           }
          ],
          "parcoords": [
           {
            "line": {
             "colorbar": {
              "outlinewidth": 0,
              "ticks": ""
             }
            },
            "type": "parcoords"
           }
          ],
          "pie": [
           {
            "automargin": true,
            "type": "pie"
           }
          ],
          "scatter": [
           {
            "fillpattern": {
             "fillmode": "overlay",
             "size": 10,
             "solidity": 0.2
            },
            "type": "scatter"
           }
          ],
          "scatter3d": [
           {
            "line": {
             "colorbar": {
              "outlinewidth": 0,
              "ticks": ""
             }
            },
            "marker": {
             "colorbar": {
              "outlinewidth": 0,
              "ticks": ""
             }
            },
            "type": "scatter3d"
           }
          ],
          "scattercarpet": [
           {
            "marker": {
             "colorbar": {
              "outlinewidth": 0,
              "ticks": ""
             }
            },
            "type": "scattercarpet"
           }
          ],
          "scattergeo": [
           {
            "marker": {
             "colorbar": {
              "outlinewidth": 0,
              "ticks": ""
             }
            },
            "type": "scattergeo"
           }
          ],
          "scattergl": [
           {
            "marker": {
             "colorbar": {
              "outlinewidth": 0,
              "ticks": ""
             }
            },
            "type": "scattergl"
           }
          ],
          "scattermapbox": [
           {
            "marker": {
             "colorbar": {
              "outlinewidth": 0,
              "ticks": ""
             }
            },
            "type": "scattermapbox"
           }
          ],
          "scatterpolar": [
           {
            "marker": {
             "colorbar": {
              "outlinewidth": 0,
              "ticks": ""
             }
            },
            "type": "scatterpolar"
           }
          ],
          "scatterpolargl": [
           {
            "marker": {
             "colorbar": {
              "outlinewidth": 0,
              "ticks": ""
             }
            },
            "type": "scatterpolargl"
           }
          ],
          "scatterternary": [
           {
            "marker": {
             "colorbar": {
              "outlinewidth": 0,
              "ticks": ""
             }
            },
            "type": "scatterternary"
           }
          ],
          "surface": [
           {
            "colorbar": {
             "outlinewidth": 0,
             "ticks": ""
            },
            "colorscale": [
             [
              0,
              "#0d0887"
             ],
             [
              0.1111111111111111,
              "#46039f"
             ],
             [
              0.2222222222222222,
              "#7201a8"
             ],
             [
              0.3333333333333333,
              "#9c179e"
             ],
             [
              0.4444444444444444,
              "#bd3786"
             ],
             [
              0.5555555555555556,
              "#d8576b"
             ],
             [
              0.6666666666666666,
              "#ed7953"
             ],
             [
              0.7777777777777778,
              "#fb9f3a"
             ],
             [
              0.8888888888888888,
              "#fdca26"
             ],
             [
              1,
              "#f0f921"
             ]
            ],
            "type": "surface"
           }
          ],
          "table": [
           {
            "cells": {
             "fill": {
              "color": "#EBF0F8"
             },
             "line": {
              "color": "white"
             }
            },
            "header": {
             "fill": {
              "color": "#C8D4E3"
             },
             "line": {
              "color": "white"
             }
            },
            "type": "table"
           }
          ]
         },
         "layout": {
          "annotationdefaults": {
           "arrowcolor": "#2a3f5f",
           "arrowhead": 0,
           "arrowwidth": 1
          },
          "autotypenumbers": "strict",
          "coloraxis": {
           "colorbar": {
            "outlinewidth": 0,
            "ticks": ""
           }
          },
          "colorscale": {
           "diverging": [
            [
             0,
             "#8e0152"
            ],
            [
             0.1,
             "#c51b7d"
            ],
            [
             0.2,
             "#de77ae"
            ],
            [
             0.3,
             "#f1b6da"
            ],
            [
             0.4,
             "#fde0ef"
            ],
            [
             0.5,
             "#f7f7f7"
            ],
            [
             0.6,
             "#e6f5d0"
            ],
            [
             0.7,
             "#b8e186"
            ],
            [
             0.8,
             "#7fbc41"
            ],
            [
             0.9,
             "#4d9221"
            ],
            [
             1,
             "#276419"
            ]
           ],
           "sequential": [
            [
             0,
             "#0d0887"
            ],
            [
             0.1111111111111111,
             "#46039f"
            ],
            [
             0.2222222222222222,
             "#7201a8"
            ],
            [
             0.3333333333333333,
             "#9c179e"
            ],
            [
             0.4444444444444444,
             "#bd3786"
            ],
            [
             0.5555555555555556,
             "#d8576b"
            ],
            [
             0.6666666666666666,
             "#ed7953"
            ],
            [
             0.7777777777777778,
             "#fb9f3a"
            ],
            [
             0.8888888888888888,
             "#fdca26"
            ],
            [
             1,
             "#f0f921"
            ]
           ],
           "sequentialminus": [
            [
             0,
             "#0d0887"
            ],
            [
             0.1111111111111111,
             "#46039f"
            ],
            [
             0.2222222222222222,
             "#7201a8"
            ],
            [
             0.3333333333333333,
             "#9c179e"
            ],
            [
             0.4444444444444444,
             "#bd3786"
            ],
            [
             0.5555555555555556,
             "#d8576b"
            ],
            [
             0.6666666666666666,
             "#ed7953"
            ],
            [
             0.7777777777777778,
             "#fb9f3a"
            ],
            [
             0.8888888888888888,
             "#fdca26"
            ],
            [
             1,
             "#f0f921"
            ]
           ]
          },
          "colorway": [
           "#636efa",
           "#EF553B",
           "#00cc96",
           "#ab63fa",
           "#FFA15A",
           "#19d3f3",
           "#FF6692",
           "#B6E880",
           "#FF97FF",
           "#FECB52"
          ],
          "font": {
           "color": "#2a3f5f"
          },
          "geo": {
           "bgcolor": "white",
           "lakecolor": "white",
           "landcolor": "#E5ECF6",
           "showlakes": true,
           "showland": true,
           "subunitcolor": "white"
          },
          "hoverlabel": {
           "align": "left"
          },
          "hovermode": "closest",
          "mapbox": {
           "style": "light"
          },
          "paper_bgcolor": "white",
          "plot_bgcolor": "#E5ECF6",
          "polar": {
           "angularaxis": {
            "gridcolor": "white",
            "linecolor": "white",
            "ticks": ""
           },
           "bgcolor": "#E5ECF6",
           "radialaxis": {
            "gridcolor": "white",
            "linecolor": "white",
            "ticks": ""
           }
          },
          "scene": {
           "xaxis": {
            "backgroundcolor": "#E5ECF6",
            "gridcolor": "white",
            "gridwidth": 2,
            "linecolor": "white",
            "showbackground": true,
            "ticks": "",
            "zerolinecolor": "white"
           },
           "yaxis": {
            "backgroundcolor": "#E5ECF6",
            "gridcolor": "white",
            "gridwidth": 2,
            "linecolor": "white",
            "showbackground": true,
            "ticks": "",
            "zerolinecolor": "white"
           },
           "zaxis": {
            "backgroundcolor": "#E5ECF6",
            "gridcolor": "white",
            "gridwidth": 2,
            "linecolor": "white",
            "showbackground": true,
            "ticks": "",
            "zerolinecolor": "white"
           }
          },
          "shapedefaults": {
           "line": {
            "color": "#2a3f5f"
           }
          },
          "ternary": {
           "aaxis": {
            "gridcolor": "white",
            "linecolor": "white",
            "ticks": ""
           },
           "baxis": {
            "gridcolor": "white",
            "linecolor": "white",
            "ticks": ""
           },
           "bgcolor": "#E5ECF6",
           "caxis": {
            "gridcolor": "white",
            "linecolor": "white",
            "ticks": ""
           }
          },
          "title": {
           "x": 0.05
          },
          "xaxis": {
           "automargin": true,
           "gridcolor": "white",
           "linecolor": "white",
           "ticks": "",
           "title": {
            "standoff": 15
           },
           "zerolinecolor": "white",
           "zerolinewidth": 2
          },
          "yaxis": {
           "automargin": true,
           "gridcolor": "white",
           "linecolor": "white",
           "ticks": "",
           "title": {
            "standoff": 15
           },
           "zerolinecolor": "white",
           "zerolinewidth": 2
          }
         }
        },
        "title": {
         "text": "L0 vs Fraction Recovered"
        },
        "xaxis": {
         "title": {
          "text": "L0"
         }
        },
        "yaxis": {
         "title": {
          "text": "Fraction Recovered"
         }
        }
       }
      }
     },
     "metadata": {},
     "output_type": "display_data"
    }
   ],
   "source": [
    "# Set this to true if you have multiple spurious correlation runs to average over\n",
    "# like: gemma-2-2b_sweep_standard_ctx128_ef8_0824_probe_layer_15_spurious_bias_in_bios_filmmaker_dentist\n",
    "# and: gemma-2-2b_sweep_standard_ctx128_ef8_0824_probe_layer_15_spurious_bias_in_bios_painter_teacher\n",
    "\n",
    "\n",
    "def average_multiple_runs(\n",
    "    ae_group_path: str,\n",
    "    probe_layer: int,\n",
    "    column1_vals_list: list[tuple[str, str]],\n",
    "    threshold: float | int,\n",
    "    ablated_probe_class_id: str,\n",
    "    eval_probe_class_id: str,\n",
    "    eval_data_class_id: str,\n",
    "    filename_counter: str,\n",
    "    filters: list[str],\n",
    "    acc_key: str = \"acc\",\n",
    "    intervention_type: str = \"spurious\",\n",
    "    dataset: str = \"bias_in_bios\",\n",
    ") -> tuple[dict, float, dict]:\n",
    "    ae_base_path = f\"{ae_group_path}_probe_layer_{probe_layer}_{intervention_type}_{dataset}\"\n",
    "    ae_output_path = f\"{ae_group_path}\"\n",
    "\n",
    "    all_results = {}\n",
    "    original_accs = []\n",
    "    class_acc_dict = {}\n",
    "\n",
    "    for column1_vals in column1_vals_list:\n",
    "        ae_run_path = f\"{ae_base_path}_{column1_vals[0]}_{column1_vals[1]}\"\n",
    "        sweep_name = ae_run_path\n",
    "        submodule_trainers = None\n",
    "        ae_group_paths = utils.get_ae_group_paths(DICTIONARIES_PATH, sweep_name, submodule_trainers)\n",
    "        ae_paths = utils.get_ae_paths(ae_group_paths)\n",
    "\n",
    "        temp_results, orig_acc = get_spurious_correlation_plotting_dict(\n",
    "            ae_paths,\n",
    "            threshold,\n",
    "            ablated_probe_class_id,\n",
    "            eval_probe_class_id,\n",
    "            eval_data_class_id,\n",
    "            filename_counter,\n",
    "            acc_key,\n",
    "        )\n",
    "\n",
    "        class_acc_dict[column1_vals] = orig_acc\n",
    "\n",
    "        all_results.update(temp_results)\n",
    "        original_accs.append(orig_acc)\n",
    "\n",
    "        if orig_acc is None:\n",
    "            raise ValueError(f\"Original acc is None for {ae_run_path}\")\n",
    "\n",
    "    final_results = {}\n",
    "\n",
    "    average_orig_acc = sum(original_accs) / len(original_accs)\n",
    "\n",
    "    for ae_path in all_results:\n",
    "        skip_path = False\n",
    "        for filter in filters:\n",
    "            if filter in ae_path:\n",
    "                skip_path = True\n",
    "                break\n",
    "\n",
    "        if skip_path:\n",
    "            continue\n",
    "\n",
    "        orig_ae_path = ae_path\n",
    "        name_fixed = False\n",
    "        for column1_vals in column1_vals_list:\n",
    "            ae_run_path = f\"{ae_base_path}_{column1_vals[0]}_{column1_vals[1]}\"\n",
    "            if ae_run_path in ae_path:\n",
    "                ae_path = ae_path.replace(ae_run_path, ae_output_path)\n",
    "                name_fixed = True\n",
    "        assert name_fixed\n",
    "\n",
    "        if ae_path not in final_results:\n",
    "            final_results[ae_path] = all_results[orig_ae_path]\n",
    "        else:\n",
    "            final_results[ae_path][\"average_diff\"] += all_results[orig_ae_path][\"average_diff\"]\n",
    "\n",
    "    for ae_path in final_results:\n",
    "        final_results[ae_path][\"average_diff\"] /= len(column1_vals_list)\n",
    "\n",
    "    return final_results, average_orig_acc, class_acc_dict\n",
    "\n",
    "\n",
    "if plot_averaged_results:\n",
    "    all_averaged_results = {}\n",
    "    all_orig_accs = []\n",
    "\n",
    "    for probe_layer in probe_layers:\n",
    "        averaged_results = {}\n",
    "        orig_accs = []\n",
    "\n",
    "        for ae_group_path in ae_group_paths:\n",
    "            single_averaged_results, single_average_orig_acc, class_act_dict = (\n",
    "                average_multiple_runs(\n",
    "                    ae_group_path,\n",
    "                    probe_layer,\n",
    "                    column1_vals_list,\n",
    "                    threshold,\n",
    "                    ablated_probe_class_id,\n",
    "                    eval_probe_class_id,\n",
    "                    eval_data_class_id,\n",
    "                    filename_filter,\n",
    "                    filters,\n",
    "                )\n",
    "            )\n",
    "\n",
    "            averaged_results.update(single_averaged_results)\n",
    "            orig_accs.append(single_average_orig_acc)\n",
    "\n",
    "        average_orig_acc = sum(orig_accs) / len(orig_accs)\n",
    "\n",
    "        averaged_results = filter_by_l0_threshold(averaged_results, l0_threshold)\n",
    "\n",
    "        print(average_orig_acc)\n",
    "\n",
    "        graph_title_3var = f\"{model} Spurious Correlation\\n\"\n",
    "        graph_title_3var += title\n",
    "        graph_title_3var += f\"\\nLayer: {probe_layer}\"\n",
    "\n",
    "        plot_3var_graph(\n",
    "            averaged_results, graph_title_3var, custom_metric1, colorbar_label=\"Probe Accuracy\"\n",
    "        )\n",
    "        plot_2var_graph(\n",
    "            averaged_results, custom_metric1, title=graph_title_3var, y_label=\"Probe Accuracy\"\n",
    "        )\n",
    "        plot_interactive_3var_graph(averaged_results, custom_metric1)\n",
    "\n",
    "        all_averaged_results.update(averaged_results)\n",
    "        all_orig_accs.extend(orig_accs)"
   ]
  },
  {
   "cell_type": "code",
   "execution_count": 143,
   "metadata": {},
   "outputs": [
    {
     "data": {
      "image/png": "[encoded data removed]",
      "text/plain": [
       "<Figure size 1200x600 with 1 Axes>"
      ]
     },
     "metadata": {},
     "output_type": "display_data"
    }
   ],
   "source": [
    "if plot_averaged_results and plot_checkpoints:\n",
    "    y_label=\"Probe Accuracy\"\n",
    "    plot_steps_vs_average_diff(\n",
    "        all_averaged_results,\n",
    "        steps_key=\"steps\",\n",
    "        avg_diff_key=custom_metric1,\n",
    "        title=title,\n",
    "        y_label=y_label,\n",
    "    )"
   ]
  },
  {
   "cell_type": "code",
   "execution_count": 144,
   "metadata": {},
   "outputs": [
    {
     "name": "stdout",
     "output_type": "stream",
     "text": [
      "Original acc: 0.8210000395774841\n",
      "Original acc: 0.9650000333786011\n",
      "Original acc: 0.8090000152587891\n",
      "Original acc: 0.9250000715255737\n",
      "Original acc: 0.5290000438690186\n",
      "Original acc: 0.5190000534057617\n",
      "Original acc: 0.6370000243186951\n",
      "Original acc: 0.5430000424385071\n",
      "# Pythia-1.4B Clean Probe Accuracies\n",
      "\n",
      "| Class 1 / Class 2      | Profession Accuracy | Gender Accuracy |\n",
      "|------------------------|---------------------|-----------------|\n",
      "| professor / nurse      | 0.8210              | 0.5290           |\n",
      "| filmmaker / dentist    | 0.9650              | 0.5190           |\n",
      "| painter / teacher      | 0.8090              | 0.6370           |\n",
      "| photographer / physician | 0.9250              | 0.5430           |\n"
     ]
    }
   ],
   "source": [
    "def probe_acc_table(\n",
    "    class_acc_dict_dir1: dict[tuple[str, str], float],\n",
    "    class_acc_dict_dir2: dict[tuple[str, str], float],\n",
    "    model_name: str,\n",
    "):\n",
    "    \n",
    "    print(f\"# {model_name} Clean Probe Accuracies\")\n",
    "    print()\n",
    "    # Print the header in Markdown format\n",
    "    print(\"| Class 1 / Class 2      | Profession Accuracy | Gender Accuracy |\")\n",
    "    print(\"|------------------------|---------------------|-----------------|\")\n",
    "    \n",
    "    # Iterate over the items in dir1 (assuming keys are shared between dir1 and dir2)\n",
    "    for column1_vals, orig_acc_dir1 in class_acc_dict_dir1.items():\n",
    "        class_name = f\"{column1_vals[0]} / {column1_vals[1]}\"\n",
    "        orig_acc_dir2 = class_acc_dict_dir2.get(column1_vals, None)  # Get corresponding value from dir2\n",
    "        \n",
    "        # Format the output with both accuracies in Markdown table format\n",
    "        if orig_acc_dir2 is not None:\n",
    "            print(f\"| {class_name:<22} | {orig_acc_dir1:.4f}              | {orig_acc_dir2:.4f}           |\")\n",
    "        else:\n",
    "            print(f\"| {class_name:<22} | {orig_acc_dir1:.4f}              | N/A            |\")  # In case dir2 is missing a key\n",
    "\n",
    "\n",
    "\n",
    "if plot_averaged_results:\n",
    "    class_act_dict_dir1 = None\n",
    "    class_act_dict_dir2 = None\n",
    "\n",
    "    for probe_layer in probe_layers:\n",
    "        for ae_group_path in ae_group_paths:\n",
    "            single_averaged_results, single_average_orig_acc, class_act_dict_dir1 = (\n",
    "                average_multiple_runs(\n",
    "                    ae_group_path,\n",
    "                    probe_layer,\n",
    "                    column1_vals_list,\n",
    "                    threshold,\n",
    "                    \"male / female\",\n",
    "                    \"male_professor / female_nurse\",\n",
    "                    \"professor / nurse\",\n",
    "                    filename_filter,\n",
    "                    filters,\n",
    "                )\n",
    "            )\n",
    "\n",
    "            single_averaged_results, single_average_orig_acc, class_act_dict_dir2 = (\n",
    "                average_multiple_runs(\n",
    "                    ae_group_path,\n",
    "                    probe_layer,\n",
    "                    column1_vals_list,\n",
    "                    threshold,\n",
    "                    \"professor / nurse\",\n",
    "                    \"male_professor / female_nurse\",\n",
    "                    \"male / female\",\n",
    "                    filename_filter,\n",
    "                    filters,\n",
    "                )\n",
    "            )\n",
    "\n",
    "            break\n",
    "    assert class_act_dict_dir1 is not None\n",
    "    probe_acc_table(class_act_dict_dir1, class_act_dict_dir2, model)\n"
   ]
  },
  {
   "cell_type": "code",
   "execution_count": null,
   "metadata": {},
   "outputs": [],
   "source": []
  }
 ],
 "metadata": {
  "kernelspec": {
   "display_name": "venv",
   "language": "python",
   "name": "python3"
  },
  "language_info": {
   "codemirror_mode": {
    "name": "ipython",
    "version": 3
   },
   "file_extension": ".py",
   "mimetype": "text/x-python",
   "name": "python",
   "nbconvert_exporter": "python",
   "pygments_lexer": "ipython3",
   "version": "3.11.8"
  }
 },
 "nbformat": 4,
 "nbformat_minor": 2
}
